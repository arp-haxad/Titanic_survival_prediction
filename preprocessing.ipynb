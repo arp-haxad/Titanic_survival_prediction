{
 "metadata": {
  "language_info": {
   "codemirror_mode": {
    "name": "ipython",
    "version": 3
   },
   "file_extension": ".py",
   "mimetype": "text/x-python",
   "name": "python",
   "nbconvert_exporter": "python",
   "pygments_lexer": "ipython3",
   "version": "3.8.3-final"
  },
  "orig_nbformat": 2,
  "kernelspec": {
   "name": "python38364bitcondac0efe4a6b30143bc9e1f5d3fddd0e0a6",
   "display_name": "Python 3.8.3 64-bit (conda)"
  }
 },
 "nbformat": 4,
 "nbformat_minor": 2,
 "cells": [
  {
   "cell_type": "code",
   "execution_count": 160,
   "metadata": {},
   "outputs": [],
   "source": [
    "import numpy as np \n",
    "import pandas as pd \n",
    "import matplotlib.pyplot as plt \n",
    "import seaborn as sns\n",
    "sns.set()"
   ]
  },
  {
   "cell_type": "code",
   "execution_count": 161,
   "metadata": {},
   "outputs": [],
   "source": [
    "raw_data = pd.read_csv('train.csv')"
   ]
  },
  {
   "cell_type": "code",
   "execution_count": 295,
   "metadata": {},
   "outputs": [
    {
     "output_type": "execute_result",
     "data": {
      "text/plain": "   PassengerId  Survived  Pclass  \\\n0            1         0       3   \n1            2         1       1   \n2            3         1       3   \n3            4         1       1   \n4            5         0       3   \n\n                                                Name     Sex   Age  SibSp  \\\n0                            Braund, Mr. Owen Harris    male  22.0      1   \n1  Cumings, Mrs. John Bradley (Florence Briggs Th...  female  38.0      1   \n2                             Heikkinen, Miss. Laina  female  26.0      0   \n3       Futrelle, Mrs. Jacques Heath (Lily May Peel)  female  35.0      1   \n4                           Allen, Mr. William Henry    male  35.0      0   \n\n   Parch            Ticket     Fare Cabin Embarked  \n0      0         A/5 21171   7.2500   NaN        S  \n1      0          PC 17599  71.2833   C85        C  \n2      0  STON/O2. 3101282   7.9250   NaN        S  \n3      0            113803  53.1000  C123        S  \n4      0            373450   8.0500   NaN        S  ",
      "text/html": "<div>\n<style scoped>\n    .dataframe tbody tr th:only-of-type {\n        vertical-align: middle;\n    }\n\n    .dataframe tbody tr th {\n        vertical-align: top;\n    }\n\n    .dataframe thead th {\n        text-align: right;\n    }\n</style>\n<table border=\"1\" class=\"dataframe\">\n  <thead>\n    <tr style=\"text-align: right;\">\n      <th></th>\n      <th>PassengerId</th>\n      <th>Survived</th>\n      <th>Pclass</th>\n      <th>Name</th>\n      <th>Sex</th>\n      <th>Age</th>\n      <th>SibSp</th>\n      <th>Parch</th>\n      <th>Ticket</th>\n      <th>Fare</th>\n      <th>Cabin</th>\n      <th>Embarked</th>\n    </tr>\n  </thead>\n  <tbody>\n    <tr>\n      <th>0</th>\n      <td>1</td>\n      <td>0</td>\n      <td>3</td>\n      <td>Braund, Mr. Owen Harris</td>\n      <td>male</td>\n      <td>22.0</td>\n      <td>1</td>\n      <td>0</td>\n      <td>A/5 21171</td>\n      <td>7.2500</td>\n      <td>NaN</td>\n      <td>S</td>\n    </tr>\n    <tr>\n      <th>1</th>\n      <td>2</td>\n      <td>1</td>\n      <td>1</td>\n      <td>Cumings, Mrs. John Bradley (Florence Briggs Th...</td>\n      <td>female</td>\n      <td>38.0</td>\n      <td>1</td>\n      <td>0</td>\n      <td>PC 17599</td>\n      <td>71.2833</td>\n      <td>C85</td>\n      <td>C</td>\n    </tr>\n    <tr>\n      <th>2</th>\n      <td>3</td>\n      <td>1</td>\n      <td>3</td>\n      <td>Heikkinen, Miss. Laina</td>\n      <td>female</td>\n      <td>26.0</td>\n      <td>0</td>\n      <td>0</td>\n      <td>STON/O2. 3101282</td>\n      <td>7.9250</td>\n      <td>NaN</td>\n      <td>S</td>\n    </tr>\n    <tr>\n      <th>3</th>\n      <td>4</td>\n      <td>1</td>\n      <td>1</td>\n      <td>Futrelle, Mrs. Jacques Heath (Lily May Peel)</td>\n      <td>female</td>\n      <td>35.0</td>\n      <td>1</td>\n      <td>0</td>\n      <td>113803</td>\n      <td>53.1000</td>\n      <td>C123</td>\n      <td>S</td>\n    </tr>\n    <tr>\n      <th>4</th>\n      <td>5</td>\n      <td>0</td>\n      <td>3</td>\n      <td>Allen, Mr. William Henry</td>\n      <td>male</td>\n      <td>35.0</td>\n      <td>0</td>\n      <td>0</td>\n      <td>373450</td>\n      <td>8.0500</td>\n      <td>NaN</td>\n      <td>S</td>\n    </tr>\n  </tbody>\n</table>\n</div>"
     },
     "metadata": {},
     "execution_count": 295
    }
   ],
   "source": [
    "raw_data.head()"
   ]
  },
  {
   "cell_type": "code",
   "execution_count": 163,
   "metadata": {},
   "outputs": [],
   "source": [
    "pd.options.display.max_columns  = None\n",
    "pd.options.display.max_rows = None"
   ]
  },
  {
   "cell_type": "code",
   "execution_count": 164,
   "metadata": {},
   "outputs": [
    {
     "output_type": "execute_result",
     "data": {
      "text/plain": "   PassengerId  Survived  Pclass  \\\n0            1         0       3   \n1            2         1       1   \n2            3         1       3   \n3            4         1       1   \n4            5         0       3   \n\n                                                Name     Sex   Age  SibSp  \\\n0                            Braund, Mr. Owen Harris    male  22.0      1   \n1  Cumings, Mrs. John Bradley (Florence Briggs Th...  female  38.0      1   \n2                             Heikkinen, Miss. Laina  female  26.0      0   \n3       Futrelle, Mrs. Jacques Heath (Lily May Peel)  female  35.0      1   \n4                           Allen, Mr. William Henry    male  35.0      0   \n\n   Parch            Ticket     Fare Cabin Embarked  \n0      0         A/5 21171   7.2500   NaN        S  \n1      0          PC 17599  71.2833   C85        C  \n2      0  STON/O2. 3101282   7.9250   NaN        S  \n3      0            113803  53.1000  C123        S  \n4      0            373450   8.0500   NaN        S  ",
      "text/html": "<div>\n<style scoped>\n    .dataframe tbody tr th:only-of-type {\n        vertical-align: middle;\n    }\n\n    .dataframe tbody tr th {\n        vertical-align: top;\n    }\n\n    .dataframe thead th {\n        text-align: right;\n    }\n</style>\n<table border=\"1\" class=\"dataframe\">\n  <thead>\n    <tr style=\"text-align: right;\">\n      <th></th>\n      <th>PassengerId</th>\n      <th>Survived</th>\n      <th>Pclass</th>\n      <th>Name</th>\n      <th>Sex</th>\n      <th>Age</th>\n      <th>SibSp</th>\n      <th>Parch</th>\n      <th>Ticket</th>\n      <th>Fare</th>\n      <th>Cabin</th>\n      <th>Embarked</th>\n    </tr>\n  </thead>\n  <tbody>\n    <tr>\n      <th>0</th>\n      <td>1</td>\n      <td>0</td>\n      <td>3</td>\n      <td>Braund, Mr. Owen Harris</td>\n      <td>male</td>\n      <td>22.0</td>\n      <td>1</td>\n      <td>0</td>\n      <td>A/5 21171</td>\n      <td>7.2500</td>\n      <td>NaN</td>\n      <td>S</td>\n    </tr>\n    <tr>\n      <th>1</th>\n      <td>2</td>\n      <td>1</td>\n      <td>1</td>\n      <td>Cumings, Mrs. John Bradley (Florence Briggs Th...</td>\n      <td>female</td>\n      <td>38.0</td>\n      <td>1</td>\n      <td>0</td>\n      <td>PC 17599</td>\n      <td>71.2833</td>\n      <td>C85</td>\n      <td>C</td>\n    </tr>\n    <tr>\n      <th>2</th>\n      <td>3</td>\n      <td>1</td>\n      <td>3</td>\n      <td>Heikkinen, Miss. Laina</td>\n      <td>female</td>\n      <td>26.0</td>\n      <td>0</td>\n      <td>0</td>\n      <td>STON/O2. 3101282</td>\n      <td>7.9250</td>\n      <td>NaN</td>\n      <td>S</td>\n    </tr>\n    <tr>\n      <th>3</th>\n      <td>4</td>\n      <td>1</td>\n      <td>1</td>\n      <td>Futrelle, Mrs. Jacques Heath (Lily May Peel)</td>\n      <td>female</td>\n      <td>35.0</td>\n      <td>1</td>\n      <td>0</td>\n      <td>113803</td>\n      <td>53.1000</td>\n      <td>C123</td>\n      <td>S</td>\n    </tr>\n    <tr>\n      <th>4</th>\n      <td>5</td>\n      <td>0</td>\n      <td>3</td>\n      <td>Allen, Mr. William Henry</td>\n      <td>male</td>\n      <td>35.0</td>\n      <td>0</td>\n      <td>0</td>\n      <td>373450</td>\n      <td>8.0500</td>\n      <td>NaN</td>\n      <td>S</td>\n    </tr>\n  </tbody>\n</table>\n</div>"
     },
     "metadata": {},
     "execution_count": 164
    }
   ],
   "source": [
    "raw_data.head()"
   ]
  },
  {
   "cell_type": "code",
   "execution_count": 165,
   "metadata": {},
   "outputs": [],
   "source": [
    "data_c = raw_data.copy()"
   ]
  },
  {
   "cell_type": "code",
   "execution_count": 166,
   "metadata": {},
   "outputs": [
    {
     "output_type": "execute_result",
     "data": {
      "text/plain": "   PassengerId  Survived  Pclass  \\\n0            1         0       3   \n1            2         1       1   \n2            3         1       3   \n3            4         1       1   \n4            5         0       3   \n\n                                                Name     Sex   Age  SibSp  \\\n0                            Braund, Mr. Owen Harris    male  22.0      1   \n1  Cumings, Mrs. John Bradley (Florence Briggs Th...  female  38.0      1   \n2                             Heikkinen, Miss. Laina  female  26.0      0   \n3       Futrelle, Mrs. Jacques Heath (Lily May Peel)  female  35.0      1   \n4                           Allen, Mr. William Henry    male  35.0      0   \n\n   Parch            Ticket     Fare Cabin Embarked  \n0      0         A/5 21171   7.2500   NaN        S  \n1      0          PC 17599  71.2833   C85        C  \n2      0  STON/O2. 3101282   7.9250   NaN        S  \n3      0            113803  53.1000  C123        S  \n4      0            373450   8.0500   NaN        S  ",
      "text/html": "<div>\n<style scoped>\n    .dataframe tbody tr th:only-of-type {\n        vertical-align: middle;\n    }\n\n    .dataframe tbody tr th {\n        vertical-align: top;\n    }\n\n    .dataframe thead th {\n        text-align: right;\n    }\n</style>\n<table border=\"1\" class=\"dataframe\">\n  <thead>\n    <tr style=\"text-align: right;\">\n      <th></th>\n      <th>PassengerId</th>\n      <th>Survived</th>\n      <th>Pclass</th>\n      <th>Name</th>\n      <th>Sex</th>\n      <th>Age</th>\n      <th>SibSp</th>\n      <th>Parch</th>\n      <th>Ticket</th>\n      <th>Fare</th>\n      <th>Cabin</th>\n      <th>Embarked</th>\n    </tr>\n  </thead>\n  <tbody>\n    <tr>\n      <th>0</th>\n      <td>1</td>\n      <td>0</td>\n      <td>3</td>\n      <td>Braund, Mr. Owen Harris</td>\n      <td>male</td>\n      <td>22.0</td>\n      <td>1</td>\n      <td>0</td>\n      <td>A/5 21171</td>\n      <td>7.2500</td>\n      <td>NaN</td>\n      <td>S</td>\n    </tr>\n    <tr>\n      <th>1</th>\n      <td>2</td>\n      <td>1</td>\n      <td>1</td>\n      <td>Cumings, Mrs. John Bradley (Florence Briggs Th...</td>\n      <td>female</td>\n      <td>38.0</td>\n      <td>1</td>\n      <td>0</td>\n      <td>PC 17599</td>\n      <td>71.2833</td>\n      <td>C85</td>\n      <td>C</td>\n    </tr>\n    <tr>\n      <th>2</th>\n      <td>3</td>\n      <td>1</td>\n      <td>3</td>\n      <td>Heikkinen, Miss. Laina</td>\n      <td>female</td>\n      <td>26.0</td>\n      <td>0</td>\n      <td>0</td>\n      <td>STON/O2. 3101282</td>\n      <td>7.9250</td>\n      <td>NaN</td>\n      <td>S</td>\n    </tr>\n    <tr>\n      <th>3</th>\n      <td>4</td>\n      <td>1</td>\n      <td>1</td>\n      <td>Futrelle, Mrs. Jacques Heath (Lily May Peel)</td>\n      <td>female</td>\n      <td>35.0</td>\n      <td>1</td>\n      <td>0</td>\n      <td>113803</td>\n      <td>53.1000</td>\n      <td>C123</td>\n      <td>S</td>\n    </tr>\n    <tr>\n      <th>4</th>\n      <td>5</td>\n      <td>0</td>\n      <td>3</td>\n      <td>Allen, Mr. William Henry</td>\n      <td>male</td>\n      <td>35.0</td>\n      <td>0</td>\n      <td>0</td>\n      <td>373450</td>\n      <td>8.0500</td>\n      <td>NaN</td>\n      <td>S</td>\n    </tr>\n  </tbody>\n</table>\n</div>"
     },
     "metadata": {},
     "execution_count": 166
    }
   ],
   "source": [
    "data_c.head()"
   ]
  },
  {
   "cell_type": "code",
   "execution_count": 167,
   "metadata": {},
   "outputs": [
    {
     "output_type": "execute_result",
     "data": {
      "text/plain": "array(['PassengerId', 'Survived', 'Pclass', 'Name', 'Sex', 'Age', 'SibSp',\n       'Parch', 'Ticket', 'Fare', 'Cabin', 'Embarked'], dtype=object)"
     },
     "metadata": {},
     "execution_count": 167
    }
   ],
   "source": [
    "data_c.columns.values"
   ]
  },
  {
   "cell_type": "code",
   "execution_count": 168,
   "metadata": {},
   "outputs": [
    {
     "output_type": "execute_result",
     "data": {
      "text/plain": "   PassengerId  Pclass                                               Name  \\\n0            1       3                            Braund, Mr. Owen Harris   \n1            2       1  Cumings, Mrs. John Bradley (Florence Briggs Th...   \n2            3       3                             Heikkinen, Miss. Laina   \n3            4       1       Futrelle, Mrs. Jacques Heath (Lily May Peel)   \n4            5       3                           Allen, Mr. William Henry   \n\n      Sex   Age  SibSp  Parch            Ticket     Fare Cabin Embarked  \\\n0    male  22.0      1      0         A/5 21171   7.2500   NaN        S   \n1  female  38.0      1      0          PC 17599  71.2833   C85        C   \n2  female  26.0      0      0  STON/O2. 3101282   7.9250   NaN        S   \n3  female  35.0      1      0            113803  53.1000  C123        S   \n4    male  35.0      0      0            373450   8.0500   NaN        S   \n\n   Survived  \n0         0  \n1         1  \n2         1  \n3         1  \n4         0  ",
      "text/html": "<div>\n<style scoped>\n    .dataframe tbody tr th:only-of-type {\n        vertical-align: middle;\n    }\n\n    .dataframe tbody tr th {\n        vertical-align: top;\n    }\n\n    .dataframe thead th {\n        text-align: right;\n    }\n</style>\n<table border=\"1\" class=\"dataframe\">\n  <thead>\n    <tr style=\"text-align: right;\">\n      <th></th>\n      <th>PassengerId</th>\n      <th>Pclass</th>\n      <th>Name</th>\n      <th>Sex</th>\n      <th>Age</th>\n      <th>SibSp</th>\n      <th>Parch</th>\n      <th>Ticket</th>\n      <th>Fare</th>\n      <th>Cabin</th>\n      <th>Embarked</th>\n      <th>Survived</th>\n    </tr>\n  </thead>\n  <tbody>\n    <tr>\n      <th>0</th>\n      <td>1</td>\n      <td>3</td>\n      <td>Braund, Mr. Owen Harris</td>\n      <td>male</td>\n      <td>22.0</td>\n      <td>1</td>\n      <td>0</td>\n      <td>A/5 21171</td>\n      <td>7.2500</td>\n      <td>NaN</td>\n      <td>S</td>\n      <td>0</td>\n    </tr>\n    <tr>\n      <th>1</th>\n      <td>2</td>\n      <td>1</td>\n      <td>Cumings, Mrs. John Bradley (Florence Briggs Th...</td>\n      <td>female</td>\n      <td>38.0</td>\n      <td>1</td>\n      <td>0</td>\n      <td>PC 17599</td>\n      <td>71.2833</td>\n      <td>C85</td>\n      <td>C</td>\n      <td>1</td>\n    </tr>\n    <tr>\n      <th>2</th>\n      <td>3</td>\n      <td>3</td>\n      <td>Heikkinen, Miss. Laina</td>\n      <td>female</td>\n      <td>26.0</td>\n      <td>0</td>\n      <td>0</td>\n      <td>STON/O2. 3101282</td>\n      <td>7.9250</td>\n      <td>NaN</td>\n      <td>S</td>\n      <td>1</td>\n    </tr>\n    <tr>\n      <th>3</th>\n      <td>4</td>\n      <td>1</td>\n      <td>Futrelle, Mrs. Jacques Heath (Lily May Peel)</td>\n      <td>female</td>\n      <td>35.0</td>\n      <td>1</td>\n      <td>0</td>\n      <td>113803</td>\n      <td>53.1000</td>\n      <td>C123</td>\n      <td>S</td>\n      <td>1</td>\n    </tr>\n    <tr>\n      <th>4</th>\n      <td>5</td>\n      <td>3</td>\n      <td>Allen, Mr. William Henry</td>\n      <td>male</td>\n      <td>35.0</td>\n      <td>0</td>\n      <td>0</td>\n      <td>373450</td>\n      <td>8.0500</td>\n      <td>NaN</td>\n      <td>S</td>\n      <td>0</td>\n    </tr>\n  </tbody>\n</table>\n</div>"
     },
     "metadata": {},
     "execution_count": 168
    }
   ],
   "source": [
    "temp = ['PassengerId','Pclass', 'Name', 'Sex', 'Age', 'SibSp',\n",
    "       'Parch', 'Ticket', 'Fare', 'Cabin', 'Embarked','Survived']\n",
    "data_c = data_c[temp]\n",
    "data_c.head()"
   ]
  },
  {
   "cell_type": "code",
   "execution_count": 169,
   "metadata": {},
   "outputs": [],
   "source": [
    "pclass = data_c['Pclass']\n"
   ]
  },
  {
   "cell_type": "code",
   "execution_count": 170,
   "metadata": {},
   "outputs": [
    {
     "output_type": "execute_result",
     "data": {
      "text/plain": "0    3\n1    1\n2    3\n3    1\n4    3\nName: Pclass, dtype: int64"
     },
     "metadata": {},
     "execution_count": 170
    }
   ],
   "source": [
    "pclass.head()"
   ]
  },
  {
   "cell_type": "code",
   "execution_count": 171,
   "metadata": {},
   "outputs": [
    {
     "output_type": "execute_result",
     "data": {
      "text/plain": "     2  3\n0    0  1\n1    0  0\n2    0  1\n3    0  0\n4    0  1\n5    0  1\n6    0  0\n7    0  1\n8    0  1\n9    1  0\n10   0  1\n11   0  0\n12   0  1\n13   0  1\n14   0  1\n15   1  0\n16   0  1\n17   1  0\n18   0  1\n19   0  1\n20   1  0\n21   1  0\n22   0  1\n23   0  0\n24   0  1\n25   0  1\n26   0  1\n27   0  0\n28   0  1\n29   0  1\n30   0  0\n31   0  0\n32   0  1\n33   1  0\n34   0  0\n35   0  0\n36   0  1\n37   0  1\n38   0  1\n39   0  1\n40   0  1\n41   1  0\n42   0  1\n43   1  0\n44   0  1\n45   0  1\n46   0  1\n47   0  1\n48   0  1\n49   0  1\n50   0  1\n51   0  1\n52   0  0\n53   1  0\n54   0  0\n55   0  0\n56   1  0\n57   0  1\n58   1  0\n59   0  1\n60   0  1\n61   0  0\n62   0  0\n63   0  1\n64   0  0\n65   0  1\n66   1  0\n67   0  1\n68   0  1\n69   0  1\n70   1  0\n71   0  1\n72   1  0\n73   0  1\n74   0  1\n75   0  1\n76   0  1\n77   0  1\n78   1  0\n79   0  1\n80   0  1\n81   0  1\n82   0  1\n83   0  0\n84   1  0\n85   0  1\n86   0  1\n87   0  1\n88   0  0\n89   0  1\n90   0  1\n91   0  1\n92   0  0\n93   0  1\n94   0  1\n95   0  1\n96   0  0\n97   0  0\n98   1  0\n99   1  0\n100  0  1\n101  0  1\n102  0  0\n103  0  1\n104  0  1\n105  0  1\n106  0  1\n107  0  1\n108  0  1\n109  0  1\n110  0  0\n111  0  1\n112  0  1\n113  0  1\n114  0  1\n115  0  1\n116  0  1\n117  1  0\n118  0  0\n119  0  1\n120  1  0\n121  0  1\n122  1  0\n123  1  0\n124  0  0\n125  0  1\n126  0  1\n127  0  1\n128  0  1\n129  0  1\n130  0  1\n131  0  1\n132  0  1\n133  1  0\n134  1  0\n135  1  0\n136  0  0\n137  0  0\n138  0  1\n139  0  0\n140  0  1\n141  0  1\n142  0  1\n143  0  1\n144  1  0\n145  1  0\n146  0  1\n147  0  1\n148  1  0\n149  1  0\n150  1  0\n151  0  0\n152  0  1\n153  0  1\n154  0  1\n155  0  0\n156  0  1\n157  0  1\n158  0  1\n159  0  1\n160  0  1\n161  1  0\n162  0  1\n163  0  1\n164  0  1\n165  0  1\n166  0  0\n167  0  1\n168  0  0\n169  0  1\n170  0  0\n171  0  1\n172  0  1\n173  0  1\n174  0  0\n175  0  1\n176  0  1\n177  0  0\n178  1  0\n179  0  1\n180  0  1\n181  1  0\n182  0  1\n183  1  0\n184  0  1\n185  0  0\n186  0  1\n187  0  0\n188  0  1\n189  0  1\n190  1  0\n191  1  0\n192  0  1\n193  1  0\n194  0  0\n195  0  0\n196  0  1\n197  0  1\n198  0  1\n199  1  0\n200  0  1\n201  0  1\n202  0  1\n203  0  1\n204  0  1\n205  0  1\n206  0  1\n207  0  1\n208  0  1\n209  0  0\n210  0  1\n211  1  0\n212  0  1\n213  1  0\n214  0  1\n215  0  0\n216  0  1\n217  1  0\n218  0  0\n219  1  0\n220  0  1\n221  1  0\n222  0  1\n223  0  1\n224  0  0\n225  0  1\n226  1  0\n227  0  1\n228  1  0\n229  0  1\n230  0  0\n231  0  1\n232  1  0\n233  0  1\n234  1  0\n235  0  1\n236  1  0\n237  1  0\n238  1  0\n239  1  0\n240  0  1\n241  0  1\n242  1  0\n243  0  1\n244  0  1\n245  0  0\n246  0  1\n247  1  0\n248  0  0\n249  1  0\n250  0  1\n251  0  1\n252  0  0\n253  0  1\n254  0  1\n255  0  1\n256  0  0\n257  0  0\n258  0  0\n259  1  0\n260  0  1\n261  0  1\n262  0  0\n263  0  0\n264  0  1\n265  1  0\n266  0  1\n267  0  1\n268  0  0\n269  0  0\n270  0  0\n271  0  1\n272  1  0\n273  0  0\n274  0  1\n275  0  0\n276  0  1\n277  1  0\n278  0  1\n279  0  1\n280  0  1\n281  0  1\n282  0  1\n283  0  1\n284  0  0\n285  0  1\n286  0  1\n287  0  1\n288  1  0\n289  0  1\n290  0  0\n291  0  0\n292  1  0\n293  0  1\n294  0  1\n295  0  0\n296  0  1\n297  0  0\n298  0  0\n299  0  0\n300  0  1\n301  0  1\n302  0  1\n303  1  0\n304  0  1\n305  0  0\n306  0  0\n307  0  0\n308  1  0\n309  0  0\n310  0  0\n311  0  0\n312  1  0\n313  0  1\n314  1  0\n315  0  1\n316  1  0\n317  1  0\n318  0  0\n319  0  0\n320  0  1\n321  0  1\n322  1  0\n323  1  0\n324  0  1\n325  0  0\n326  0  1\n327  1  0\n328  0  1\n329  0  0\n330  0  1\n331  0  0\n332  0  0\n333  0  1\n334  0  0\n335  0  1\n336  0  0\n337  0  0\n338  0  1\n339  0  0\n340  1  0\n341  0  0\n342  1  0\n343  1  0\n344  1  0\n345  1  0\n346  1  0\n347  0  1\n348  0  1\n349  0  1\n350  0  1\n351  0  0\n352  0  1\n353  0  1\n354  0  1\n355  0  1\n356  0  0\n357  1  0\n358  0  1\n359  0  1\n360  0  1\n361  1  0\n362  0  1\n363  0  1\n364  0  1\n365  0  1\n366  0  0\n367  0  1\n368  0  1\n369  0  0\n370  0  0\n371  0  1\n372  0  1\n373  0  0\n374  0  1\n375  0  0\n376  0  1\n377  0  0\n378  0  1\n379  0  1\n380  0  0\n381  0  1\n382  0  1\n383  0  0\n384  0  1\n385  1  0\n386  0  1\n387  1  0\n388  0  1\n389  1  0\n390  0  0\n391  0  1\n392  0  1\n393  0  0\n394  0  1\n395  0  1\n396  0  1\n397  1  0\n398  1  0\n399  1  0\n400  0  1\n401  0  1\n402  0  1\n403  0  1\n404  0  1\n405  1  0\n406  0  1\n407  1  0\n408  0  1\n409  0  1\n410  0  1\n411  0  1\n412  0  0\n413  1  0\n414  0  1\n415  0  1\n416  1  0\n417  1  0\n418  1  0\n419  0  1\n420  0  1\n421  0  1\n422  0  1\n423  0  1\n424  0  1\n425  0  1\n426  1  0\n427  1  0\n428  0  1\n429  0  1\n430  0  0\n431  0  1\n432  1  0\n433  0  1\n434  0  0\n435  0  0\n436  0  1\n437  1  0\n438  0  0\n439  1  0\n440  1  0\n441  0  1\n442  0  1\n443  1  0\n444  0  1\n445  0  0\n446  1  0\n447  0  0\n448  0  1\n449  0  0\n450  1  0\n451  0  1\n452  0  0\n453  0  0\n454  0  1\n455  0  1\n456  0  0\n457  0  0\n458  1  0\n459  0  1\n460  0  0\n461  0  1\n462  0  0\n463  1  0\n464  0  1\n465  0  1\n466  1  0\n467  0  0\n468  0  1\n469  0  1\n470  0  1\n471  0  1\n472  1  0\n473  1  0\n474  0  1\n475  0  0\n476  1  0\n477  0  1\n478  0  1\n479  0  1\n480  0  1\n481  1  0\n482  0  1\n483  0  1\n484  0  0\n485  0  1\n486  0  0\n487  0  0\n488  0  1\n489  0  1\n490  0  1\n491  0  1\n492  0  0\n493  0  0\n494  0  1\n495  0  1\n496  0  0\n497  0  1\n498  0  0\n499  0  1\n500  0  1\n501  0  1\n502  0  1\n503  0  1\n504  0  0\n505  0  0\n506  1  0\n507  0  0\n508  0  1\n509  0  1\n510  0  1\n511  0  1\n512  0  0\n513  0  0\n514  0  1\n515  0  0\n516  1  0\n517  0  1\n518  1  0\n519  0  1\n520  0  0\n521  0  1\n522  0  1\n523  0  0\n524  0  1\n525  0  1\n526  1  0\n527  0  0\n528  0  1\n529  1  0\n530  1  0\n531  0  1\n532  0  1\n533  0  1\n534  0  1\n535  1  0\n536  0  0\n537  0  0\n538  0  1\n539  0  0\n540  0  0\n541  0  1\n542  0  1\n543  1  0\n544  0  0\n545  0  0\n546  1  0\n547  1  0\n548  0  1\n549  1  0\n550  0  0\n551  1  0\n552  0  1\n553  0  1\n554  0  1\n555  0  0\n556  0  0\n557  0  0\n558  0  0\n559  0  1\n560  0  1\n561  0  1\n562  1  0\n563  0  1\n564  0  1\n565  0  1\n566  0  1\n567  0  1\n568  0  1\n569  0  1\n570  1  0\n571  0  0\n572  0  0\n573  0  1\n574  0  1\n575  0  1\n576  1  0\n577  0  0\n578  0  1\n579  0  1\n580  1  0\n581  0  0\n582  1  0\n583  0  0\n584  0  1\n585  0  0\n586  1  0\n587  0  0\n588  0  1\n589  0  1\n590  0  1\n591  0  0\n592  0  1\n593  0  1\n594  1  0\n595  0  1\n596  1  0\n597  0  1\n598  0  1\n599  0  0\n600  1  0\n601  0  1\n602  0  0\n603  0  1\n604  0  0\n605  0  1\n606  0  1\n607  0  0\n608  1  0\n609  0  0\n610  0  1\n611  0  1\n612  0  1\n613  0  1\n614  0  1\n615  1  0\n616  0  1\n617  0  1\n618  1  0\n619  1  0\n620  0  1\n621  0  0\n622  0  1\n623  0  1\n624  0  1\n625  0  0\n626  1  0\n627  0  0\n628  0  1\n629  0  1\n630  0  0\n631  0  1\n632  0  0\n633  0  0\n634  0  1\n635  1  0\n636  0  1\n637  1  0\n638  0  1\n639  0  1\n640  0  1\n641  0  0\n642  0  1\n643  0  1\n644  0  1\n645  0  0\n646  0  1\n647  0  0\n648  0  1\n649  0  1\n650  0  1\n651  1  0\n652  0  1\n653  0  1\n654  0  1\n655  1  0\n656  0  1\n657  0  1\n658  1  0\n659  0  0\n660  0  0\n661  0  1\n662  0  0\n663  0  1\n664  0  1\n665  1  0\n666  1  0\n667  0  1\n668  0  1\n669  0  0\n670  1  0\n671  0  0\n672  1  0\n673  1  0\n674  1  0\n675  0  1\n676  0  1\n677  0  1\n678  0  1\n679  0  0\n680  0  1\n681  0  0\n682  0  1\n683  0  1\n684  1  0\n685  1  0\n686  0  1\n687  0  1\n688  0  1\n689  0  0\n690  0  0\n691  0  1\n692  0  1\n693  0  1\n694  0  0\n695  1  0\n696  0  1\n697  0  1\n698  0  0\n699  0  1\n700  0  0\n701  0  0\n702  0  1\n703  0  1\n704  0  1\n705  1  0\n706  1  0\n707  0  0\n708  0  0\n709  0  1\n710  0  0\n711  0  0\n712  0  0\n713  0  1\n714  1  0\n715  0  1\n716  0  0\n717  1  0\n718  0  1\n719  0  1\n720  1  0\n721  0  1\n722  1  0\n723  1  0\n724  0  0\n725  0  1\n726  1  0\n727  0  1\n728  1  0\n729  0  1\n730  0  0\n731  0  1\n732  1  0\n733  1  0\n734  1  0\n735  0  1\n736  0  1\n737  0  0\n738  0  1\n739  0  1\n740  0  0\n741  0  0\n742  0  0\n743  0  1\n744  0  1\n745  0  0\n746  0  1\n747  1  0\n748  0  0\n749  0  1\n750  1  0\n751  0  1\n752  0  1\n753  0  1\n754  1  0\n755  1  0\n756  0  1\n757  1  0\n758  0  1\n759  0  0\n760  0  1\n761  0  1\n762  0  1\n763  0  0\n764  0  1\n765  0  0\n766  0  0\n767  0  1\n768  0  1\n769  0  1\n770  0  1\n771  0  1\n772  1  0\n773  0  1\n774  1  0\n775  0  1\n776  0  1\n777  0  1\n778  0  1\n779  0  0\n780  0  1\n781  0  0\n782  0  0\n783  0  1\n784  0  1\n785  0  1\n786  0  1\n787  0  1\n788  0  1\n789  0  0\n790  0  1\n791  1  0\n792  0  1\n793  0  0\n794  0  1\n795  1  0\n796  0  0\n797  0  1\n798  0  1\n799  0  1\n800  1  0\n801  1  0\n802  0  0\n803  0  1\n804  0  1\n805  0  1\n806  0  0\n807  0  1\n808  1  0\n809  0  0\n810  0  1\n811  0  1\n812  1  0\n813  0  1\n814  0  1\n815  0  0\n816  0  1\n817  1  0\n818  0  1\n819  0  1\n820  0  0\n821  0  1\n822  0  0\n823  0  1\n824  0  1\n825  0  1\n826  0  1\n827  1  0\n828  0  1\n829  0  0\n830  0  1\n831  1  0\n832  0  1\n833  0  1\n834  0  1\n835  0  0\n836  0  1\n837  0  1\n838  0  1\n839  0  0\n840  0  1\n841  1  0\n842  0  0\n843  0  1\n844  0  1\n845  0  1\n846  0  1\n847  0  1\n848  1  0\n849  0  0\n850  0  1\n851  0  1\n852  0  1\n853  0  0\n854  1  0\n855  0  1\n856  0  0\n857  0  0\n858  0  1\n859  0  1\n860  0  1\n861  1  0\n862  0  0\n863  0  1\n864  1  0\n865  1  0\n866  1  0\n867  0  0\n868  0  1\n869  0  1\n870  0  1\n871  0  0\n872  0  0\n873  0  1\n874  1  0\n875  0  1\n876  0  1\n877  0  1\n878  0  1\n879  0  0\n880  1  0\n881  0  1\n882  0  1\n883  1  0\n884  0  1\n885  0  1\n886  1  0\n887  0  0\n888  0  1\n889  0  0\n890  0  1",
      "text/html": "<div>\n<style scoped>\n    .dataframe tbody tr th:only-of-type {\n        vertical-align: middle;\n    }\n\n    .dataframe tbody tr th {\n        vertical-align: top;\n    }\n\n    .dataframe thead th {\n        text-align: right;\n    }\n</style>\n<table border=\"1\" class=\"dataframe\">\n  <thead>\n    <tr style=\"text-align: right;\">\n      <th></th>\n      <th>2</th>\n      <th>3</th>\n    </tr>\n  </thead>\n  <tbody>\n    <tr>\n      <th>0</th>\n      <td>0</td>\n      <td>1</td>\n    </tr>\n    <tr>\n      <th>1</th>\n      <td>0</td>\n      <td>0</td>\n    </tr>\n    <tr>\n      <th>2</th>\n      <td>0</td>\n      <td>1</td>\n    </tr>\n    <tr>\n      <th>3</th>\n      <td>0</td>\n      <td>0</td>\n    </tr>\n    <tr>\n      <th>4</th>\n      <td>0</td>\n      <td>1</td>\n    </tr>\n    <tr>\n      <th>5</th>\n      <td>0</td>\n      <td>1</td>\n    </tr>\n    <tr>\n      <th>6</th>\n      <td>0</td>\n      <td>0</td>\n    </tr>\n    <tr>\n      <th>7</th>\n      <td>0</td>\n      <td>1</td>\n    </tr>\n    <tr>\n      <th>8</th>\n      <td>0</td>\n      <td>1</td>\n    </tr>\n    <tr>\n      <th>9</th>\n      <td>1</td>\n      <td>0</td>\n    </tr>\n    <tr>\n      <th>10</th>\n      <td>0</td>\n      <td>1</td>\n    </tr>\n    <tr>\n      <th>11</th>\n      <td>0</td>\n      <td>0</td>\n    </tr>\n    <tr>\n      <th>12</th>\n      <td>0</td>\n      <td>1</td>\n    </tr>\n    <tr>\n      <th>13</th>\n      <td>0</td>\n      <td>1</td>\n    </tr>\n    <tr>\n      <th>14</th>\n      <td>0</td>\n      <td>1</td>\n    </tr>\n    <tr>\n      <th>15</th>\n      <td>1</td>\n      <td>0</td>\n    </tr>\n    <tr>\n      <th>16</th>\n      <td>0</td>\n      <td>1</td>\n    </tr>\n    <tr>\n      <th>17</th>\n      <td>1</td>\n      <td>0</td>\n    </tr>\n    <tr>\n      <th>18</th>\n      <td>0</td>\n      <td>1</td>\n    </tr>\n    <tr>\n      <th>19</th>\n      <td>0</td>\n      <td>1</td>\n    </tr>\n    <tr>\n      <th>20</th>\n      <td>1</td>\n      <td>0</td>\n    </tr>\n    <tr>\n      <th>21</th>\n      <td>1</td>\n      <td>0</td>\n    </tr>\n    <tr>\n      <th>22</th>\n      <td>0</td>\n      <td>1</td>\n    </tr>\n    <tr>\n      <th>23</th>\n      <td>0</td>\n      <td>0</td>\n    </tr>\n    <tr>\n      <th>24</th>\n      <td>0</td>\n      <td>1</td>\n    </tr>\n    <tr>\n      <th>25</th>\n      <td>0</td>\n      <td>1</td>\n    </tr>\n    <tr>\n      <th>26</th>\n      <td>0</td>\n      <td>1</td>\n    </tr>\n    <tr>\n      <th>27</th>\n      <td>0</td>\n      <td>0</td>\n    </tr>\n    <tr>\n      <th>28</th>\n      <td>0</td>\n      <td>1</td>\n    </tr>\n    <tr>\n      <th>29</th>\n      <td>0</td>\n      <td>1</td>\n    </tr>\n    <tr>\n      <th>30</th>\n      <td>0</td>\n      <td>0</td>\n    </tr>\n    <tr>\n      <th>31</th>\n      <td>0</td>\n      <td>0</td>\n    </tr>\n    <tr>\n      <th>32</th>\n      <td>0</td>\n      <td>1</td>\n    </tr>\n    <tr>\n      <th>33</th>\n      <td>1</td>\n      <td>0</td>\n    </tr>\n    <tr>\n      <th>34</th>\n      <td>0</td>\n      <td>0</td>\n    </tr>\n    <tr>\n      <th>35</th>\n      <td>0</td>\n      <td>0</td>\n    </tr>\n    <tr>\n      <th>36</th>\n      <td>0</td>\n      <td>1</td>\n    </tr>\n    <tr>\n      <th>37</th>\n      <td>0</td>\n      <td>1</td>\n    </tr>\n    <tr>\n      <th>38</th>\n      <td>0</td>\n      <td>1</td>\n    </tr>\n    <tr>\n      <th>39</th>\n      <td>0</td>\n      <td>1</td>\n    </tr>\n    <tr>\n      <th>40</th>\n      <td>0</td>\n      <td>1</td>\n    </tr>\n    <tr>\n      <th>41</th>\n      <td>1</td>\n      <td>0</td>\n    </tr>\n    <tr>\n      <th>42</th>\n      <td>0</td>\n      <td>1</td>\n    </tr>\n    <tr>\n      <th>43</th>\n      <td>1</td>\n      <td>0</td>\n    </tr>\n    <tr>\n      <th>44</th>\n      <td>0</td>\n      <td>1</td>\n    </tr>\n    <tr>\n      <th>45</th>\n      <td>0</td>\n      <td>1</td>\n    </tr>\n    <tr>\n      <th>46</th>\n      <td>0</td>\n      <td>1</td>\n    </tr>\n    <tr>\n      <th>47</th>\n      <td>0</td>\n      <td>1</td>\n    </tr>\n    <tr>\n      <th>48</th>\n      <td>0</td>\n      <td>1</td>\n    </tr>\n    <tr>\n      <th>49</th>\n      <td>0</td>\n      <td>1</td>\n    </tr>\n    <tr>\n      <th>50</th>\n      <td>0</td>\n      <td>1</td>\n    </tr>\n    <tr>\n      <th>51</th>\n      <td>0</td>\n      <td>1</td>\n    </tr>\n    <tr>\n      <th>52</th>\n      <td>0</td>\n      <td>0</td>\n    </tr>\n    <tr>\n      <th>53</th>\n      <td>1</td>\n      <td>0</td>\n    </tr>\n    <tr>\n      <th>54</th>\n      <td>0</td>\n      <td>0</td>\n    </tr>\n    <tr>\n      <th>55</th>\n      <td>0</td>\n      <td>0</td>\n    </tr>\n    <tr>\n      <th>56</th>\n      <td>1</td>\n      <td>0</td>\n    </tr>\n    <tr>\n      <th>57</th>\n      <td>0</td>\n      <td>1</td>\n    </tr>\n    <tr>\n      <th>58</th>\n      <td>1</td>\n      <td>0</td>\n    </tr>\n    <tr>\n      <th>59</th>\n      <td>0</td>\n      <td>1</td>\n    </tr>\n    <tr>\n      <th>60</th>\n      <td>0</td>\n      <td>1</td>\n    </tr>\n    <tr>\n      <th>61</th>\n      <td>0</td>\n      <td>0</td>\n    </tr>\n    <tr>\n      <th>62</th>\n      <td>0</td>\n      <td>0</td>\n    </tr>\n    <tr>\n      <th>63</th>\n      <td>0</td>\n      <td>1</td>\n    </tr>\n    <tr>\n      <th>64</th>\n      <td>0</td>\n      <td>0</td>\n    </tr>\n    <tr>\n      <th>65</th>\n      <td>0</td>\n      <td>1</td>\n    </tr>\n    <tr>\n      <th>66</th>\n      <td>1</td>\n      <td>0</td>\n    </tr>\n    <tr>\n      <th>67</th>\n      <td>0</td>\n      <td>1</td>\n    </tr>\n    <tr>\n      <th>68</th>\n      <td>0</td>\n      <td>1</td>\n    </tr>\n    <tr>\n      <th>69</th>\n      <td>0</td>\n      <td>1</td>\n    </tr>\n    <tr>\n      <th>70</th>\n      <td>1</td>\n      <td>0</td>\n    </tr>\n    <tr>\n      <th>71</th>\n      <td>0</td>\n      <td>1</td>\n    </tr>\n    <tr>\n      <th>72</th>\n      <td>1</td>\n      <td>0</td>\n    </tr>\n    <tr>\n      <th>73</th>\n      <td>0</td>\n      <td>1</td>\n    </tr>\n    <tr>\n      <th>74</th>\n      <td>0</td>\n      <td>1</td>\n    </tr>\n    <tr>\n      <th>75</th>\n      <td>0</td>\n      <td>1</td>\n    </tr>\n    <tr>\n      <th>76</th>\n      <td>0</td>\n      <td>1</td>\n    </tr>\n    <tr>\n      <th>77</th>\n      <td>0</td>\n      <td>1</td>\n    </tr>\n    <tr>\n      <th>78</th>\n      <td>1</td>\n      <td>0</td>\n    </tr>\n    <tr>\n      <th>79</th>\n      <td>0</td>\n      <td>1</td>\n    </tr>\n    <tr>\n      <th>80</th>\n      <td>0</td>\n      <td>1</td>\n    </tr>\n    <tr>\n      <th>81</th>\n      <td>0</td>\n      <td>1</td>\n    </tr>\n    <tr>\n      <th>82</th>\n      <td>0</td>\n      <td>1</td>\n    </tr>\n    <tr>\n      <th>83</th>\n      <td>0</td>\n      <td>0</td>\n    </tr>\n    <tr>\n      <th>84</th>\n      <td>1</td>\n      <td>0</td>\n    </tr>\n    <tr>\n      <th>85</th>\n      <td>0</td>\n      <td>1</td>\n    </tr>\n    <tr>\n      <th>86</th>\n      <td>0</td>\n      <td>1</td>\n    </tr>\n    <tr>\n      <th>87</th>\n      <td>0</td>\n      <td>1</td>\n    </tr>\n    <tr>\n      <th>88</th>\n      <td>0</td>\n      <td>0</td>\n    </tr>\n    <tr>\n      <th>89</th>\n      <td>0</td>\n      <td>1</td>\n    </tr>\n    <tr>\n      <th>90</th>\n      <td>0</td>\n      <td>1</td>\n    </tr>\n    <tr>\n      <th>91</th>\n      <td>0</td>\n      <td>1</td>\n    </tr>\n    <tr>\n      <th>92</th>\n      <td>0</td>\n      <td>0</td>\n    </tr>\n    <tr>\n      <th>93</th>\n      <td>0</td>\n      <td>1</td>\n    </tr>\n    <tr>\n      <th>94</th>\n      <td>0</td>\n      <td>1</td>\n    </tr>\n    <tr>\n      <th>95</th>\n      <td>0</td>\n      <td>1</td>\n    </tr>\n    <tr>\n      <th>96</th>\n      <td>0</td>\n      <td>0</td>\n    </tr>\n    <tr>\n      <th>97</th>\n      <td>0</td>\n      <td>0</td>\n    </tr>\n    <tr>\n      <th>98</th>\n      <td>1</td>\n      <td>0</td>\n    </tr>\n    <tr>\n      <th>99</th>\n      <td>1</td>\n      <td>0</td>\n    </tr>\n    <tr>\n      <th>100</th>\n      <td>0</td>\n      <td>1</td>\n    </tr>\n    <tr>\n      <th>101</th>\n      <td>0</td>\n      <td>1</td>\n    </tr>\n    <tr>\n      <th>102</th>\n      <td>0</td>\n      <td>0</td>\n    </tr>\n    <tr>\n      <th>103</th>\n      <td>0</td>\n      <td>1</td>\n    </tr>\n    <tr>\n      <th>104</th>\n      <td>0</td>\n      <td>1</td>\n    </tr>\n    <tr>\n      <th>105</th>\n      <td>0</td>\n      <td>1</td>\n    </tr>\n    <tr>\n      <th>106</th>\n      <td>0</td>\n      <td>1</td>\n    </tr>\n    <tr>\n      <th>107</th>\n      <td>0</td>\n      <td>1</td>\n    </tr>\n    <tr>\n      <th>108</th>\n      <td>0</td>\n      <td>1</td>\n    </tr>\n    <tr>\n      <th>109</th>\n      <td>0</td>\n      <td>1</td>\n    </tr>\n    <tr>\n      <th>110</th>\n      <td>0</td>\n      <td>0</td>\n    </tr>\n    <tr>\n      <th>111</th>\n      <td>0</td>\n      <td>1</td>\n    </tr>\n    <tr>\n      <th>112</th>\n      <td>0</td>\n      <td>1</td>\n    </tr>\n    <tr>\n      <th>113</th>\n      <td>0</td>\n      <td>1</td>\n    </tr>\n    <tr>\n      <th>114</th>\n      <td>0</td>\n      <td>1</td>\n    </tr>\n    <tr>\n      <th>115</th>\n      <td>0</td>\n      <td>1</td>\n    </tr>\n    <tr>\n      <th>116</th>\n      <td>0</td>\n      <td>1</td>\n    </tr>\n    <tr>\n      <th>117</th>\n      <td>1</td>\n      <td>0</td>\n    </tr>\n    <tr>\n      <th>118</th>\n      <td>0</td>\n      <td>0</td>\n    </tr>\n    <tr>\n      <th>119</th>\n      <td>0</td>\n      <td>1</td>\n    </tr>\n    <tr>\n      <th>120</th>\n      <td>1</td>\n      <td>0</td>\n    </tr>\n    <tr>\n      <th>121</th>\n      <td>0</td>\n      <td>1</td>\n    </tr>\n    <tr>\n      <th>122</th>\n      <td>1</td>\n      <td>0</td>\n    </tr>\n    <tr>\n      <th>123</th>\n      <td>1</td>\n      <td>0</td>\n    </tr>\n    <tr>\n      <th>124</th>\n      <td>0</td>\n      <td>0</td>\n    </tr>\n    <tr>\n      <th>125</th>\n      <td>0</td>\n      <td>1</td>\n    </tr>\n    <tr>\n      <th>126</th>\n      <td>0</td>\n      <td>1</td>\n    </tr>\n    <tr>\n      <th>127</th>\n      <td>0</td>\n      <td>1</td>\n    </tr>\n    <tr>\n      <th>128</th>\n      <td>0</td>\n      <td>1</td>\n    </tr>\n    <tr>\n      <th>129</th>\n      <td>0</td>\n      <td>1</td>\n    </tr>\n    <tr>\n      <th>130</th>\n      <td>0</td>\n      <td>1</td>\n    </tr>\n    <tr>\n      <th>131</th>\n      <td>0</td>\n      <td>1</td>\n    </tr>\n    <tr>\n      <th>132</th>\n      <td>0</td>\n      <td>1</td>\n    </tr>\n    <tr>\n      <th>133</th>\n      <td>1</td>\n      <td>0</td>\n    </tr>\n    <tr>\n      <th>134</th>\n      <td>1</td>\n      <td>0</td>\n    </tr>\n    <tr>\n      <th>135</th>\n      <td>1</td>\n      <td>0</td>\n    </tr>\n    <tr>\n      <th>136</th>\n      <td>0</td>\n      <td>0</td>\n    </tr>\n    <tr>\n      <th>137</th>\n      <td>0</td>\n      <td>0</td>\n    </tr>\n    <tr>\n      <th>138</th>\n      <td>0</td>\n      <td>1</td>\n    </tr>\n    <tr>\n      <th>139</th>\n      <td>0</td>\n      <td>0</td>\n    </tr>\n    <tr>\n      <th>140</th>\n      <td>0</td>\n      <td>1</td>\n    </tr>\n    <tr>\n      <th>141</th>\n      <td>0</td>\n      <td>1</td>\n    </tr>\n    <tr>\n      <th>142</th>\n      <td>0</td>\n      <td>1</td>\n    </tr>\n    <tr>\n      <th>143</th>\n      <td>0</td>\n      <td>1</td>\n    </tr>\n    <tr>\n      <th>144</th>\n      <td>1</td>\n      <td>0</td>\n    </tr>\n    <tr>\n      <th>145</th>\n      <td>1</td>\n      <td>0</td>\n    </tr>\n    <tr>\n      <th>146</th>\n      <td>0</td>\n      <td>1</td>\n    </tr>\n    <tr>\n      <th>147</th>\n      <td>0</td>\n      <td>1</td>\n    </tr>\n    <tr>\n      <th>148</th>\n      <td>1</td>\n      <td>0</td>\n    </tr>\n    <tr>\n      <th>149</th>\n      <td>1</td>\n      <td>0</td>\n    </tr>\n    <tr>\n      <th>150</th>\n      <td>1</td>\n      <td>0</td>\n    </tr>\n    <tr>\n      <th>151</th>\n      <td>0</td>\n      <td>0</td>\n    </tr>\n    <tr>\n      <th>152</th>\n      <td>0</td>\n      <td>1</td>\n    </tr>\n    <tr>\n      <th>153</th>\n      <td>0</td>\n      <td>1</td>\n    </tr>\n    <tr>\n      <th>154</th>\n      <td>0</td>\n      <td>1</td>\n    </tr>\n    <tr>\n      <th>155</th>\n      <td>0</td>\n      <td>0</td>\n    </tr>\n    <tr>\n      <th>156</th>\n      <td>0</td>\n      <td>1</td>\n    </tr>\n    <tr>\n      <th>157</th>\n      <td>0</td>\n      <td>1</td>\n    </tr>\n    <tr>\n      <th>158</th>\n      <td>0</td>\n      <td>1</td>\n    </tr>\n    <tr>\n      <th>159</th>\n      <td>0</td>\n      <td>1</td>\n    </tr>\n    <tr>\n      <th>160</th>\n      <td>0</td>\n      <td>1</td>\n    </tr>\n    <tr>\n      <th>161</th>\n      <td>1</td>\n      <td>0</td>\n    </tr>\n    <tr>\n      <th>162</th>\n      <td>0</td>\n      <td>1</td>\n    </tr>\n    <tr>\n      <th>163</th>\n      <td>0</td>\n      <td>1</td>\n    </tr>\n    <tr>\n      <th>164</th>\n      <td>0</td>\n      <td>1</td>\n    </tr>\n    <tr>\n      <th>165</th>\n      <td>0</td>\n      <td>1</td>\n    </tr>\n    <tr>\n      <th>166</th>\n      <td>0</td>\n      <td>0</td>\n    </tr>\n    <tr>\n      <th>167</th>\n      <td>0</td>\n      <td>1</td>\n    </tr>\n    <tr>\n      <th>168</th>\n      <td>0</td>\n      <td>0</td>\n    </tr>\n    <tr>\n      <th>169</th>\n      <td>0</td>\n      <td>1</td>\n    </tr>\n    <tr>\n      <th>170</th>\n      <td>0</td>\n      <td>0</td>\n    </tr>\n    <tr>\n      <th>171</th>\n      <td>0</td>\n      <td>1</td>\n    </tr>\n    <tr>\n      <th>172</th>\n      <td>0</td>\n      <td>1</td>\n    </tr>\n    <tr>\n      <th>173</th>\n      <td>0</td>\n      <td>1</td>\n    </tr>\n    <tr>\n      <th>174</th>\n      <td>0</td>\n      <td>0</td>\n    </tr>\n    <tr>\n      <th>175</th>\n      <td>0</td>\n      <td>1</td>\n    </tr>\n    <tr>\n      <th>176</th>\n      <td>0</td>\n      <td>1</td>\n    </tr>\n    <tr>\n      <th>177</th>\n      <td>0</td>\n      <td>0</td>\n    </tr>\n    <tr>\n      <th>178</th>\n      <td>1</td>\n      <td>0</td>\n    </tr>\n    <tr>\n      <th>179</th>\n      <td>0</td>\n      <td>1</td>\n    </tr>\n    <tr>\n      <th>180</th>\n      <td>0</td>\n      <td>1</td>\n    </tr>\n    <tr>\n      <th>181</th>\n      <td>1</td>\n      <td>0</td>\n    </tr>\n    <tr>\n      <th>182</th>\n      <td>0</td>\n      <td>1</td>\n    </tr>\n    <tr>\n      <th>183</th>\n      <td>1</td>\n      <td>0</td>\n    </tr>\n    <tr>\n      <th>184</th>\n      <td>0</td>\n      <td>1</td>\n    </tr>\n    <tr>\n      <th>185</th>\n      <td>0</td>\n      <td>0</td>\n    </tr>\n    <tr>\n      <th>186</th>\n      <td>0</td>\n      <td>1</td>\n    </tr>\n    <tr>\n      <th>187</th>\n      <td>0</td>\n      <td>0</td>\n    </tr>\n    <tr>\n      <th>188</th>\n      <td>0</td>\n      <td>1</td>\n    </tr>\n    <tr>\n      <th>189</th>\n      <td>0</td>\n      <td>1</td>\n    </tr>\n    <tr>\n      <th>190</th>\n      <td>1</td>\n      <td>0</td>\n    </tr>\n    <tr>\n      <th>191</th>\n      <td>1</td>\n      <td>0</td>\n    </tr>\n    <tr>\n      <th>192</th>\n      <td>0</td>\n      <td>1</td>\n    </tr>\n    <tr>\n      <th>193</th>\n      <td>1</td>\n      <td>0</td>\n    </tr>\n    <tr>\n      <th>194</th>\n      <td>0</td>\n      <td>0</td>\n    </tr>\n    <tr>\n      <th>195</th>\n      <td>0</td>\n      <td>0</td>\n    </tr>\n    <tr>\n      <th>196</th>\n      <td>0</td>\n      <td>1</td>\n    </tr>\n    <tr>\n      <th>197</th>\n      <td>0</td>\n      <td>1</td>\n    </tr>\n    <tr>\n      <th>198</th>\n      <td>0</td>\n      <td>1</td>\n    </tr>\n    <tr>\n      <th>199</th>\n      <td>1</td>\n      <td>0</td>\n    </tr>\n    <tr>\n      <th>200</th>\n      <td>0</td>\n      <td>1</td>\n    </tr>\n    <tr>\n      <th>201</th>\n      <td>0</td>\n      <td>1</td>\n    </tr>\n    <tr>\n      <th>202</th>\n      <td>0</td>\n      <td>1</td>\n    </tr>\n    <tr>\n      <th>203</th>\n      <td>0</td>\n      <td>1</td>\n    </tr>\n    <tr>\n      <th>204</th>\n      <td>0</td>\n      <td>1</td>\n    </tr>\n    <tr>\n      <th>205</th>\n      <td>0</td>\n      <td>1</td>\n    </tr>\n    <tr>\n      <th>206</th>\n      <td>0</td>\n      <td>1</td>\n    </tr>\n    <tr>\n      <th>207</th>\n      <td>0</td>\n      <td>1</td>\n    </tr>\n    <tr>\n      <th>208</th>\n      <td>0</td>\n      <td>1</td>\n    </tr>\n    <tr>\n      <th>209</th>\n      <td>0</td>\n      <td>0</td>\n    </tr>\n    <tr>\n      <th>210</th>\n      <td>0</td>\n      <td>1</td>\n    </tr>\n    <tr>\n      <th>211</th>\n      <td>1</td>\n      <td>0</td>\n    </tr>\n    <tr>\n      <th>212</th>\n      <td>0</td>\n      <td>1</td>\n    </tr>\n    <tr>\n      <th>213</th>\n      <td>1</td>\n      <td>0</td>\n    </tr>\n    <tr>\n      <th>214</th>\n      <td>0</td>\n      <td>1</td>\n    </tr>\n    <tr>\n      <th>215</th>\n      <td>0</td>\n      <td>0</td>\n    </tr>\n    <tr>\n      <th>216</th>\n      <td>0</td>\n      <td>1</td>\n    </tr>\n    <tr>\n      <th>217</th>\n      <td>1</td>\n      <td>0</td>\n    </tr>\n    <tr>\n      <th>218</th>\n      <td>0</td>\n      <td>0</td>\n    </tr>\n    <tr>\n      <th>219</th>\n      <td>1</td>\n      <td>0</td>\n    </tr>\n    <tr>\n      <th>220</th>\n      <td>0</td>\n      <td>1</td>\n    </tr>\n    <tr>\n      <th>221</th>\n      <td>1</td>\n      <td>0</td>\n    </tr>\n    <tr>\n      <th>222</th>\n      <td>0</td>\n      <td>1</td>\n    </tr>\n    <tr>\n      <th>223</th>\n      <td>0</td>\n      <td>1</td>\n    </tr>\n    <tr>\n      <th>224</th>\n      <td>0</td>\n      <td>0</td>\n    </tr>\n    <tr>\n      <th>225</th>\n      <td>0</td>\n      <td>1</td>\n    </tr>\n    <tr>\n      <th>226</th>\n      <td>1</td>\n      <td>0</td>\n    </tr>\n    <tr>\n      <th>227</th>\n      <td>0</td>\n      <td>1</td>\n    </tr>\n    <tr>\n      <th>228</th>\n      <td>1</td>\n      <td>0</td>\n    </tr>\n    <tr>\n      <th>229</th>\n      <td>0</td>\n      <td>1</td>\n    </tr>\n    <tr>\n      <th>230</th>\n      <td>0</td>\n      <td>0</td>\n    </tr>\n    <tr>\n      <th>231</th>\n      <td>0</td>\n      <td>1</td>\n    </tr>\n    <tr>\n      <th>232</th>\n      <td>1</td>\n      <td>0</td>\n    </tr>\n    <tr>\n      <th>233</th>\n      <td>0</td>\n      <td>1</td>\n    </tr>\n    <tr>\n      <th>234</th>\n      <td>1</td>\n      <td>0</td>\n    </tr>\n    <tr>\n      <th>235</th>\n      <td>0</td>\n      <td>1</td>\n    </tr>\n    <tr>\n      <th>236</th>\n      <td>1</td>\n      <td>0</td>\n    </tr>\n    <tr>\n      <th>237</th>\n      <td>1</td>\n      <td>0</td>\n    </tr>\n    <tr>\n      <th>238</th>\n      <td>1</td>\n      <td>0</td>\n    </tr>\n    <tr>\n      <th>239</th>\n      <td>1</td>\n      <td>0</td>\n    </tr>\n    <tr>\n      <th>240</th>\n      <td>0</td>\n      <td>1</td>\n    </tr>\n    <tr>\n      <th>241</th>\n      <td>0</td>\n      <td>1</td>\n    </tr>\n    <tr>\n      <th>242</th>\n      <td>1</td>\n      <td>0</td>\n    </tr>\n    <tr>\n      <th>243</th>\n      <td>0</td>\n      <td>1</td>\n    </tr>\n    <tr>\n      <th>244</th>\n      <td>0</td>\n      <td>1</td>\n    </tr>\n    <tr>\n      <th>245</th>\n      <td>0</td>\n      <td>0</td>\n    </tr>\n    <tr>\n      <th>246</th>\n      <td>0</td>\n      <td>1</td>\n    </tr>\n    <tr>\n      <th>247</th>\n      <td>1</td>\n      <td>0</td>\n    </tr>\n    <tr>\n      <th>248</th>\n      <td>0</td>\n      <td>0</td>\n    </tr>\n    <tr>\n      <th>249</th>\n      <td>1</td>\n      <td>0</td>\n    </tr>\n    <tr>\n      <th>250</th>\n      <td>0</td>\n      <td>1</td>\n    </tr>\n    <tr>\n      <th>251</th>\n      <td>0</td>\n      <td>1</td>\n    </tr>\n    <tr>\n      <th>252</th>\n      <td>0</td>\n      <td>0</td>\n    </tr>\n    <tr>\n      <th>253</th>\n      <td>0</td>\n      <td>1</td>\n    </tr>\n    <tr>\n      <th>254</th>\n      <td>0</td>\n      <td>1</td>\n    </tr>\n    <tr>\n      <th>255</th>\n      <td>0</td>\n      <td>1</td>\n    </tr>\n    <tr>\n      <th>256</th>\n      <td>0</td>\n      <td>0</td>\n    </tr>\n    <tr>\n      <th>257</th>\n      <td>0</td>\n      <td>0</td>\n    </tr>\n    <tr>\n      <th>258</th>\n      <td>0</td>\n      <td>0</td>\n    </tr>\n    <tr>\n      <th>259</th>\n      <td>1</td>\n      <td>0</td>\n    </tr>\n    <tr>\n      <th>260</th>\n      <td>0</td>\n      <td>1</td>\n    </tr>\n    <tr>\n      <th>261</th>\n      <td>0</td>\n      <td>1</td>\n    </tr>\n    <tr>\n      <th>262</th>\n      <td>0</td>\n      <td>0</td>\n    </tr>\n    <tr>\n      <th>263</th>\n      <td>0</td>\n      <td>0</td>\n    </tr>\n    <tr>\n      <th>264</th>\n      <td>0</td>\n      <td>1</td>\n    </tr>\n    <tr>\n      <th>265</th>\n      <td>1</td>\n      <td>0</td>\n    </tr>\n    <tr>\n      <th>266</th>\n      <td>0</td>\n      <td>1</td>\n    </tr>\n    <tr>\n      <th>267</th>\n      <td>0</td>\n      <td>1</td>\n    </tr>\n    <tr>\n      <th>268</th>\n      <td>0</td>\n      <td>0</td>\n    </tr>\n    <tr>\n      <th>269</th>\n      <td>0</td>\n      <td>0</td>\n    </tr>\n    <tr>\n      <th>270</th>\n      <td>0</td>\n      <td>0</td>\n    </tr>\n    <tr>\n      <th>271</th>\n      <td>0</td>\n      <td>1</td>\n    </tr>\n    <tr>\n      <th>272</th>\n      <td>1</td>\n      <td>0</td>\n    </tr>\n    <tr>\n      <th>273</th>\n      <td>0</td>\n      <td>0</td>\n    </tr>\n    <tr>\n      <th>274</th>\n      <td>0</td>\n      <td>1</td>\n    </tr>\n    <tr>\n      <th>275</th>\n      <td>0</td>\n      <td>0</td>\n    </tr>\n    <tr>\n      <th>276</th>\n      <td>0</td>\n      <td>1</td>\n    </tr>\n    <tr>\n      <th>277</th>\n      <td>1</td>\n      <td>0</td>\n    </tr>\n    <tr>\n      <th>278</th>\n      <td>0</td>\n      <td>1</td>\n    </tr>\n    <tr>\n      <th>279</th>\n      <td>0</td>\n      <td>1</td>\n    </tr>\n    <tr>\n      <th>280</th>\n      <td>0</td>\n      <td>1</td>\n    </tr>\n    <tr>\n      <th>281</th>\n      <td>0</td>\n      <td>1</td>\n    </tr>\n    <tr>\n      <th>282</th>\n      <td>0</td>\n      <td>1</td>\n    </tr>\n    <tr>\n      <th>283</th>\n      <td>0</td>\n      <td>1</td>\n    </tr>\n    <tr>\n      <th>284</th>\n      <td>0</td>\n      <td>0</td>\n    </tr>\n    <tr>\n      <th>285</th>\n      <td>0</td>\n      <td>1</td>\n    </tr>\n    <tr>\n      <th>286</th>\n      <td>0</td>\n      <td>1</td>\n    </tr>\n    <tr>\n      <th>287</th>\n      <td>0</td>\n      <td>1</td>\n    </tr>\n    <tr>\n      <th>288</th>\n      <td>1</td>\n      <td>0</td>\n    </tr>\n    <tr>\n      <th>289</th>\n      <td>0</td>\n      <td>1</td>\n    </tr>\n    <tr>\n      <th>290</th>\n      <td>0</td>\n      <td>0</td>\n    </tr>\n    <tr>\n      <th>291</th>\n      <td>0</td>\n      <td>0</td>\n    </tr>\n    <tr>\n      <th>292</th>\n      <td>1</td>\n      <td>0</td>\n    </tr>\n    <tr>\n      <th>293</th>\n      <td>0</td>\n      <td>1</td>\n    </tr>\n    <tr>\n      <th>294</th>\n      <td>0</td>\n      <td>1</td>\n    </tr>\n    <tr>\n      <th>295</th>\n      <td>0</td>\n      <td>0</td>\n    </tr>\n    <tr>\n      <th>296</th>\n      <td>0</td>\n      <td>1</td>\n    </tr>\n    <tr>\n      <th>297</th>\n      <td>0</td>\n      <td>0</td>\n    </tr>\n    <tr>\n      <th>298</th>\n      <td>0</td>\n      <td>0</td>\n    </tr>\n    <tr>\n      <th>299</th>\n      <td>0</td>\n      <td>0</td>\n    </tr>\n    <tr>\n      <th>300</th>\n      <td>0</td>\n      <td>1</td>\n    </tr>\n    <tr>\n      <th>301</th>\n      <td>0</td>\n      <td>1</td>\n    </tr>\n    <tr>\n      <th>302</th>\n      <td>0</td>\n      <td>1</td>\n    </tr>\n    <tr>\n      <th>303</th>\n      <td>1</td>\n      <td>0</td>\n    </tr>\n    <tr>\n      <th>304</th>\n      <td>0</td>\n      <td>1</td>\n    </tr>\n    <tr>\n      <th>305</th>\n      <td>0</td>\n      <td>0</td>\n    </tr>\n    <tr>\n      <th>306</th>\n      <td>0</td>\n      <td>0</td>\n    </tr>\n    <tr>\n      <th>307</th>\n      <td>0</td>\n      <td>0</td>\n    </tr>\n    <tr>\n      <th>308</th>\n      <td>1</td>\n      <td>0</td>\n    </tr>\n    <tr>\n      <th>309</th>\n      <td>0</td>\n      <td>0</td>\n    </tr>\n    <tr>\n      <th>310</th>\n      <td>0</td>\n      <td>0</td>\n    </tr>\n    <tr>\n      <th>311</th>\n      <td>0</td>\n      <td>0</td>\n    </tr>\n    <tr>\n      <th>312</th>\n      <td>1</td>\n      <td>0</td>\n    </tr>\n    <tr>\n      <th>313</th>\n      <td>0</td>\n      <td>1</td>\n    </tr>\n    <tr>\n      <th>314</th>\n      <td>1</td>\n      <td>0</td>\n    </tr>\n    <tr>\n      <th>315</th>\n      <td>0</td>\n      <td>1</td>\n    </tr>\n    <tr>\n      <th>316</th>\n      <td>1</td>\n      <td>0</td>\n    </tr>\n    <tr>\n      <th>317</th>\n      <td>1</td>\n      <td>0</td>\n    </tr>\n    <tr>\n      <th>318</th>\n      <td>0</td>\n      <td>0</td>\n    </tr>\n    <tr>\n      <th>319</th>\n      <td>0</td>\n      <td>0</td>\n    </tr>\n    <tr>\n      <th>320</th>\n      <td>0</td>\n      <td>1</td>\n    </tr>\n    <tr>\n      <th>321</th>\n      <td>0</td>\n      <td>1</td>\n    </tr>\n    <tr>\n      <th>322</th>\n      <td>1</td>\n      <td>0</td>\n    </tr>\n    <tr>\n      <th>323</th>\n      <td>1</td>\n      <td>0</td>\n    </tr>\n    <tr>\n      <th>324</th>\n      <td>0</td>\n      <td>1</td>\n    </tr>\n    <tr>\n      <th>325</th>\n      <td>0</td>\n      <td>0</td>\n    </tr>\n    <tr>\n      <th>326</th>\n      <td>0</td>\n      <td>1</td>\n    </tr>\n    <tr>\n      <th>327</th>\n      <td>1</td>\n      <td>0</td>\n    </tr>\n    <tr>\n      <th>328</th>\n      <td>0</td>\n      <td>1</td>\n    </tr>\n    <tr>\n      <th>329</th>\n      <td>0</td>\n      <td>0</td>\n    </tr>\n    <tr>\n      <th>330</th>\n      <td>0</td>\n      <td>1</td>\n    </tr>\n    <tr>\n      <th>331</th>\n      <td>0</td>\n      <td>0</td>\n    </tr>\n    <tr>\n      <th>332</th>\n      <td>0</td>\n      <td>0</td>\n    </tr>\n    <tr>\n      <th>333</th>\n      <td>0</td>\n      <td>1</td>\n    </tr>\n    <tr>\n      <th>334</th>\n      <td>0</td>\n      <td>0</td>\n    </tr>\n    <tr>\n      <th>335</th>\n      <td>0</td>\n      <td>1</td>\n    </tr>\n    <tr>\n      <th>336</th>\n      <td>0</td>\n      <td>0</td>\n    </tr>\n    <tr>\n      <th>337</th>\n      <td>0</td>\n      <td>0</td>\n    </tr>\n    <tr>\n      <th>338</th>\n      <td>0</td>\n      <td>1</td>\n    </tr>\n    <tr>\n      <th>339</th>\n      <td>0</td>\n      <td>0</td>\n    </tr>\n    <tr>\n      <th>340</th>\n      <td>1</td>\n      <td>0</td>\n    </tr>\n    <tr>\n      <th>341</th>\n      <td>0</td>\n      <td>0</td>\n    </tr>\n    <tr>\n      <th>342</th>\n      <td>1</td>\n      <td>0</td>\n    </tr>\n    <tr>\n      <th>343</th>\n      <td>1</td>\n      <td>0</td>\n    </tr>\n    <tr>\n      <th>344</th>\n      <td>1</td>\n      <td>0</td>\n    </tr>\n    <tr>\n      <th>345</th>\n      <td>1</td>\n      <td>0</td>\n    </tr>\n    <tr>\n      <th>346</th>\n      <td>1</td>\n      <td>0</td>\n    </tr>\n    <tr>\n      <th>347</th>\n      <td>0</td>\n      <td>1</td>\n    </tr>\n    <tr>\n      <th>348</th>\n      <td>0</td>\n      <td>1</td>\n    </tr>\n    <tr>\n      <th>349</th>\n      <td>0</td>\n      <td>1</td>\n    </tr>\n    <tr>\n      <th>350</th>\n      <td>0</td>\n      <td>1</td>\n    </tr>\n    <tr>\n      <th>351</th>\n      <td>0</td>\n      <td>0</td>\n    </tr>\n    <tr>\n      <th>352</th>\n      <td>0</td>\n      <td>1</td>\n    </tr>\n    <tr>\n      <th>353</th>\n      <td>0</td>\n      <td>1</td>\n    </tr>\n    <tr>\n      <th>354</th>\n      <td>0</td>\n      <td>1</td>\n    </tr>\n    <tr>\n      <th>355</th>\n      <td>0</td>\n      <td>1</td>\n    </tr>\n    <tr>\n      <th>356</th>\n      <td>0</td>\n      <td>0</td>\n    </tr>\n    <tr>\n      <th>357</th>\n      <td>1</td>\n      <td>0</td>\n    </tr>\n    <tr>\n      <th>358</th>\n      <td>0</td>\n      <td>1</td>\n    </tr>\n    <tr>\n      <th>359</th>\n      <td>0</td>\n      <td>1</td>\n    </tr>\n    <tr>\n      <th>360</th>\n      <td>0</td>\n      <td>1</td>\n    </tr>\n    <tr>\n      <th>361</th>\n      <td>1</td>\n      <td>0</td>\n    </tr>\n    <tr>\n      <th>362</th>\n      <td>0</td>\n      <td>1</td>\n    </tr>\n    <tr>\n      <th>363</th>\n      <td>0</td>\n      <td>1</td>\n    </tr>\n    <tr>\n      <th>364</th>\n      <td>0</td>\n      <td>1</td>\n    </tr>\n    <tr>\n      <th>365</th>\n      <td>0</td>\n      <td>1</td>\n    </tr>\n    <tr>\n      <th>366</th>\n      <td>0</td>\n      <td>0</td>\n    </tr>\n    <tr>\n      <th>367</th>\n      <td>0</td>\n      <td>1</td>\n    </tr>\n    <tr>\n      <th>368</th>\n      <td>0</td>\n      <td>1</td>\n    </tr>\n    <tr>\n      <th>369</th>\n      <td>0</td>\n      <td>0</td>\n    </tr>\n    <tr>\n      <th>370</th>\n      <td>0</td>\n      <td>0</td>\n    </tr>\n    <tr>\n      <th>371</th>\n      <td>0</td>\n      <td>1</td>\n    </tr>\n    <tr>\n      <th>372</th>\n      <td>0</td>\n      <td>1</td>\n    </tr>\n    <tr>\n      <th>373</th>\n      <td>0</td>\n      <td>0</td>\n    </tr>\n    <tr>\n      <th>374</th>\n      <td>0</td>\n      <td>1</td>\n    </tr>\n    <tr>\n      <th>375</th>\n      <td>0</td>\n      <td>0</td>\n    </tr>\n    <tr>\n      <th>376</th>\n      <td>0</td>\n      <td>1</td>\n    </tr>\n    <tr>\n      <th>377</th>\n      <td>0</td>\n      <td>0</td>\n    </tr>\n    <tr>\n      <th>378</th>\n      <td>0</td>\n      <td>1</td>\n    </tr>\n    <tr>\n      <th>379</th>\n      <td>0</td>\n      <td>1</td>\n    </tr>\n    <tr>\n      <th>380</th>\n      <td>0</td>\n      <td>0</td>\n    </tr>\n    <tr>\n      <th>381</th>\n      <td>0</td>\n      <td>1</td>\n    </tr>\n    <tr>\n      <th>382</th>\n      <td>0</td>\n      <td>1</td>\n    </tr>\n    <tr>\n      <th>383</th>\n      <td>0</td>\n      <td>0</td>\n    </tr>\n    <tr>\n      <th>384</th>\n      <td>0</td>\n      <td>1</td>\n    </tr>\n    <tr>\n      <th>385</th>\n      <td>1</td>\n      <td>0</td>\n    </tr>\n    <tr>\n      <th>386</th>\n      <td>0</td>\n      <td>1</td>\n    </tr>\n    <tr>\n      <th>387</th>\n      <td>1</td>\n      <td>0</td>\n    </tr>\n    <tr>\n      <th>388</th>\n      <td>0</td>\n      <td>1</td>\n    </tr>\n    <tr>\n      <th>389</th>\n      <td>1</td>\n      <td>0</td>\n    </tr>\n    <tr>\n      <th>390</th>\n      <td>0</td>\n      <td>0</td>\n    </tr>\n    <tr>\n      <th>391</th>\n      <td>0</td>\n      <td>1</td>\n    </tr>\n    <tr>\n      <th>392</th>\n      <td>0</td>\n      <td>1</td>\n    </tr>\n    <tr>\n      <th>393</th>\n      <td>0</td>\n      <td>0</td>\n    </tr>\n    <tr>\n      <th>394</th>\n      <td>0</td>\n      <td>1</td>\n    </tr>\n    <tr>\n      <th>395</th>\n      <td>0</td>\n      <td>1</td>\n    </tr>\n    <tr>\n      <th>396</th>\n      <td>0</td>\n      <td>1</td>\n    </tr>\n    <tr>\n      <th>397</th>\n      <td>1</td>\n      <td>0</td>\n    </tr>\n    <tr>\n      <th>398</th>\n      <td>1</td>\n      <td>0</td>\n    </tr>\n    <tr>\n      <th>399</th>\n      <td>1</td>\n      <td>0</td>\n    </tr>\n    <tr>\n      <th>400</th>\n      <td>0</td>\n      <td>1</td>\n    </tr>\n    <tr>\n      <th>401</th>\n      <td>0</td>\n      <td>1</td>\n    </tr>\n    <tr>\n      <th>402</th>\n      <td>0</td>\n      <td>1</td>\n    </tr>\n    <tr>\n      <th>403</th>\n      <td>0</td>\n      <td>1</td>\n    </tr>\n    <tr>\n      <th>404</th>\n      <td>0</td>\n      <td>1</td>\n    </tr>\n    <tr>\n      <th>405</th>\n      <td>1</td>\n      <td>0</td>\n    </tr>\n    <tr>\n      <th>406</th>\n      <td>0</td>\n      <td>1</td>\n    </tr>\n    <tr>\n      <th>407</th>\n      <td>1</td>\n      <td>0</td>\n    </tr>\n    <tr>\n      <th>408</th>\n      <td>0</td>\n      <td>1</td>\n    </tr>\n    <tr>\n      <th>409</th>\n      <td>0</td>\n      <td>1</td>\n    </tr>\n    <tr>\n      <th>410</th>\n      <td>0</td>\n      <td>1</td>\n    </tr>\n    <tr>\n      <th>411</th>\n      <td>0</td>\n      <td>1</td>\n    </tr>\n    <tr>\n      <th>412</th>\n      <td>0</td>\n      <td>0</td>\n    </tr>\n    <tr>\n      <th>413</th>\n      <td>1</td>\n      <td>0</td>\n    </tr>\n    <tr>\n      <th>414</th>\n      <td>0</td>\n      <td>1</td>\n    </tr>\n    <tr>\n      <th>415</th>\n      <td>0</td>\n      <td>1</td>\n    </tr>\n    <tr>\n      <th>416</th>\n      <td>1</td>\n      <td>0</td>\n    </tr>\n    <tr>\n      <th>417</th>\n      <td>1</td>\n      <td>0</td>\n    </tr>\n    <tr>\n      <th>418</th>\n      <td>1</td>\n      <td>0</td>\n    </tr>\n    <tr>\n      <th>419</th>\n      <td>0</td>\n      <td>1</td>\n    </tr>\n    <tr>\n      <th>420</th>\n      <td>0</td>\n      <td>1</td>\n    </tr>\n    <tr>\n      <th>421</th>\n      <td>0</td>\n      <td>1</td>\n    </tr>\n    <tr>\n      <th>422</th>\n      <td>0</td>\n      <td>1</td>\n    </tr>\n    <tr>\n      <th>423</th>\n      <td>0</td>\n      <td>1</td>\n    </tr>\n    <tr>\n      <th>424</th>\n      <td>0</td>\n      <td>1</td>\n    </tr>\n    <tr>\n      <th>425</th>\n      <td>0</td>\n      <td>1</td>\n    </tr>\n    <tr>\n      <th>426</th>\n      <td>1</td>\n      <td>0</td>\n    </tr>\n    <tr>\n      <th>427</th>\n      <td>1</td>\n      <td>0</td>\n    </tr>\n    <tr>\n      <th>428</th>\n      <td>0</td>\n      <td>1</td>\n    </tr>\n    <tr>\n      <th>429</th>\n      <td>0</td>\n      <td>1</td>\n    </tr>\n    <tr>\n      <th>430</th>\n      <td>0</td>\n      <td>0</td>\n    </tr>\n    <tr>\n      <th>431</th>\n      <td>0</td>\n      <td>1</td>\n    </tr>\n    <tr>\n      <th>432</th>\n      <td>1</td>\n      <td>0</td>\n    </tr>\n    <tr>\n      <th>433</th>\n      <td>0</td>\n      <td>1</td>\n    </tr>\n    <tr>\n      <th>434</th>\n      <td>0</td>\n      <td>0</td>\n    </tr>\n    <tr>\n      <th>435</th>\n      <td>0</td>\n      <td>0</td>\n    </tr>\n    <tr>\n      <th>436</th>\n      <td>0</td>\n      <td>1</td>\n    </tr>\n    <tr>\n      <th>437</th>\n      <td>1</td>\n      <td>0</td>\n    </tr>\n    <tr>\n      <th>438</th>\n      <td>0</td>\n      <td>0</td>\n    </tr>\n    <tr>\n      <th>439</th>\n      <td>1</td>\n      <td>0</td>\n    </tr>\n    <tr>\n      <th>440</th>\n      <td>1</td>\n      <td>0</td>\n    </tr>\n    <tr>\n      <th>441</th>\n      <td>0</td>\n      <td>1</td>\n    </tr>\n    <tr>\n      <th>442</th>\n      <td>0</td>\n      <td>1</td>\n    </tr>\n    <tr>\n      <th>443</th>\n      <td>1</td>\n      <td>0</td>\n    </tr>\n    <tr>\n      <th>444</th>\n      <td>0</td>\n      <td>1</td>\n    </tr>\n    <tr>\n      <th>445</th>\n      <td>0</td>\n      <td>0</td>\n    </tr>\n    <tr>\n      <th>446</th>\n      <td>1</td>\n      <td>0</td>\n    </tr>\n    <tr>\n      <th>447</th>\n      <td>0</td>\n      <td>0</td>\n    </tr>\n    <tr>\n      <th>448</th>\n      <td>0</td>\n      <td>1</td>\n    </tr>\n    <tr>\n      <th>449</th>\n      <td>0</td>\n      <td>0</td>\n    </tr>\n    <tr>\n      <th>450</th>\n      <td>1</td>\n      <td>0</td>\n    </tr>\n    <tr>\n      <th>451</th>\n      <td>0</td>\n      <td>1</td>\n    </tr>\n    <tr>\n      <th>452</th>\n      <td>0</td>\n      <td>0</td>\n    </tr>\n    <tr>\n      <th>453</th>\n      <td>0</td>\n      <td>0</td>\n    </tr>\n    <tr>\n      <th>454</th>\n      <td>0</td>\n      <td>1</td>\n    </tr>\n    <tr>\n      <th>455</th>\n      <td>0</td>\n      <td>1</td>\n    </tr>\n    <tr>\n      <th>456</th>\n      <td>0</td>\n      <td>0</td>\n    </tr>\n    <tr>\n      <th>457</th>\n      <td>0</td>\n      <td>0</td>\n    </tr>\n    <tr>\n      <th>458</th>\n      <td>1</td>\n      <td>0</td>\n    </tr>\n    <tr>\n      <th>459</th>\n      <td>0</td>\n      <td>1</td>\n    </tr>\n    <tr>\n      <th>460</th>\n      <td>0</td>\n      <td>0</td>\n    </tr>\n    <tr>\n      <th>461</th>\n      <td>0</td>\n      <td>1</td>\n    </tr>\n    <tr>\n      <th>462</th>\n      <td>0</td>\n      <td>0</td>\n    </tr>\n    <tr>\n      <th>463</th>\n      <td>1</td>\n      <td>0</td>\n    </tr>\n    <tr>\n      <th>464</th>\n      <td>0</td>\n      <td>1</td>\n    </tr>\n    <tr>\n      <th>465</th>\n      <td>0</td>\n      <td>1</td>\n    </tr>\n    <tr>\n      <th>466</th>\n      <td>1</td>\n      <td>0</td>\n    </tr>\n    <tr>\n      <th>467</th>\n      <td>0</td>\n      <td>0</td>\n    </tr>\n    <tr>\n      <th>468</th>\n      <td>0</td>\n      <td>1</td>\n    </tr>\n    <tr>\n      <th>469</th>\n      <td>0</td>\n      <td>1</td>\n    </tr>\n    <tr>\n      <th>470</th>\n      <td>0</td>\n      <td>1</td>\n    </tr>\n    <tr>\n      <th>471</th>\n      <td>0</td>\n      <td>1</td>\n    </tr>\n    <tr>\n      <th>472</th>\n      <td>1</td>\n      <td>0</td>\n    </tr>\n    <tr>\n      <th>473</th>\n      <td>1</td>\n      <td>0</td>\n    </tr>\n    <tr>\n      <th>474</th>\n      <td>0</td>\n      <td>1</td>\n    </tr>\n    <tr>\n      <th>475</th>\n      <td>0</td>\n      <td>0</td>\n    </tr>\n    <tr>\n      <th>476</th>\n      <td>1</td>\n      <td>0</td>\n    </tr>\n    <tr>\n      <th>477</th>\n      <td>0</td>\n      <td>1</td>\n    </tr>\n    <tr>\n      <th>478</th>\n      <td>0</td>\n      <td>1</td>\n    </tr>\n    <tr>\n      <th>479</th>\n      <td>0</td>\n      <td>1</td>\n    </tr>\n    <tr>\n      <th>480</th>\n      <td>0</td>\n      <td>1</td>\n    </tr>\n    <tr>\n      <th>481</th>\n      <td>1</td>\n      <td>0</td>\n    </tr>\n    <tr>\n      <th>482</th>\n      <td>0</td>\n      <td>1</td>\n    </tr>\n    <tr>\n      <th>483</th>\n      <td>0</td>\n      <td>1</td>\n    </tr>\n    <tr>\n      <th>484</th>\n      <td>0</td>\n      <td>0</td>\n    </tr>\n    <tr>\n      <th>485</th>\n      <td>0</td>\n      <td>1</td>\n    </tr>\n    <tr>\n      <th>486</th>\n      <td>0</td>\n      <td>0</td>\n    </tr>\n    <tr>\n      <th>487</th>\n      <td>0</td>\n      <td>0</td>\n    </tr>\n    <tr>\n      <th>488</th>\n      <td>0</td>\n      <td>1</td>\n    </tr>\n    <tr>\n      <th>489</th>\n      <td>0</td>\n      <td>1</td>\n    </tr>\n    <tr>\n      <th>490</th>\n      <td>0</td>\n      <td>1</td>\n    </tr>\n    <tr>\n      <th>491</th>\n      <td>0</td>\n      <td>1</td>\n    </tr>\n    <tr>\n      <th>492</th>\n      <td>0</td>\n      <td>0</td>\n    </tr>\n    <tr>\n      <th>493</th>\n      <td>0</td>\n      <td>0</td>\n    </tr>\n    <tr>\n      <th>494</th>\n      <td>0</td>\n      <td>1</td>\n    </tr>\n    <tr>\n      <th>495</th>\n      <td>0</td>\n      <td>1</td>\n    </tr>\n    <tr>\n      <th>496</th>\n      <td>0</td>\n      <td>0</td>\n    </tr>\n    <tr>\n      <th>497</th>\n      <td>0</td>\n      <td>1</td>\n    </tr>\n    <tr>\n      <th>498</th>\n      <td>0</td>\n      <td>0</td>\n    </tr>\n    <tr>\n      <th>499</th>\n      <td>0</td>\n      <td>1</td>\n    </tr>\n    <tr>\n      <th>500</th>\n      <td>0</td>\n      <td>1</td>\n    </tr>\n    <tr>\n      <th>501</th>\n      <td>0</td>\n      <td>1</td>\n    </tr>\n    <tr>\n      <th>502</th>\n      <td>0</td>\n      <td>1</td>\n    </tr>\n    <tr>\n      <th>503</th>\n      <td>0</td>\n      <td>1</td>\n    </tr>\n    <tr>\n      <th>504</th>\n      <td>0</td>\n      <td>0</td>\n    </tr>\n    <tr>\n      <th>505</th>\n      <td>0</td>\n      <td>0</td>\n    </tr>\n    <tr>\n      <th>506</th>\n      <td>1</td>\n      <td>0</td>\n    </tr>\n    <tr>\n      <th>507</th>\n      <td>0</td>\n      <td>0</td>\n    </tr>\n    <tr>\n      <th>508</th>\n      <td>0</td>\n      <td>1</td>\n    </tr>\n    <tr>\n      <th>509</th>\n      <td>0</td>\n      <td>1</td>\n    </tr>\n    <tr>\n      <th>510</th>\n      <td>0</td>\n      <td>1</td>\n    </tr>\n    <tr>\n      <th>511</th>\n      <td>0</td>\n      <td>1</td>\n    </tr>\n    <tr>\n      <th>512</th>\n      <td>0</td>\n      <td>0</td>\n    </tr>\n    <tr>\n      <th>513</th>\n      <td>0</td>\n      <td>0</td>\n    </tr>\n    <tr>\n      <th>514</th>\n      <td>0</td>\n      <td>1</td>\n    </tr>\n    <tr>\n      <th>515</th>\n      <td>0</td>\n      <td>0</td>\n    </tr>\n    <tr>\n      <th>516</th>\n      <td>1</td>\n      <td>0</td>\n    </tr>\n    <tr>\n      <th>517</th>\n      <td>0</td>\n      <td>1</td>\n    </tr>\n    <tr>\n      <th>518</th>\n      <td>1</td>\n      <td>0</td>\n    </tr>\n    <tr>\n      <th>519</th>\n      <td>0</td>\n      <td>1</td>\n    </tr>\n    <tr>\n      <th>520</th>\n      <td>0</td>\n      <td>0</td>\n    </tr>\n    <tr>\n      <th>521</th>\n      <td>0</td>\n      <td>1</td>\n    </tr>\n    <tr>\n      <th>522</th>\n      <td>0</td>\n      <td>1</td>\n    </tr>\n    <tr>\n      <th>523</th>\n      <td>0</td>\n      <td>0</td>\n    </tr>\n    <tr>\n      <th>524</th>\n      <td>0</td>\n      <td>1</td>\n    </tr>\n    <tr>\n      <th>525</th>\n      <td>0</td>\n      <td>1</td>\n    </tr>\n    <tr>\n      <th>526</th>\n      <td>1</td>\n      <td>0</td>\n    </tr>\n    <tr>\n      <th>527</th>\n      <td>0</td>\n      <td>0</td>\n    </tr>\n    <tr>\n      <th>528</th>\n      <td>0</td>\n      <td>1</td>\n    </tr>\n    <tr>\n      <th>529</th>\n      <td>1</td>\n      <td>0</td>\n    </tr>\n    <tr>\n      <th>530</th>\n      <td>1</td>\n      <td>0</td>\n    </tr>\n    <tr>\n      <th>531</th>\n      <td>0</td>\n      <td>1</td>\n    </tr>\n    <tr>\n      <th>532</th>\n      <td>0</td>\n      <td>1</td>\n    </tr>\n    <tr>\n      <th>533</th>\n      <td>0</td>\n      <td>1</td>\n    </tr>\n    <tr>\n      <th>534</th>\n      <td>0</td>\n      <td>1</td>\n    </tr>\n    <tr>\n      <th>535</th>\n      <td>1</td>\n      <td>0</td>\n    </tr>\n    <tr>\n      <th>536</th>\n      <td>0</td>\n      <td>0</td>\n    </tr>\n    <tr>\n      <th>537</th>\n      <td>0</td>\n      <td>0</td>\n    </tr>\n    <tr>\n      <th>538</th>\n      <td>0</td>\n      <td>1</td>\n    </tr>\n    <tr>\n      <th>539</th>\n      <td>0</td>\n      <td>0</td>\n    </tr>\n    <tr>\n      <th>540</th>\n      <td>0</td>\n      <td>0</td>\n    </tr>\n    <tr>\n      <th>541</th>\n      <td>0</td>\n      <td>1</td>\n    </tr>\n    <tr>\n      <th>542</th>\n      <td>0</td>\n      <td>1</td>\n    </tr>\n    <tr>\n      <th>543</th>\n      <td>1</td>\n      <td>0</td>\n    </tr>\n    <tr>\n      <th>544</th>\n      <td>0</td>\n      <td>0</td>\n    </tr>\n    <tr>\n      <th>545</th>\n      <td>0</td>\n      <td>0</td>\n    </tr>\n    <tr>\n      <th>546</th>\n      <td>1</td>\n      <td>0</td>\n    </tr>\n    <tr>\n      <th>547</th>\n      <td>1</td>\n      <td>0</td>\n    </tr>\n    <tr>\n      <th>548</th>\n      <td>0</td>\n      <td>1</td>\n    </tr>\n    <tr>\n      <th>549</th>\n      <td>1</td>\n      <td>0</td>\n    </tr>\n    <tr>\n      <th>550</th>\n      <td>0</td>\n      <td>0</td>\n    </tr>\n    <tr>\n      <th>551</th>\n      <td>1</td>\n      <td>0</td>\n    </tr>\n    <tr>\n      <th>552</th>\n      <td>0</td>\n      <td>1</td>\n    </tr>\n    <tr>\n      <th>553</th>\n      <td>0</td>\n      <td>1</td>\n    </tr>\n    <tr>\n      <th>554</th>\n      <td>0</td>\n      <td>1</td>\n    </tr>\n    <tr>\n      <th>555</th>\n      <td>0</td>\n      <td>0</td>\n    </tr>\n    <tr>\n      <th>556</th>\n      <td>0</td>\n      <td>0</td>\n    </tr>\n    <tr>\n      <th>557</th>\n      <td>0</td>\n      <td>0</td>\n    </tr>\n    <tr>\n      <th>558</th>\n      <td>0</td>\n      <td>0</td>\n    </tr>\n    <tr>\n      <th>559</th>\n      <td>0</td>\n      <td>1</td>\n    </tr>\n    <tr>\n      <th>560</th>\n      <td>0</td>\n      <td>1</td>\n    </tr>\n    <tr>\n      <th>561</th>\n      <td>0</td>\n      <td>1</td>\n    </tr>\n    <tr>\n      <th>562</th>\n      <td>1</td>\n      <td>0</td>\n    </tr>\n    <tr>\n      <th>563</th>\n      <td>0</td>\n      <td>1</td>\n    </tr>\n    <tr>\n      <th>564</th>\n      <td>0</td>\n      <td>1</td>\n    </tr>\n    <tr>\n      <th>565</th>\n      <td>0</td>\n      <td>1</td>\n    </tr>\n    <tr>\n      <th>566</th>\n      <td>0</td>\n      <td>1</td>\n    </tr>\n    <tr>\n      <th>567</th>\n      <td>0</td>\n      <td>1</td>\n    </tr>\n    <tr>\n      <th>568</th>\n      <td>0</td>\n      <td>1</td>\n    </tr>\n    <tr>\n      <th>569</th>\n      <td>0</td>\n      <td>1</td>\n    </tr>\n    <tr>\n      <th>570</th>\n      <td>1</td>\n      <td>0</td>\n    </tr>\n    <tr>\n      <th>571</th>\n      <td>0</td>\n      <td>0</td>\n    </tr>\n    <tr>\n      <th>572</th>\n      <td>0</td>\n      <td>0</td>\n    </tr>\n    <tr>\n      <th>573</th>\n      <td>0</td>\n      <td>1</td>\n    </tr>\n    <tr>\n      <th>574</th>\n      <td>0</td>\n      <td>1</td>\n    </tr>\n    <tr>\n      <th>575</th>\n      <td>0</td>\n      <td>1</td>\n    </tr>\n    <tr>\n      <th>576</th>\n      <td>1</td>\n      <td>0</td>\n    </tr>\n    <tr>\n      <th>577</th>\n      <td>0</td>\n      <td>0</td>\n    </tr>\n    <tr>\n      <th>578</th>\n      <td>0</td>\n      <td>1</td>\n    </tr>\n    <tr>\n      <th>579</th>\n      <td>0</td>\n      <td>1</td>\n    </tr>\n    <tr>\n      <th>580</th>\n      <td>1</td>\n      <td>0</td>\n    </tr>\n    <tr>\n      <th>581</th>\n      <td>0</td>\n      <td>0</td>\n    </tr>\n    <tr>\n      <th>582</th>\n      <td>1</td>\n      <td>0</td>\n    </tr>\n    <tr>\n      <th>583</th>\n      <td>0</td>\n      <td>0</td>\n    </tr>\n    <tr>\n      <th>584</th>\n      <td>0</td>\n      <td>1</td>\n    </tr>\n    <tr>\n      <th>585</th>\n      <td>0</td>\n      <td>0</td>\n    </tr>\n    <tr>\n      <th>586</th>\n      <td>1</td>\n      <td>0</td>\n    </tr>\n    <tr>\n      <th>587</th>\n      <td>0</td>\n      <td>0</td>\n    </tr>\n    <tr>\n      <th>588</th>\n      <td>0</td>\n      <td>1</td>\n    </tr>\n    <tr>\n      <th>589</th>\n      <td>0</td>\n      <td>1</td>\n    </tr>\n    <tr>\n      <th>590</th>\n      <td>0</td>\n      <td>1</td>\n    </tr>\n    <tr>\n      <th>591</th>\n      <td>0</td>\n      <td>0</td>\n    </tr>\n    <tr>\n      <th>592</th>\n      <td>0</td>\n      <td>1</td>\n    </tr>\n    <tr>\n      <th>593</th>\n      <td>0</td>\n      <td>1</td>\n    </tr>\n    <tr>\n      <th>594</th>\n      <td>1</td>\n      <td>0</td>\n    </tr>\n    <tr>\n      <th>595</th>\n      <td>0</td>\n      <td>1</td>\n    </tr>\n    <tr>\n      <th>596</th>\n      <td>1</td>\n      <td>0</td>\n    </tr>\n    <tr>\n      <th>597</th>\n      <td>0</td>\n      <td>1</td>\n    </tr>\n    <tr>\n      <th>598</th>\n      <td>0</td>\n      <td>1</td>\n    </tr>\n    <tr>\n      <th>599</th>\n      <td>0</td>\n      <td>0</td>\n    </tr>\n    <tr>\n      <th>600</th>\n      <td>1</td>\n      <td>0</td>\n    </tr>\n    <tr>\n      <th>601</th>\n      <td>0</td>\n      <td>1</td>\n    </tr>\n    <tr>\n      <th>602</th>\n      <td>0</td>\n      <td>0</td>\n    </tr>\n    <tr>\n      <th>603</th>\n      <td>0</td>\n      <td>1</td>\n    </tr>\n    <tr>\n      <th>604</th>\n      <td>0</td>\n      <td>0</td>\n    </tr>\n    <tr>\n      <th>605</th>\n      <td>0</td>\n      <td>1</td>\n    </tr>\n    <tr>\n      <th>606</th>\n      <td>0</td>\n      <td>1</td>\n    </tr>\n    <tr>\n      <th>607</th>\n      <td>0</td>\n      <td>0</td>\n    </tr>\n    <tr>\n      <th>608</th>\n      <td>1</td>\n      <td>0</td>\n    </tr>\n    <tr>\n      <th>609</th>\n      <td>0</td>\n      <td>0</td>\n    </tr>\n    <tr>\n      <th>610</th>\n      <td>0</td>\n      <td>1</td>\n    </tr>\n    <tr>\n      <th>611</th>\n      <td>0</td>\n      <td>1</td>\n    </tr>\n    <tr>\n      <th>612</th>\n      <td>0</td>\n      <td>1</td>\n    </tr>\n    <tr>\n      <th>613</th>\n      <td>0</td>\n      <td>1</td>\n    </tr>\n    <tr>\n      <th>614</th>\n      <td>0</td>\n      <td>1</td>\n    </tr>\n    <tr>\n      <th>615</th>\n      <td>1</td>\n      <td>0</td>\n    </tr>\n    <tr>\n      <th>616</th>\n      <td>0</td>\n      <td>1</td>\n    </tr>\n    <tr>\n      <th>617</th>\n      <td>0</td>\n      <td>1</td>\n    </tr>\n    <tr>\n      <th>618</th>\n      <td>1</td>\n      <td>0</td>\n    </tr>\n    <tr>\n      <th>619</th>\n      <td>1</td>\n      <td>0</td>\n    </tr>\n    <tr>\n      <th>620</th>\n      <td>0</td>\n      <td>1</td>\n    </tr>\n    <tr>\n      <th>621</th>\n      <td>0</td>\n      <td>0</td>\n    </tr>\n    <tr>\n      <th>622</th>\n      <td>0</td>\n      <td>1</td>\n    </tr>\n    <tr>\n      <th>623</th>\n      <td>0</td>\n      <td>1</td>\n    </tr>\n    <tr>\n      <th>624</th>\n      <td>0</td>\n      <td>1</td>\n    </tr>\n    <tr>\n      <th>625</th>\n      <td>0</td>\n      <td>0</td>\n    </tr>\n    <tr>\n      <th>626</th>\n      <td>1</td>\n      <td>0</td>\n    </tr>\n    <tr>\n      <th>627</th>\n      <td>0</td>\n      <td>0</td>\n    </tr>\n    <tr>\n      <th>628</th>\n      <td>0</td>\n      <td>1</td>\n    </tr>\n    <tr>\n      <th>629</th>\n      <td>0</td>\n      <td>1</td>\n    </tr>\n    <tr>\n      <th>630</th>\n      <td>0</td>\n      <td>0</td>\n    </tr>\n    <tr>\n      <th>631</th>\n      <td>0</td>\n      <td>1</td>\n    </tr>\n    <tr>\n      <th>632</th>\n      <td>0</td>\n      <td>0</td>\n    </tr>\n    <tr>\n      <th>633</th>\n      <td>0</td>\n      <td>0</td>\n    </tr>\n    <tr>\n      <th>634</th>\n      <td>0</td>\n      <td>1</td>\n    </tr>\n    <tr>\n      <th>635</th>\n      <td>1</td>\n      <td>0</td>\n    </tr>\n    <tr>\n      <th>636</th>\n      <td>0</td>\n      <td>1</td>\n    </tr>\n    <tr>\n      <th>637</th>\n      <td>1</td>\n      <td>0</td>\n    </tr>\n    <tr>\n      <th>638</th>\n      <td>0</td>\n      <td>1</td>\n    </tr>\n    <tr>\n      <th>639</th>\n      <td>0</td>\n      <td>1</td>\n    </tr>\n    <tr>\n      <th>640</th>\n      <td>0</td>\n      <td>1</td>\n    </tr>\n    <tr>\n      <th>641</th>\n      <td>0</td>\n      <td>0</td>\n    </tr>\n    <tr>\n      <th>642</th>\n      <td>0</td>\n      <td>1</td>\n    </tr>\n    <tr>\n      <th>643</th>\n      <td>0</td>\n      <td>1</td>\n    </tr>\n    <tr>\n      <th>644</th>\n      <td>0</td>\n      <td>1</td>\n    </tr>\n    <tr>\n      <th>645</th>\n      <td>0</td>\n      <td>0</td>\n    </tr>\n    <tr>\n      <th>646</th>\n      <td>0</td>\n      <td>1</td>\n    </tr>\n    <tr>\n      <th>647</th>\n      <td>0</td>\n      <td>0</td>\n    </tr>\n    <tr>\n      <th>648</th>\n      <td>0</td>\n      <td>1</td>\n    </tr>\n    <tr>\n      <th>649</th>\n      <td>0</td>\n      <td>1</td>\n    </tr>\n    <tr>\n      <th>650</th>\n      <td>0</td>\n      <td>1</td>\n    </tr>\n    <tr>\n      <th>651</th>\n      <td>1</td>\n      <td>0</td>\n    </tr>\n    <tr>\n      <th>652</th>\n      <td>0</td>\n      <td>1</td>\n    </tr>\n    <tr>\n      <th>653</th>\n      <td>0</td>\n      <td>1</td>\n    </tr>\n    <tr>\n      <th>654</th>\n      <td>0</td>\n      <td>1</td>\n    </tr>\n    <tr>\n      <th>655</th>\n      <td>1</td>\n      <td>0</td>\n    </tr>\n    <tr>\n      <th>656</th>\n      <td>0</td>\n      <td>1</td>\n    </tr>\n    <tr>\n      <th>657</th>\n      <td>0</td>\n      <td>1</td>\n    </tr>\n    <tr>\n      <th>658</th>\n      <td>1</td>\n      <td>0</td>\n    </tr>\n    <tr>\n      <th>659</th>\n      <td>0</td>\n      <td>0</td>\n    </tr>\n    <tr>\n      <th>660</th>\n      <td>0</td>\n      <td>0</td>\n    </tr>\n    <tr>\n      <th>661</th>\n      <td>0</td>\n      <td>1</td>\n    </tr>\n    <tr>\n      <th>662</th>\n      <td>0</td>\n      <td>0</td>\n    </tr>\n    <tr>\n      <th>663</th>\n      <td>0</td>\n      <td>1</td>\n    </tr>\n    <tr>\n      <th>664</th>\n      <td>0</td>\n      <td>1</td>\n    </tr>\n    <tr>\n      <th>665</th>\n      <td>1</td>\n      <td>0</td>\n    </tr>\n    <tr>\n      <th>666</th>\n      <td>1</td>\n      <td>0</td>\n    </tr>\n    <tr>\n      <th>667</th>\n      <td>0</td>\n      <td>1</td>\n    </tr>\n    <tr>\n      <th>668</th>\n      <td>0</td>\n      <td>1</td>\n    </tr>\n    <tr>\n      <th>669</th>\n      <td>0</td>\n      <td>0</td>\n    </tr>\n    <tr>\n      <th>670</th>\n      <td>1</td>\n      <td>0</td>\n    </tr>\n    <tr>\n      <th>671</th>\n      <td>0</td>\n      <td>0</td>\n    </tr>\n    <tr>\n      <th>672</th>\n      <td>1</td>\n      <td>0</td>\n    </tr>\n    <tr>\n      <th>673</th>\n      <td>1</td>\n      <td>0</td>\n    </tr>\n    <tr>\n      <th>674</th>\n      <td>1</td>\n      <td>0</td>\n    </tr>\n    <tr>\n      <th>675</th>\n      <td>0</td>\n      <td>1</td>\n    </tr>\n    <tr>\n      <th>676</th>\n      <td>0</td>\n      <td>1</td>\n    </tr>\n    <tr>\n      <th>677</th>\n      <td>0</td>\n      <td>1</td>\n    </tr>\n    <tr>\n      <th>678</th>\n      <td>0</td>\n      <td>1</td>\n    </tr>\n    <tr>\n      <th>679</th>\n      <td>0</td>\n      <td>0</td>\n    </tr>\n    <tr>\n      <th>680</th>\n      <td>0</td>\n      <td>1</td>\n    </tr>\n    <tr>\n      <th>681</th>\n      <td>0</td>\n      <td>0</td>\n    </tr>\n    <tr>\n      <th>682</th>\n      <td>0</td>\n      <td>1</td>\n    </tr>\n    <tr>\n      <th>683</th>\n      <td>0</td>\n      <td>1</td>\n    </tr>\n    <tr>\n      <th>684</th>\n      <td>1</td>\n      <td>0</td>\n    </tr>\n    <tr>\n      <th>685</th>\n      <td>1</td>\n      <td>0</td>\n    </tr>\n    <tr>\n      <th>686</th>\n      <td>0</td>\n      <td>1</td>\n    </tr>\n    <tr>\n      <th>687</th>\n      <td>0</td>\n      <td>1</td>\n    </tr>\n    <tr>\n      <th>688</th>\n      <td>0</td>\n      <td>1</td>\n    </tr>\n    <tr>\n      <th>689</th>\n      <td>0</td>\n      <td>0</td>\n    </tr>\n    <tr>\n      <th>690</th>\n      <td>0</td>\n      <td>0</td>\n    </tr>\n    <tr>\n      <th>691</th>\n      <td>0</td>\n      <td>1</td>\n    </tr>\n    <tr>\n      <th>692</th>\n      <td>0</td>\n      <td>1</td>\n    </tr>\n    <tr>\n      <th>693</th>\n      <td>0</td>\n      <td>1</td>\n    </tr>\n    <tr>\n      <th>694</th>\n      <td>0</td>\n      <td>0</td>\n    </tr>\n    <tr>\n      <th>695</th>\n      <td>1</td>\n      <td>0</td>\n    </tr>\n    <tr>\n      <th>696</th>\n      <td>0</td>\n      <td>1</td>\n    </tr>\n    <tr>\n      <th>697</th>\n      <td>0</td>\n      <td>1</td>\n    </tr>\n    <tr>\n      <th>698</th>\n      <td>0</td>\n      <td>0</td>\n    </tr>\n    <tr>\n      <th>699</th>\n      <td>0</td>\n      <td>1</td>\n    </tr>\n    <tr>\n      <th>700</th>\n      <td>0</td>\n      <td>0</td>\n    </tr>\n    <tr>\n      <th>701</th>\n      <td>0</td>\n      <td>0</td>\n    </tr>\n    <tr>\n      <th>702</th>\n      <td>0</td>\n      <td>1</td>\n    </tr>\n    <tr>\n      <th>703</th>\n      <td>0</td>\n      <td>1</td>\n    </tr>\n    <tr>\n      <th>704</th>\n      <td>0</td>\n      <td>1</td>\n    </tr>\n    <tr>\n      <th>705</th>\n      <td>1</td>\n      <td>0</td>\n    </tr>\n    <tr>\n      <th>706</th>\n      <td>1</td>\n      <td>0</td>\n    </tr>\n    <tr>\n      <th>707</th>\n      <td>0</td>\n      <td>0</td>\n    </tr>\n    <tr>\n      <th>708</th>\n      <td>0</td>\n      <td>0</td>\n    </tr>\n    <tr>\n      <th>709</th>\n      <td>0</td>\n      <td>1</td>\n    </tr>\n    <tr>\n      <th>710</th>\n      <td>0</td>\n      <td>0</td>\n    </tr>\n    <tr>\n      <th>711</th>\n      <td>0</td>\n      <td>0</td>\n    </tr>\n    <tr>\n      <th>712</th>\n      <td>0</td>\n      <td>0</td>\n    </tr>\n    <tr>\n      <th>713</th>\n      <td>0</td>\n      <td>1</td>\n    </tr>\n    <tr>\n      <th>714</th>\n      <td>1</td>\n      <td>0</td>\n    </tr>\n    <tr>\n      <th>715</th>\n      <td>0</td>\n      <td>1</td>\n    </tr>\n    <tr>\n      <th>716</th>\n      <td>0</td>\n      <td>0</td>\n    </tr>\n    <tr>\n      <th>717</th>\n      <td>1</td>\n      <td>0</td>\n    </tr>\n    <tr>\n      <th>718</th>\n      <td>0</td>\n      <td>1</td>\n    </tr>\n    <tr>\n      <th>719</th>\n      <td>0</td>\n      <td>1</td>\n    </tr>\n    <tr>\n      <th>720</th>\n      <td>1</td>\n      <td>0</td>\n    </tr>\n    <tr>\n      <th>721</th>\n      <td>0</td>\n      <td>1</td>\n    </tr>\n    <tr>\n      <th>722</th>\n      <td>1</td>\n      <td>0</td>\n    </tr>\n    <tr>\n      <th>723</th>\n      <td>1</td>\n      <td>0</td>\n    </tr>\n    <tr>\n      <th>724</th>\n      <td>0</td>\n      <td>0</td>\n    </tr>\n    <tr>\n      <th>725</th>\n      <td>0</td>\n      <td>1</td>\n    </tr>\n    <tr>\n      <th>726</th>\n      <td>1</td>\n      <td>0</td>\n    </tr>\n    <tr>\n      <th>727</th>\n      <td>0</td>\n      <td>1</td>\n    </tr>\n    <tr>\n      <th>728</th>\n      <td>1</td>\n      <td>0</td>\n    </tr>\n    <tr>\n      <th>729</th>\n      <td>0</td>\n      <td>1</td>\n    </tr>\n    <tr>\n      <th>730</th>\n      <td>0</td>\n      <td>0</td>\n    </tr>\n    <tr>\n      <th>731</th>\n      <td>0</td>\n      <td>1</td>\n    </tr>\n    <tr>\n      <th>732</th>\n      <td>1</td>\n      <td>0</td>\n    </tr>\n    <tr>\n      <th>733</th>\n      <td>1</td>\n      <td>0</td>\n    </tr>\n    <tr>\n      <th>734</th>\n      <td>1</td>\n      <td>0</td>\n    </tr>\n    <tr>\n      <th>735</th>\n      <td>0</td>\n      <td>1</td>\n    </tr>\n    <tr>\n      <th>736</th>\n      <td>0</td>\n      <td>1</td>\n    </tr>\n    <tr>\n      <th>737</th>\n      <td>0</td>\n      <td>0</td>\n    </tr>\n    <tr>\n      <th>738</th>\n      <td>0</td>\n      <td>1</td>\n    </tr>\n    <tr>\n      <th>739</th>\n      <td>0</td>\n      <td>1</td>\n    </tr>\n    <tr>\n      <th>740</th>\n      <td>0</td>\n      <td>0</td>\n    </tr>\n    <tr>\n      <th>741</th>\n      <td>0</td>\n      <td>0</td>\n    </tr>\n    <tr>\n      <th>742</th>\n      <td>0</td>\n      <td>0</td>\n    </tr>\n    <tr>\n      <th>743</th>\n      <td>0</td>\n      <td>1</td>\n    </tr>\n    <tr>\n      <th>744</th>\n      <td>0</td>\n      <td>1</td>\n    </tr>\n    <tr>\n      <th>745</th>\n      <td>0</td>\n      <td>0</td>\n    </tr>\n    <tr>\n      <th>746</th>\n      <td>0</td>\n      <td>1</td>\n    </tr>\n    <tr>\n      <th>747</th>\n      <td>1</td>\n      <td>0</td>\n    </tr>\n    <tr>\n      <th>748</th>\n      <td>0</td>\n      <td>0</td>\n    </tr>\n    <tr>\n      <th>749</th>\n      <td>0</td>\n      <td>1</td>\n    </tr>\n    <tr>\n      <th>750</th>\n      <td>1</td>\n      <td>0</td>\n    </tr>\n    <tr>\n      <th>751</th>\n      <td>0</td>\n      <td>1</td>\n    </tr>\n    <tr>\n      <th>752</th>\n      <td>0</td>\n      <td>1</td>\n    </tr>\n    <tr>\n      <th>753</th>\n      <td>0</td>\n      <td>1</td>\n    </tr>\n    <tr>\n      <th>754</th>\n      <td>1</td>\n      <td>0</td>\n    </tr>\n    <tr>\n      <th>755</th>\n      <td>1</td>\n      <td>0</td>\n    </tr>\n    <tr>\n      <th>756</th>\n      <td>0</td>\n      <td>1</td>\n    </tr>\n    <tr>\n      <th>757</th>\n      <td>1</td>\n      <td>0</td>\n    </tr>\n    <tr>\n      <th>758</th>\n      <td>0</td>\n      <td>1</td>\n    </tr>\n    <tr>\n      <th>759</th>\n      <td>0</td>\n      <td>0</td>\n    </tr>\n    <tr>\n      <th>760</th>\n      <td>0</td>\n      <td>1</td>\n    </tr>\n    <tr>\n      <th>761</th>\n      <td>0</td>\n      <td>1</td>\n    </tr>\n    <tr>\n      <th>762</th>\n      <td>0</td>\n      <td>1</td>\n    </tr>\n    <tr>\n      <th>763</th>\n      <td>0</td>\n      <td>0</td>\n    </tr>\n    <tr>\n      <th>764</th>\n      <td>0</td>\n      <td>1</td>\n    </tr>\n    <tr>\n      <th>765</th>\n      <td>0</td>\n      <td>0</td>\n    </tr>\n    <tr>\n      <th>766</th>\n      <td>0</td>\n      <td>0</td>\n    </tr>\n    <tr>\n      <th>767</th>\n      <td>0</td>\n      <td>1</td>\n    </tr>\n    <tr>\n      <th>768</th>\n      <td>0</td>\n      <td>1</td>\n    </tr>\n    <tr>\n      <th>769</th>\n      <td>0</td>\n      <td>1</td>\n    </tr>\n    <tr>\n      <th>770</th>\n      <td>0</td>\n      <td>1</td>\n    </tr>\n    <tr>\n      <th>771</th>\n      <td>0</td>\n      <td>1</td>\n    </tr>\n    <tr>\n      <th>772</th>\n      <td>1</td>\n      <td>0</td>\n    </tr>\n    <tr>\n      <th>773</th>\n      <td>0</td>\n      <td>1</td>\n    </tr>\n    <tr>\n      <th>774</th>\n      <td>1</td>\n      <td>0</td>\n    </tr>\n    <tr>\n      <th>775</th>\n      <td>0</td>\n      <td>1</td>\n    </tr>\n    <tr>\n      <th>776</th>\n      <td>0</td>\n      <td>1</td>\n    </tr>\n    <tr>\n      <th>777</th>\n      <td>0</td>\n      <td>1</td>\n    </tr>\n    <tr>\n      <th>778</th>\n      <td>0</td>\n      <td>1</td>\n    </tr>\n    <tr>\n      <th>779</th>\n      <td>0</td>\n      <td>0</td>\n    </tr>\n    <tr>\n      <th>780</th>\n      <td>0</td>\n      <td>1</td>\n    </tr>\n    <tr>\n      <th>781</th>\n      <td>0</td>\n      <td>0</td>\n    </tr>\n    <tr>\n      <th>782</th>\n      <td>0</td>\n      <td>0</td>\n    </tr>\n    <tr>\n      <th>783</th>\n      <td>0</td>\n      <td>1</td>\n    </tr>\n    <tr>\n      <th>784</th>\n      <td>0</td>\n      <td>1</td>\n    </tr>\n    <tr>\n      <th>785</th>\n      <td>0</td>\n      <td>1</td>\n    </tr>\n    <tr>\n      <th>786</th>\n      <td>0</td>\n      <td>1</td>\n    </tr>\n    <tr>\n      <th>787</th>\n      <td>0</td>\n      <td>1</td>\n    </tr>\n    <tr>\n      <th>788</th>\n      <td>0</td>\n      <td>1</td>\n    </tr>\n    <tr>\n      <th>789</th>\n      <td>0</td>\n      <td>0</td>\n    </tr>\n    <tr>\n      <th>790</th>\n      <td>0</td>\n      <td>1</td>\n    </tr>\n    <tr>\n      <th>791</th>\n      <td>1</td>\n      <td>0</td>\n    </tr>\n    <tr>\n      <th>792</th>\n      <td>0</td>\n      <td>1</td>\n    </tr>\n    <tr>\n      <th>793</th>\n      <td>0</td>\n      <td>0</td>\n    </tr>\n    <tr>\n      <th>794</th>\n      <td>0</td>\n      <td>1</td>\n    </tr>\n    <tr>\n      <th>795</th>\n      <td>1</td>\n      <td>0</td>\n    </tr>\n    <tr>\n      <th>796</th>\n      <td>0</td>\n      <td>0</td>\n    </tr>\n    <tr>\n      <th>797</th>\n      <td>0</td>\n      <td>1</td>\n    </tr>\n    <tr>\n      <th>798</th>\n      <td>0</td>\n      <td>1</td>\n    </tr>\n    <tr>\n      <th>799</th>\n      <td>0</td>\n      <td>1</td>\n    </tr>\n    <tr>\n      <th>800</th>\n      <td>1</td>\n      <td>0</td>\n    </tr>\n    <tr>\n      <th>801</th>\n      <td>1</td>\n      <td>0</td>\n    </tr>\n    <tr>\n      <th>802</th>\n      <td>0</td>\n      <td>0</td>\n    </tr>\n    <tr>\n      <th>803</th>\n      <td>0</td>\n      <td>1</td>\n    </tr>\n    <tr>\n      <th>804</th>\n      <td>0</td>\n      <td>1</td>\n    </tr>\n    <tr>\n      <th>805</th>\n      <td>0</td>\n      <td>1</td>\n    </tr>\n    <tr>\n      <th>806</th>\n      <td>0</td>\n      <td>0</td>\n    </tr>\n    <tr>\n      <th>807</th>\n      <td>0</td>\n      <td>1</td>\n    </tr>\n    <tr>\n      <th>808</th>\n      <td>1</td>\n      <td>0</td>\n    </tr>\n    <tr>\n      <th>809</th>\n      <td>0</td>\n      <td>0</td>\n    </tr>\n    <tr>\n      <th>810</th>\n      <td>0</td>\n      <td>1</td>\n    </tr>\n    <tr>\n      <th>811</th>\n      <td>0</td>\n      <td>1</td>\n    </tr>\n    <tr>\n      <th>812</th>\n      <td>1</td>\n      <td>0</td>\n    </tr>\n    <tr>\n      <th>813</th>\n      <td>0</td>\n      <td>1</td>\n    </tr>\n    <tr>\n      <th>814</th>\n      <td>0</td>\n      <td>1</td>\n    </tr>\n    <tr>\n      <th>815</th>\n      <td>0</td>\n      <td>0</td>\n    </tr>\n    <tr>\n      <th>816</th>\n      <td>0</td>\n      <td>1</td>\n    </tr>\n    <tr>\n      <th>817</th>\n      <td>1</td>\n      <td>0</td>\n    </tr>\n    <tr>\n      <th>818</th>\n      <td>0</td>\n      <td>1</td>\n    </tr>\n    <tr>\n      <th>819</th>\n      <td>0</td>\n      <td>1</td>\n    </tr>\n    <tr>\n      <th>820</th>\n      <td>0</td>\n      <td>0</td>\n    </tr>\n    <tr>\n      <th>821</th>\n      <td>0</td>\n      <td>1</td>\n    </tr>\n    <tr>\n      <th>822</th>\n      <td>0</td>\n      <td>0</td>\n    </tr>\n    <tr>\n      <th>823</th>\n      <td>0</td>\n      <td>1</td>\n    </tr>\n    <tr>\n      <th>824</th>\n      <td>0</td>\n      <td>1</td>\n    </tr>\n    <tr>\n      <th>825</th>\n      <td>0</td>\n      <td>1</td>\n    </tr>\n    <tr>\n      <th>826</th>\n      <td>0</td>\n      <td>1</td>\n    </tr>\n    <tr>\n      <th>827</th>\n      <td>1</td>\n      <td>0</td>\n    </tr>\n    <tr>\n      <th>828</th>\n      <td>0</td>\n      <td>1</td>\n    </tr>\n    <tr>\n      <th>829</th>\n      <td>0</td>\n      <td>0</td>\n    </tr>\n    <tr>\n      <th>830</th>\n      <td>0</td>\n      <td>1</td>\n    </tr>\n    <tr>\n      <th>831</th>\n      <td>1</td>\n      <td>0</td>\n    </tr>\n    <tr>\n      <th>832</th>\n      <td>0</td>\n      <td>1</td>\n    </tr>\n    <tr>\n      <th>833</th>\n      <td>0</td>\n      <td>1</td>\n    </tr>\n    <tr>\n      <th>834</th>\n      <td>0</td>\n      <td>1</td>\n    </tr>\n    <tr>\n      <th>835</th>\n      <td>0</td>\n      <td>0</td>\n    </tr>\n    <tr>\n      <th>836</th>\n      <td>0</td>\n      <td>1</td>\n    </tr>\n    <tr>\n      <th>837</th>\n      <td>0</td>\n      <td>1</td>\n    </tr>\n    <tr>\n      <th>838</th>\n      <td>0</td>\n      <td>1</td>\n    </tr>\n    <tr>\n      <th>839</th>\n      <td>0</td>\n      <td>0</td>\n    </tr>\n    <tr>\n      <th>840</th>\n      <td>0</td>\n      <td>1</td>\n    </tr>\n    <tr>\n      <th>841</th>\n      <td>1</td>\n      <td>0</td>\n    </tr>\n    <tr>\n      <th>842</th>\n      <td>0</td>\n      <td>0</td>\n    </tr>\n    <tr>\n      <th>843</th>\n      <td>0</td>\n      <td>1</td>\n    </tr>\n    <tr>\n      <th>844</th>\n      <td>0</td>\n      <td>1</td>\n    </tr>\n    <tr>\n      <th>845</th>\n      <td>0</td>\n      <td>1</td>\n    </tr>\n    <tr>\n      <th>846</th>\n      <td>0</td>\n      <td>1</td>\n    </tr>\n    <tr>\n      <th>847</th>\n      <td>0</td>\n      <td>1</td>\n    </tr>\n    <tr>\n      <th>848</th>\n      <td>1</td>\n      <td>0</td>\n    </tr>\n    <tr>\n      <th>849</th>\n      <td>0</td>\n      <td>0</td>\n    </tr>\n    <tr>\n      <th>850</th>\n      <td>0</td>\n      <td>1</td>\n    </tr>\n    <tr>\n      <th>851</th>\n      <td>0</td>\n      <td>1</td>\n    </tr>\n    <tr>\n      <th>852</th>\n      <td>0</td>\n      <td>1</td>\n    </tr>\n    <tr>\n      <th>853</th>\n      <td>0</td>\n      <td>0</td>\n    </tr>\n    <tr>\n      <th>854</th>\n      <td>1</td>\n      <td>0</td>\n    </tr>\n    <tr>\n      <th>855</th>\n      <td>0</td>\n      <td>1</td>\n    </tr>\n    <tr>\n      <th>856</th>\n      <td>0</td>\n      <td>0</td>\n    </tr>\n    <tr>\n      <th>857</th>\n      <td>0</td>\n      <td>0</td>\n    </tr>\n    <tr>\n      <th>858</th>\n      <td>0</td>\n      <td>1</td>\n    </tr>\n    <tr>\n      <th>859</th>\n      <td>0</td>\n      <td>1</td>\n    </tr>\n    <tr>\n      <th>860</th>\n      <td>0</td>\n      <td>1</td>\n    </tr>\n    <tr>\n      <th>861</th>\n      <td>1</td>\n      <td>0</td>\n    </tr>\n    <tr>\n      <th>862</th>\n      <td>0</td>\n      <td>0</td>\n    </tr>\n    <tr>\n      <th>863</th>\n      <td>0</td>\n      <td>1</td>\n    </tr>\n    <tr>\n      <th>864</th>\n      <td>1</td>\n      <td>0</td>\n    </tr>\n    <tr>\n      <th>865</th>\n      <td>1</td>\n      <td>0</td>\n    </tr>\n    <tr>\n      <th>866</th>\n      <td>1</td>\n      <td>0</td>\n    </tr>\n    <tr>\n      <th>867</th>\n      <td>0</td>\n      <td>0</td>\n    </tr>\n    <tr>\n      <th>868</th>\n      <td>0</td>\n      <td>1</td>\n    </tr>\n    <tr>\n      <th>869</th>\n      <td>0</td>\n      <td>1</td>\n    </tr>\n    <tr>\n      <th>870</th>\n      <td>0</td>\n      <td>1</td>\n    </tr>\n    <tr>\n      <th>871</th>\n      <td>0</td>\n      <td>0</td>\n    </tr>\n    <tr>\n      <th>872</th>\n      <td>0</td>\n      <td>0</td>\n    </tr>\n    <tr>\n      <th>873</th>\n      <td>0</td>\n      <td>1</td>\n    </tr>\n    <tr>\n      <th>874</th>\n      <td>1</td>\n      <td>0</td>\n    </tr>\n    <tr>\n      <th>875</th>\n      <td>0</td>\n      <td>1</td>\n    </tr>\n    <tr>\n      <th>876</th>\n      <td>0</td>\n      <td>1</td>\n    </tr>\n    <tr>\n      <th>877</th>\n      <td>0</td>\n      <td>1</td>\n    </tr>\n    <tr>\n      <th>878</th>\n      <td>0</td>\n      <td>1</td>\n    </tr>\n    <tr>\n      <th>879</th>\n      <td>0</td>\n      <td>0</td>\n    </tr>\n    <tr>\n      <th>880</th>\n      <td>1</td>\n      <td>0</td>\n    </tr>\n    <tr>\n      <th>881</th>\n      <td>0</td>\n      <td>1</td>\n    </tr>\n    <tr>\n      <th>882</th>\n      <td>0</td>\n      <td>1</td>\n    </tr>\n    <tr>\n      <th>883</th>\n      <td>1</td>\n      <td>0</td>\n    </tr>\n    <tr>\n      <th>884</th>\n      <td>0</td>\n      <td>1</td>\n    </tr>\n    <tr>\n      <th>885</th>\n      <td>0</td>\n      <td>1</td>\n    </tr>\n    <tr>\n      <th>886</th>\n      <td>1</td>\n      <td>0</td>\n    </tr>\n    <tr>\n      <th>887</th>\n      <td>0</td>\n      <td>0</td>\n    </tr>\n    <tr>\n      <th>888</th>\n      <td>0</td>\n      <td>1</td>\n    </tr>\n    <tr>\n      <th>889</th>\n      <td>0</td>\n      <td>0</td>\n    </tr>\n    <tr>\n      <th>890</th>\n      <td>0</td>\n      <td>1</td>\n    </tr>\n  </tbody>\n</table>\n</div>"
     },
     "metadata": {},
     "execution_count": 171
    }
   ],
   "source": [
    "df =pd.get_dummies(pclass,drop_first= True)\n",
    "df"
   ]
  },
  {
   "cell_type": "code",
   "execution_count": 172,
   "metadata": {},
   "outputs": [],
   "source": [
    "class_2 = df.iloc[:,0]\n",
    "class_3 = df.iloc[:,1]\n"
   ]
  },
  {
   "cell_type": "code",
   "execution_count": 173,
   "metadata": {},
   "outputs": [
    {
     "output_type": "execute_result",
     "data": {
      "text/plain": "array(['PassengerId', 'Pclass', 'Name', 'Sex', 'Age', 'SibSp', 'Parch',\n       'Ticket', 'Fare', 'Cabin', 'Embarked', 'Survived'], dtype=object)"
     },
     "metadata": {},
     "execution_count": 173
    }
   ],
   "source": [
    "data_c.columns.values"
   ]
  },
  {
   "cell_type": "code",
   "execution_count": 174,
   "metadata": {},
   "outputs": [
    {
     "output_type": "execute_result",
     "data": {
      "text/plain": "   PassengerId  Pclass                                               Name  \\\n0            1       3                            Braund, Mr. Owen Harris   \n1            2       1  Cumings, Mrs. John Bradley (Florence Briggs Th...   \n2            3       3                             Heikkinen, Miss. Laina   \n3            4       1       Futrelle, Mrs. Jacques Heath (Lily May Peel)   \n4            5       3                           Allen, Mr. William Henry   \n\n      Sex   Age  SibSp  Parch            Ticket     Fare Cabin Embarked  \\\n0    male  22.0      1      0         A/5 21171   7.2500   NaN        S   \n1  female  38.0      1      0          PC 17599  71.2833   C85        C   \n2  female  26.0      0      0  STON/O2. 3101282   7.9250   NaN        S   \n3  female  35.0      1      0            113803  53.1000  C123        S   \n4    male  35.0      0      0            373450   8.0500   NaN        S   \n\n   Survived  2  3  \n0         0  0  1  \n1         1  0  0  \n2         1  0  1  \n3         1  0  0  \n4         0  0  1  ",
      "text/html": "<div>\n<style scoped>\n    .dataframe tbody tr th:only-of-type {\n        vertical-align: middle;\n    }\n\n    .dataframe tbody tr th {\n        vertical-align: top;\n    }\n\n    .dataframe thead th {\n        text-align: right;\n    }\n</style>\n<table border=\"1\" class=\"dataframe\">\n  <thead>\n    <tr style=\"text-align: right;\">\n      <th></th>\n      <th>PassengerId</th>\n      <th>Pclass</th>\n      <th>Name</th>\n      <th>Sex</th>\n      <th>Age</th>\n      <th>SibSp</th>\n      <th>Parch</th>\n      <th>Ticket</th>\n      <th>Fare</th>\n      <th>Cabin</th>\n      <th>Embarked</th>\n      <th>Survived</th>\n      <th>2</th>\n      <th>3</th>\n    </tr>\n  </thead>\n  <tbody>\n    <tr>\n      <th>0</th>\n      <td>1</td>\n      <td>3</td>\n      <td>Braund, Mr. Owen Harris</td>\n      <td>male</td>\n      <td>22.0</td>\n      <td>1</td>\n      <td>0</td>\n      <td>A/5 21171</td>\n      <td>7.2500</td>\n      <td>NaN</td>\n      <td>S</td>\n      <td>0</td>\n      <td>0</td>\n      <td>1</td>\n    </tr>\n    <tr>\n      <th>1</th>\n      <td>2</td>\n      <td>1</td>\n      <td>Cumings, Mrs. John Bradley (Florence Briggs Th...</td>\n      <td>female</td>\n      <td>38.0</td>\n      <td>1</td>\n      <td>0</td>\n      <td>PC 17599</td>\n      <td>71.2833</td>\n      <td>C85</td>\n      <td>C</td>\n      <td>1</td>\n      <td>0</td>\n      <td>0</td>\n    </tr>\n    <tr>\n      <th>2</th>\n      <td>3</td>\n      <td>3</td>\n      <td>Heikkinen, Miss. Laina</td>\n      <td>female</td>\n      <td>26.0</td>\n      <td>0</td>\n      <td>0</td>\n      <td>STON/O2. 3101282</td>\n      <td>7.9250</td>\n      <td>NaN</td>\n      <td>S</td>\n      <td>1</td>\n      <td>0</td>\n      <td>1</td>\n    </tr>\n    <tr>\n      <th>3</th>\n      <td>4</td>\n      <td>1</td>\n      <td>Futrelle, Mrs. Jacques Heath (Lily May Peel)</td>\n      <td>female</td>\n      <td>35.0</td>\n      <td>1</td>\n      <td>0</td>\n      <td>113803</td>\n      <td>53.1000</td>\n      <td>C123</td>\n      <td>S</td>\n      <td>1</td>\n      <td>0</td>\n      <td>0</td>\n    </tr>\n    <tr>\n      <th>4</th>\n      <td>5</td>\n      <td>3</td>\n      <td>Allen, Mr. William Henry</td>\n      <td>male</td>\n      <td>35.0</td>\n      <td>0</td>\n      <td>0</td>\n      <td>373450</td>\n      <td>8.0500</td>\n      <td>NaN</td>\n      <td>S</td>\n      <td>0</td>\n      <td>0</td>\n      <td>1</td>\n    </tr>\n  </tbody>\n</table>\n</div>"
     },
     "metadata": {},
     "execution_count": 174
    }
   ],
   "source": [
    "new_df = pd.concat([data_c,class_2,class_3],axis = 1)\n",
    "new_df.head()"
   ]
  },
  {
   "cell_type": "code",
   "execution_count": 175,
   "metadata": {},
   "outputs": [
    {
     "output_type": "execute_result",
     "data": {
      "text/plain": "   PassengerId  Pclass                                               Name  \\\n0            1       3                            Braund, Mr. Owen Harris   \n1            2       1  Cumings, Mrs. John Bradley (Florence Briggs Th...   \n2            3       3                             Heikkinen, Miss. Laina   \n3            4       1       Futrelle, Mrs. Jacques Heath (Lily May Peel)   \n4            5       3                           Allen, Mr. William Henry   \n\n      Sex   Age  SibSp  Parch            Ticket     Fare Cabin Embarked  \\\n0    male  22.0      1      0         A/5 21171   7.2500   NaN        S   \n1  female  38.0      1      0          PC 17599  71.2833   C85        C   \n2  female  26.0      0      0  STON/O2. 3101282   7.9250   NaN        S   \n3  female  35.0      1      0            113803  53.1000  C123        S   \n4    male  35.0      0      0            373450   8.0500   NaN        S   \n\n   Survived  2  3  \n0         0  0  1  \n1         1  0  0  \n2         1  0  1  \n3         1  0  0  \n4         0  0  1  ",
      "text/html": "<div>\n<style scoped>\n    .dataframe tbody tr th:only-of-type {\n        vertical-align: middle;\n    }\n\n    .dataframe tbody tr th {\n        vertical-align: top;\n    }\n\n    .dataframe thead th {\n        text-align: right;\n    }\n</style>\n<table border=\"1\" class=\"dataframe\">\n  <thead>\n    <tr style=\"text-align: right;\">\n      <th></th>\n      <th>PassengerId</th>\n      <th>Pclass</th>\n      <th>Name</th>\n      <th>Sex</th>\n      <th>Age</th>\n      <th>SibSp</th>\n      <th>Parch</th>\n      <th>Ticket</th>\n      <th>Fare</th>\n      <th>Cabin</th>\n      <th>Embarked</th>\n      <th>Survived</th>\n      <th>2</th>\n      <th>3</th>\n    </tr>\n  </thead>\n  <tbody>\n    <tr>\n      <th>0</th>\n      <td>1</td>\n      <td>3</td>\n      <td>Braund, Mr. Owen Harris</td>\n      <td>male</td>\n      <td>22.0</td>\n      <td>1</td>\n      <td>0</td>\n      <td>A/5 21171</td>\n      <td>7.2500</td>\n      <td>NaN</td>\n      <td>S</td>\n      <td>0</td>\n      <td>0</td>\n      <td>1</td>\n    </tr>\n    <tr>\n      <th>1</th>\n      <td>2</td>\n      <td>1</td>\n      <td>Cumings, Mrs. John Bradley (Florence Briggs Th...</td>\n      <td>female</td>\n      <td>38.0</td>\n      <td>1</td>\n      <td>0</td>\n      <td>PC 17599</td>\n      <td>71.2833</td>\n      <td>C85</td>\n      <td>C</td>\n      <td>1</td>\n      <td>0</td>\n      <td>0</td>\n    </tr>\n    <tr>\n      <th>2</th>\n      <td>3</td>\n      <td>3</td>\n      <td>Heikkinen, Miss. Laina</td>\n      <td>female</td>\n      <td>26.0</td>\n      <td>0</td>\n      <td>0</td>\n      <td>STON/O2. 3101282</td>\n      <td>7.9250</td>\n      <td>NaN</td>\n      <td>S</td>\n      <td>1</td>\n      <td>0</td>\n      <td>1</td>\n    </tr>\n    <tr>\n      <th>3</th>\n      <td>4</td>\n      <td>1</td>\n      <td>Futrelle, Mrs. Jacques Heath (Lily May Peel)</td>\n      <td>female</td>\n      <td>35.0</td>\n      <td>1</td>\n      <td>0</td>\n      <td>113803</td>\n      <td>53.1000</td>\n      <td>C123</td>\n      <td>S</td>\n      <td>1</td>\n      <td>0</td>\n      <td>0</td>\n    </tr>\n    <tr>\n      <th>4</th>\n      <td>5</td>\n      <td>3</td>\n      <td>Allen, Mr. William Henry</td>\n      <td>male</td>\n      <td>35.0</td>\n      <td>0</td>\n      <td>0</td>\n      <td>373450</td>\n      <td>8.0500</td>\n      <td>NaN</td>\n      <td>S</td>\n      <td>0</td>\n      <td>0</td>\n      <td>1</td>\n    </tr>\n  </tbody>\n</table>\n</div>"
     },
     "metadata": {},
     "execution_count": 175
    }
   ],
   "source": [
    "new_df.head()\n"
   ]
  },
  {
   "cell_type": "code",
   "execution_count": 176,
   "metadata": {},
   "outputs": [
    {
     "output_type": "execute_result",
     "data": {
      "text/plain": "array(['PassengerId', 'Pclass', 'Name', 'Sex', 'Age', 'SibSp', 'Parch',\n       'Ticket', 'Fare', 'Cabin', 'Embarked', 'Survived', 2, 3],\n      dtype=object)"
     },
     "metadata": {},
     "execution_count": 176
    }
   ],
   "source": [
    "new_df.columns.values"
   ]
  },
  {
   "cell_type": "code",
   "execution_count": 177,
   "metadata": {},
   "outputs": [],
   "source": [
    "save_checkpoint = new_df.copy()"
   ]
  },
  {
   "cell_type": "code",
   "execution_count": 178,
   "metadata": {},
   "outputs": [
    {
     "output_type": "execute_result",
     "data": {
      "text/plain": "(891, 2)"
     },
     "metadata": {},
     "execution_count": 178
    }
   ],
   "source": [
    "temp2 = ['Name', 2, 3,'Sex', 'Age', 'SibSp', 'Parch', 'Ticket', 'Fare', 'Cabin',\n",
    "       'Embarked', 'Survived']\n",
    "df.shape\n"
   ]
  },
  {
   "cell_type": "code",
   "execution_count": 179,
   "metadata": {},
   "outputs": [
    {
     "output_type": "execute_result",
     "data": {
      "text/plain": "   PassengerId  Pclass                                               Name  \\\n0            1       3                            Braund, Mr. Owen Harris   \n1            2       1  Cumings, Mrs. John Bradley (Florence Briggs Th...   \n2            3       3                             Heikkinen, Miss. Laina   \n3            4       1       Futrelle, Mrs. Jacques Heath (Lily May Peel)   \n4            5       3                           Allen, Mr. William Henry   \n\n      Sex   Age  SibSp  Parch            Ticket     Fare Cabin Embarked  \\\n0    male  22.0      1      0         A/5 21171   7.2500   NaN        S   \n1  female  38.0      1      0          PC 17599  71.2833   C85        C   \n2  female  26.0      0      0  STON/O2. 3101282   7.9250   NaN        S   \n3  female  35.0      1      0            113803  53.1000  C123        S   \n4    male  35.0      0      0            373450   8.0500   NaN        S   \n\n   Survived  2  3  \n0         0  0  1  \n1         1  0  0  \n2         1  0  1  \n3         1  0  0  \n4         0  0  1  ",
      "text/html": "<div>\n<style scoped>\n    .dataframe tbody tr th:only-of-type {\n        vertical-align: middle;\n    }\n\n    .dataframe tbody tr th {\n        vertical-align: top;\n    }\n\n    .dataframe thead th {\n        text-align: right;\n    }\n</style>\n<table border=\"1\" class=\"dataframe\">\n  <thead>\n    <tr style=\"text-align: right;\">\n      <th></th>\n      <th>PassengerId</th>\n      <th>Pclass</th>\n      <th>Name</th>\n      <th>Sex</th>\n      <th>Age</th>\n      <th>SibSp</th>\n      <th>Parch</th>\n      <th>Ticket</th>\n      <th>Fare</th>\n      <th>Cabin</th>\n      <th>Embarked</th>\n      <th>Survived</th>\n      <th>2</th>\n      <th>3</th>\n    </tr>\n  </thead>\n  <tbody>\n    <tr>\n      <th>0</th>\n      <td>1</td>\n      <td>3</td>\n      <td>Braund, Mr. Owen Harris</td>\n      <td>male</td>\n      <td>22.0</td>\n      <td>1</td>\n      <td>0</td>\n      <td>A/5 21171</td>\n      <td>7.2500</td>\n      <td>NaN</td>\n      <td>S</td>\n      <td>0</td>\n      <td>0</td>\n      <td>1</td>\n    </tr>\n    <tr>\n      <th>1</th>\n      <td>2</td>\n      <td>1</td>\n      <td>Cumings, Mrs. John Bradley (Florence Briggs Th...</td>\n      <td>female</td>\n      <td>38.0</td>\n      <td>1</td>\n      <td>0</td>\n      <td>PC 17599</td>\n      <td>71.2833</td>\n      <td>C85</td>\n      <td>C</td>\n      <td>1</td>\n      <td>0</td>\n      <td>0</td>\n    </tr>\n    <tr>\n      <th>2</th>\n      <td>3</td>\n      <td>3</td>\n      <td>Heikkinen, Miss. Laina</td>\n      <td>female</td>\n      <td>26.0</td>\n      <td>0</td>\n      <td>0</td>\n      <td>STON/O2. 3101282</td>\n      <td>7.9250</td>\n      <td>NaN</td>\n      <td>S</td>\n      <td>1</td>\n      <td>0</td>\n      <td>1</td>\n    </tr>\n    <tr>\n      <th>3</th>\n      <td>4</td>\n      <td>1</td>\n      <td>Futrelle, Mrs. Jacques Heath (Lily May Peel)</td>\n      <td>female</td>\n      <td>35.0</td>\n      <td>1</td>\n      <td>0</td>\n      <td>113803</td>\n      <td>53.1000</td>\n      <td>C123</td>\n      <td>S</td>\n      <td>1</td>\n      <td>0</td>\n      <td>0</td>\n    </tr>\n    <tr>\n      <th>4</th>\n      <td>5</td>\n      <td>3</td>\n      <td>Allen, Mr. William Henry</td>\n      <td>male</td>\n      <td>35.0</td>\n      <td>0</td>\n      <td>0</td>\n      <td>373450</td>\n      <td>8.0500</td>\n      <td>NaN</td>\n      <td>S</td>\n      <td>0</td>\n      <td>0</td>\n      <td>1</td>\n    </tr>\n  </tbody>\n</table>\n</div>"
     },
     "metadata": {},
     "execution_count": 179
    }
   ],
   "source": [
    "new_df.head()"
   ]
  },
  {
   "cell_type": "code",
   "execution_count": 180,
   "metadata": {},
   "outputs": [],
   "source": [
    "new_df = new_df[temp2]"
   ]
  },
  {
   "cell_type": "code",
   "execution_count": 181,
   "metadata": {},
   "outputs": [
    {
     "output_type": "execute_result",
     "data": {
      "text/plain": "   2  3     Sex   Age  SibSp  Parch            Ticket     Fare Cabin Embarked  \\\n0  0  1    male  22.0      1      0         A/5 21171   7.2500   NaN        S   \n1  0  0  female  38.0      1      0          PC 17599  71.2833   C85        C   \n2  0  1  female  26.0      0      0  STON/O2. 3101282   7.9250   NaN        S   \n3  0  0  female  35.0      1      0            113803  53.1000  C123        S   \n4  0  1    male  35.0      0      0            373450   8.0500   NaN        S   \n\n   Survived  \n0         0  \n1         1  \n2         1  \n3         1  \n4         0  ",
      "text/html": "<div>\n<style scoped>\n    .dataframe tbody tr th:only-of-type {\n        vertical-align: middle;\n    }\n\n    .dataframe tbody tr th {\n        vertical-align: top;\n    }\n\n    .dataframe thead th {\n        text-align: right;\n    }\n</style>\n<table border=\"1\" class=\"dataframe\">\n  <thead>\n    <tr style=\"text-align: right;\">\n      <th></th>\n      <th>2</th>\n      <th>3</th>\n      <th>Sex</th>\n      <th>Age</th>\n      <th>SibSp</th>\n      <th>Parch</th>\n      <th>Ticket</th>\n      <th>Fare</th>\n      <th>Cabin</th>\n      <th>Embarked</th>\n      <th>Survived</th>\n    </tr>\n  </thead>\n  <tbody>\n    <tr>\n      <th>0</th>\n      <td>0</td>\n      <td>1</td>\n      <td>male</td>\n      <td>22.0</td>\n      <td>1</td>\n      <td>0</td>\n      <td>A/5 21171</td>\n      <td>7.2500</td>\n      <td>NaN</td>\n      <td>S</td>\n      <td>0</td>\n    </tr>\n    <tr>\n      <th>1</th>\n      <td>0</td>\n      <td>0</td>\n      <td>female</td>\n      <td>38.0</td>\n      <td>1</td>\n      <td>0</td>\n      <td>PC 17599</td>\n      <td>71.2833</td>\n      <td>C85</td>\n      <td>C</td>\n      <td>1</td>\n    </tr>\n    <tr>\n      <th>2</th>\n      <td>0</td>\n      <td>1</td>\n      <td>female</td>\n      <td>26.0</td>\n      <td>0</td>\n      <td>0</td>\n      <td>STON/O2. 3101282</td>\n      <td>7.9250</td>\n      <td>NaN</td>\n      <td>S</td>\n      <td>1</td>\n    </tr>\n    <tr>\n      <th>3</th>\n      <td>0</td>\n      <td>0</td>\n      <td>female</td>\n      <td>35.0</td>\n      <td>1</td>\n      <td>0</td>\n      <td>113803</td>\n      <td>53.1000</td>\n      <td>C123</td>\n      <td>S</td>\n      <td>1</td>\n    </tr>\n    <tr>\n      <th>4</th>\n      <td>0</td>\n      <td>1</td>\n      <td>male</td>\n      <td>35.0</td>\n      <td>0</td>\n      <td>0</td>\n      <td>373450</td>\n      <td>8.0500</td>\n      <td>NaN</td>\n      <td>S</td>\n      <td>0</td>\n    </tr>\n  </tbody>\n</table>\n</div>"
     },
     "metadata": {},
     "execution_count": 181
    }
   ],
   "source": [
    "new_df = new_df.drop('Name',axis = 1)\n",
    "new_df.head()"
   ]
  },
  {
   "cell_type": "code",
   "execution_count": 182,
   "metadata": {},
   "outputs": [
    {
     "output_type": "execute_result",
     "data": {
      "text/plain": "   2  3  Sex   Age  SibSp  Parch            Ticket     Fare Cabin Embarked  \\\n0  0  1    0  22.0      1      0         A/5 21171   7.2500   NaN        S   \n1  0  0    1  38.0      1      0          PC 17599  71.2833   C85        C   \n2  0  1    1  26.0      0      0  STON/O2. 3101282   7.9250   NaN        S   \n3  0  0    1  35.0      1      0            113803  53.1000  C123        S   \n4  0  1    0  35.0      0      0            373450   8.0500   NaN        S   \n\n   Survived  \n0         0  \n1         1  \n2         1  \n3         1  \n4         0  ",
      "text/html": "<div>\n<style scoped>\n    .dataframe tbody tr th:only-of-type {\n        vertical-align: middle;\n    }\n\n    .dataframe tbody tr th {\n        vertical-align: top;\n    }\n\n    .dataframe thead th {\n        text-align: right;\n    }\n</style>\n<table border=\"1\" class=\"dataframe\">\n  <thead>\n    <tr style=\"text-align: right;\">\n      <th></th>\n      <th>2</th>\n      <th>3</th>\n      <th>Sex</th>\n      <th>Age</th>\n      <th>SibSp</th>\n      <th>Parch</th>\n      <th>Ticket</th>\n      <th>Fare</th>\n      <th>Cabin</th>\n      <th>Embarked</th>\n      <th>Survived</th>\n    </tr>\n  </thead>\n  <tbody>\n    <tr>\n      <th>0</th>\n      <td>0</td>\n      <td>1</td>\n      <td>0</td>\n      <td>22.0</td>\n      <td>1</td>\n      <td>0</td>\n      <td>A/5 21171</td>\n      <td>7.2500</td>\n      <td>NaN</td>\n      <td>S</td>\n      <td>0</td>\n    </tr>\n    <tr>\n      <th>1</th>\n      <td>0</td>\n      <td>0</td>\n      <td>1</td>\n      <td>38.0</td>\n      <td>1</td>\n      <td>0</td>\n      <td>PC 17599</td>\n      <td>71.2833</td>\n      <td>C85</td>\n      <td>C</td>\n      <td>1</td>\n    </tr>\n    <tr>\n      <th>2</th>\n      <td>0</td>\n      <td>1</td>\n      <td>1</td>\n      <td>26.0</td>\n      <td>0</td>\n      <td>0</td>\n      <td>STON/O2. 3101282</td>\n      <td>7.9250</td>\n      <td>NaN</td>\n      <td>S</td>\n      <td>1</td>\n    </tr>\n    <tr>\n      <th>3</th>\n      <td>0</td>\n      <td>0</td>\n      <td>1</td>\n      <td>35.0</td>\n      <td>1</td>\n      <td>0</td>\n      <td>113803</td>\n      <td>53.1000</td>\n      <td>C123</td>\n      <td>S</td>\n      <td>1</td>\n    </tr>\n    <tr>\n      <th>4</th>\n      <td>0</td>\n      <td>1</td>\n      <td>0</td>\n      <td>35.0</td>\n      <td>0</td>\n      <td>0</td>\n      <td>373450</td>\n      <td>8.0500</td>\n      <td>NaN</td>\n      <td>S</td>\n      <td>0</td>\n    </tr>\n  </tbody>\n</table>\n</div>"
     },
     "metadata": {},
     "execution_count": 182
    }
   ],
   "source": [
    "new_df['Sex'] = new_df['Sex'].map({'male':0,'female':1})\n",
    "new_df.head()"
   ]
  },
  {
   "cell_type": "code",
   "execution_count": 183,
   "metadata": {},
   "outputs": [
    {
     "output_type": "execute_result",
     "data": {
      "text/plain": "   PassengerId  Pclass                                               Name  \\\n0            1       3                            Braund, Mr. Owen Harris   \n1            2       1  Cumings, Mrs. John Bradley (Florence Briggs Th...   \n2            3       3                             Heikkinen, Miss. Laina   \n3            4       1       Futrelle, Mrs. Jacques Heath (Lily May Peel)   \n4            5       3                           Allen, Mr. William Henry   \n\n      Sex   Age  SibSp  Parch            Ticket     Fare Cabin Embarked  \\\n0    male  22.0      1      0         A/5 21171   7.2500   NaN        S   \n1  female  38.0      1      0          PC 17599  71.2833   C85        C   \n2  female  26.0      0      0  STON/O2. 3101282   7.9250   NaN        S   \n3  female  35.0      1      0            113803  53.1000  C123        S   \n4    male  35.0      0      0            373450   8.0500   NaN        S   \n\n   Survived  2  3  \n0         0  0  1  \n1         1  0  0  \n2         1  0  1  \n3         1  0  0  \n4         0  0  1  ",
      "text/html": "<div>\n<style scoped>\n    .dataframe tbody tr th:only-of-type {\n        vertical-align: middle;\n    }\n\n    .dataframe tbody tr th {\n        vertical-align: top;\n    }\n\n    .dataframe thead th {\n        text-align: right;\n    }\n</style>\n<table border=\"1\" class=\"dataframe\">\n  <thead>\n    <tr style=\"text-align: right;\">\n      <th></th>\n      <th>PassengerId</th>\n      <th>Pclass</th>\n      <th>Name</th>\n      <th>Sex</th>\n      <th>Age</th>\n      <th>SibSp</th>\n      <th>Parch</th>\n      <th>Ticket</th>\n      <th>Fare</th>\n      <th>Cabin</th>\n      <th>Embarked</th>\n      <th>Survived</th>\n      <th>2</th>\n      <th>3</th>\n    </tr>\n  </thead>\n  <tbody>\n    <tr>\n      <th>0</th>\n      <td>1</td>\n      <td>3</td>\n      <td>Braund, Mr. Owen Harris</td>\n      <td>male</td>\n      <td>22.0</td>\n      <td>1</td>\n      <td>0</td>\n      <td>A/5 21171</td>\n      <td>7.2500</td>\n      <td>NaN</td>\n      <td>S</td>\n      <td>0</td>\n      <td>0</td>\n      <td>1</td>\n    </tr>\n    <tr>\n      <th>1</th>\n      <td>2</td>\n      <td>1</td>\n      <td>Cumings, Mrs. John Bradley (Florence Briggs Th...</td>\n      <td>female</td>\n      <td>38.0</td>\n      <td>1</td>\n      <td>0</td>\n      <td>PC 17599</td>\n      <td>71.2833</td>\n      <td>C85</td>\n      <td>C</td>\n      <td>1</td>\n      <td>0</td>\n      <td>0</td>\n    </tr>\n    <tr>\n      <th>2</th>\n      <td>3</td>\n      <td>3</td>\n      <td>Heikkinen, Miss. Laina</td>\n      <td>female</td>\n      <td>26.0</td>\n      <td>0</td>\n      <td>0</td>\n      <td>STON/O2. 3101282</td>\n      <td>7.9250</td>\n      <td>NaN</td>\n      <td>S</td>\n      <td>1</td>\n      <td>0</td>\n      <td>1</td>\n    </tr>\n    <tr>\n      <th>3</th>\n      <td>4</td>\n      <td>1</td>\n      <td>Futrelle, Mrs. Jacques Heath (Lily May Peel)</td>\n      <td>female</td>\n      <td>35.0</td>\n      <td>1</td>\n      <td>0</td>\n      <td>113803</td>\n      <td>53.1000</td>\n      <td>C123</td>\n      <td>S</td>\n      <td>1</td>\n      <td>0</td>\n      <td>0</td>\n    </tr>\n    <tr>\n      <th>4</th>\n      <td>5</td>\n      <td>3</td>\n      <td>Allen, Mr. William Henry</td>\n      <td>male</td>\n      <td>35.0</td>\n      <td>0</td>\n      <td>0</td>\n      <td>373450</td>\n      <td>8.0500</td>\n      <td>NaN</td>\n      <td>S</td>\n      <td>0</td>\n      <td>0</td>\n      <td>1</td>\n    </tr>\n  </tbody>\n</table>\n</div>"
     },
     "metadata": {},
     "execution_count": 183
    }
   ],
   "source": [
    "save_checkpoint.head()"
   ]
  },
  {
   "cell_type": "code",
   "execution_count": 184,
   "metadata": {},
   "outputs": [],
   "source": [
    "sac = save_checkpoint.copy()"
   ]
  },
  {
   "cell_type": "code",
   "execution_count": 185,
   "metadata": {},
   "outputs": [
    {
     "output_type": "execute_result",
     "data": {
      "text/plain": "   PassengerId  Pclass                                               Name  \\\n0            1       3                            Braund, Mr. Owen Harris   \n1            2       1  Cumings, Mrs. John Bradley (Florence Briggs Th...   \n2            3       3                             Heikkinen, Miss. Laina   \n3            4       1       Futrelle, Mrs. Jacques Heath (Lily May Peel)   \n4            5       3                           Allen, Mr. William Henry   \n\n   Sex   Age  SibSp  Parch            Ticket     Fare Cabin Embarked  \\\n0    0  22.0      1      0         A/5 21171   7.2500   NaN        S   \n1    1  38.0      1      0          PC 17599  71.2833   C85        C   \n2    1  26.0      0      0  STON/O2. 3101282   7.9250   NaN        S   \n3    1  35.0      1      0            113803  53.1000  C123        S   \n4    0  35.0      0      0            373450   8.0500   NaN        S   \n\n   Survived  2  3  \n0         0  0  1  \n1         1  0  0  \n2         1  0  1  \n3         1  0  0  \n4         0  0  1  ",
      "text/html": "<div>\n<style scoped>\n    .dataframe tbody tr th:only-of-type {\n        vertical-align: middle;\n    }\n\n    .dataframe tbody tr th {\n        vertical-align: top;\n    }\n\n    .dataframe thead th {\n        text-align: right;\n    }\n</style>\n<table border=\"1\" class=\"dataframe\">\n  <thead>\n    <tr style=\"text-align: right;\">\n      <th></th>\n      <th>PassengerId</th>\n      <th>Pclass</th>\n      <th>Name</th>\n      <th>Sex</th>\n      <th>Age</th>\n      <th>SibSp</th>\n      <th>Parch</th>\n      <th>Ticket</th>\n      <th>Fare</th>\n      <th>Cabin</th>\n      <th>Embarked</th>\n      <th>Survived</th>\n      <th>2</th>\n      <th>3</th>\n    </tr>\n  </thead>\n  <tbody>\n    <tr>\n      <th>0</th>\n      <td>1</td>\n      <td>3</td>\n      <td>Braund, Mr. Owen Harris</td>\n      <td>0</td>\n      <td>22.0</td>\n      <td>1</td>\n      <td>0</td>\n      <td>A/5 21171</td>\n      <td>7.2500</td>\n      <td>NaN</td>\n      <td>S</td>\n      <td>0</td>\n      <td>0</td>\n      <td>1</td>\n    </tr>\n    <tr>\n      <th>1</th>\n      <td>2</td>\n      <td>1</td>\n      <td>Cumings, Mrs. John Bradley (Florence Briggs Th...</td>\n      <td>1</td>\n      <td>38.0</td>\n      <td>1</td>\n      <td>0</td>\n      <td>PC 17599</td>\n      <td>71.2833</td>\n      <td>C85</td>\n      <td>C</td>\n      <td>1</td>\n      <td>0</td>\n      <td>0</td>\n    </tr>\n    <tr>\n      <th>2</th>\n      <td>3</td>\n      <td>3</td>\n      <td>Heikkinen, Miss. Laina</td>\n      <td>1</td>\n      <td>26.0</td>\n      <td>0</td>\n      <td>0</td>\n      <td>STON/O2. 3101282</td>\n      <td>7.9250</td>\n      <td>NaN</td>\n      <td>S</td>\n      <td>1</td>\n      <td>0</td>\n      <td>1</td>\n    </tr>\n    <tr>\n      <th>3</th>\n      <td>4</td>\n      <td>1</td>\n      <td>Futrelle, Mrs. Jacques Heath (Lily May Peel)</td>\n      <td>1</td>\n      <td>35.0</td>\n      <td>1</td>\n      <td>0</td>\n      <td>113803</td>\n      <td>53.1000</td>\n      <td>C123</td>\n      <td>S</td>\n      <td>1</td>\n      <td>0</td>\n      <td>0</td>\n    </tr>\n    <tr>\n      <th>4</th>\n      <td>5</td>\n      <td>3</td>\n      <td>Allen, Mr. William Henry</td>\n      <td>0</td>\n      <td>35.0</td>\n      <td>0</td>\n      <td>0</td>\n      <td>373450</td>\n      <td>8.0500</td>\n      <td>NaN</td>\n      <td>S</td>\n      <td>0</td>\n      <td>0</td>\n      <td>1</td>\n    </tr>\n  </tbody>\n</table>\n</div>"
     },
     "metadata": {},
     "execution_count": 185
    }
   ],
   "source": [
    "sac['Sex'] = sac['Sex'].map({'male':0,'female':1})\n",
    "sac.head()"
   ]
  },
  {
   "cell_type": "code",
   "execution_count": 186,
   "metadata": {},
   "outputs": [],
   "source": [
    "saac_1 = save_checkpoint.copy()"
   ]
  },
  {
   "cell_type": "code",
   "execution_count": 187,
   "metadata": {},
   "outputs": [
    {
     "output_type": "execute_result",
     "data": {
      "text/plain": "   PassengerId  Pclass                                               Name  \\\n0            1       3                            Braund, Mr. Owen Harris   \n1            2       1  Cumings, Mrs. John Bradley (Florence Briggs Th...   \n2            3       3                             Heikkinen, Miss. Laina   \n3            4       1       Futrelle, Mrs. Jacques Heath (Lily May Peel)   \n4            5       3                           Allen, Mr. William Henry   \n\n      Sex   Age  SibSp  Parch            Ticket     Fare Cabin Embarked  \\\n0    male  22.0      1      0         A/5 21171   7.2500   NaN        S   \n1  female  38.0      1      0          PC 17599  71.2833   C85        C   \n2  female  26.0      0      0  STON/O2. 3101282   7.9250   NaN        S   \n3  female  35.0      1      0            113803  53.1000  C123        S   \n4    male  35.0      0      0            373450   8.0500   NaN        S   \n\n   Survived  2  3  Sex_New  \n0         0  0  1        0  \n1         1  0  0        1  \n2         1  0  1        1  \n3         1  0  0        1  \n4         0  0  1        0  ",
      "text/html": "<div>\n<style scoped>\n    .dataframe tbody tr th:only-of-type {\n        vertical-align: middle;\n    }\n\n    .dataframe tbody tr th {\n        vertical-align: top;\n    }\n\n    .dataframe thead th {\n        text-align: right;\n    }\n</style>\n<table border=\"1\" class=\"dataframe\">\n  <thead>\n    <tr style=\"text-align: right;\">\n      <th></th>\n      <th>PassengerId</th>\n      <th>Pclass</th>\n      <th>Name</th>\n      <th>Sex</th>\n      <th>Age</th>\n      <th>SibSp</th>\n      <th>Parch</th>\n      <th>Ticket</th>\n      <th>Fare</th>\n      <th>Cabin</th>\n      <th>Embarked</th>\n      <th>Survived</th>\n      <th>2</th>\n      <th>3</th>\n      <th>Sex_New</th>\n    </tr>\n  </thead>\n  <tbody>\n    <tr>\n      <th>0</th>\n      <td>1</td>\n      <td>3</td>\n      <td>Braund, Mr. Owen Harris</td>\n      <td>male</td>\n      <td>22.0</td>\n      <td>1</td>\n      <td>0</td>\n      <td>A/5 21171</td>\n      <td>7.2500</td>\n      <td>NaN</td>\n      <td>S</td>\n      <td>0</td>\n      <td>0</td>\n      <td>1</td>\n      <td>0</td>\n    </tr>\n    <tr>\n      <th>1</th>\n      <td>2</td>\n      <td>1</td>\n      <td>Cumings, Mrs. John Bradley (Florence Briggs Th...</td>\n      <td>female</td>\n      <td>38.0</td>\n      <td>1</td>\n      <td>0</td>\n      <td>PC 17599</td>\n      <td>71.2833</td>\n      <td>C85</td>\n      <td>C</td>\n      <td>1</td>\n      <td>0</td>\n      <td>0</td>\n      <td>1</td>\n    </tr>\n    <tr>\n      <th>2</th>\n      <td>3</td>\n      <td>3</td>\n      <td>Heikkinen, Miss. Laina</td>\n      <td>female</td>\n      <td>26.0</td>\n      <td>0</td>\n      <td>0</td>\n      <td>STON/O2. 3101282</td>\n      <td>7.9250</td>\n      <td>NaN</td>\n      <td>S</td>\n      <td>1</td>\n      <td>0</td>\n      <td>1</td>\n      <td>1</td>\n    </tr>\n    <tr>\n      <th>3</th>\n      <td>4</td>\n      <td>1</td>\n      <td>Futrelle, Mrs. Jacques Heath (Lily May Peel)</td>\n      <td>female</td>\n      <td>35.0</td>\n      <td>1</td>\n      <td>0</td>\n      <td>113803</td>\n      <td>53.1000</td>\n      <td>C123</td>\n      <td>S</td>\n      <td>1</td>\n      <td>0</td>\n      <td>0</td>\n      <td>1</td>\n    </tr>\n    <tr>\n      <th>4</th>\n      <td>5</td>\n      <td>3</td>\n      <td>Allen, Mr. William Henry</td>\n      <td>male</td>\n      <td>35.0</td>\n      <td>0</td>\n      <td>0</td>\n      <td>373450</td>\n      <td>8.0500</td>\n      <td>NaN</td>\n      <td>S</td>\n      <td>0</td>\n      <td>0</td>\n      <td>1</td>\n      <td>0</td>\n    </tr>\n  </tbody>\n</table>\n</div>"
     },
     "metadata": {},
     "execution_count": 187
    }
   ],
   "source": [
    "saac_1['Sex_New'] = saac_1['Sex'].map({'male':0,'female':1})\n",
    "saac_2 = saac_1.copy()\n",
    "saac_1.head()"
   ]
  },
  {
   "cell_type": "code",
   "execution_count": 188,
   "metadata": {},
   "outputs": [
    {
     "output_type": "execute_result",
     "data": {
      "text/plain": "   PassengerId  Pclass   Age  SibSp  Parch            Ticket     Fare Cabin  \\\n0            1       3  22.0      1      0         A/5 21171   7.2500   NaN   \n1            2       1  38.0      1      0          PC 17599  71.2833   C85   \n2            3       3  26.0      0      0  STON/O2. 3101282   7.9250   NaN   \n3            4       1  35.0      1      0            113803  53.1000  C123   \n4            5       3  35.0      0      0            373450   8.0500   NaN   \n\n  Embarked  Survived  2  3  Sex_New  \n0        S         0  0  1        0  \n1        C         1  0  0        1  \n2        S         1  0  1        1  \n3        S         1  0  0        1  \n4        S         0  0  1        0  ",
      "text/html": "<div>\n<style scoped>\n    .dataframe tbody tr th:only-of-type {\n        vertical-align: middle;\n    }\n\n    .dataframe tbody tr th {\n        vertical-align: top;\n    }\n\n    .dataframe thead th {\n        text-align: right;\n    }\n</style>\n<table border=\"1\" class=\"dataframe\">\n  <thead>\n    <tr style=\"text-align: right;\">\n      <th></th>\n      <th>PassengerId</th>\n      <th>Pclass</th>\n      <th>Age</th>\n      <th>SibSp</th>\n      <th>Parch</th>\n      <th>Ticket</th>\n      <th>Fare</th>\n      <th>Cabin</th>\n      <th>Embarked</th>\n      <th>Survived</th>\n      <th>2</th>\n      <th>3</th>\n      <th>Sex_New</th>\n    </tr>\n  </thead>\n  <tbody>\n    <tr>\n      <th>0</th>\n      <td>1</td>\n      <td>3</td>\n      <td>22.0</td>\n      <td>1</td>\n      <td>0</td>\n      <td>A/5 21171</td>\n      <td>7.2500</td>\n      <td>NaN</td>\n      <td>S</td>\n      <td>0</td>\n      <td>0</td>\n      <td>1</td>\n      <td>0</td>\n    </tr>\n    <tr>\n      <th>1</th>\n      <td>2</td>\n      <td>1</td>\n      <td>38.0</td>\n      <td>1</td>\n      <td>0</td>\n      <td>PC 17599</td>\n      <td>71.2833</td>\n      <td>C85</td>\n      <td>C</td>\n      <td>1</td>\n      <td>0</td>\n      <td>0</td>\n      <td>1</td>\n    </tr>\n    <tr>\n      <th>2</th>\n      <td>3</td>\n      <td>3</td>\n      <td>26.0</td>\n      <td>0</td>\n      <td>0</td>\n      <td>STON/O2. 3101282</td>\n      <td>7.9250</td>\n      <td>NaN</td>\n      <td>S</td>\n      <td>1</td>\n      <td>0</td>\n      <td>1</td>\n      <td>1</td>\n    </tr>\n    <tr>\n      <th>3</th>\n      <td>4</td>\n      <td>1</td>\n      <td>35.0</td>\n      <td>1</td>\n      <td>0</td>\n      <td>113803</td>\n      <td>53.1000</td>\n      <td>C123</td>\n      <td>S</td>\n      <td>1</td>\n      <td>0</td>\n      <td>0</td>\n      <td>1</td>\n    </tr>\n    <tr>\n      <th>4</th>\n      <td>5</td>\n      <td>3</td>\n      <td>35.0</td>\n      <td>0</td>\n      <td>0</td>\n      <td>373450</td>\n      <td>8.0500</td>\n      <td>NaN</td>\n      <td>S</td>\n      <td>0</td>\n      <td>0</td>\n      <td>1</td>\n      <td>0</td>\n    </tr>\n  </tbody>\n</table>\n</div>"
     },
     "metadata": {},
     "execution_count": 188
    }
   ],
   "source": [
    "saac_1 = saac_1.drop(['Sex','Name'],axis  = 1)\n",
    "saac_1.head()"
   ]
  },
  {
   "cell_type": "code",
   "execution_count": 189,
   "metadata": {},
   "outputs": [
    {
     "output_type": "execute_result",
     "data": {
      "text/plain": "array([0, 1, 2, 5, 3, 4, 6])"
     },
     "metadata": {},
     "execution_count": 189
    }
   ],
   "source": [
    "saac_1['Parch'].unique()"
   ]
  },
  {
   "cell_type": "code",
   "execution_count": 190,
   "metadata": {},
   "outputs": [
    {
     "output_type": "execute_result",
     "data": {
      "text/plain": "891"
     },
     "metadata": {},
     "execution_count": 190
    }
   ],
   "source": [
    "saac_1['Ticket'].count()"
   ]
  },
  {
   "cell_type": "code",
   "execution_count": 191,
   "metadata": {},
   "outputs": [
    {
     "output_type": "execute_result",
     "data": {
      "text/plain": "(891, 13)"
     },
     "metadata": {},
     "execution_count": 191
    }
   ],
   "source": [
    "saac_1.shape"
   ]
  },
  {
   "cell_type": "code",
   "execution_count": 192,
   "metadata": {},
   "outputs": [
    {
     "output_type": "execute_result",
     "data": {
      "text/plain": "   PassengerId  Pclass   Age  SibSp  Parch     Fare Cabin Embarked  Survived  \\\n0            1       3  22.0      1      0   7.2500   NaN        S         0   \n1            2       1  38.0      1      0  71.2833   C85        C         1   \n2            3       3  26.0      0      0   7.9250   NaN        S         1   \n3            4       1  35.0      1      0  53.1000  C123        S         1   \n4            5       3  35.0      0      0   8.0500   NaN        S         0   \n\n   2  3  Sex_New  \n0  0  1        0  \n1  0  0        1  \n2  0  1        1  \n3  0  0        1  \n4  0  1        0  ",
      "text/html": "<div>\n<style scoped>\n    .dataframe tbody tr th:only-of-type {\n        vertical-align: middle;\n    }\n\n    .dataframe tbody tr th {\n        vertical-align: top;\n    }\n\n    .dataframe thead th {\n        text-align: right;\n    }\n</style>\n<table border=\"1\" class=\"dataframe\">\n  <thead>\n    <tr style=\"text-align: right;\">\n      <th></th>\n      <th>PassengerId</th>\n      <th>Pclass</th>\n      <th>Age</th>\n      <th>SibSp</th>\n      <th>Parch</th>\n      <th>Fare</th>\n      <th>Cabin</th>\n      <th>Embarked</th>\n      <th>Survived</th>\n      <th>2</th>\n      <th>3</th>\n      <th>Sex_New</th>\n    </tr>\n  </thead>\n  <tbody>\n    <tr>\n      <th>0</th>\n      <td>1</td>\n      <td>3</td>\n      <td>22.0</td>\n      <td>1</td>\n      <td>0</td>\n      <td>7.2500</td>\n      <td>NaN</td>\n      <td>S</td>\n      <td>0</td>\n      <td>0</td>\n      <td>1</td>\n      <td>0</td>\n    </tr>\n    <tr>\n      <th>1</th>\n      <td>2</td>\n      <td>1</td>\n      <td>38.0</td>\n      <td>1</td>\n      <td>0</td>\n      <td>71.2833</td>\n      <td>C85</td>\n      <td>C</td>\n      <td>1</td>\n      <td>0</td>\n      <td>0</td>\n      <td>1</td>\n    </tr>\n    <tr>\n      <th>2</th>\n      <td>3</td>\n      <td>3</td>\n      <td>26.0</td>\n      <td>0</td>\n      <td>0</td>\n      <td>7.9250</td>\n      <td>NaN</td>\n      <td>S</td>\n      <td>1</td>\n      <td>0</td>\n      <td>1</td>\n      <td>1</td>\n    </tr>\n    <tr>\n      <th>3</th>\n      <td>4</td>\n      <td>1</td>\n      <td>35.0</td>\n      <td>1</td>\n      <td>0</td>\n      <td>53.1000</td>\n      <td>C123</td>\n      <td>S</td>\n      <td>1</td>\n      <td>0</td>\n      <td>0</td>\n      <td>1</td>\n    </tr>\n    <tr>\n      <th>4</th>\n      <td>5</td>\n      <td>3</td>\n      <td>35.0</td>\n      <td>0</td>\n      <td>0</td>\n      <td>8.0500</td>\n      <td>NaN</td>\n      <td>S</td>\n      <td>0</td>\n      <td>0</td>\n      <td>1</td>\n      <td>0</td>\n    </tr>\n  </tbody>\n</table>\n</div>"
     },
     "metadata": {},
     "execution_count": 192
    }
   ],
   "source": [
    "saac_1 = saac_1.drop('Ticket',axis = 1)\n",
    "saac_1.head()"
   ]
  },
  {
   "cell_type": "code",
   "execution_count": 193,
   "metadata": {},
   "outputs": [
    {
     "output_type": "execute_result",
     "data": {
      "text/plain": "   PassengerId  Pclass   Age  SibSp  Parch     Fare Cabin Embarked  Survived  \\\n0            1       3  22.0      1      0   7.2500   NaN        S         0   \n1            2       1  38.0      1      0  71.2833   C85        C         1   \n2            3       3  26.0      0      0   7.9250   NaN        S         1   \n3            4       1  35.0      1      0  53.1000  C123        S         1   \n4            5       3  35.0      0      0   8.0500   NaN        S         0   \n\n   2  3  Sex_New  Q  S  \n0  0  1        0  0  1  \n1  0  0        1  0  0  \n2  0  1        1  0  1  \n3  0  0        1  0  1  \n4  0  1        0  0  1  ",
      "text/html": "<div>\n<style scoped>\n    .dataframe tbody tr th:only-of-type {\n        vertical-align: middle;\n    }\n\n    .dataframe tbody tr th {\n        vertical-align: top;\n    }\n\n    .dataframe thead th {\n        text-align: right;\n    }\n</style>\n<table border=\"1\" class=\"dataframe\">\n  <thead>\n    <tr style=\"text-align: right;\">\n      <th></th>\n      <th>PassengerId</th>\n      <th>Pclass</th>\n      <th>Age</th>\n      <th>SibSp</th>\n      <th>Parch</th>\n      <th>Fare</th>\n      <th>Cabin</th>\n      <th>Embarked</th>\n      <th>Survived</th>\n      <th>2</th>\n      <th>3</th>\n      <th>Sex_New</th>\n      <th>Q</th>\n      <th>S</th>\n    </tr>\n  </thead>\n  <tbody>\n    <tr>\n      <th>0</th>\n      <td>1</td>\n      <td>3</td>\n      <td>22.0</td>\n      <td>1</td>\n      <td>0</td>\n      <td>7.2500</td>\n      <td>NaN</td>\n      <td>S</td>\n      <td>0</td>\n      <td>0</td>\n      <td>1</td>\n      <td>0</td>\n      <td>0</td>\n      <td>1</td>\n    </tr>\n    <tr>\n      <th>1</th>\n      <td>2</td>\n      <td>1</td>\n      <td>38.0</td>\n      <td>1</td>\n      <td>0</td>\n      <td>71.2833</td>\n      <td>C85</td>\n      <td>C</td>\n      <td>1</td>\n      <td>0</td>\n      <td>0</td>\n      <td>1</td>\n      <td>0</td>\n      <td>0</td>\n    </tr>\n    <tr>\n      <th>2</th>\n      <td>3</td>\n      <td>3</td>\n      <td>26.0</td>\n      <td>0</td>\n      <td>0</td>\n      <td>7.9250</td>\n      <td>NaN</td>\n      <td>S</td>\n      <td>1</td>\n      <td>0</td>\n      <td>1</td>\n      <td>1</td>\n      <td>0</td>\n      <td>1</td>\n    </tr>\n    <tr>\n      <th>3</th>\n      <td>4</td>\n      <td>1</td>\n      <td>35.0</td>\n      <td>1</td>\n      <td>0</td>\n      <td>53.1000</td>\n      <td>C123</td>\n      <td>S</td>\n      <td>1</td>\n      <td>0</td>\n      <td>0</td>\n      <td>1</td>\n      <td>0</td>\n      <td>1</td>\n    </tr>\n    <tr>\n      <th>4</th>\n      <td>5</td>\n      <td>3</td>\n      <td>35.0</td>\n      <td>0</td>\n      <td>0</td>\n      <td>8.0500</td>\n      <td>NaN</td>\n      <td>S</td>\n      <td>0</td>\n      <td>0</td>\n      <td>1</td>\n      <td>0</td>\n      <td>0</td>\n      <td>1</td>\n    </tr>\n  </tbody>\n</table>\n</div>"
     },
     "metadata": {},
     "execution_count": 193
    }
   ],
   "source": [
    "embarked = saac_1['Embarked']\n",
    "embarked_dummy = pd.get_dummies(embarked,drop_first=True)\n",
    "saac_f = pd.concat([saac_1,embarked_dummy],axis = 1)\n",
    "saac_f.head()\n"
   ]
  },
  {
   "cell_type": "code",
   "execution_count": 194,
   "metadata": {},
   "outputs": [],
   "source": [
    "saac_f = saac_f.drop('Embarked',axis = 1)"
   ]
  },
  {
   "cell_type": "code",
   "execution_count": 195,
   "metadata": {},
   "outputs": [
    {
     "output_type": "execute_result",
     "data": {
      "text/plain": "   PassengerId  Pclass   Age  SibSp  Parch     Fare Cabin  Survived  2  3  \\\n0            1       3  22.0      1      0   7.2500   NaN         0  0  1   \n1            2       1  38.0      1      0  71.2833   C85         1  0  0   \n2            3       3  26.0      0      0   7.9250   NaN         1  0  1   \n3            4       1  35.0      1      0  53.1000  C123         1  0  0   \n4            5       3  35.0      0      0   8.0500   NaN         0  0  1   \n\n   Sex_New  Q  S  \n0        0  0  1  \n1        1  0  0  \n2        1  0  1  \n3        1  0  1  \n4        0  0  1  ",
      "text/html": "<div>\n<style scoped>\n    .dataframe tbody tr th:only-of-type {\n        vertical-align: middle;\n    }\n\n    .dataframe tbody tr th {\n        vertical-align: top;\n    }\n\n    .dataframe thead th {\n        text-align: right;\n    }\n</style>\n<table border=\"1\" class=\"dataframe\">\n  <thead>\n    <tr style=\"text-align: right;\">\n      <th></th>\n      <th>PassengerId</th>\n      <th>Pclass</th>\n      <th>Age</th>\n      <th>SibSp</th>\n      <th>Parch</th>\n      <th>Fare</th>\n      <th>Cabin</th>\n      <th>Survived</th>\n      <th>2</th>\n      <th>3</th>\n      <th>Sex_New</th>\n      <th>Q</th>\n      <th>S</th>\n    </tr>\n  </thead>\n  <tbody>\n    <tr>\n      <th>0</th>\n      <td>1</td>\n      <td>3</td>\n      <td>22.0</td>\n      <td>1</td>\n      <td>0</td>\n      <td>7.2500</td>\n      <td>NaN</td>\n      <td>0</td>\n      <td>0</td>\n      <td>1</td>\n      <td>0</td>\n      <td>0</td>\n      <td>1</td>\n    </tr>\n    <tr>\n      <th>1</th>\n      <td>2</td>\n      <td>1</td>\n      <td>38.0</td>\n      <td>1</td>\n      <td>0</td>\n      <td>71.2833</td>\n      <td>C85</td>\n      <td>1</td>\n      <td>0</td>\n      <td>0</td>\n      <td>1</td>\n      <td>0</td>\n      <td>0</td>\n    </tr>\n    <tr>\n      <th>2</th>\n      <td>3</td>\n      <td>3</td>\n      <td>26.0</td>\n      <td>0</td>\n      <td>0</td>\n      <td>7.9250</td>\n      <td>NaN</td>\n      <td>1</td>\n      <td>0</td>\n      <td>1</td>\n      <td>1</td>\n      <td>0</td>\n      <td>1</td>\n    </tr>\n    <tr>\n      <th>3</th>\n      <td>4</td>\n      <td>1</td>\n      <td>35.0</td>\n      <td>1</td>\n      <td>0</td>\n      <td>53.1000</td>\n      <td>C123</td>\n      <td>1</td>\n      <td>0</td>\n      <td>0</td>\n      <td>1</td>\n      <td>0</td>\n      <td>1</td>\n    </tr>\n    <tr>\n      <th>4</th>\n      <td>5</td>\n      <td>3</td>\n      <td>35.0</td>\n      <td>0</td>\n      <td>0</td>\n      <td>8.0500</td>\n      <td>NaN</td>\n      <td>0</td>\n      <td>0</td>\n      <td>1</td>\n      <td>0</td>\n      <td>0</td>\n      <td>1</td>\n    </tr>\n  </tbody>\n</table>\n</div>"
     },
     "metadata": {},
     "execution_count": 195
    }
   ],
   "source": [
    "saac_f.head()"
   ]
  },
  {
   "cell_type": "code",
   "execution_count": 196,
   "metadata": {},
   "outputs": [
    {
     "output_type": "execute_result",
     "data": {
      "text/plain": "204"
     },
     "metadata": {},
     "execution_count": 196
    }
   ],
   "source": [
    "saac_f['Cabin'].count()"
   ]
  },
  {
   "cell_type": "code",
   "execution_count": 197,
   "metadata": {},
   "outputs": [],
   "source": [
    "df_with_cabin = saac_f.copy()\n"
   ]
  },
  {
   "cell_type": "code",
   "execution_count": 198,
   "metadata": {},
   "outputs": [
    {
     "output_type": "execute_result",
     "data": {
      "text/plain": "array([nan, 'C85', 'C123', 'E46', 'G6', 'C103', 'D56', 'A6',\n       'C23 C25 C27', 'B78', 'D33', 'B30', 'C52', 'B28', 'C83', 'F33',\n       'F G73', 'E31', 'A5', 'D10 D12', 'D26', 'C110', 'B58 B60', 'E101',\n       'F E69', 'D47', 'B86', 'F2', 'C2', 'E33', 'B19', 'A7', 'C49', 'F4',\n       'A32', 'B4', 'B80', 'A31', 'D36', 'D15', 'C93', 'C78', 'D35',\n       'C87', 'B77', 'E67', 'B94', 'C125', 'C99', 'C118', 'D7', 'A19',\n       'B49', 'D', 'C22 C26', 'C106', 'C65', 'E36', 'C54',\n       'B57 B59 B63 B66', 'C7', 'E34', 'C32', 'B18', 'C124', 'C91', 'E40',\n       'T', 'C128', 'D37', 'B35', 'E50', 'C82', 'B96 B98', 'E10', 'E44',\n       'A34', 'C104', 'C111', 'C92', 'E38', 'D21', 'E12', 'E63', 'A14',\n       'B37', 'C30', 'D20', 'B79', 'E25', 'D46', 'B73', 'C95', 'B38',\n       'B39', 'B22', 'C86', 'C70', 'A16', 'C101', 'C68', 'A10', 'E68',\n       'B41', 'A20', 'D19', 'D50', 'D9', 'A23', 'B50', 'A26', 'D48',\n       'E58', 'C126', 'B71', 'B51 B53 B55', 'D49', 'B5', 'B20', 'F G63',\n       'C62 C64', 'E24', 'C90', 'C45', 'E8', 'B101', 'D45', 'C46', 'D30',\n       'E121', 'D11', 'E77', 'F38', 'B3', 'D6', 'B82 B84', 'D17', 'A36',\n       'B102', 'B69', 'E49', 'C47', 'D28', 'E17', 'A24', 'C50', 'B42',\n       'C148'], dtype=object)"
     },
     "metadata": {},
     "execution_count": 198
    }
   ],
   "source": [
    "saac_f['Cabin'].unique()"
   ]
  },
  {
   "cell_type": "code",
   "execution_count": 199,
   "metadata": {},
   "outputs": [
    {
     "output_type": "execute_result",
     "data": {
      "text/plain": "   PassengerId  Pclass   Age  SibSp  Parch     Fare  Survived  2  3  Sex_New  \\\n0            1       3  22.0      1      0   7.2500         0  0  1        0   \n1            2       1  38.0      1      0  71.2833         1  0  0        1   \n2            3       3  26.0      0      0   7.9250         1  0  1        1   \n3            4       1  35.0      1      0  53.1000         1  0  0        1   \n4            5       3  35.0      0      0   8.0500         0  0  1        0   \n\n   Q  S  \n0  0  1  \n1  0  0  \n2  0  1  \n3  0  1  \n4  0  1  ",
      "text/html": "<div>\n<style scoped>\n    .dataframe tbody tr th:only-of-type {\n        vertical-align: middle;\n    }\n\n    .dataframe tbody tr th {\n        vertical-align: top;\n    }\n\n    .dataframe thead th {\n        text-align: right;\n    }\n</style>\n<table border=\"1\" class=\"dataframe\">\n  <thead>\n    <tr style=\"text-align: right;\">\n      <th></th>\n      <th>PassengerId</th>\n      <th>Pclass</th>\n      <th>Age</th>\n      <th>SibSp</th>\n      <th>Parch</th>\n      <th>Fare</th>\n      <th>Survived</th>\n      <th>2</th>\n      <th>3</th>\n      <th>Sex_New</th>\n      <th>Q</th>\n      <th>S</th>\n    </tr>\n  </thead>\n  <tbody>\n    <tr>\n      <th>0</th>\n      <td>1</td>\n      <td>3</td>\n      <td>22.0</td>\n      <td>1</td>\n      <td>0</td>\n      <td>7.2500</td>\n      <td>0</td>\n      <td>0</td>\n      <td>1</td>\n      <td>0</td>\n      <td>0</td>\n      <td>1</td>\n    </tr>\n    <tr>\n      <th>1</th>\n      <td>2</td>\n      <td>1</td>\n      <td>38.0</td>\n      <td>1</td>\n      <td>0</td>\n      <td>71.2833</td>\n      <td>1</td>\n      <td>0</td>\n      <td>0</td>\n      <td>1</td>\n      <td>0</td>\n      <td>0</td>\n    </tr>\n    <tr>\n      <th>2</th>\n      <td>3</td>\n      <td>3</td>\n      <td>26.0</td>\n      <td>0</td>\n      <td>0</td>\n      <td>7.9250</td>\n      <td>1</td>\n      <td>0</td>\n      <td>1</td>\n      <td>1</td>\n      <td>0</td>\n      <td>1</td>\n    </tr>\n    <tr>\n      <th>3</th>\n      <td>4</td>\n      <td>1</td>\n      <td>35.0</td>\n      <td>1</td>\n      <td>0</td>\n      <td>53.1000</td>\n      <td>1</td>\n      <td>0</td>\n      <td>0</td>\n      <td>1</td>\n      <td>0</td>\n      <td>1</td>\n    </tr>\n    <tr>\n      <th>4</th>\n      <td>5</td>\n      <td>3</td>\n      <td>35.0</td>\n      <td>0</td>\n      <td>0</td>\n      <td>8.0500</td>\n      <td>0</td>\n      <td>0</td>\n      <td>1</td>\n      <td>0</td>\n      <td>0</td>\n      <td>1</td>\n    </tr>\n  </tbody>\n</table>\n</div>"
     },
     "metadata": {},
     "execution_count": 199
    }
   ],
   "source": [
    "saac_f  = saac_f.drop('Cabin',axis = 1)\n",
    "saac_f.head()"
   ]
  },
  {
   "cell_type": "code",
   "execution_count": 200,
   "metadata": {},
   "outputs": [],
   "source": [
    "\n",
    "saac_f2 = saac_f.copy()"
   ]
  },
  {
   "cell_type": "code",
   "execution_count": 201,
   "metadata": {},
   "outputs": [
    {
     "output_type": "execute_result",
     "data": {
      "text/plain": "array(['PassengerId', 'Pclass', 'Age', 'SibSp', 'Parch', 'Fare',\n       'Survived', 2, 3, 'Sex_New', 'Q', 'S'], dtype=object)"
     },
     "metadata": {},
     "execution_count": 201
    }
   ],
   "source": [
    "saac_f.columns.values"
   ]
  },
  {
   "cell_type": "code",
   "execution_count": 202,
   "metadata": {},
   "outputs": [],
   "source": [
    "tmp = [ 2, 3,'Age', 'SibSp', 'Parch', 'Fare','Sex_New', 'Q',\n",
    "       'S','Survived']\n",
    "saac_f = saac_f[tmp]"
   ]
  },
  {
   "cell_type": "code",
   "execution_count": 203,
   "metadata": {},
   "outputs": [
    {
     "output_type": "execute_result",
     "data": {
      "text/plain": "   2  3   Age  SibSp  Parch     Fare  Sex_New  Q  S  Survived\n0  0  1  22.0      1      0   7.2500        0  0  1         0\n1  0  0  38.0      1      0  71.2833        1  0  0         1\n2  0  1  26.0      0      0   7.9250        1  0  1         1\n3  0  0  35.0      1      0  53.1000        1  0  1         1\n4  0  1  35.0      0      0   8.0500        0  0  1         0",
      "text/html": "<div>\n<style scoped>\n    .dataframe tbody tr th:only-of-type {\n        vertical-align: middle;\n    }\n\n    .dataframe tbody tr th {\n        vertical-align: top;\n    }\n\n    .dataframe thead th {\n        text-align: right;\n    }\n</style>\n<table border=\"1\" class=\"dataframe\">\n  <thead>\n    <tr style=\"text-align: right;\">\n      <th></th>\n      <th>2</th>\n      <th>3</th>\n      <th>Age</th>\n      <th>SibSp</th>\n      <th>Parch</th>\n      <th>Fare</th>\n      <th>Sex_New</th>\n      <th>Q</th>\n      <th>S</th>\n      <th>Survived</th>\n    </tr>\n  </thead>\n  <tbody>\n    <tr>\n      <th>0</th>\n      <td>0</td>\n      <td>1</td>\n      <td>22.0</td>\n      <td>1</td>\n      <td>0</td>\n      <td>7.2500</td>\n      <td>0</td>\n      <td>0</td>\n      <td>1</td>\n      <td>0</td>\n    </tr>\n    <tr>\n      <th>1</th>\n      <td>0</td>\n      <td>0</td>\n      <td>38.0</td>\n      <td>1</td>\n      <td>0</td>\n      <td>71.2833</td>\n      <td>1</td>\n      <td>0</td>\n      <td>0</td>\n      <td>1</td>\n    </tr>\n    <tr>\n      <th>2</th>\n      <td>0</td>\n      <td>1</td>\n      <td>26.0</td>\n      <td>0</td>\n      <td>0</td>\n      <td>7.9250</td>\n      <td>1</td>\n      <td>0</td>\n      <td>1</td>\n      <td>1</td>\n    </tr>\n    <tr>\n      <th>3</th>\n      <td>0</td>\n      <td>0</td>\n      <td>35.0</td>\n      <td>1</td>\n      <td>0</td>\n      <td>53.1000</td>\n      <td>1</td>\n      <td>0</td>\n      <td>1</td>\n      <td>1</td>\n    </tr>\n    <tr>\n      <th>4</th>\n      <td>0</td>\n      <td>1</td>\n      <td>35.0</td>\n      <td>0</td>\n      <td>0</td>\n      <td>8.0500</td>\n      <td>0</td>\n      <td>0</td>\n      <td>1</td>\n      <td>0</td>\n    </tr>\n  </tbody>\n</table>\n</div>"
     },
     "metadata": {},
     "execution_count": 203
    }
   ],
   "source": [
    "saac_f.head()"
   ]
  },
  {
   "cell_type": "code",
   "execution_count": 204,
   "metadata": {},
   "outputs": [],
   "source": [
    "saac_f.to_csv('non_standardised.csv',index = False)"
   ]
  },
  {
   "cell_type": "code",
   "execution_count": 205,
   "metadata": {},
   "outputs": [
    {
     "output_type": "execute_result",
     "data": {
      "text/plain": "    Age     Fare\n0  22.0   7.2500\n1  38.0  71.2833\n2  26.0   7.9250\n3  35.0  53.1000\n4  35.0   8.0500",
      "text/html": "<div>\n<style scoped>\n    .dataframe tbody tr th:only-of-type {\n        vertical-align: middle;\n    }\n\n    .dataframe tbody tr th {\n        vertical-align: top;\n    }\n\n    .dataframe thead th {\n        text-align: right;\n    }\n</style>\n<table border=\"1\" class=\"dataframe\">\n  <thead>\n    <tr style=\"text-align: right;\">\n      <th></th>\n      <th>Age</th>\n      <th>Fare</th>\n    </tr>\n  </thead>\n  <tbody>\n    <tr>\n      <th>0</th>\n      <td>22.0</td>\n      <td>7.2500</td>\n    </tr>\n    <tr>\n      <th>1</th>\n      <td>38.0</td>\n      <td>71.2833</td>\n    </tr>\n    <tr>\n      <th>2</th>\n      <td>26.0</td>\n      <td>7.9250</td>\n    </tr>\n    <tr>\n      <th>3</th>\n      <td>35.0</td>\n      <td>53.1000</td>\n    </tr>\n    <tr>\n      <th>4</th>\n      <td>35.0</td>\n      <td>8.0500</td>\n    </tr>\n  </tbody>\n</table>\n</div>"
     },
     "metadata": {},
     "execution_count": 205
    }
   ],
   "source": [
    "df_standardisation1 = saac_f.iloc[:,2]\n",
    "df_standardisation2 = saac_f.iloc[:,5]\n",
    "new_df_combined = pd.concat([df_standardisation1,df_standardisation2],axis = 1)\n",
    "new_df_combined.head()"
   ]
  },
  {
   "cell_type": "code",
   "execution_count": 206,
   "metadata": {},
   "outputs": [],
   "source": [
    "from sklearn.preprocessing import StandardScaler"
   ]
  },
  {
   "cell_type": "code",
   "execution_count": 207,
   "metadata": {},
   "outputs": [],
   "source": [
    "scaler = StandardScaler()"
   ]
  },
  {
   "cell_type": "code",
   "execution_count": 208,
   "metadata": {},
   "outputs": [
    {
     "output_type": "execute_result",
     "data": {
      "text/plain": "StandardScaler()"
     },
     "metadata": {},
     "execution_count": 208
    }
   ],
   "source": [
    "scaler.fit(new_df_combined)\n",
    "# stnd_df = scaler.transform(new_df_combined)"
   ]
  },
  {
   "cell_type": "code",
   "execution_count": 209,
   "metadata": {},
   "outputs": [],
   "source": [
    "stnd_df = scaler.transform(new_df_combined)"
   ]
  },
  {
   "cell_type": "code",
   "execution_count": 210,
   "metadata": {},
   "outputs": [
    {
     "output_type": "execute_result",
     "data": {
      "text/plain": "(891, 2)"
     },
     "metadata": {},
     "execution_count": 210
    }
   ],
   "source": [
    "stnd_df.shape"
   ]
  },
  {
   "cell_type": "code",
   "execution_count": 211,
   "metadata": {},
   "outputs": [
    {
     "output_type": "execute_result",
     "data": {
      "text/plain": "891"
     },
     "metadata": {},
     "execution_count": 211
    }
   ],
   "source": [
    "data = stnd_df.shape[0]\n",
    "# dfage = pd.DataFrame(data,columns='Age')\n",
    "# dfage.head()\n",
    "data"
   ]
  },
  {
   "cell_type": "code",
   "execution_count": 212,
   "metadata": {},
   "outputs": [
    {
     "output_type": "execute_result",
     "data": {
      "text/plain": "array([[-0.53037664, -0.50244517],\n       [ 0.57183099,  0.78684529],\n       [-0.25482473, -0.48885426],\n       ...,\n       [        nan, -0.17626324],\n       [-0.25482473, -0.04438104],\n       [ 0.15850313, -0.49237783]])"
     },
     "metadata": {},
     "execution_count": 212
    }
   ],
   "source": [
    "stnd_df"
   ]
  },
  {
   "cell_type": "code",
   "execution_count": 213,
   "metadata": {},
   "outputs": [
    {
     "output_type": "execute_result",
     "data": {
      "text/plain": "    Age_new  Fare_new\n0 -0.530377 -0.502445\n1  0.571831  0.786845\n2 -0.254825 -0.488854\n3  0.365167  0.420730\n4  0.365167 -0.486337",
      "text/html": "<div>\n<style scoped>\n    .dataframe tbody tr th:only-of-type {\n        vertical-align: middle;\n    }\n\n    .dataframe tbody tr th {\n        vertical-align: top;\n    }\n\n    .dataframe thead th {\n        text-align: right;\n    }\n</style>\n<table border=\"1\" class=\"dataframe\">\n  <thead>\n    <tr style=\"text-align: right;\">\n      <th></th>\n      <th>Age_new</th>\n      <th>Fare_new</th>\n    </tr>\n  </thead>\n  <tbody>\n    <tr>\n      <th>0</th>\n      <td>-0.530377</td>\n      <td>-0.502445</td>\n    </tr>\n    <tr>\n      <th>1</th>\n      <td>0.571831</td>\n      <td>0.786845</td>\n    </tr>\n    <tr>\n      <th>2</th>\n      <td>-0.254825</td>\n      <td>-0.488854</td>\n    </tr>\n    <tr>\n      <th>3</th>\n      <td>0.365167</td>\n      <td>0.420730</td>\n    </tr>\n    <tr>\n      <th>4</th>\n      <td>0.365167</td>\n      <td>-0.486337</td>\n    </tr>\n  </tbody>\n</table>\n</div>"
     },
     "metadata": {},
     "execution_count": 213
    }
   ],
   "source": [
    "data_age_fare = pd.DataFrame({'Age_new':stnd_df[:,0],'Fare_new':stnd_df[:,1]})\n",
    "data_age_fare.head()"
   ]
  },
  {
   "cell_type": "code",
   "execution_count": 214,
   "metadata": {},
   "outputs": [
    {
     "output_type": "execute_result",
     "data": {
      "text/plain": "   2  3   Age  SibSp  Parch     Fare  Sex_New  Q  S  Survived   Age_new  \\\n0  0  1  22.0      1      0   7.2500        0  0  1         0 -0.530377   \n1  0  0  38.0      1      0  71.2833        1  0  0         1  0.571831   \n2  0  1  26.0      0      0   7.9250        1  0  1         1 -0.254825   \n3  0  0  35.0      1      0  53.1000        1  0  1         1  0.365167   \n4  0  1  35.0      0      0   8.0500        0  0  1         0  0.365167   \n\n   Fare_new  \n0 -0.502445  \n1  0.786845  \n2 -0.488854  \n3  0.420730  \n4 -0.486337  ",
      "text/html": "<div>\n<style scoped>\n    .dataframe tbody tr th:only-of-type {\n        vertical-align: middle;\n    }\n\n    .dataframe tbody tr th {\n        vertical-align: top;\n    }\n\n    .dataframe thead th {\n        text-align: right;\n    }\n</style>\n<table border=\"1\" class=\"dataframe\">\n  <thead>\n    <tr style=\"text-align: right;\">\n      <th></th>\n      <th>2</th>\n      <th>3</th>\n      <th>Age</th>\n      <th>SibSp</th>\n      <th>Parch</th>\n      <th>Fare</th>\n      <th>Sex_New</th>\n      <th>Q</th>\n      <th>S</th>\n      <th>Survived</th>\n      <th>Age_new</th>\n      <th>Fare_new</th>\n    </tr>\n  </thead>\n  <tbody>\n    <tr>\n      <th>0</th>\n      <td>0</td>\n      <td>1</td>\n      <td>22.0</td>\n      <td>1</td>\n      <td>0</td>\n      <td>7.2500</td>\n      <td>0</td>\n      <td>0</td>\n      <td>1</td>\n      <td>0</td>\n      <td>-0.530377</td>\n      <td>-0.502445</td>\n    </tr>\n    <tr>\n      <th>1</th>\n      <td>0</td>\n      <td>0</td>\n      <td>38.0</td>\n      <td>1</td>\n      <td>0</td>\n      <td>71.2833</td>\n      <td>1</td>\n      <td>0</td>\n      <td>0</td>\n      <td>1</td>\n      <td>0.571831</td>\n      <td>0.786845</td>\n    </tr>\n    <tr>\n      <th>2</th>\n      <td>0</td>\n      <td>1</td>\n      <td>26.0</td>\n      <td>0</td>\n      <td>0</td>\n      <td>7.9250</td>\n      <td>1</td>\n      <td>0</td>\n      <td>1</td>\n      <td>1</td>\n      <td>-0.254825</td>\n      <td>-0.488854</td>\n    </tr>\n    <tr>\n      <th>3</th>\n      <td>0</td>\n      <td>0</td>\n      <td>35.0</td>\n      <td>1</td>\n      <td>0</td>\n      <td>53.1000</td>\n      <td>1</td>\n      <td>0</td>\n      <td>1</td>\n      <td>1</td>\n      <td>0.365167</td>\n      <td>0.420730</td>\n    </tr>\n    <tr>\n      <th>4</th>\n      <td>0</td>\n      <td>1</td>\n      <td>35.0</td>\n      <td>0</td>\n      <td>0</td>\n      <td>8.0500</td>\n      <td>0</td>\n      <td>0</td>\n      <td>1</td>\n      <td>0</td>\n      <td>0.365167</td>\n      <td>-0.486337</td>\n    </tr>\n  </tbody>\n</table>\n</div>"
     },
     "metadata": {},
     "execution_count": 214
    }
   ],
   "source": [
    "saac_f = pd.concat([saac_f,data_age_fare],axis = 1)\n",
    "saac_f.head()\n"
   ]
  },
  {
   "cell_type": "code",
   "execution_count": 215,
   "metadata": {},
   "outputs": [
    {
     "output_type": "execute_result",
     "data": {
      "text/plain": "   2  3  SibSp  Parch  Sex_New  Q  S  Survived   Age_new  Fare_new\n0  0  1      1      0        0  0  1         0 -0.530377 -0.502445\n1  0  0      1      0        1  0  0         1  0.571831  0.786845\n2  0  1      0      0        1  0  1         1 -0.254825 -0.488854\n3  0  0      1      0        1  0  1         1  0.365167  0.420730\n4  0  1      0      0        0  0  1         0  0.365167 -0.486337",
      "text/html": "<div>\n<style scoped>\n    .dataframe tbody tr th:only-of-type {\n        vertical-align: middle;\n    }\n\n    .dataframe tbody tr th {\n        vertical-align: top;\n    }\n\n    .dataframe thead th {\n        text-align: right;\n    }\n</style>\n<table border=\"1\" class=\"dataframe\">\n  <thead>\n    <tr style=\"text-align: right;\">\n      <th></th>\n      <th>2</th>\n      <th>3</th>\n      <th>SibSp</th>\n      <th>Parch</th>\n      <th>Sex_New</th>\n      <th>Q</th>\n      <th>S</th>\n      <th>Survived</th>\n      <th>Age_new</th>\n      <th>Fare_new</th>\n    </tr>\n  </thead>\n  <tbody>\n    <tr>\n      <th>0</th>\n      <td>0</td>\n      <td>1</td>\n      <td>1</td>\n      <td>0</td>\n      <td>0</td>\n      <td>0</td>\n      <td>1</td>\n      <td>0</td>\n      <td>-0.530377</td>\n      <td>-0.502445</td>\n    </tr>\n    <tr>\n      <th>1</th>\n      <td>0</td>\n      <td>0</td>\n      <td>1</td>\n      <td>0</td>\n      <td>1</td>\n      <td>0</td>\n      <td>0</td>\n      <td>1</td>\n      <td>0.571831</td>\n      <td>0.786845</td>\n    </tr>\n    <tr>\n      <th>2</th>\n      <td>0</td>\n      <td>1</td>\n      <td>0</td>\n      <td>0</td>\n      <td>1</td>\n      <td>0</td>\n      <td>1</td>\n      <td>1</td>\n      <td>-0.254825</td>\n      <td>-0.488854</td>\n    </tr>\n    <tr>\n      <th>3</th>\n      <td>0</td>\n      <td>0</td>\n      <td>1</td>\n      <td>0</td>\n      <td>1</td>\n      <td>0</td>\n      <td>1</td>\n      <td>1</td>\n      <td>0.365167</td>\n      <td>0.420730</td>\n    </tr>\n    <tr>\n      <th>4</th>\n      <td>0</td>\n      <td>1</td>\n      <td>0</td>\n      <td>0</td>\n      <td>0</td>\n      <td>0</td>\n      <td>1</td>\n      <td>0</td>\n      <td>0.365167</td>\n      <td>-0.486337</td>\n    </tr>\n  </tbody>\n</table>\n</div>"
     },
     "metadata": {},
     "execution_count": 215
    }
   ],
   "source": [
    "saac_f = saac_f.drop(['Age','Fare'],axis = 1)\n",
    "saac_f.head()"
   ]
  },
  {
   "cell_type": "code",
   "execution_count": 216,
   "metadata": {},
   "outputs": [
    {
     "output_type": "execute_result",
     "data": {
      "text/plain": "array([2, 3, 'SibSp', 'Parch', 'Sex_New', 'Q', 'S', 'Survived', 'Age_new',\n       'Fare_new'], dtype=object)"
     },
     "metadata": {},
     "execution_count": 216
    }
   ],
   "source": [
    "saac_f.columns.values"
   ]
  },
  {
   "cell_type": "code",
   "execution_count": 217,
   "metadata": {},
   "outputs": [
    {
     "output_type": "execute_result",
     "data": {
      "text/plain": "   2  3  SibSp  Parch  Sex_New  Q  S   Age_new  Fare_new  Survived\n0  0  1      1      0        0  0  1 -0.530377 -0.502445         0\n1  0  0      1      0        1  0  0  0.571831  0.786845         1\n2  0  1      0      0        1  0  1 -0.254825 -0.488854         1\n3  0  0      1      0        1  0  1  0.365167  0.420730         1\n4  0  1      0      0        0  0  1  0.365167 -0.486337         0",
      "text/html": "<div>\n<style scoped>\n    .dataframe tbody tr th:only-of-type {\n        vertical-align: middle;\n    }\n\n    .dataframe tbody tr th {\n        vertical-align: top;\n    }\n\n    .dataframe thead th {\n        text-align: right;\n    }\n</style>\n<table border=\"1\" class=\"dataframe\">\n  <thead>\n    <tr style=\"text-align: right;\">\n      <th></th>\n      <th>2</th>\n      <th>3</th>\n      <th>SibSp</th>\n      <th>Parch</th>\n      <th>Sex_New</th>\n      <th>Q</th>\n      <th>S</th>\n      <th>Age_new</th>\n      <th>Fare_new</th>\n      <th>Survived</th>\n    </tr>\n  </thead>\n  <tbody>\n    <tr>\n      <th>0</th>\n      <td>0</td>\n      <td>1</td>\n      <td>1</td>\n      <td>0</td>\n      <td>0</td>\n      <td>0</td>\n      <td>1</td>\n      <td>-0.530377</td>\n      <td>-0.502445</td>\n      <td>0</td>\n    </tr>\n    <tr>\n      <th>1</th>\n      <td>0</td>\n      <td>0</td>\n      <td>1</td>\n      <td>0</td>\n      <td>1</td>\n      <td>0</td>\n      <td>0</td>\n      <td>0.571831</td>\n      <td>0.786845</td>\n      <td>1</td>\n    </tr>\n    <tr>\n      <th>2</th>\n      <td>0</td>\n      <td>1</td>\n      <td>0</td>\n      <td>0</td>\n      <td>1</td>\n      <td>0</td>\n      <td>1</td>\n      <td>-0.254825</td>\n      <td>-0.488854</td>\n      <td>1</td>\n    </tr>\n    <tr>\n      <th>3</th>\n      <td>0</td>\n      <td>0</td>\n      <td>1</td>\n      <td>0</td>\n      <td>1</td>\n      <td>0</td>\n      <td>1</td>\n      <td>0.365167</td>\n      <td>0.420730</td>\n      <td>1</td>\n    </tr>\n    <tr>\n      <th>4</th>\n      <td>0</td>\n      <td>1</td>\n      <td>0</td>\n      <td>0</td>\n      <td>0</td>\n      <td>0</td>\n      <td>1</td>\n      <td>0.365167</td>\n      <td>-0.486337</td>\n      <td>0</td>\n    </tr>\n  </tbody>\n</table>\n</div>"
     },
     "metadata": {},
     "execution_count": 217
    }
   ],
   "source": [
    "arr_t =[ 2, 3, 'SibSp', 'Parch', 'Sex_New', 'Q', 'S','Age_new','Fare_new','Survived']\n",
    "final = saac_f[arr_t]\n",
    "final.head()"
   ]
  },
  {
   "cell_type": "code",
   "execution_count": 218,
   "metadata": {},
   "outputs": [
    {
     "output_type": "execute_result",
     "data": {
      "text/plain": "array([-0.53037664,  0.57183099, -0.25482473,  0.36516706,         nan,\n        1.67403863, -1.90813618, -0.18593675, -1.08148046, -1.77036023,\n        1.94959054, -0.6681526 ,  0.64071897,  1.74292661,  0.08961515,\n        0.29627909, -1.01259248, -0.11704878, -1.49480832, -0.73704057,\n        0.70960695,  2.50069435,  0.8473829 , -0.59926462, -0.80592855,\n       -1.83924821, -1.5636963 ,  1.32959874, -0.0481608 ,  2.43180638,\n       -0.08260479, -1.70147225, -1.28814439,  1.05404683, -0.87481653,\n        0.15850313, -0.9437045 , -0.32371271, -1.98873512,  0.02072718,\n        0.22739111, -0.46148866, -0.39260069,  1.12293481,  2.01847851,\n        2.84513424,  0.50294302,  1.19182279, -1.04703647,  2.81069025,\n        0.19294712, -1.21925641, -1.42592034,  0.46849903,  1.4673747 ,\n        1.77737059,  0.74405094,  0.98515886, -1.97702416,  2.15625447,\n        1.81181458,  1.39848672,  0.43405504,  1.08849082, -0.63370861,\n        2.22514245,  0.77849493,  1.53626267,  2.29403042, -0.42704467,\n       -1.9825352 ,  0.91627088,  2.08736649, -1.35703237,  2.3629184 ,\n       -1.15036844,  1.26071077, -1.99424616,  1.60515065,  1.88070256,\n        3.46512604,  2.77624626, -0.3581567 , -1.63258428, -1.99975719,\n        0.05517117, -2.01697919,  0.33072307,  3.05179817])"
     },
     "metadata": {},
     "execution_count": 218
    }
   ],
   "source": [
    "final['Age_new'].unique()"
   ]
  },
  {
   "cell_type": "code",
   "execution_count": 219,
   "metadata": {},
   "outputs": [
    {
     "output_type": "execute_result",
     "data": {
      "text/plain": "0   -0.392601\ndtype: float64"
     },
     "metadata": {},
     "execution_count": 219
    }
   ],
   "source": [
    "final['Age_new'].mode()"
   ]
  },
  {
   "cell_type": "code",
   "execution_count": 220,
   "metadata": {},
   "outputs": [],
   "source": [
    "final_checkpoint = final.copy()"
   ]
  },
  {
   "cell_type": "code",
   "execution_count": 221,
   "metadata": {},
   "outputs": [
    {
     "output_type": "execute_result",
     "data": {
      "text/plain": "   2  3  SibSp  Parch  Sex_New  Q  S  Age_new  Fare_new  Survived\n0  0  1      1      0        0  0  1      NaN -0.502445         0\n1  0  0      1      0        1  0  0      NaN  0.786845         1\n2  0  1      0      0        1  0  1      NaN -0.488854         1\n3  0  0      1      0        1  0  1      NaN  0.420730         1\n4  0  1      0      0        0  0  1      NaN -0.486337         0",
      "text/html": "<div>\n<style scoped>\n    .dataframe tbody tr th:only-of-type {\n        vertical-align: middle;\n    }\n\n    .dataframe tbody tr th {\n        vertical-align: top;\n    }\n\n    .dataframe thead th {\n        text-align: right;\n    }\n</style>\n<table border=\"1\" class=\"dataframe\">\n  <thead>\n    <tr style=\"text-align: right;\">\n      <th></th>\n      <th>2</th>\n      <th>3</th>\n      <th>SibSp</th>\n      <th>Parch</th>\n      <th>Sex_New</th>\n      <th>Q</th>\n      <th>S</th>\n      <th>Age_new</th>\n      <th>Fare_new</th>\n      <th>Survived</th>\n    </tr>\n  </thead>\n  <tbody>\n    <tr>\n      <th>0</th>\n      <td>0</td>\n      <td>1</td>\n      <td>1</td>\n      <td>0</td>\n      <td>0</td>\n      <td>0</td>\n      <td>1</td>\n      <td>NaN</td>\n      <td>-0.502445</td>\n      <td>0</td>\n    </tr>\n    <tr>\n      <th>1</th>\n      <td>0</td>\n      <td>0</td>\n      <td>1</td>\n      <td>0</td>\n      <td>1</td>\n      <td>0</td>\n      <td>0</td>\n      <td>NaN</td>\n      <td>0.786845</td>\n      <td>1</td>\n    </tr>\n    <tr>\n      <th>2</th>\n      <td>0</td>\n      <td>1</td>\n      <td>0</td>\n      <td>0</td>\n      <td>1</td>\n      <td>0</td>\n      <td>1</td>\n      <td>NaN</td>\n      <td>-0.488854</td>\n      <td>1</td>\n    </tr>\n    <tr>\n      <th>3</th>\n      <td>0</td>\n      <td>0</td>\n      <td>1</td>\n      <td>0</td>\n      <td>1</td>\n      <td>0</td>\n      <td>1</td>\n      <td>NaN</td>\n      <td>0.420730</td>\n      <td>1</td>\n    </tr>\n    <tr>\n      <th>4</th>\n      <td>0</td>\n      <td>1</td>\n      <td>0</td>\n      <td>0</td>\n      <td>0</td>\n      <td>0</td>\n      <td>1</td>\n      <td>NaN</td>\n      <td>-0.486337</td>\n      <td>0</td>\n    </tr>\n  </tbody>\n</table>\n</div>"
     },
     "metadata": {},
     "execution_count": 221
    }
   ],
   "source": [
    "final['Age_new'] = final['Age_new'].map({'nan':-0.392601})\n",
    "final.head()"
   ]
  },
  {
   "cell_type": "code",
   "execution_count": 222,
   "metadata": {},
   "outputs": [],
   "source": [
    "final_checkpoint_2 = final_checkpoint.copy()"
   ]
  },
  {
   "cell_type": "code",
   "execution_count": 223,
   "metadata": {},
   "outputs": [],
   "source": [
    "final = final_checkpoint.copy()"
   ]
  },
  {
   "cell_type": "code",
   "execution_count": 224,
   "metadata": {},
   "outputs": [
    {
     "output_type": "execute_result",
     "data": {
      "text/plain": "   2  3  SibSp  Parch  Sex_New  Q  S   Age_new  Fare_new  Survived\n0  0  1      1      0        0  0  1 -0.530377 -0.502445         0\n1  0  0      1      0        1  0  0  0.571831  0.786845         1\n2  0  1      0      0        1  0  1 -0.254825 -0.488854         1\n3  0  0      1      0        1  0  1  0.365167  0.420730         1\n4  0  1      0      0        0  0  1  0.365167 -0.486337         0",
      "text/html": "<div>\n<style scoped>\n    .dataframe tbody tr th:only-of-type {\n        vertical-align: middle;\n    }\n\n    .dataframe tbody tr th {\n        vertical-align: top;\n    }\n\n    .dataframe thead th {\n        text-align: right;\n    }\n</style>\n<table border=\"1\" class=\"dataframe\">\n  <thead>\n    <tr style=\"text-align: right;\">\n      <th></th>\n      <th>2</th>\n      <th>3</th>\n      <th>SibSp</th>\n      <th>Parch</th>\n      <th>Sex_New</th>\n      <th>Q</th>\n      <th>S</th>\n      <th>Age_new</th>\n      <th>Fare_new</th>\n      <th>Survived</th>\n    </tr>\n  </thead>\n  <tbody>\n    <tr>\n      <th>0</th>\n      <td>0</td>\n      <td>1</td>\n      <td>1</td>\n      <td>0</td>\n      <td>0</td>\n      <td>0</td>\n      <td>1</td>\n      <td>-0.530377</td>\n      <td>-0.502445</td>\n      <td>0</td>\n    </tr>\n    <tr>\n      <th>1</th>\n      <td>0</td>\n      <td>0</td>\n      <td>1</td>\n      <td>0</td>\n      <td>1</td>\n      <td>0</td>\n      <td>0</td>\n      <td>0.571831</td>\n      <td>0.786845</td>\n      <td>1</td>\n    </tr>\n    <tr>\n      <th>2</th>\n      <td>0</td>\n      <td>1</td>\n      <td>0</td>\n      <td>0</td>\n      <td>1</td>\n      <td>0</td>\n      <td>1</td>\n      <td>-0.254825</td>\n      <td>-0.488854</td>\n      <td>1</td>\n    </tr>\n    <tr>\n      <th>3</th>\n      <td>0</td>\n      <td>0</td>\n      <td>1</td>\n      <td>0</td>\n      <td>1</td>\n      <td>0</td>\n      <td>1</td>\n      <td>0.365167</td>\n      <td>0.420730</td>\n      <td>1</td>\n    </tr>\n    <tr>\n      <th>4</th>\n      <td>0</td>\n      <td>1</td>\n      <td>0</td>\n      <td>0</td>\n      <td>0</td>\n      <td>0</td>\n      <td>1</td>\n      <td>0.365167</td>\n      <td>-0.486337</td>\n      <td>0</td>\n    </tr>\n  </tbody>\n</table>\n</div>"
     },
     "metadata": {},
     "execution_count": 224
    }
   ],
   "source": [
    "final.head()"
   ]
  },
  {
   "cell_type": "code",
   "execution_count": 225,
   "metadata": {},
   "outputs": [],
   "source": [
    "final['Age_new'] = final['Age_new'].fillna(final['Age_new'].mean())\n",
    "final['Fare_new'] = final['Fare_new'].fillna(final['Fare_new'].mean())"
   ]
  },
  {
   "cell_type": "code",
   "execution_count": 226,
   "metadata": {},
   "outputs": [],
   "source": [
    "final_processed = final.copy()"
   ]
  },
  {
   "cell_type": "code",
   "execution_count": 227,
   "metadata": {},
   "outputs": [],
   "source": [
    "final_processed.to_csv('processed.csv',index = False)"
   ]
  },
  {
   "cell_type": "code",
   "execution_count": 228,
   "metadata": {},
   "outputs": [
    {
     "output_type": "execute_result",
     "data": {
      "text/plain": "   2  3  SibSp  Parch  Sex_New  Q  S   Age_new  Fare_new\n0  0  1      1      0        0  0  1 -0.530377 -0.502445\n1  0  0      1      0        1  0  0  0.571831  0.786845\n2  0  1      0      0        1  0  1 -0.254825 -0.488854\n3  0  0      1      0        1  0  1  0.365167  0.420730\n4  0  1      0      0        0  0  1  0.365167 -0.486337",
      "text/html": "<div>\n<style scoped>\n    .dataframe tbody tr th:only-of-type {\n        vertical-align: middle;\n    }\n\n    .dataframe tbody tr th {\n        vertical-align: top;\n    }\n\n    .dataframe thead th {\n        text-align: right;\n    }\n</style>\n<table border=\"1\" class=\"dataframe\">\n  <thead>\n    <tr style=\"text-align: right;\">\n      <th></th>\n      <th>2</th>\n      <th>3</th>\n      <th>SibSp</th>\n      <th>Parch</th>\n      <th>Sex_New</th>\n      <th>Q</th>\n      <th>S</th>\n      <th>Age_new</th>\n      <th>Fare_new</th>\n    </tr>\n  </thead>\n  <tbody>\n    <tr>\n      <th>0</th>\n      <td>0</td>\n      <td>1</td>\n      <td>1</td>\n      <td>0</td>\n      <td>0</td>\n      <td>0</td>\n      <td>1</td>\n      <td>-0.530377</td>\n      <td>-0.502445</td>\n    </tr>\n    <tr>\n      <th>1</th>\n      <td>0</td>\n      <td>0</td>\n      <td>1</td>\n      <td>0</td>\n      <td>1</td>\n      <td>0</td>\n      <td>0</td>\n      <td>0.571831</td>\n      <td>0.786845</td>\n    </tr>\n    <tr>\n      <th>2</th>\n      <td>0</td>\n      <td>1</td>\n      <td>0</td>\n      <td>0</td>\n      <td>1</td>\n      <td>0</td>\n      <td>1</td>\n      <td>-0.254825</td>\n      <td>-0.488854</td>\n    </tr>\n    <tr>\n      <th>3</th>\n      <td>0</td>\n      <td>0</td>\n      <td>1</td>\n      <td>0</td>\n      <td>1</td>\n      <td>0</td>\n      <td>1</td>\n      <td>0.365167</td>\n      <td>0.420730</td>\n    </tr>\n    <tr>\n      <th>4</th>\n      <td>0</td>\n      <td>1</td>\n      <td>0</td>\n      <td>0</td>\n      <td>0</td>\n      <td>0</td>\n      <td>1</td>\n      <td>0.365167</td>\n      <td>-0.486337</td>\n    </tr>\n  </tbody>\n</table>\n</div>"
     },
     "metadata": {},
     "execution_count": 228
    }
   ],
   "source": [
    "inputs = final.iloc[:,0:9]\n",
    "inputs.head()"
   ]
  },
  {
   "cell_type": "code",
   "execution_count": 229,
   "metadata": {},
   "outputs": [
    {
     "output_type": "execute_result",
     "data": {
      "text/plain": "0.3838383838383838"
     },
     "metadata": {},
     "execution_count": 229
    }
   ],
   "source": [
    "targets = final['Survived']\n",
    "targets.sum()/891"
   ]
  },
  {
   "cell_type": "code",
   "execution_count": 230,
   "metadata": {},
   "outputs": [
    {
     "output_type": "execute_result",
     "data": {
      "text/plain": "(891, 10)"
     },
     "metadata": {},
     "execution_count": 230
    }
   ],
   "source": [
    "final.shape"
   ]
  },
  {
   "cell_type": "markdown",
   "metadata": {},
   "source": [
    "## solving  with balancing and shuffling "
   ]
  },
  {
   "cell_type": "code",
   "execution_count": 236,
   "metadata": {},
   "outputs": [
    {
     "output_type": "execute_result",
     "data": {
      "text/plain": "342"
     },
     "metadata": {},
     "execution_count": 236
    }
   ],
   "source": [
    "target_sum = int(np.sum(targets))\n",
    "target_sum"
   ]
  },
  {
   "cell_type": "code",
   "execution_count": 258,
   "metadata": {},
   "outputs": [],
   "source": [
    "list_to_emp = []\n",
    "counter_0 = 0\n",
    "for i in range(targets.shape[0]):\n",
    "    if targets[i]==0:\n",
    "        counter_0= counter_0+1\n",
    "        if counter_0>target_sum:\n",
    "           list_to_emp.append(i)"
   ]
  },
  {
   "cell_type": "code",
   "execution_count": 266,
   "metadata": {},
   "outputs": [],
   "source": [
    "# inputs_balanced = inputs.drop(inputs,list_to_emp,axis = 0)\n",
    "# targets_balanced \n",
    "inputs_1 = inputs.copy()\n",
    "targets_1 = targets.copy()\n",
    "inputs_balanced = inputs.drop(index = list_to_emp,axis = 0)\n",
    "target_balanced = targets.drop(index = list_to_emp,axis = 0)"
   ]
  },
  {
   "cell_type": "code",
   "execution_count": 270,
   "metadata": {},
   "outputs": [
    {
     "output_type": "execute_result",
     "data": {
      "text/plain": "0.5"
     },
     "metadata": {},
     "execution_count": 270
    }
   ],
   "source": [
    "target_balanced.sum()/target_balanced.shape[0]"
   ]
  },
  {
   "cell_type": "markdown",
   "metadata": {},
   "source": [
    "## shuffling"
   ]
  },
  {
   "cell_type": "code",
   "execution_count": 252,
   "metadata": {},
   "outputs": [],
   "source": [
    "# index = np.arange(targets.shape[0])\n",
    "# # index\n",
    "# np.random.shuffle(index)\n",
    "\n",
    "# shuffled_inputs = inputs[index]\n",
    "# shuffle_targets  = targets[index]"
   ]
  },
  {
   "cell_type": "markdown",
   "metadata": {},
   "source": [
    "## modelling"
   ]
  },
  {
   "cell_type": "code",
   "execution_count": 272,
   "metadata": {},
   "outputs": [],
   "source": [
    "from sklearn.linear_model import LogisticRegression\n"
   ]
  },
  {
   "cell_type": "code",
   "execution_count": 273,
   "metadata": {},
   "outputs": [],
   "source": [
    "model = LogisticRegression()"
   ]
  },
  {
   "cell_type": "code",
   "execution_count": 274,
   "metadata": {},
   "outputs": [
    {
     "output_type": "execute_result",
     "data": {
      "text/plain": "LogisticRegression()"
     },
     "metadata": {},
     "execution_count": 274
    }
   ],
   "source": [
    "model.fit(inputs_balanced,target_balanced)"
   ]
  },
  {
   "cell_type": "code",
   "execution_count": 275,
   "metadata": {},
   "outputs": [
    {
     "output_type": "execute_result",
     "data": {
      "text/plain": "0.7748538011695907"
     },
     "metadata": {},
     "execution_count": 275
    }
   ],
   "source": [
    "model.score(inputs_balanced,target_balanced)"
   ]
  },
  {
   "cell_type": "code",
   "execution_count": 276,
   "metadata": {},
   "outputs": [
    {
     "output_type": "execute_result",
     "data": {
      "text/plain": "array([[-0.71032919, -1.76357669, -0.3753789 ,  0.09517641,  2.42218265,\n         0.13096848, -0.4192417 , -0.48462328,  0.05950202]])"
     },
     "metadata": {},
     "execution_count": 276
    }
   ],
   "source": [
    "model.coef_"
   ]
  },
  {
   "cell_type": "code",
   "execution_count": 277,
   "metadata": {},
   "outputs": [
    {
     "output_type": "execute_result",
     "data": {
      "text/plain": "array([0.52319093])"
     },
     "metadata": {},
     "execution_count": 277
    }
   ],
   "source": [
    "model.intercept_"
   ]
  },
  {
   "cell_type": "markdown",
   "metadata": {},
   "source": [
    "## summary table"
   ]
  },
  {
   "cell_type": "code",
   "execution_count": 279,
   "metadata": {},
   "outputs": [],
   "source": [
    "arr = inputs_balanced.columns.values"
   ]
  },
  {
   "cell_type": "code",
   "execution_count": 280,
   "metadata": {},
   "outputs": [
    {
     "output_type": "execute_result",
     "data": {
      "text/plain": "array([2, 3, 'SibSp', 'Parch', 'Sex_New', 'Q', 'S', 'Age_new', 'Fare_new'],\n      dtype=object)"
     },
     "metadata": {},
     "execution_count": 280
    }
   ],
   "source": [
    "arr"
   ]
  },
  {
   "cell_type": "code",
   "execution_count": 283,
   "metadata": {},
   "outputs": [
    {
     "output_type": "execute_result",
     "data": {
      "text/plain": "   Features\n0         2\n1         3\n2     SibSp\n3     Parch\n4   Sex_New\n5         Q\n6         S\n7   Age_new\n8  Fare_new",
      "text/html": "<div>\n<style scoped>\n    .dataframe tbody tr th:only-of-type {\n        vertical-align: middle;\n    }\n\n    .dataframe tbody tr th {\n        vertical-align: top;\n    }\n\n    .dataframe thead th {\n        text-align: right;\n    }\n</style>\n<table border=\"1\" class=\"dataframe\">\n  <thead>\n    <tr style=\"text-align: right;\">\n      <th></th>\n      <th>Features</th>\n    </tr>\n  </thead>\n  <tbody>\n    <tr>\n      <th>0</th>\n      <td>2</td>\n    </tr>\n    <tr>\n      <th>1</th>\n      <td>3</td>\n    </tr>\n    <tr>\n      <th>2</th>\n      <td>SibSp</td>\n    </tr>\n    <tr>\n      <th>3</th>\n      <td>Parch</td>\n    </tr>\n    <tr>\n      <th>4</th>\n      <td>Sex_New</td>\n    </tr>\n    <tr>\n      <th>5</th>\n      <td>Q</td>\n    </tr>\n    <tr>\n      <th>6</th>\n      <td>S</td>\n    </tr>\n    <tr>\n      <th>7</th>\n      <td>Age_new</td>\n    </tr>\n    <tr>\n      <th>8</th>\n      <td>Fare_new</td>\n    </tr>\n  </tbody>\n</table>\n</div>"
     },
     "metadata": {},
     "execution_count": 283
    }
   ],
   "source": [
    "summary_table = pd.DataFrame(columns = ['Features'],data = arr)\n",
    "summary_table"
   ]
  },
  {
   "cell_type": "code",
   "execution_count": 284,
   "metadata": {},
   "outputs": [
    {
     "output_type": "execute_result",
     "data": {
      "text/plain": "   Features  coefficient\n0         2    -0.710329\n1         3    -1.763577\n2     SibSp    -0.375379\n3     Parch     0.095176\n4   Sex_New     2.422183\n5         Q     0.130968\n6         S    -0.419242\n7   Age_new    -0.484623\n8  Fare_new     0.059502",
      "text/html": "<div>\n<style scoped>\n    .dataframe tbody tr th:only-of-type {\n        vertical-align: middle;\n    }\n\n    .dataframe tbody tr th {\n        vertical-align: top;\n    }\n\n    .dataframe thead th {\n        text-align: right;\n    }\n</style>\n<table border=\"1\" class=\"dataframe\">\n  <thead>\n    <tr style=\"text-align: right;\">\n      <th></th>\n      <th>Features</th>\n      <th>coefficient</th>\n    </tr>\n  </thead>\n  <tbody>\n    <tr>\n      <th>0</th>\n      <td>2</td>\n      <td>-0.710329</td>\n    </tr>\n    <tr>\n      <th>1</th>\n      <td>3</td>\n      <td>-1.763577</td>\n    </tr>\n    <tr>\n      <th>2</th>\n      <td>SibSp</td>\n      <td>-0.375379</td>\n    </tr>\n    <tr>\n      <th>3</th>\n      <td>Parch</td>\n      <td>0.095176</td>\n    </tr>\n    <tr>\n      <th>4</th>\n      <td>Sex_New</td>\n      <td>2.422183</td>\n    </tr>\n    <tr>\n      <th>5</th>\n      <td>Q</td>\n      <td>0.130968</td>\n    </tr>\n    <tr>\n      <th>6</th>\n      <td>S</td>\n      <td>-0.419242</td>\n    </tr>\n    <tr>\n      <th>7</th>\n      <td>Age_new</td>\n      <td>-0.484623</td>\n    </tr>\n    <tr>\n      <th>8</th>\n      <td>Fare_new</td>\n      <td>0.059502</td>\n    </tr>\n  </tbody>\n</table>\n</div>"
     },
     "metadata": {},
     "execution_count": 284
    }
   ],
   "source": [
    "summary_table['coefficient'] = np.transpose(model.coef_)\n",
    "summary_table"
   ]
  },
  {
   "cell_type": "code",
   "execution_count": 286,
   "metadata": {},
   "outputs": [
    {
     "output_type": "execute_result",
     "data": {
      "text/plain": "    Features  coefficient\n0  Intercept     0.523191\n1          2    -0.710329\n2          3    -1.763577\n3      SibSp    -0.375379\n4      Parch     0.095176\n5    Sex_New     2.422183\n6          Q     0.130968\n7          S    -0.419242\n8    Age_new    -0.484623\n9   Fare_new     0.059502",
      "text/html": "<div>\n<style scoped>\n    .dataframe tbody tr th:only-of-type {\n        vertical-align: middle;\n    }\n\n    .dataframe tbody tr th {\n        vertical-align: top;\n    }\n\n    .dataframe thead th {\n        text-align: right;\n    }\n</style>\n<table border=\"1\" class=\"dataframe\">\n  <thead>\n    <tr style=\"text-align: right;\">\n      <th></th>\n      <th>Features</th>\n      <th>coefficient</th>\n    </tr>\n  </thead>\n  <tbody>\n    <tr>\n      <th>0</th>\n      <td>Intercept</td>\n      <td>0.523191</td>\n    </tr>\n    <tr>\n      <th>1</th>\n      <td>2</td>\n      <td>-0.710329</td>\n    </tr>\n    <tr>\n      <th>2</th>\n      <td>3</td>\n      <td>-1.763577</td>\n    </tr>\n    <tr>\n      <th>3</th>\n      <td>SibSp</td>\n      <td>-0.375379</td>\n    </tr>\n    <tr>\n      <th>4</th>\n      <td>Parch</td>\n      <td>0.095176</td>\n    </tr>\n    <tr>\n      <th>5</th>\n      <td>Sex_New</td>\n      <td>2.422183</td>\n    </tr>\n    <tr>\n      <th>6</th>\n      <td>Q</td>\n      <td>0.130968</td>\n    </tr>\n    <tr>\n      <th>7</th>\n      <td>S</td>\n      <td>-0.419242</td>\n    </tr>\n    <tr>\n      <th>8</th>\n      <td>Age_new</td>\n      <td>-0.484623</td>\n    </tr>\n    <tr>\n      <th>9</th>\n      <td>Fare_new</td>\n      <td>0.059502</td>\n    </tr>\n  </tbody>\n</table>\n</div>"
     },
     "metadata": {},
     "execution_count": 286
    }
   ],
   "source": [
    "summary_table.index = summary_table.index+1\n",
    "summary_table.loc[0] = ['Intercept',model.intercept_[0]]\n",
    "summary_table  = summary_table.sort_index()\n",
    "summary_table"
   ]
  },
  {
   "cell_type": "code",
   "execution_count": 288,
   "metadata": {},
   "outputs": [
    {
     "output_type": "execute_result",
     "data": {
      "text/plain": "    Features  coefficient  odds_ratio\n0  Intercept     0.523191    1.687403\n1          2    -0.710329    0.491482\n2          3    -1.763577    0.171431\n3      SibSp    -0.375379    0.687029\n4      Parch     0.095176    1.099853\n5    Sex_New     2.422183   11.270432\n6          Q     0.130968    1.139932\n7          S    -0.419242    0.657545\n8    Age_new    -0.484623    0.615929\n9   Fare_new     0.059502    1.061308",
      "text/html": "<div>\n<style scoped>\n    .dataframe tbody tr th:only-of-type {\n        vertical-align: middle;\n    }\n\n    .dataframe tbody tr th {\n        vertical-align: top;\n    }\n\n    .dataframe thead th {\n        text-align: right;\n    }\n</style>\n<table border=\"1\" class=\"dataframe\">\n  <thead>\n    <tr style=\"text-align: right;\">\n      <th></th>\n      <th>Features</th>\n      <th>coefficient</th>\n      <th>odds_ratio</th>\n    </tr>\n  </thead>\n  <tbody>\n    <tr>\n      <th>0</th>\n      <td>Intercept</td>\n      <td>0.523191</td>\n      <td>1.687403</td>\n    </tr>\n    <tr>\n      <th>1</th>\n      <td>2</td>\n      <td>-0.710329</td>\n      <td>0.491482</td>\n    </tr>\n    <tr>\n      <th>2</th>\n      <td>3</td>\n      <td>-1.763577</td>\n      <td>0.171431</td>\n    </tr>\n    <tr>\n      <th>3</th>\n      <td>SibSp</td>\n      <td>-0.375379</td>\n      <td>0.687029</td>\n    </tr>\n    <tr>\n      <th>4</th>\n      <td>Parch</td>\n      <td>0.095176</td>\n      <td>1.099853</td>\n    </tr>\n    <tr>\n      <th>5</th>\n      <td>Sex_New</td>\n      <td>2.422183</td>\n      <td>11.270432</td>\n    </tr>\n    <tr>\n      <th>6</th>\n      <td>Q</td>\n      <td>0.130968</td>\n      <td>1.139932</td>\n    </tr>\n    <tr>\n      <th>7</th>\n      <td>S</td>\n      <td>-0.419242</td>\n      <td>0.657545</td>\n    </tr>\n    <tr>\n      <th>8</th>\n      <td>Age_new</td>\n      <td>-0.484623</td>\n      <td>0.615929</td>\n    </tr>\n    <tr>\n      <th>9</th>\n      <td>Fare_new</td>\n      <td>0.059502</td>\n      <td>1.061308</td>\n    </tr>\n  </tbody>\n</table>\n</div>"
     },
     "metadata": {},
     "execution_count": 288
    }
   ],
   "source": [
    "## using the  numpy exp to measure the different coeficient\n",
    "summary_table['odds_ratio'] = np.exp(summary_table.coefficient)\n",
    "summary_table"
   ]
  },
  {
   "cell_type": "markdown",
   "metadata": {},
   "source": [
    "## table acc to significance of the features"
   ]
  },
  {
   "cell_type": "code",
   "execution_count": 291,
   "metadata": {},
   "outputs": [
    {
     "output_type": "execute_result",
     "data": {
      "text/plain": "    Features  coefficient  odds_ratio\n5    Sex_New     2.422183   11.270432\n0  Intercept     0.523191    1.687403\n6          Q     0.130968    1.139932\n4      Parch     0.095176    1.099853\n9   Fare_new     0.059502    1.061308\n3      SibSp    -0.375379    0.687029\n7          S    -0.419242    0.657545\n8    Age_new    -0.484623    0.615929\n1          2    -0.710329    0.491482\n2          3    -1.763577    0.171431",
      "text/html": "<div>\n<style scoped>\n    .dataframe tbody tr th:only-of-type {\n        vertical-align: middle;\n    }\n\n    .dataframe tbody tr th {\n        vertical-align: top;\n    }\n\n    .dataframe thead th {\n        text-align: right;\n    }\n</style>\n<table border=\"1\" class=\"dataframe\">\n  <thead>\n    <tr style=\"text-align: right;\">\n      <th></th>\n      <th>Features</th>\n      <th>coefficient</th>\n      <th>odds_ratio</th>\n    </tr>\n  </thead>\n  <tbody>\n    <tr>\n      <th>5</th>\n      <td>Sex_New</td>\n      <td>2.422183</td>\n      <td>11.270432</td>\n    </tr>\n    <tr>\n      <th>0</th>\n      <td>Intercept</td>\n      <td>0.523191</td>\n      <td>1.687403</td>\n    </tr>\n    <tr>\n      <th>6</th>\n      <td>Q</td>\n      <td>0.130968</td>\n      <td>1.139932</td>\n    </tr>\n    <tr>\n      <th>4</th>\n      <td>Parch</td>\n      <td>0.095176</td>\n      <td>1.099853</td>\n    </tr>\n    <tr>\n      <th>9</th>\n      <td>Fare_new</td>\n      <td>0.059502</td>\n      <td>1.061308</td>\n    </tr>\n    <tr>\n      <th>3</th>\n      <td>SibSp</td>\n      <td>-0.375379</td>\n      <td>0.687029</td>\n    </tr>\n    <tr>\n      <th>7</th>\n      <td>S</td>\n      <td>-0.419242</td>\n      <td>0.657545</td>\n    </tr>\n    <tr>\n      <th>8</th>\n      <td>Age_new</td>\n      <td>-0.484623</td>\n      <td>0.615929</td>\n    </tr>\n    <tr>\n      <th>1</th>\n      <td>2</td>\n      <td>-0.710329</td>\n      <td>0.491482</td>\n    </tr>\n    <tr>\n      <th>2</th>\n      <td>3</td>\n      <td>-1.763577</td>\n      <td>0.171431</td>\n    </tr>\n  </tbody>\n</table>\n</div>"
     },
     "metadata": {},
     "execution_count": 291
    }
   ],
   "source": [
    "summary_table.sort_values('odds_ratio',ascending = False)"
   ]
  },
  {
   "cell_type": "markdown",
   "metadata": {},
   "source": [
    "## testing the model"
   ]
  },
  {
   "cell_type": "code",
   "execution_count": 296,
   "metadata": {},
   "outputs": [
    {
     "output_type": "execute_result",
     "data": {
      "text/plain": "  0  1 -8.987324e-02 -1.724051e-01\n120  1  0      0      0        1  0  1 -1.290452e+00 -3.559637e-01\n121  0  1      1      0        0  1  0  4.280378e-17 -4.992288e-01\n122  0  0      1      0        1  0  0  3.338605e-01  3.961786e-01\n123  0  1      0      0        0  0  1 -1.604955e-01 -5.081829e-01\n124  0  1      0      0        0  1  0  4.280378e-17 -4.992288e-01\n125  0  1      0      1        1  0  1 -9.373407e-01 -3.496958e-01\n126  0  1      0      0        0  0  1 -5.842293e-01 -4.984087e-01\n127  0  1      2      0        1  1  0  4.280378e-17 -2.216525e-01\n128  1  0      0      0        0  0  1  8.282165e-01 -4.052111e-01\n129  0  1      0      0        0  0  1 -4.429847e-01 -4.938564e-01\n130  0  1      0      0        0  0  1  1.219936e-01 -4.938564e-01\n131  0  0      0      0        0  0  0  1.605062e+00 -1.276348e-01\n132  0  1      0      4        1  0  1  4.280378e-17 -1.819555e-01\n133  0  1      1      0        0  0  0  4.280378e-17 -5.227333e-01\n134  0  1      0      0        0  0  1  8.988388e-01 -4.966178e-01\n135  0  1      0      0        0  0  1 -4.429847e-01 -4.973628e-01\n136  0  1      0      0        0  0  0 -2.664290e-01 -5.086306e-01\n137  1  0      0      0        0  0  1 -3.017401e-01 -4.052111e-01\n138  0  1      0      0        1  0  1 -5.136070e-01 -4.938564e-01\n139  0  1      1      6        0  0  1  6.869719e-01  2.018752e-01\n140  0  1      5      2        1  0  1 -1.431697e+00  2.018752e-01\n141  0  0      0      0        1  0  1  1.926159e-01  2.075963e+00\n142  0  0      1      3        0  0  0  2.170040e+00  4.060634e+00\n143  1  0      0      0        0  0  1 -1.604955e-01 -1.724051e-01\n144  0  0      0      0        0  0  1  8.282165e-01 -1.625556e-01\n145  0  1      3      0        0  0  1  5.137133e-02 -3.156703e-01\n146  0  0      0      0        0  0  1  4.280378e-17  2.907444e-01\n147  0  1      0      0        0  0  1 -5.842293e-01 -4.938564e-01\n148  0  0      0      0        0  0  1  4.280378e-17 -1.625556e-01\n149  1  0      1      1        0  0  1 -1.925095e-02 -1.724051e-01\n150  0  0      0      1        1  0  0 -5.136070e-01  8.511942e-01\n151  0  1      0      0        0  0  0  4.280378e-17 -4.966178e-01\n152  0  1      0      0        0  0  1  2.134729e+00 -5.258251e-17\n153  0  1      0      2        1  0  1  4.044828e-01 -4.198366e-01\n154  0  1      4      2        0  0  1 -1.219830e+00 -7.592497e-02\n155  0  1      0      0        0  0  1 -4.429847e-01 -5.028105e-01\n156  0  0      0      0        1  0  1 -8.987324e-02  3.333638e+00\n157  0  1      0      0        1  0  1 -5.136070e-01 -4.973628e-01\n158  0  0      0      0        0  0  1  8.282165e-01 -1.625556e-01\n159  0  1      0      2        1  0  1 -3.017401e-01 -3.913322e-01\n160  0  1      0      0        1  1  0  4.280378e-17 -4.995279e-01\n161  0  1      1      1        0  0  0 -1.643564e+00 -3.649929e-01\n162  1  0      0      0        1  0  1 -3.017401e-01 -3.962570e-01\n163  0  1      0      0        0  0  1  4.280378e-17 -5.126600e-01\n164  1  0      0      0        0  0  1  7.575942e-01 -4.052111e-01\n165  0  1      1      1        1  0  1 -3.017401e-01 -2.435900e-01\n166  0  0      0      0        0  0  0  1.251950e+00  2.662693e-01\n167  0  1      2      2        0  0  1 -8.667184e-01 -2.242438e-02\n168  0  0      0      0        1  0  0  4.280378e-17 -1.415888e-01\n169  0  1      0      0        1  0  1 -5.842293e-01 -4.775152e-01\n170  0  1      0      0        0  0  1  4.280378e-17 -5.028105e-01\n171  0  1      0      0        0  0  0 -2.311178e-01 -5.086306e-01\n172  0  1      1      0        0  0  1 -5.136070e-01 -3.890937e-01\n173  0  1      0      0        0  0  0  4.280378e-17 -5.085554e-01\n174  0  1      1      5        0  0  1  6.869719e-01 -7.592497e-02\n175  1  0      0      2        1  0  1 -1.078585e+00  6.040081e-02\n176  1  0      0      0        1  0  1 -7.254738e-01  2.010748e-02\n177  0  0      1      0        0  0  0  1.675684e+00  3.548412e-01\n178  1  0      0      3        1  0  1  4.044828e-01  6.040081e-02\n179  0  0      0      2        1  0  0  2.381907e+00  8.511942e-01\n180  1  0      0      0        0  0  1 -1.925095e-02 -4.052111e-01\n181  0  0      1      1        0  0  0  4.751051e-01  8.511942e-01\n182  0  0      1      0        1  0  1 -8.667184e-01  3.129057e-01\n183  0  1      0      0        0  1  0  4.280378e-17 -4.992288e-01\n184  0  0      1      1        1  0  0 -2.311178e-01  3.794622e+00\n185  1  0      0      0        0  0  1  6.869719e-01 -3.514866e-01\n186  1  0      0      1        1  0  1 -6.548515e-01 -2.619459e-01\n187  0  1      2      0        0  0  1 -9.373407e-01 -4.938564e-01\n188  0  1      8      2        1  0  1  4.280378e-17  6.074948e-01\n189  1  0      0      0        0  0  1  6.869719e-01 -4.052111e-01\n190  1  0      1      0        0  0  1  2.632382e-01 -1.724051e-01\n191  0  0      0      0        0  0  1  4.280378e-17 -1.724051e-01\n192  0  1      1      1        0  0  1 -1.325763e+00 -3.783488e-01\n193  1  0      0      0        0  1  0  2.170040e+00 -4.168514e-01\n194  1  0      0      2        0  0  1 -1.572941e+00 -5.600216e-02\n195  0  1      0      0        0  0  1  1.926159e-01 -4.973628e-01\n196  0  0      0      2        0  0  0 -1.714186e+00  1.770629e+00\n197  0  1      0      0        1  0  1 -8.667184e-01 -4.987811e-01\n198  1  0      0      0        0  0  1 -5.136070e-01 -4.499814e-01\n199  0  1      0      0        1  0  1  4.280378e-17 -4.927371e-01\n200  0  1      0      0        1  1  0  4.280378e-17 -3.604407e-01\n201  0  1      0      2        0  0  1 -2.114614e+00 -3.801397e-01\n202  0  0      1      0        0  0  0  1.181328e+00  3.436535e+00\n203  1  0      1      1        1  0  1 -1.572941e+00 -1.724051e-01\n204  1  0      0      0        0  0  1 -3.723624e-01 -4.499814e-01\n205  0  0      0      0        0  0  0  4.280378e-17 -1.770308e-01\n206  0  1      0      0        1  1  0  3.338605e-01 -4.992288e-01\n207  1  0      0      0        0  0  1 -4.429847e-01 -4.499814e-01\n208  0  0      0      0        1  0  0  1.926159e-01 -1.415888e-01\n209  0  1      0      0        0  0  1 -3.723624e-01 -4.966178e-01\n210  0  1      0      0        0  0  1  1.219936e-01 -2.346359e-01\n211  0  1      0      0        0  0  1  4.280378e-17 -5.117645e-01\n212  1  0      0      0        0  0  1 -9.373407e-01  6.782319e-01\n213  1  0      1      0        1  0  1  2.099418e+00 -1.724051e-01\n214  0  1      4      2        1  0  1  5.457273e-01 -4.987811e-01\n215  0  0      0      0        0  0  1  8.282165e-01  1.230793e-01\n216  0  1      0      0        1  1  0  4.280378e-17 -4.969151e-01\n217  0  0      1      1        0  0  1  1.887551e+00  2.314440e+00\n218  0  0      1      1        1  0  0  1.393195e+00  3.149557e+00\n219  0  1      0      0        0  0  1  4.280378e-17 -4.938564e-01\n220  1  0      1      0        1  0  0 -1.925095e-02 -3.898405e-01\n221  0  1      0      0        0  0  1 -6.548515e-01 -4.938564e-01\n222  1  0      0      0        1  0  1 -5.842293e-01 -4.499814e-01\n223  0  1      0      0        0  0  1 -6.548515e-01 -4.984087e-01\n224  0  0      0      0        1  0  0  1.605062e+00 -1.465135e-01\n225  0  1      0      2        1  0  0  4.280378e-17 -3.649929e-01\n226  0  1      0      0        0  0  1 -5.136070e-01 -4.984087e-01\n227  0  1      0      0        1  1  0  4.280378e-17 -4.992288e-01\n228  0  1      0      0        0  0  1  7.222831e-01 -3.676039e-01\n229  1  0      0      0        0  0  1  4.044828e-01 -4.052111e-01\n230  1  0      0      0        0  0  1 -1.149208e+00  5.260127e-01\n231  0  0      0      0        1  0  1 -6.548515e-01 -1.625556e-01\n232  0  1      1      0        0  0  1 -6.548515e-01 -5.216892e-01\n233  0  1      0      0        0  1  0  4.280378e-17 -4.969151e-01\n234  0  0      1      0        0  0  0  6.163496e-01  6.385350e-01\n235  0  1      0      0        0  0  1 -7.254738e-01 -4.973628e-01\n236  0  0      1      0        0  0  0  2.381907e+00  7.095712e-01\n237  0  1      0      0        0  0  0 -7.254738e-01 -5.086306e-01\n238  1  0      1      1        1  0  1 -8.667184e-01 -4.052111e-01\n239  0  0      1      0        1  0  0  1.251950e+00  1.267858e+00\n240  0  0      0      0        1  0  0  1.746306e+00 -1.415888e-01\n241  1  0      0      2        1  0  1  1.040083e+00 -1.007725e-01\n242  0  0      1      1        0  0  0  1.040083e+00  1.770629e+00\n243  0  1      0      0        0  0  1  4.280378e-17 -4.967665e-01\n244  0  1      1      2        0  0  1  4.280378e-17 -2.180709e-01\n245  0  0      1      0        0  0  1  7.575942e-01  2.907444e-01\n246  1  0      0      0        1  0  1 -5.842293e-01 -2.619459e-01\n247  1  0      1      1        0  0  1  8.282165e-01 -5.600216e-02\n248  1  0      1      0        1  0  1 -8.987324e-02 -1.724051e-01\n249  0  1      1      0        1  0  0  4.280378e-17 -3.791690e-01\n250  1  0      1      2        1  0  1 -2.072947e+00 -1.410659e-01\n251  0  1      0      0        0  0  1 -7.254738e-01 -4.960949e-01\n252  0  0      1      0        0  0  0 -2.311178e-01  1.811445e+00\n253  0  1      0      0        0  0  1 -4.429847e-01 -4.710235e-01\n254  0  1      0      0        0  0  1  1.573048e-01 -4.678896e-01\n255  0  1      0      0        0  0  1  4.280378e-17 -5.028105e-01\n256  0  1      0      0        0  1  0  4.280378e-17 -4.992288e-01\n257  0  1      0      0        0  0  1 -1.604955e-01 -4.938564e-01\n258  1  0      0      0        1  0  1 -7.960961e-01 -4.052111e-01\n259  0  1      0      0        0  0  1 -6.548515e-01 -4.987811e-01\n260  0  1      1      0        0  0  1  4.397939e-01 -3.264152e-01\n261  0  1      0      0        0  0  1 -6.548515e-01 -4.973628e-01\n262  1  0      0      2        1  0  1 -8.987324e-02 -2.261296e-01\n263  0  1      1      1        1  0  1 -2.067297e+00 -4.198366e-01\n264  1  0      0      0        0  0  0 -1.925095e-02 -4.099120e-01\n265  0  1      0      0        0  0  1  4.280378e-17 -4.966178e-01\n266  0  0      0      0        0  0  1  4.280378e-17 -6.380170e-01\n267  0  1      0      0        0  0  1  4.280378e-17 -5.028105e-01\n268  0  1      0      0        1  0  1  4.280378e-17 -4.938564e-01\n269  0  1      0      0        0  0  1 -9.373407e-01 -4.828877e-01\n270  0  0      0      0        0  0  0  1.110706e+00  7.094226e-01\n271  0  1      0      0        0  1  0  4.280378e-17 -4.992288e-01\n272  0  0      1      0        1  0  0 -3.017401e-01  1.811445e+00\n273  0  1      1      0        1  1  0  4.280378e-17 -3.604407e-01\n274  0  1      0      0        0  0  0  4.280378e-17 -5.086306e-01\n275  1  0      1      0        1  0  1 -7.254738e-01 -1.724051e-01\n276  1  0      0      0        0  0  1 -1.604955e-01 -4.499814e-01\n277  1  0      1      0        0  0  1  6.869719e-01 -1.724051e-01\n278  1  0      1      0        0  0  1 -1.925095e-02 -2.619459e-01\n279  1  0      0      0        0  0  1 -5.842293e-01 -4.499814e-01\n280  0  1      0      0        1  0  1 -5.136070e-01 -4.828877e-01\n281  0  1      1      1        0  0  1 -2.084953e+00 -3.913322e-01\n282  0  1      0      0        1  1  0  4.280378e-17 -4.992288e-01\n283  0  1      1      1        1  0  0 -1.502319e+00 -3.649929e-01\n284  0  1      1      1        1  0  1 -1.996675e+00 -2.760485e-01\n285  0  1      0      0        0  0  1  4.044828e-01 -5.081829e-01\n286  0  1      0      0        0  0  1  4.280378e-17 -5.081829e-01\n287  0  0      1      0        0  0  1 -4.429847e-01  8.352273e-01\n288  0  1      0      0        0  0  0  4.280378e-17 -5.085554e-01\n289  0  1      0      0        0  0  1  4.280378e-17 -4.938564e-01\n290  0  0      0      0        0  0  1  4.280378e-17  7.114570e-02\n291  0  1      0      0        1  1  0 -1.925095e-02 -5.135554e-01\n292  0  1      0      0        0  0  0  4.280378e-17 -5.085554e-01\n293  0  0      1      1        0  0  1  1.605062e+00  8.279136e-01\n294  0  1      0      0        0  0  1  4.044828e-01 -4.678896e-01\n295  0  1      0      0        0  0  1 -3.017401e-01 -4.966178e-01\n296  1  0      1      2        1  0  0 -2.067297e+00  1.065895e-01\n297  0  1      2      0        0  0  0  4.280378e-17 -2.497827e-01\n298  0  0      0      0        0  0  1 -1.925095e-02  1.768038e-01\n299  0  1      0      0        0  0  1 -8.987324e-02 -4.973628e-01\n300  0  1      0      0        0  0  1  1.219936e-01 -4.987811e-01\n301  1  0      0      0        0  0  0  4.280378e-17 -3.685746e-01\n302  1  0      0      1        0  0  1  8.988388e-01 -2.619459e-01\n303  0  1      0      0        0  0  1 -4.429847e-01 -4.828877e-01\n304  0  1      0      0        1  1  0  4.280378e-17 -4.992288e-01\n305  0  0      1      1        1  0  1  2.381907e+00 -1.625556e-01\n306  0  0      1      2        0  0  1 -1.925095e-02  2.075963e+00\n307  0  1      0      1        0  0  1 -2.079303e+00 -4.705758e-01\n308  0  0      1      1        0  0  1  1.746306e+00  1.036395e+00\n309  0  1      1      0        1  0  1  1.040083e+00 -3.853635e-01\n310  0  1      0      0        0  0  1 -8.667184e-01 -4.828877e-01\n311  0  1      0      0        0  0  0 -5.842293e-01 -5.086306e-01\n312  0  1      0      0        0  0  1  4.280378e-17 -5.023628e-01\n313  0  1      0      0        1  1  0  4.751051e-01 -4.992288e-01\n314  0  0      0      0        1  0  0  1.746306e+00  1.790924e+00\n315  0  1      0      0        1  1  0 -9.373407e-01 -4.995279e-01\n316  0  0      1      0        0  0  0  1.887551e+00  1.985899e+00\n317  1  0      0      0        0  0  1 -7.960961e-01 -4.499814e-01\n318  0  1      0      0        0  0  1 -2.311178e-01 -4.973628e-01\n319  1  0      2      0        0  0  1 -5.842293e-01 -7.391031e-02\n320  0  1      0      0        0  0  1 -3.017401e-01 -4.987811e-01\n321  0  1      0      0        0  0  0 -3.723624e-01 -5.085554e-01\n322  1  0      0      0        0  0  1 -3.017401e-01 -4.052111e-01\n323  0  0      0      0        0  0  1  1.926159e-01 -1.625556e-01\n324  0  0      0      0        1  0  1  6.163496e-01  3.146646e+00\n325  0  1      0      0        0  0  1 -5.136070e-01 -5.117645e-01\n326  1  0      2      1        1  0  1 -1.290452e+00  6.040081e-02\n327  0  0      0      0        0  0  0  1.110706e+00  7.803084e-01\n328  1  0      1      0        0  0  1 -8.987324e-02 -1.724051e-01\n329  1  0      0      0        0  0  1 -6.548515e-01 -4.052111e-01\n330  1  0      0      2        1  0  1  1.251950e+00  2.010748e-02\n331  0  0      0      0        0  0  0  6.163496e-01 -1.061450e-01\n332  0  1      0      0        0  0  0  4.280378e-17 -5.086306e-01\n333  0  1      1      1        1  0  0 -7.960961e-01 -3.561123e-01\n334  0  1      0      0        0  0  1 -2.311178e-01 -4.966178e-01\n335  0  0      0      0        0  0  1 -1.925095e-02 -1.724051e-01\n336  1  0      0      0        0  0  1  1.219936e-01 -4.052111e-01\n337  0  1      0      2        0  0  0  6.163496e-01 -5.085554e-01\n338  1  0      0      0        0  0  1 -3.723624e-01 -7.391031e-02\n339  0  1      0      0        0  0  0  4.280378e-17 -5.085554e-01\n340  1  0      0      0        0  0  1 -8.667184e-01 -4.499814e-01\n341  0  1      0      0        0  0  1  1.219936e-01 -5.022876e-01\n342  0  1      1      9        0  0  1  4.280378e-17  6.074948e-01\n343  0  0      0      1        1  0  0  1.958173e+00  8.536851e+00\n344  0  1      1      1        0  0  1  4.280378e-17 -3.783488e-01\n345  0  1      0      0        1  0  1 -1.007963e+00 -5.010197e-01\n346  1  0      0      0        0  0  1 -3.017401e-01 -4.052111e-01\n347  0  1      0      0        1  0  0  5.457273e-01 -5.085554e-01\n348  1  0      0      0        0  0  1 -4.429847e-01 -3.962570e-01\n349  1  0      0      0        1  0  1  5.137133e-02 -2.619459e-01\n350  0  0      0      1        1  0  0  1.040083e+00  4.966129e-01\n351  1  0      0      0        0  0  1 -3.723624e-01 -4.499814e-01\n352  1  0      0      0        0  0  1 -8.667184e-01  6.782319e-01\n353  1  0      1      2        0  0  1  1.322573e+00  5.260127e-01\n354  0  1      1      2        1  0  1 -2.125914e+00 -2.695568e-01\n355  0  0      0      0        0  0  1  1.393195e+00 -1.724051e-01\n356  0  0      2      0        1  0  1  2.028795e+00  2.838802e-01\n357  0  1      0      0        0  0  1  4.280378e-17 -4.969151e-01\n358  0  1      0      0        0  1  0  4.280378e-17 -4.992288e-01\n359  0  1      1      0        1  0  1 -1.925095e-02 -3.595453e-01\n360  0  1      8      2        0  0  1 -1.113896e+00  6.074948e-01\n361  1  0      1      1        1  0  0 -4.429847e-01  2.465973e-02\n362  1  0      0      0        1  0  1  5.137133e-02 -2.619459e-01\n363  0  1      0      0        0  0  1 -2.311178e-01 -4.828877e-01\n364  0  0      1      0        1  0  0 -3.723624e-01  3.548412e-01\n365  0  1      1      9        1  0  1  4.280378e-17  6.074948e-01\n366  0  1      1      0        0  0  0  4.280378e-17 -3.790956e-01\n367  0  1      0      0        1  0  1 -5.842293e-01  7.271266e-02\n368  0  0      0      1        1  0  0  1.040083e+00  4.257270e-01\n369  1  0      0      0        0  0  0 -8.987324e-02 -3.898405e-01\n370  1  0      1      0        0  0  1 -6.548515e-01 -4.320733e-01\n371  0  0      0      0        1  0  0  5.137133e-02  1.770629e+00\n372  0  0      0      0        0  0  1  1.322573e+00 -6.380170e-01\n373  1  0      0      0        0  0  1  9.694611e-01 -4.052111e-01\n374  0  0      1      1        1  0  1  1.675684e+00  8.279136e-01\n375  0  0      0      0        1  0  0  1.040083e+00  4.060634e+00\n376  0  1      2      0        1  0  1 -5.842293e-01 -4.828877e-01\n377  1  0      0      0        0  0  1 -6.548515e-01 -4.320733e-01\n378  0  0      0      0        0  0  1  1.746306e+00  2.573904e-01\n379  0  1      4      2        0  0  1 -1.784808e+00 -7.592497e-02\n380  0  1      0      0        0  1  0  4.280378e-17 -4.992288e-01\n381  0  1      0      0        0  1  0 -3.017401e-01 -4.969151e-01\n382  0  1      0      0        1  0  1  4.280378e-17 -3.783488e-01\n383  0  1      1      0        1  0  1 -7.960961e-01 -3.496958e-01\n384  1  0      0      0        0  0  1  4.280378e-17 -4.074496e-01\n385  1  0      1      2        1  0  1 -4.429847e-01  5.260127e-01\n386  0  1      0      0        0  0  1 -4.429847e-01 -4.987811e-01\n387  1  0      0      0        0  0  1  1.887551e+00 -4.052111e-01\n388  0  1      0      0        0  1  0 -6.548515e-01 -4.992288e-01\n389  0  1      3      1        0  0  1 -1.714186e+00 -2.606028e-01\n390  0  0      0      0        0  0  1 -5.136070e-01  1.036395e+00\n391  0  0      0      1        1  0  1  1.463817e+00  6.756407e-02\n392  0  1      0      2        0  0  1 -1.219830e+00 -2.753770e-01\n393  1  0      0      0        0  0  1  1.181328e+00 -4.499814e-01\n394  0  1      3      1        0  0  1 -8.987324e-02 -2.435900e-01\n395  0  0      1      0        1  0  1 -8.667184e-01  4.364719e-01\n396  0  1      0      0        0  1  0 -4.429847e-01 -5.081829e-01\n397  0  0      1      1        1  0  0  1.251950e+00  7.803084e-01\n398  0  1      0      0        0  0  1 -5.842293e-01 -4.987811e-01\n399  0  1      0      0        0  1  0  5.137133e-02 -4.995279e-01\n400  0  0      0      0        1  0  1 -1.925095e-02  2.314440e+00\n401  1  0      1      0        0  0  1  5.457273e-01 -2.619459e-01\n402  0  0      0      1        1  0  0 -5.842293e-01  4.257270e-01\n403  0  0      0      0        0  0  1 -9.373407e-01  2.054568e-01\n404  0  0      1      0        0  0  0  8.988388e-01 -1.415888e-01\n405  1  0      0      0        0  0  0 -7.254738e-01 -3.897653e-01\n406  1  0      1      0        0  0  1 -5.136070e-01 -4.499814e-01\n407  0  0      1      1        0  0  0  1.393195e+00  3.149557e+00\n408  0  1      0      0        1  1  0  4.280378e-17 -4.997518e-01\n409  0  1      1      1        1  0  1 -1.926053e+00 -3.913322e-01\n410  0  1      0      0        1  1  0  4.280378e-17 -4.992288e-01\n411  0  0      1      0        1  1  0  4.751051e-01  9.737164e-01\n412  0  1      0      0        1  0  1 -1.604955e-01 -4.987811e-01\n413  0  1      0      0        0  0  1  4.280378e-17 -4.938564e-01\n414  0  0      0      0        1  0  0  6.163496e-01  1.312180e+00\n415  0  1      0      0        0  0  1  5.810385e-01 -5.081829e-01\n416  0  1      0      0        0  0  1  4.280378e-17 -4.938564e-01\n417  0  1      1      1        0  0  0  4.280378e-17 -2.376212e-01",
      "text/html": "<div>\n<style scoped>\n    .dataframe tbody tr th:only-of-type {\n        vertical-align: middle;\n    }\n\n    .dataframe tbody tr th {\n        vertical-align: top;\n    }\n\n    .dataframe thead th {\n        text-align: right;\n    }\n</style>\n<table border=\"1\" class=\"dataframe\">\n  <thead>\n    <tr style=\"text-align: right;\">\n      <th></th>\n      <th>2</th>\n      <th>3</th>\n      <th>SibSp</th>\n      <th>Parch</th>\n      <th>Sex_New</th>\n      <th>Q</th>\n      <th>S</th>\n      <th>Age_new</th>\n      <th>Fare_new</th>\n    </tr>\n  </thead>\n  <tbody>\n    <tr>\n      <th>0</th>\n      <td>0</td>\n      <td>1</td>\n      <td>0</td>\n      <td>0</td>\n      <td>0</td>\n      <td>1</td>\n      <td>0</td>\n      <td>2.985493e-01</td>\n      <td>-4.978105e-01</td>\n    </tr>\n    <tr>\n      <th>1</th>\n      <td>0</td>\n      <td>1</td>\n      <td>1</td>\n      <td>0</td>\n      <td>1</td>\n      <td>0</td>\n      <td>1</td>\n      <td>1.181328e+00</td>\n      <td>-5.126600e-01</td>\n    </tr>\n    <tr>\n      <th>2</th>\n      <td>1</td>\n      <td>0</td>\n      <td>0</td>\n      <td>0</td>\n      <td>0</td>\n      <td>1</td>\n      <td>0</td>\n      <td>2.240662e+00</td>\n      <td>-4.645318e-01</td>\n    </tr>\n    <tr>\n      <th>3</th>\n      <td>0</td>\n      <td>1</td>\n      <td>0</td>\n      <td>0</td>\n      <td>0</td>\n      <td>0</td>\n      <td>1</td>\n      <td>-2.311178e-01</td>\n      <td>-4.828877e-01</td>\n    </tr>\n    <tr>\n      <th>4</th>\n      <td>0</td>\n      <td>1</td>\n      <td>1</td>\n      <td>1</td>\n      <td>1</td>\n      <td>0</td>\n      <td>1</td>\n      <td>-5.842293e-01</td>\n      <td>-4.179706e-01</td>\n    </tr>\n    <tr>\n      <th>5</th>\n      <td>0</td>\n      <td>1</td>\n      <td>0</td>\n      <td>0</td>\n      <td>0</td>\n      <td>0</td>\n      <td>1</td>\n      <td>-1.149208e+00</td>\n      <td>-4.728143e-01</td>\n    </tr>\n    <tr>\n      <th>6</th>\n      <td>0</td>\n      <td>1</td>\n      <td>0</td>\n      <td>0</td>\n      <td>1</td>\n      <td>1</td>\n      <td>0</td>\n      <td>-1.925095e-02</td>\n      <td>-5.013921e-01</td>\n    </tr>\n    <tr>\n      <th>7</th>\n      <td>1</td>\n      <td>0</td>\n      <td>1</td>\n      <td>1</td>\n      <td>0</td>\n      <td>0</td>\n      <td>1</td>\n      <td>-3.017401e-01</td>\n      <td>-1.186807e-01</td>\n    </tr>\n    <tr>\n      <th>8</th>\n      <td>0</td>\n      <td>1</td>\n      <td>0</td>\n      <td>0</td>\n      <td>1</td>\n      <td>0</td>\n      <td>0</td>\n      <td>-8.667184e-01</td>\n      <td>-5.085554e-01</td>\n    </tr>\n    <tr>\n      <th>9</th>\n      <td>0</td>\n      <td>1</td>\n      <td>2</td>\n      <td>0</td>\n      <td>0</td>\n      <td>0</td>\n      <td>1</td>\n      <td>-6.548515e-01</td>\n      <td>-2.055352e-01</td>\n    </tr>\n    <tr>\n      <th>10</th>\n      <td>0</td>\n      <td>1</td>\n      <td>0</td>\n      <td>0</td>\n      <td>0</td>\n      <td>0</td>\n      <td>1</td>\n      <td>4.280378e-17</td>\n      <td>-4.966178e-01</td>\n    </tr>\n    <tr>\n      <th>11</th>\n      <td>0</td>\n      <td>0</td>\n      <td>0</td>\n      <td>0</td>\n      <td>0</td>\n      <td>0</td>\n      <td>1</td>\n      <td>1.110706e+00</td>\n      <td>-1.724051e-01</td>\n    </tr>\n    <tr>\n      <th>12</th>\n      <td>0</td>\n      <td>0</td>\n      <td>1</td>\n      <td>0</td>\n      <td>1</td>\n      <td>0</td>\n      <td>1</td>\n      <td>-5.136070e-01</td>\n      <td>8.352273e-01</td>\n    </tr>\n    <tr>\n      <th>13</th>\n      <td>1</td>\n      <td>0</td>\n      <td>1</td>\n      <td>0</td>\n      <td>0</td>\n      <td>0</td>\n      <td>1</td>\n      <td>2.311285e+00</td>\n      <td>-1.724051e-01</td>\n    </tr>\n    <tr>\n      <th>14</th>\n      <td>0</td>\n      <td>0</td>\n      <td>1</td>\n      <td>0</td>\n      <td>1</td>\n      <td>0</td>\n      <td>1</td>\n      <td>1.181328e+00</td>\n      <td>4.575140e-01</td>\n    </tr>\n    <tr>\n      <th>15</th>\n      <td>1</td>\n      <td>0</td>\n      <td>1</td>\n      <td>0</td>\n      <td>1</td>\n      <td>0</td>\n      <td>0</td>\n      <td>-4.429847e-01</td>\n      <td>-1.415888e-01</td>\n    </tr>\n    <tr>\n      <th>16</th>\n      <td>1</td>\n      <td>0</td>\n      <td>0</td>\n      <td>0</td>\n      <td>0</td>\n      <td>1</td>\n      <td>0</td>\n      <td>3.338605e-01</td>\n      <td>-4.168514e-01</td>\n    </tr>\n    <tr>\n      <th>17</th>\n      <td>0</td>\n      <td>1</td>\n      <td>0</td>\n      <td>0</td>\n      <td>0</td>\n      <td>0</td>\n      <td>0</td>\n      <td>-6.548515e-01</td>\n      <td>-5.086306e-01</td>\n    </tr>\n    <tr>\n      <th>18</th>\n      <td>0</td>\n      <td>1</td>\n      <td>1</td>\n      <td>0</td>\n      <td>1</td>\n      <td>0</td>\n      <td>1</td>\n      <td>-2.311178e-01</td>\n      <td>-4.960949e-01</td>\n    </tr>\n    <tr>\n      <th>19</th>\n      <td>0</td>\n      <td>1</td>\n      <td>0</td>\n      <td>0</td>\n      <td>1</td>\n      <td>0</td>\n      <td>0</td>\n      <td>1.040083e+00</td>\n      <td>-5.086306e-01</td>\n    </tr>\n    <tr>\n      <th>20</th>\n      <td>0</td>\n      <td>0</td>\n      <td>1</td>\n      <td>0</td>\n      <td>0</td>\n      <td>0</td>\n      <td>0</td>\n      <td>1.746306e+00</td>\n      <td>4.257270e-01</td>\n    </tr>\n    <tr>\n      <th>21</th>\n      <td>0</td>\n      <td>1</td>\n      <td>0</td>\n      <td>1</td>\n      <td>0</td>\n      <td>0</td>\n      <td>1</td>\n      <td>-1.502319e+00</td>\n      <td>-5.812338e-01</td>\n    </tr>\n    <tr>\n      <th>22</th>\n      <td>0</td>\n      <td>0</td>\n      <td>0</td>\n      <td>0</td>\n      <td>1</td>\n      <td>0</td>\n      <td>1</td>\n      <td>4.280378e-17</td>\n      <td>-7.062774e-02</td>\n    </tr>\n    <tr>\n      <th>23</th>\n      <td>0</td>\n      <td>0</td>\n      <td>0</td>\n      <td>1</td>\n      <td>0</td>\n      <td>0</td>\n      <td>0</td>\n      <td>-6.548515e-01</td>\n      <td>4.611709e-01</td>\n    </tr>\n    <tr>\n      <th>24</th>\n      <td>0</td>\n      <td>0</td>\n      <td>1</td>\n      <td>3</td>\n      <td>1</td>\n      <td>0</td>\n      <td>0</td>\n      <td>1.251950e+00</td>\n      <td>4.060634e+00</td>\n    </tr>\n    <tr>\n      <th>25</th>\n      <td>0</td>\n      <td>1</td>\n      <td>1</td>\n      <td>0</td>\n      <td>0</td>\n      <td>0</td>\n      <td>1</td>\n      <td>1.393195e+00</td>\n      <td>-3.783488e-01</td>\n    </tr>\n    <tr>\n      <th>26</th>\n      <td>0</td>\n      <td>0</td>\n      <td>0</td>\n      <td>1</td>\n      <td>1</td>\n      <td>0</td>\n      <td>0</td>\n      <td>-5.842293e-01</td>\n      <td>4.719157e-01</td>\n    </tr>\n    <tr>\n      <th>27</th>\n      <td>0</td>\n      <td>1</td>\n      <td>0</td>\n      <td>0</td>\n      <td>0</td>\n      <td>0</td>\n      <td>0</td>\n      <td>-5.489181e-01</td>\n      <td>-5.086306e-01</td>\n    </tr>\n    <tr>\n      <th>28</th>\n      <td>0</td>\n      <td>0</td>\n      <td>0</td>\n      <td>0</td>\n      <td>0</td>\n      <td>0</td>\n      <td>1</td>\n      <td>7.575942e-01</td>\n      <td>-9.181846e-02</td>\n    </tr>\n    <tr>\n      <th>29</th>\n      <td>0</td>\n      <td>1</td>\n      <td>2</td>\n      <td>0</td>\n      <td>0</td>\n      <td>0</td>\n      <td>0</td>\n      <td>4.280378e-17</td>\n      <td>-2.497827e-01</td>\n    </tr>\n    <tr>\n      <th>30</th>\n      <td>1</td>\n      <td>0</td>\n      <td>1</td>\n      <td>0</td>\n      <td>0</td>\n      <td>0</td>\n      <td>1</td>\n      <td>1.393195e+00</td>\n      <td>-1.724051e-01</td>\n    </tr>\n    <tr>\n      <th>31</th>\n      <td>1</td>\n      <td>0</td>\n      <td>2</td>\n      <td>0</td>\n      <td>0</td>\n      <td>0</td>\n      <td>1</td>\n      <td>-4.429847e-01</td>\n      <td>-7.391031e-02</td>\n    </tr>\n    <tr>\n      <th>32</th>\n      <td>0</td>\n      <td>1</td>\n      <td>1</td>\n      <td>2</td>\n      <td>1</td>\n      <td>0</td>\n      <td>1</td>\n      <td>1.926159e-01</td>\n      <td>-2.695568e-01</td>\n    </tr>\n    <tr>\n      <th>33</th>\n      <td>0</td>\n      <td>1</td>\n      <td>1</td>\n      <td>2</td>\n      <td>1</td>\n      <td>0</td>\n      <td>1</td>\n      <td>4.280378e-17</td>\n      <td>-2.180709e-01</td>\n    </tr>\n    <tr>\n      <th>34</th>\n      <td>0</td>\n      <td>0</td>\n      <td>1</td>\n      <td>0</td>\n      <td>0</td>\n      <td>0</td>\n      <td>0</td>\n      <td>-1.925095e-02</td>\n      <td>3.961786e-01</td>\n    </tr>\n    <tr>\n      <th>35</th>\n      <td>0</td>\n      <td>1</td>\n      <td>0</td>\n      <td>0</td>\n      <td>0</td>\n      <td>0</td>\n      <td>0</td>\n      <td>-8.314073e-01</td>\n      <td>-5.085554e-01</td>\n    </tr>\n    <tr>\n      <th>36</th>\n      <td>0</td>\n      <td>1</td>\n      <td>0</td>\n      <td>0</td>\n      <td>1</td>\n      <td>0</td>\n      <td>1</td>\n      <td>4.280378e-17</td>\n      <td>-4.938564e-01</td>\n    </tr>\n    <tr>\n      <th>37</th>\n      <td>0</td>\n      <td>1</td>\n      <td>0</td>\n      <td>0</td>\n      <td>1</td>\n      <td>0</td>\n      <td>1</td>\n      <td>-6.548515e-01</td>\n      <td>-4.828877e-01</td>\n    </tr>\n    <tr>\n      <th>38</th>\n      <td>0</td>\n      <td>1</td>\n      <td>0</td>\n      <td>0</td>\n      <td>0</td>\n      <td>0</td>\n      <td>1</td>\n      <td>-3.723624e-01</td>\n      <td>-4.678896e-01</td>\n    </tr>\n    <tr>\n      <th>39</th>\n      <td>0</td>\n      <td>1</td>\n      <td>0</td>\n      <td>0</td>\n      <td>0</td>\n      <td>0</td>\n      <td>1</td>\n      <td>4.280378e-17</td>\n      <td>3.737182e-01</td>\n    </tr>\n    <tr>\n      <th>40</th>\n      <td>0</td>\n      <td>1</td>\n      <td>0</td>\n      <td>1</td>\n      <td>0</td>\n      <td>0</td>\n      <td>0</td>\n      <td>6.163496e-01</td>\n      <td>-3.977487e-01</td>\n    </tr>\n    <tr>\n      <th>41</th>\n      <td>0</td>\n      <td>0</td>\n      <td>0</td>\n      <td>0</td>\n      <td>0</td>\n      <td>0</td>\n      <td>1</td>\n      <td>4.280378e-17</td>\n      <td>-1.625556e-01</td>\n    </tr>\n    <tr>\n      <th>42</th>\n      <td>0</td>\n      <td>1</td>\n      <td>0</td>\n      <td>0</td>\n      <td>0</td>\n      <td>0</td>\n      <td>1</td>\n      <td>7.575942e-01</td>\n      <td>-4.974380e-01</td>\n    </tr>\n    <tr>\n      <th>43</th>\n      <td>1</td>\n      <td>0</td>\n      <td>0</td>\n      <td>0</td>\n      <td>1</td>\n      <td>0</td>\n      <td>1</td>\n      <td>-1.925095e-02</td>\n      <td>-4.052111e-01</td>\n    </tr>\n    <tr>\n      <th>44</th>\n      <td>0</td>\n      <td>0</td>\n      <td>1</td>\n      <td>0</td>\n      <td>1</td>\n      <td>0</td>\n      <td>1</td>\n      <td>1.040083e+00</td>\n      <td>3.031314e-01</td>\n    </tr>\n    <tr>\n      <th>45</th>\n      <td>0</td>\n      <td>1</td>\n      <td>0</td>\n      <td>0</td>\n      <td>0</td>\n      <td>0</td>\n      <td>1</td>\n      <td>-3.723624e-01</td>\n      <td>-4.960949e-01</td>\n    </tr>\n    <tr>\n      <th>46</th>\n      <td>0</td>\n      <td>0</td>\n      <td>0</td>\n      <td>0</td>\n      <td>0</td>\n      <td>0</td>\n      <td>0</td>\n      <td>1.040083e+00</td>\n      <td>-1.061450e-01</td>\n    </tr>\n    <tr>\n      <th>47</th>\n      <td>0</td>\n      <td>1</td>\n      <td>0</td>\n      <td>0</td>\n      <td>0</td>\n      <td>1</td>\n      <td>0</td>\n      <td>4.280378e-17</td>\n      <td>-4.992288e-01</td>\n    </tr>\n    <tr>\n      <th>48</th>\n      <td>0</td>\n      <td>0</td>\n      <td>0</td>\n      <td>0</td>\n      <td>1</td>\n      <td>0</td>\n      <td>0</td>\n      <td>2.099418e+00</td>\n      <td>7.282261e-01</td>\n    </tr>\n    <tr>\n      <th>49</th>\n      <td>0</td>\n      <td>1</td>\n      <td>0</td>\n      <td>2</td>\n      <td>1</td>\n      <td>0</td>\n      <td>1</td>\n      <td>4.044828e-01</td>\n      <td>-3.532774e-01</td>\n    </tr>\n    <tr>\n      <th>50</th>\n      <td>0</td>\n      <td>0</td>\n      <td>1</td>\n      <td>0</td>\n      <td>0</td>\n      <td>0</td>\n      <td>1</td>\n      <td>-4.429847e-01</td>\n      <td>4.364719e-01</td>\n    </tr>\n    <tr>\n      <th>51</th>\n      <td>1</td>\n      <td>0</td>\n      <td>0</td>\n      <td>0</td>\n      <td>0</td>\n      <td>0</td>\n      <td>0</td>\n      <td>-2.311178e-01</td>\n      <td>-3.687984e-01</td>\n    </tr>\n    <tr>\n      <th>52</th>\n      <td>1</td>\n      <td>0</td>\n      <td>2</td>\n      <td>1</td>\n      <td>1</td>\n      <td>0</td>\n      <td>1</td>\n      <td>-7.254738e-01</td>\n      <td>-2.261296e-01</td>\n    </tr>\n    <tr>\n      <th>53</th>\n      <td>0</td>\n      <td>0</td>\n      <td>3</td>\n      <td>2</td>\n      <td>1</td>\n      <td>0</td>\n      <td>1</td>\n      <td>-1.604955e-01</td>\n      <td>4.071826e+00</td>\n    </tr>\n    <tr>\n      <th>54</th>\n      <td>1</td>\n      <td>0</td>\n      <td>0</td>\n      <td>0</td>\n      <td>0</td>\n      <td>0</td>\n      <td>0</td>\n      <td>4.280378e-17</td>\n      <td>-3.590224e-01</td>\n    </tr>\n    <tr>\n      <th>55</th>\n      <td>0</td>\n      <td>1</td>\n      <td>4</td>\n      <td>1</td>\n      <td>0</td>\n      <td>1</td>\n      <td>0</td>\n      <td>-1.431697e+00</td>\n      <td>-1.164422e-01</td>\n    </tr>\n    <tr>\n      <th>56</th>\n      <td>0</td>\n      <td>1</td>\n      <td>0</td>\n      <td>0</td>\n      <td>0</td>\n      <td>0</td>\n      <td>1</td>\n      <td>3.338605e-01</td>\n      <td>-4.966178e-01</td>\n    </tr>\n    <tr>\n      <th>57</th>\n      <td>0</td>\n      <td>1</td>\n      <td>0</td>\n      <td>0</td>\n      <td>0</td>\n      <td>0</td>\n      <td>1</td>\n      <td>-3.723624e-01</td>\n      <td>-5.010197e-01</td>\n    </tr>\n    <tr>\n      <th>58</th>\n      <td>0</td>\n      <td>1</td>\n      <td>1</td>\n      <td>0</td>\n      <td>0</td>\n      <td>0</td>\n      <td>1</td>\n      <td>4.280378e-17</td>\n      <td>-3.496958e-01</td>\n    </tr>\n    <tr>\n      <th>59</th>\n      <td>0</td>\n      <td>0</td>\n      <td>0</td>\n      <td>0</td>\n      <td>1</td>\n      <td>0</td>\n      <td>0</td>\n      <td>4.044828e-01</td>\n      <td>4.060634e+00</td>\n    </tr>\n    <tr>\n      <th>60</th>\n      <td>0</td>\n      <td>1</td>\n      <td>0</td>\n      <td>0</td>\n      <td>0</td>\n      <td>0</td>\n      <td>1</td>\n      <td>-9.373407e-01</td>\n      <td>-4.966178e-01</td>\n    </tr>\n    <tr>\n      <th>61</th>\n      <td>1</td>\n      <td>0</td>\n      <td>0</td>\n      <td>0</td>\n      <td>0</td>\n      <td>0</td>\n      <td>1</td>\n      <td>1.219936e-01</td>\n      <td>-3.962570e-01</td>\n    </tr>\n    <tr>\n      <th>62</th>\n      <td>0</td>\n      <td>1</td>\n      <td>0</td>\n      <td>0</td>\n      <td>0</td>\n      <td>0</td>\n      <td>1</td>\n      <td>-8.667184e-01</td>\n      <td>-4.992288e-01</td>\n    </tr>\n    <tr>\n      <th>63</th>\n      <td>0</td>\n      <td>1</td>\n      <td>0</td>\n      <td>0</td>\n      <td>1</td>\n      <td>1</td>\n      <td>0</td>\n      <td>-5.842293e-01</td>\n      <td>-4.996765e-01</td>\n    </tr>\n    <tr>\n      <th>64</th>\n      <td>0</td>\n      <td>0</td>\n      <td>2</td>\n      <td>2</td>\n      <td>0</td>\n      <td>0</td>\n      <td>0</td>\n      <td>-1.219830e+00</td>\n      <td>4.060634e+00</td>\n    </tr>\n    <tr>\n      <th>65</th>\n      <td>1</td>\n      <td>0</td>\n      <td>0</td>\n      <td>0</td>\n      <td>1</td>\n      <td>0</td>\n      <td>1</td>\n      <td>4.280378e-17</td>\n      <td>-2.619459e-01</td>\n    </tr>\n    <tr>\n      <th>66</th>\n      <td>0</td>\n      <td>1</td>\n      <td>0</td>\n      <td>0</td>\n      <td>1</td>\n      <td>1</td>\n      <td>0</td>\n      <td>-8.667184e-01</td>\n      <td>-4.969151e-01</td>\n    </tr>\n    <tr>\n      <th>67</th>\n      <td>0</td>\n      <td>0</td>\n      <td>0</td>\n      <td>0</td>\n      <td>0</td>\n      <td>0</td>\n      <td>1</td>\n      <td>1.181328e+00</td>\n      <td>1.212885e-01</td>\n    </tr>\n    <tr>\n      <th>68</th>\n      <td>0</td>\n      <td>0</td>\n      <td>0</td>\n      <td>0</td>\n      <td>0</td>\n      <td>0</td>\n      <td>0</td>\n      <td>5.137133e-02</td>\n      <td>-1.269632e-01</td>\n    </tr>\n    <tr>\n      <th>69</th>\n      <td>0</td>\n      <td>0</td>\n      <td>1</td>\n      <td>4</td>\n      <td>1</td>\n      <td>0</td>\n      <td>1</td>\n      <td>2.099418e+00</td>\n      <td>4.071826e+00</td>\n    </tr>\n    <tr>\n      <th>70</th>\n      <td>0</td>\n      <td>1</td>\n      <td>0</td>\n      <td>0</td>\n      <td>1</td>\n      <td>1</td>\n      <td>0</td>\n      <td>-4.429847e-01</td>\n      <td>-4.992288e-01</td>\n    </tr>\n    <tr>\n      <th>71</th>\n      <td>0</td>\n      <td>1</td>\n      <td>0</td>\n      <td>0</td>\n      <td>0</td>\n      <td>0</td>\n      <td>1</td>\n      <td>-6.548515e-01</td>\n      <td>-4.966178e-01</td>\n    </tr>\n    <tr>\n      <th>72</th>\n      <td>0</td>\n      <td>1</td>\n      <td>0</td>\n      <td>0</td>\n      <td>1</td>\n      <td>0</td>\n      <td>1</td>\n      <td>-8.987324e-02</td>\n      <td>-4.960949e-01</td>\n    </tr>\n    <tr>\n      <th>73</th>\n      <td>0</td>\n      <td>0</td>\n      <td>0</td>\n      <td>0</td>\n      <td>0</td>\n      <td>0</td>\n      <td>0</td>\n      <td>-1.251844e-01</td>\n      <td>-1.415888e-01</td>\n    </tr>\n    <tr>\n      <th>74</th>\n      <td>0</td>\n      <td>0</td>\n      <td>0</td>\n      <td>0</td>\n      <td>1</td>\n      <td>0</td>\n      <td>0</td>\n      <td>3.338605e-01</td>\n      <td>3.149557e+00</td>\n    </tr>\n    <tr>\n      <th>75</th>\n      <td>0</td>\n      <td>0</td>\n      <td>0</td>\n      <td>0</td>\n      <td>0</td>\n      <td>0</td>\n      <td>0</td>\n      <td>1.573048e-01</td>\n      <td>3.149557e+00</td>\n    </tr>\n    <tr>\n      <th>76</th>\n      <td>0</td>\n      <td>1</td>\n      <td>0</td>\n      <td>0</td>\n      <td>0</td>\n      <td>0</td>\n      <td>1</td>\n      <td>4.280378e-17</td>\n      <td>-4.938564e-01</td>\n    </tr>\n    <tr>\n      <th>77</th>\n      <td>0</td>\n      <td>0</td>\n      <td>2</td>\n      <td>0</td>\n      <td>1</td>\n      <td>0</td>\n      <td>1</td>\n      <td>1.746306e+00</td>\n      <td>-1.777776e-01</td>\n    </tr>\n    <tr>\n      <th>78</th>\n      <td>1</td>\n      <td>0</td>\n      <td>0</td>\n      <td>0</td>\n      <td>0</td>\n      <td>0</td>\n      <td>1</td>\n      <td>-1.925095e-02</td>\n      <td>-4.052111e-01</td>\n    </tr>\n    <tr>\n      <th>79</th>\n      <td>0</td>\n      <td>1</td>\n      <td>0</td>\n      <td>0</td>\n      <td>1</td>\n      <td>1</td>\n      <td>0</td>\n      <td>-4.429847e-01</td>\n      <td>-4.992288e-01</td>\n    </tr>\n    <tr>\n      <th>80</th>\n      <td>0</td>\n      <td>1</td>\n      <td>1</td>\n      <td>1</td>\n      <td>0</td>\n      <td>0</td>\n      <td>0</td>\n      <td>-1.714186e+00</td>\n      <td>-3.649929e-01</td>\n    </tr>\n    <tr>\n      <th>81</th>\n      <td>0</td>\n      <td>0</td>\n      <td>1</td>\n      <td>0</td>\n      <td>0</td>\n      <td>0</td>\n      <td>1</td>\n      <td>2.593774e+00</td>\n      <td>3.333638e+00</td>\n    </tr>\n    <tr>\n      <th>82</th>\n      <td>0</td>\n      <td>0</td>\n      <td>0</td>\n      <td>0</td>\n      <td>0</td>\n      <td>0</td>\n      <td>1</td>\n      <td>1.322573e+00</td>\n      <td>-1.724051e-01</td>\n    </tr>\n    <tr>\n      <th>83</th>\n      <td>0</td>\n      <td>1</td>\n      <td>0</td>\n      <td>0</td>\n      <td>0</td>\n      <td>0</td>\n      <td>1</td>\n      <td>4.280378e-17</td>\n      <td>-4.966178e-01</td>\n    </tr>\n    <tr>\n      <th>84</th>\n      <td>1</td>\n      <td>0</td>\n      <td>0</td>\n      <td>0</td>\n      <td>0</td>\n      <td>1</td>\n      <td>0</td>\n      <td>4.280378e-17</td>\n      <td>-4.462512e-01</td>\n    </tr>\n    <tr>\n      <th>85</th>\n      <td>0</td>\n      <td>1</td>\n      <td>1</td>\n      <td>0</td>\n      <td>0</td>\n      <td>0</td>\n      <td>0</td>\n      <td>4.280378e-17</td>\n      <td>-3.791690e-01</td>\n    </tr>\n    <tr>\n      <th>86</th>\n      <td>0</td>\n      <td>1</td>\n      <td>0</td>\n      <td>0</td>\n      <td>1</td>\n      <td>1</td>\n      <td>0</td>\n      <td>-2.311178e-01</td>\n      <td>-4.969151e-01</td>\n    </tr>\n    <tr>\n      <th>87</th>\n      <td>0</td>\n      <td>1</td>\n      <td>0</td>\n      <td>0</td>\n      <td>1</td>\n      <td>0</td>\n      <td>1</td>\n      <td>-8.667184e-01</td>\n      <td>-4.938564e-01</td>\n    </tr>\n    <tr>\n      <th>88</th>\n      <td>0</td>\n      <td>1</td>\n      <td>0</td>\n      <td>0</td>\n      <td>1</td>\n      <td>1</td>\n      <td>0</td>\n      <td>4.280378e-17</td>\n      <td>-4.992288e-01</td>\n    </tr>\n    <tr>\n      <th>89</th>\n      <td>1</td>\n      <td>0</td>\n      <td>1</td>\n      <td>1</td>\n      <td>0</td>\n      <td>0</td>\n      <td>1</td>\n      <td>-1.996675e+00</td>\n      <td>-2.261296e-01</td>\n    </tr>\n    <tr>\n      <th>90</th>\n      <td>0</td>\n      <td>1</td>\n      <td>1</td>\n      <td>0</td>\n      <td>1</td>\n      <td>0</td>\n      <td>1</td>\n      <td>-5.842293e-01</td>\n      <td>-3.890937e-01</td>\n    </tr>\n    <tr>\n      <th>91</th>\n      <td>0</td>\n      <td>1</td>\n      <td>0</td>\n      <td>0</td>\n      <td>0</td>\n      <td>0</td>\n      <td>1</td>\n      <td>4.280378e-17</td>\n      <td>-4.987811e-01</td>\n    </tr>\n    <tr>\n      <th>92</th>\n      <td>0</td>\n      <td>0</td>\n      <td>1</td>\n      <td>2</td>\n      <td>1</td>\n      <td>0</td>\n      <td>1</td>\n      <td>-2.311178e-01</td>\n      <td>2.932067e-01</td>\n    </tr>\n    <tr>\n      <th>93</th>\n      <td>0</td>\n      <td>1</td>\n      <td>0</td>\n      <td>0</td>\n      <td>0</td>\n      <td>0</td>\n      <td>1</td>\n      <td>4.280378e-17</td>\n      <td>-4.938564e-01</td>\n    </tr>\n    <tr>\n      <th>94</th>\n      <td>0</td>\n      <td>0</td>\n      <td>0</td>\n      <td>0</td>\n      <td>0</td>\n      <td>0</td>\n      <td>0</td>\n      <td>-3.723624e-01</td>\n      <td>-1.724051e-01</td>\n    </tr>\n    <tr>\n      <th>95</th>\n      <td>0</td>\n      <td>1</td>\n      <td>0</td>\n      <td>0</td>\n      <td>0</td>\n      <td>0</td>\n      <td>1</td>\n      <td>-3.723624e-01</td>\n      <td>-4.984087e-01</td>\n    </tr>\n    <tr>\n      <th>96</th>\n      <td>0</td>\n      <td>0</td>\n      <td>1</td>\n      <td>0</td>\n      <td>1</td>\n      <td>0</td>\n      <td>1</td>\n      <td>3.229374e+00</td>\n      <td>7.740405e-01</td>\n    </tr>\n    <tr>\n      <th>97</th>\n      <td>0</td>\n      <td>1</td>\n      <td>0</td>\n      <td>0</td>\n      <td>0</td>\n      <td>0</td>\n      <td>1</td>\n      <td>-8.987324e-02</td>\n      <td>-4.960949e-01</td>\n    </tr>\n    <tr>\n      <th>98</th>\n      <td>0</td>\n      <td>1</td>\n      <td>0</td>\n      <td>0</td>\n      <td>1</td>\n      <td>0</td>\n      <td>1</td>\n      <td>-7.254738e-01</td>\n      <td>-4.973628e-01</td>\n    </tr>\n    <tr>\n      <th>99</th>\n      <td>0</td>\n      <td>1</td>\n      <td>0</td>\n      <td>0</td>\n      <td>0</td>\n      <td>0</td>\n      <td>1</td>\n      <td>1.926159e-01</td>\n      <td>-4.938564e-01</td>\n    </tr>\n    <tr>\n      <th>100</th>\n      <td>0</td>\n      <td>0</td>\n      <td>1</td>\n      <td>0</td>\n      <td>1</td>\n      <td>0</td>\n      <td>0</td>\n      <td>8.988388e-01</td>\n      <td>3.548412e-01</td>\n    </tr>\n    <tr>\n      <th>101</th>\n      <td>1</td>\n      <td>0</td>\n      <td>1</td>\n      <td>0</td>\n      <td>0</td>\n      <td>0</td>\n      <td>1</td>\n      <td>-2.311178e-01</td>\n      <td>-1.724051e-01</td>\n    </tr>\n    <tr>\n      <th>102</th>\n      <td>0</td>\n      <td>1</td>\n      <td>0</td>\n      <td>0</td>\n      <td>0</td>\n      <td>1</td>\n      <td>0</td>\n      <td>4.280378e-17</td>\n      <td>-4.992288e-01</td>\n    </tr>\n    <tr>\n      <th>103</th>\n      <td>0</td>\n      <td>1</td>\n      <td>0</td>\n      <td>0</td>\n      <td>0</td>\n      <td>0</td>\n      <td>1</td>\n      <td>-3.017401e-01</td>\n      <td>-4.987811e-01</td>\n    </tr>\n    <tr>\n      <th>104</th>\n      <td>0</td>\n      <td>1</td>\n      <td>1</td>\n      <td>1</td>\n      <td>1</td>\n      <td>0</td>\n      <td>0</td>\n      <td>-1.007963e+00</td>\n      <td>-4.854987e-01</td>\n    </tr>\n    <tr>\n      <th>105</th>\n      <td>0</td>\n      <td>1</td>\n      <td>0</td>\n      <td>0</td>\n      <td>0</td>\n      <td>0</td>\n      <td>1</td>\n      <td>-1.604955e-01</td>\n      <td>-2.346359e-01</td>\n    </tr>\n    <tr>\n      <th>106</th>\n      <td>0</td>\n      <td>1</td>\n      <td>0</td>\n      <td>0</td>\n      <td>0</td>\n      <td>1</td>\n      <td>0</td>\n      <td>-6.548515e-01</td>\n      <td>-4.979609e-01</td>\n    </tr>\n    <tr>\n      <th>107</th>\n      <td>0</td>\n      <td>1</td>\n      <td>0</td>\n      <td>0</td>\n      <td>0</td>\n      <td>1</td>\n      <td>0</td>\n      <td>4.280378e-17</td>\n      <td>-4.992288e-01</td>\n    </tr>\n    <tr>\n      <th>108</th>\n      <td>0</td>\n      <td>1</td>\n      <td>0</td>\n      <td>0</td>\n      <td>0</td>\n      <td>0</td>\n      <td>1</td>\n      <td>4.280378e-17</td>\n      <td>-4.819923e-01</td>\n    </tr>\n    <tr>\n      <th>109</th>\n      <td>1</td>\n      <td>0</td>\n      <td>0</td>\n      <td>0</td>\n      <td>0</td>\n      <td>0</td>\n      <td>1</td>\n      <td>-8.314073e-01</td>\n      <td>-4.052111e-01</td>\n    </tr>\n    <tr>\n      <th>110</th>\n      <td>1</td>\n      <td>0</td>\n      <td>0</td>\n      <td>0</td>\n      <td>0</td>\n      <td>0</td>\n      <td>0</td>\n      <td>7.575942e-01</td>\n      <td>-3.685746e-01</td>\n    </tr>\n    <tr>\n      <th>111</th>\n      <td>0</td>\n      <td>1</td>\n      <td>0</td>\n      <td>0</td>\n      <td>1</td>\n      <td>1</td>\n      <td>0</td>\n      <td>4.280378e-17</td>\n      <td>-4.987059e-01</td>\n    </tr>\n    <tr>\n      <th>112</th>\n      <td>0</td>\n      <td>0</td>\n      <td>0</td>\n      <td>0</td>\n      <td>1</td>\n      <td>0</td>\n      <td>0</td>\n      <td>4.044828e-01</td>\n      <td>-7.070117e-02</td>\n    </tr>\n    <tr>\n      <th>113</th>\n      <td>0</td>\n      <td>1</td>\n      <td>0</td>\n      <td>0</td>\n      <td>1</td>\n      <td>1</td>\n      <td>0</td>\n      <td>-8.314073e-01</td>\n      <td>-5.075866e-01</td>\n    </tr>\n    <tr>\n      <th>114</th>\n      <td>0</td>\n      <td>0</td>\n      <td>1</td>\n      <td>0</td>\n      <td>1</td>\n      <td>0</td>\n      <td>1</td>\n      <td>2.311285e+00</td>\n      <td>3.333638e+00</td>\n    </tr>\n    <tr>\n      <th>115</th>\n      <td>0</td>\n      <td>1</td>\n      <td>1</td>\n      <td>0</td>\n      <td>0</td>\n      <td>0</td>\n      <td>0</td>\n      <td>-8.667184e-01</td>\n      <td>-3.791690e-01</td>\n    </tr>\n    <tr>\n      <th>116</th>\n      <td>0</td>\n      <td>1</td>\n      <td>0</td>\n      <td>0</td>\n      <td>0</td>\n      <td>0</td>\n      <td>0</td>\n      <td>4.280378e-17</td>\n      <td>-5.227333e-01</td>\n    </tr>\n    <tr>\n      <th>117</th>\n      <td>0</td>\n      <td>1</td>\n      <td>1</td>\n      <td>1</td>\n      <td>1</td>\n      <td>0</td>\n      <td>1</td>\n      <td>-2.067297e+00</td>\n      <td>-3.389509e-01</td>\n    </tr>\n    <tr>\n      <th>118</th>\n      <td>0</td>\n      <td>0</td>\n      <td>0</td>\n      <td>0</td>\n      <td>0</td>\n      <td>0</td>\n      <td>0</td>\n      <td>4.044828e-01</td>\n      <td>7.094226e-01</td>\n    </tr>\n    <tr>\n      <th>119</th>\n      <td>1</td>\n      <td>0</td>\n      <td>1</td>\n      <td>0</td>\n      <td>1</td>\n      <td>0</td>\n      <td>1</td>\n      <td>-8.987324e-02</td>\n      <td>-1.724051e-01</td>\n    </tr>\n    <tr>\n      <th>120</th>\n      <td>1</td>\n      <td>0</td>\n      <td>0</td>\n      <td>0</td>\n      <td>1</td>\n      <td>0</td>\n      <td>1</td>\n      <td>-1.290452e+00</td>\n      <td>-3.559637e-01</td>\n    </tr>\n    <tr>\n      <th>121</th>\n      <td>0</td>\n      <td>1</td>\n      <td>1</td>\n      <td>0</td>\n      <td>0</td>\n      <td>1</td>\n      <td>0</td>\n      <td>4.280378e-17</td>\n      <td>-4.992288e-01</td>\n    </tr>\n    <tr>\n      <th>122</th>\n      <td>0</td>\n      <td>0</td>\n      <td>1</td>\n      <td>0</td>\n      <td>1</td>\n      <td>0</td>\n      <td>0</td>\n      <td>3.338605e-01</td>\n      <td>3.961786e-01</td>\n    </tr>\n    <tr>\n      <th>123</th>\n      <td>0</td>\n      <td>1</td>\n      <td>0</td>\n      <td>0</td>\n      <td>0</td>\n      <td>0</td>\n      <td>1</td>\n      <td>-1.604955e-01</td>\n      <td>-5.081829e-01</td>\n    </tr>\n    <tr>\n      <th>124</th>\n      <td>0</td>\n      <td>1</td>\n      <td>0</td>\n      <td>0</td>\n      <td>0</td>\n      <td>1</td>\n      <td>0</td>\n      <td>4.280378e-17</td>\n      <td>-4.992288e-01</td>\n    </tr>\n    <tr>\n      <th>125</th>\n      <td>0</td>\n      <td>1</td>\n      <td>0</td>\n      <td>1</td>\n      <td>1</td>\n      <td>0</td>\n      <td>1</td>\n      <td>-9.373407e-01</td>\n      <td>-3.496958e-01</td>\n    </tr>\n    <tr>\n      <th>126</th>\n      <td>0</td>\n      <td>1</td>\n      <td>0</td>\n      <td>0</td>\n      <td>0</td>\n      <td>0</td>\n      <td>1</td>\n      <td>-5.842293e-01</td>\n      <td>-4.984087e-01</td>\n    </tr>\n    <tr>\n      <th>127</th>\n      <td>0</td>\n      <td>1</td>\n      <td>2</td>\n      <td>0</td>\n      <td>1</td>\n      <td>1</td>\n      <td>0</td>\n      <td>4.280378e-17</td>\n      <td>-2.216525e-01</td>\n    </tr>\n    <tr>\n      <th>128</th>\n      <td>1</td>\n      <td>0</td>\n      <td>0</td>\n      <td>0</td>\n      <td>0</td>\n      <td>0</td>\n      <td>1</td>\n      <td>8.282165e-01</td>\n      <td>-4.052111e-01</td>\n    </tr>\n    <tr>\n      <th>129</th>\n      <td>0</td>\n      <td>1</td>\n      <td>0</td>\n      <td>0</td>\n      <td>0</td>\n      <td>0</td>\n      <td>1</td>\n      <td>-4.429847e-01</td>\n      <td>-4.938564e-01</td>\n    </tr>\n    <tr>\n      <th>130</th>\n      <td>0</td>\n      <td>1</td>\n      <td>0</td>\n      <td>0</td>\n      <td>0</td>\n      <td>0</td>\n      <td>1</td>\n      <td>1.219936e-01</td>\n      <td>-4.938564e-01</td>\n    </tr>\n    <tr>\n      <th>131</th>\n      <td>0</td>\n      <td>0</td>\n      <td>0</td>\n      <td>0</td>\n      <td>0</td>\n      <td>0</td>\n      <td>0</td>\n      <td>1.605062e+00</td>\n      <td>-1.276348e-01</td>\n    </tr>\n    <tr>\n      <th>132</th>\n      <td>0</td>\n      <td>1</td>\n      <td>0</td>\n      <td>4</td>\n      <td>1</td>\n      <td>0</td>\n      <td>1</td>\n      <td>4.280378e-17</td>\n      <td>-1.819555e-01</td>\n    </tr>\n    <tr>\n      <th>133</th>\n      <td>0</td>\n      <td>1</td>\n      <td>1</td>\n      <td>0</td>\n      <td>0</td>\n      <td>0</td>\n      <td>0</td>\n      <td>4.280378e-17</td>\n      <td>-5.227333e-01</td>\n    </tr>\n    <tr>\n      <th>134</th>\n      <td>0</td>\n      <td>1</td>\n      <td>0</td>\n      <td>0</td>\n      <td>0</td>\n      <td>0</td>\n      <td>1</td>\n      <td>8.988388e-01</td>\n      <td>-4.966178e-01</td>\n    </tr>\n    <tr>\n      <th>135</th>\n      <td>0</td>\n      <td>1</td>\n      <td>0</td>\n      <td>0</td>\n      <td>0</td>\n      <td>0</td>\n      <td>1</td>\n      <td>-4.429847e-01</td>\n      <td>-4.973628e-01</td>\n    </tr>\n    <tr>\n      <th>136</th>\n      <td>0</td>\n      <td>1</td>\n      <td>0</td>\n      <td>0</td>\n      <td>0</td>\n      <td>0</td>\n      <td>0</td>\n      <td>-2.664290e-01</td>\n      <td>-5.086306e-01</td>\n    </tr>\n    <tr>\n      <th>137</th>\n      <td>1</td>\n      <td>0</td>\n      <td>0</td>\n      <td>0</td>\n      <td>0</td>\n      <td>0</td>\n      <td>1</td>\n      <td>-3.017401e-01</td>\n      <td>-4.052111e-01</td>\n    </tr>\n    <tr>\n      <th>138</th>\n      <td>0</td>\n      <td>1</td>\n      <td>0</td>\n      <td>0</td>\n      <td>1</td>\n      <td>0</td>\n      <td>1</td>\n      <td>-5.136070e-01</td>\n      <td>-4.938564e-01</td>\n    </tr>\n    <tr>\n      <th>139</th>\n      <td>0</td>\n      <td>1</td>\n      <td>1</td>\n      <td>6</td>\n      <td>0</td>\n      <td>0</td>\n      <td>1</td>\n      <td>6.869719e-01</td>\n      <td>2.018752e-01</td>\n    </tr>\n    <tr>\n      <th>140</th>\n      <td>0</td>\n      <td>1</td>\n      <td>5</td>\n      <td>2</td>\n      <td>1</td>\n      <td>0</td>\n      <td>1</td>\n      <td>-1.431697e+00</td>\n      <td>2.018752e-01</td>\n    </tr>\n    <tr>\n      <th>141</th>\n      <td>0</td>\n      <td>0</td>\n      <td>0</td>\n      <td>0</td>\n      <td>1</td>\n      <td>0</td>\n      <td>1</td>\n      <td>1.926159e-01</td>\n      <td>2.075963e+00</td>\n    </tr>\n    <tr>\n      <th>142</th>\n      <td>0</td>\n      <td>0</td>\n      <td>1</td>\n      <td>3</td>\n      <td>0</td>\n      <td>0</td>\n      <td>0</td>\n      <td>2.170040e+00</td>\n      <td>4.060634e+00</td>\n    </tr>\n    <tr>\n      <th>143</th>\n      <td>1</td>\n      <td>0</td>\n      <td>0</td>\n      <td>0</td>\n      <td>0</td>\n      <td>0</td>\n      <td>1</td>\n      <td>-1.604955e-01</td>\n      <td>-1.724051e-01</td>\n    </tr>\n    <tr>\n      <th>144</th>\n      <td>0</td>\n      <td>0</td>\n      <td>0</td>\n      <td>0</td>\n      <td>0</td>\n      <td>0</td>\n      <td>1</td>\n      <td>8.282165e-01</td>\n      <td>-1.625556e-01</td>\n    </tr>\n    <tr>\n      <th>145</th>\n      <td>0</td>\n      <td>1</td>\n      <td>3</td>\n      <td>0</td>\n      <td>0</td>\n      <td>0</td>\n      <td>1</td>\n      <td>5.137133e-02</td>\n      <td>-3.156703e-01</td>\n    </tr>\n    <tr>\n      <th>146</th>\n      <td>0</td>\n      <td>0</td>\n      <td>0</td>\n      <td>0</td>\n      <td>0</td>\n      <td>0</td>\n      <td>1</td>\n      <td>4.280378e-17</td>\n      <td>2.907444e-01</td>\n    </tr>\n    <tr>\n      <th>147</th>\n      <td>0</td>\n      <td>1</td>\n      <td>0</td>\n      <td>0</td>\n      <td>0</td>\n      <td>0</td>\n      <td>1</td>\n      <td>-5.842293e-01</td>\n      <td>-4.938564e-01</td>\n    </tr>\n    <tr>\n      <th>148</th>\n      <td>0</td>\n      <td>0</td>\n      <td>0</td>\n      <td>0</td>\n      <td>0</td>\n      <td>0</td>\n      <td>1</td>\n      <td>4.280378e-17</td>\n      <td>-1.625556e-01</td>\n    </tr>\n    <tr>\n      <th>149</th>\n      <td>1</td>\n      <td>0</td>\n      <td>1</td>\n      <td>1</td>\n      <td>0</td>\n      <td>0</td>\n      <td>1</td>\n      <td>-1.925095e-02</td>\n      <td>-1.724051e-01</td>\n    </tr>\n    <tr>\n      <th>150</th>\n      <td>0</td>\n      <td>0</td>\n      <td>0</td>\n      <td>1</td>\n      <td>1</td>\n      <td>0</td>\n      <td>0</td>\n      <td>-5.136070e-01</td>\n      <td>8.511942e-01</td>\n    </tr>\n    <tr>\n      <th>151</th>\n      <td>0</td>\n      <td>1</td>\n      <td>0</td>\n      <td>0</td>\n      <td>0</td>\n      <td>0</td>\n      <td>0</td>\n      <td>4.280378e-17</td>\n      <td>-4.966178e-01</td>\n    </tr>\n    <tr>\n      <th>152</th>\n      <td>0</td>\n      <td>1</td>\n      <td>0</td>\n      <td>0</td>\n      <td>0</td>\n      <td>0</td>\n      <td>1</td>\n      <td>2.134729e+00</td>\n      <td>-5.258251e-17</td>\n    </tr>\n    <tr>\n      <th>153</th>\n      <td>0</td>\n      <td>1</td>\n      <td>0</td>\n      <td>2</td>\n      <td>1</td>\n      <td>0</td>\n      <td>1</td>\n      <td>4.044828e-01</td>\n      <td>-4.198366e-01</td>\n    </tr>\n    <tr>\n      <th>154</th>\n      <td>0</td>\n      <td>1</td>\n      <td>4</td>\n      <td>2</td>\n      <td>0</td>\n      <td>0</td>\n      <td>1</td>\n      <td>-1.219830e+00</td>\n      <td>-7.592497e-02</td>\n    </tr>\n    <tr>\n      <th>155</th>\n      <td>0</td>\n      <td>1</td>\n      <td>0</td>\n      <td>0</td>\n      <td>0</td>\n      <td>0</td>\n      <td>1</td>\n      <td>-4.429847e-01</td>\n      <td>-5.028105e-01</td>\n    </tr>\n    <tr>\n      <th>156</th>\n      <td>0</td>\n      <td>0</td>\n      <td>0</td>\n      <td>0</td>\n      <td>1</td>\n      <td>0</td>\n      <td>1</td>\n      <td>-8.987324e-02</td>\n      <td>3.333638e+00</td>\n    </tr>\n    <tr>\n      <th>157</th>\n      <td>0</td>\n      <td>1</td>\n      <td>0</td>\n      <td>0</td>\n      <td>1</td>\n      <td>0</td>\n      <td>1</td>\n      <td>-5.136070e-01</td>\n      <td>-4.973628e-01</td>\n    </tr>\n    <tr>\n      <th>158</th>\n      <td>0</td>\n      <td>0</td>\n      <td>0</td>\n      <td>0</td>\n      <td>0</td>\n      <td>0</td>\n      <td>1</td>\n      <td>8.282165e-01</td>\n      <td>-1.625556e-01</td>\n    </tr>\n    <tr>\n      <th>159</th>\n      <td>0</td>\n      <td>1</td>\n      <td>0</td>\n      <td>2</td>\n      <td>1</td>\n      <td>0</td>\n      <td>1</td>\n      <td>-3.017401e-01</td>\n      <td>-3.913322e-01</td>\n    </tr>\n    <tr>\n      <th>160</th>\n      <td>0</td>\n      <td>1</td>\n      <td>0</td>\n      <td>0</td>\n      <td>1</td>\n      <td>1</td>\n      <td>0</td>\n      <td>4.280378e-17</td>\n      <td>-4.995279e-01</td>\n    </tr>\n    <tr>\n      <th>161</th>\n      <td>0</td>\n      <td>1</td>\n      <td>1</td>\n      <td>1</td>\n      <td>0</td>\n      <td>0</td>\n      <td>0</td>\n      <td>-1.643564e+00</td>\n      <td>-3.649929e-01</td>\n    </tr>\n    <tr>\n      <th>162</th>\n      <td>1</td>\n      <td>0</td>\n      <td>0</td>\n      <td>0</td>\n      <td>1</td>\n      <td>0</td>\n      <td>1</td>\n      <td>-3.017401e-01</td>\n      <td>-3.962570e-01</td>\n    </tr>\n    <tr>\n      <th>163</th>\n      <td>0</td>\n      <td>1</td>\n      <td>0</td>\n      <td>0</td>\n      <td>0</td>\n      <td>0</td>\n      <td>1</td>\n      <td>4.280378e-17</td>\n      <td>-5.126600e-01</td>\n    </tr>\n    <tr>\n      <th>164</th>\n      <td>1</td>\n      <td>0</td>\n      <td>0</td>\n      <td>0</td>\n      <td>0</td>\n      <td>0</td>\n      <td>1</td>\n      <td>7.575942e-01</td>\n      <td>-4.052111e-01</td>\n    </tr>\n    <tr>\n      <th>165</th>\n      <td>0</td>\n      <td>1</td>\n      <td>1</td>\n      <td>1</td>\n      <td>1</td>\n      <td>0</td>\n      <td>1</td>\n      <td>-3.017401e-01</td>\n      <td>-2.435900e-01</td>\n    </tr>\n    <tr>\n      <th>166</th>\n      <td>0</td>\n      <td>0</td>\n      <td>0</td>\n      <td>0</td>\n      <td>0</td>\n      <td>0</td>\n      <td>0</td>\n      <td>1.251950e+00</td>\n      <td>2.662693e-01</td>\n    </tr>\n    <tr>\n      <th>167</th>\n      <td>0</td>\n      <td>1</td>\n      <td>2</td>\n      <td>2</td>\n      <td>0</td>\n      <td>0</td>\n      <td>1</td>\n      <td>-8.667184e-01</td>\n      <td>-2.242438e-02</td>\n    </tr>\n    <tr>\n      <th>168</th>\n      <td>0</td>\n      <td>0</td>\n      <td>0</td>\n      <td>0</td>\n      <td>1</td>\n      <td>0</td>\n      <td>0</td>\n      <td>4.280378e-17</td>\n      <td>-1.415888e-01</td>\n    </tr>\n    <tr>\n      <th>169</th>\n      <td>0</td>\n      <td>1</td>\n      <td>0</td>\n      <td>0</td>\n      <td>1</td>\n      <td>0</td>\n      <td>1</td>\n      <td>-5.842293e-01</td>\n      <td>-4.775152e-01</td>\n    </tr>\n    <tr>\n      <th>170</th>\n      <td>0</td>\n      <td>1</td>\n      <td>0</td>\n      <td>0</td>\n      <td>0</td>\n      <td>0</td>\n      <td>1</td>\n      <td>4.280378e-17</td>\n      <td>-5.028105e-01</td>\n    </tr>\n    <tr>\n      <th>171</th>\n      <td>0</td>\n      <td>1</td>\n      <td>0</td>\n      <td>0</td>\n      <td>0</td>\n      <td>0</td>\n      <td>0</td>\n      <td>-2.311178e-01</td>\n      <td>-5.086306e-01</td>\n    </tr>\n    <tr>\n      <th>172</th>\n      <td>0</td>\n      <td>1</td>\n      <td>1</td>\n      <td>0</td>\n      <td>0</td>\n      <td>0</td>\n      <td>1</td>\n      <td>-5.136070e-01</td>\n      <td>-3.890937e-01</td>\n    </tr>\n    <tr>\n      <th>173</th>\n      <td>0</td>\n      <td>1</td>\n      <td>0</td>\n      <td>0</td>\n      <td>0</td>\n      <td>0</td>\n      <td>0</td>\n      <td>4.280378e-17</td>\n      <td>-5.085554e-01</td>\n    </tr>\n    <tr>\n      <th>174</th>\n      <td>0</td>\n      <td>1</td>\n      <td>1</td>\n      <td>5</td>\n      <td>0</td>\n      <td>0</td>\n      <td>1</td>\n      <td>6.869719e-01</td>\n      <td>-7.592497e-02</td>\n    </tr>\n    <tr>\n      <th>175</th>\n      <td>1</td>\n      <td>0</td>\n      <td>0</td>\n      <td>2</td>\n      <td>1</td>\n      <td>0</td>\n      <td>1</td>\n      <td>-1.078585e+00</td>\n      <td>6.040081e-02</td>\n    </tr>\n    <tr>\n      <th>176</th>\n      <td>1</td>\n      <td>0</td>\n      <td>0</td>\n      <td>0</td>\n      <td>1</td>\n      <td>0</td>\n      <td>1</td>\n      <td>-7.254738e-01</td>\n      <td>2.010748e-02</td>\n    </tr>\n    <tr>\n      <th>177</th>\n      <td>0</td>\n      <td>0</td>\n      <td>1</td>\n      <td>0</td>\n      <td>0</td>\n      <td>0</td>\n      <td>0</td>\n      <td>1.675684e+00</td>\n      <td>3.548412e-01</td>\n    </tr>\n    <tr>\n      <th>178</th>\n      <td>1</td>\n      <td>0</td>\n      <td>0</td>\n      <td>3</td>\n      <td>1</td>\n      <td>0</td>\n      <td>1</td>\n      <td>4.044828e-01</td>\n      <td>6.040081e-02</td>\n    </tr>\n    <tr>\n      <th>179</th>\n      <td>0</td>\n      <td>0</td>\n      <td>0</td>\n      <td>2</td>\n      <td>1</td>\n      <td>0</td>\n      <td>0</td>\n      <td>2.381907e+00</td>\n      <td>8.511942e-01</td>\n    </tr>\n    <tr>\n      <th>180</th>\n      <td>1</td>\n      <td>0</td>\n      <td>0</td>\n      <td>0</td>\n      <td>0</td>\n      <td>0</td>\n      <td>1</td>\n      <td>-1.925095e-02</td>\n      <td>-4.052111e-01</td>\n    </tr>\n    <tr>\n      <th>181</th>\n      <td>0</td>\n      <td>0</td>\n      <td>1</td>\n      <td>1</td>\n      <td>0</td>\n      <td>0</td>\n      <td>0</td>\n      <td>4.751051e-01</td>\n      <td>8.511942e-01</td>\n    </tr>\n    <tr>\n      <th>182</th>\n      <td>0</td>\n      <td>0</td>\n      <td>1</td>\n      <td>0</td>\n      <td>1</td>\n      <td>0</td>\n      <td>1</td>\n      <td>-8.667184e-01</td>\n      <td>3.129057e-01</td>\n    </tr>\n    <tr>\n      <th>183</th>\n      <td>0</td>\n      <td>1</td>\n      <td>0</td>\n      <td>0</td>\n      <td>0</td>\n      <td>1</td>\n      <td>0</td>\n      <td>4.280378e-17</td>\n      <td>-4.992288e-01</td>\n    </tr>\n    <tr>\n      <th>184</th>\n      <td>0</td>\n      <td>0</td>\n      <td>1</td>\n      <td>1</td>\n      <td>1</td>\n      <td>0</td>\n      <td>0</td>\n      <td>-2.311178e-01</td>\n      <td>3.794622e+00</td>\n    </tr>\n    <tr>\n      <th>185</th>\n      <td>1</td>\n      <td>0</td>\n      <td>0</td>\n      <td>0</td>\n      <td>0</td>\n      <td>0</td>\n      <td>1</td>\n      <td>6.869719e-01</td>\n      <td>-3.514866e-01</td>\n    </tr>\n    <tr>\n      <th>186</th>\n      <td>1</td>\n      <td>0</td>\n      <td>0</td>\n      <td>1</td>\n      <td>1</td>\n      <td>0</td>\n      <td>1</td>\n      <td>-6.548515e-01</td>\n      <td>-2.619459e-01</td>\n    </tr>\n    <tr>\n      <th>187</th>\n      <td>0</td>\n      <td>1</td>\n      <td>2</td>\n      <td>0</td>\n      <td>0</td>\n      <td>0</td>\n      <td>1</td>\n      <td>-9.373407e-01</td>\n      <td>-4.938564e-01</td>\n    </tr>\n    <tr>\n      <th>188</th>\n      <td>0</td>\n      <td>1</td>\n      <td>8</td>\n      <td>2</td>\n      <td>1</td>\n      <td>0</td>\n      <td>1</td>\n      <td>4.280378e-17</td>\n      <td>6.074948e-01</td>\n    </tr>\n    <tr>\n      <th>189</th>\n      <td>1</td>\n      <td>0</td>\n      <td>0</td>\n      <td>0</td>\n      <td>0</td>\n      <td>0</td>\n      <td>1</td>\n      <td>6.869719e-01</td>\n      <td>-4.052111e-01</td>\n    </tr>\n    <tr>\n      <th>190</th>\n      <td>1</td>\n      <td>0</td>\n      <td>1</td>\n      <td>0</td>\n      <td>0</td>\n      <td>0</td>\n      <td>1</td>\n      <td>2.632382e-01</td>\n      <td>-1.724051e-01</td>\n    </tr>\n    <tr>\n      <th>191</th>\n      <td>0</td>\n      <td>0</td>\n      <td>0</td>\n      <td>0</td>\n      <td>0</td>\n      <td>0</td>\n      <td>1</td>\n      <td>4.280378e-17</td>\n      <td>-1.724051e-01</td>\n    </tr>\n    <tr>\n      <th>192</th>\n      <td>0</td>\n      <td>1</td>\n      <td>1</td>\n      <td>1</td>\n      <td>0</td>\n      <td>0</td>\n      <td>1</td>\n      <td>-1.325763e+00</td>\n      <td>-3.783488e-01</td>\n    </tr>\n    <tr>\n      <th>193</th>\n      <td>1</td>\n      <td>0</td>\n      <td>0</td>\n      <td>0</td>\n      <td>0</td>\n      <td>1</td>\n      <td>0</td>\n      <td>2.170040e+00</td>\n      <td>-4.168514e-01</td>\n    </tr>\n    <tr>\n      <th>194</th>\n      <td>1</td>\n      <td>0</td>\n      <td>0</td>\n      <td>2</td>\n      <td>0</td>\n      <td>0</td>\n      <td>1</td>\n      <td>-1.572941e+00</td>\n      <td>-5.600216e-02</td>\n    </tr>\n    <tr>\n      <th>195</th>\n      <td>0</td>\n      <td>1</td>\n      <td>0</td>\n      <td>0</td>\n      <td>0</td>\n      <td>0</td>\n      <td>1</td>\n      <td>1.926159e-01</td>\n      <td>-4.973628e-01</td>\n    </tr>\n    <tr>\n      <th>196</th>\n      <td>0</td>\n      <td>0</td>\n      <td>0</td>\n      <td>2</td>\n      <td>0</td>\n      <td>0</td>\n      <td>0</td>\n      <td>-1.714186e+00</td>\n      <td>1.770629e+00</td>\n    </tr>\n    <tr>\n      <th>197</th>\n      <td>0</td>\n      <td>1</td>\n      <td>0</td>\n      <td>0</td>\n      <td>1</td>\n      <td>0</td>\n      <td>1</td>\n      <td>-8.667184e-01</td>\n      <td>-4.987811e-01</td>\n    </tr>\n    <tr>\n      <th>198</th>\n      <td>1</td>\n      <td>0</td>\n      <td>0</td>\n      <td>0</td>\n      <td>0</td>\n      <td>0</td>\n      <td>1</td>\n      <td>-5.136070e-01</td>\n      <td>-4.499814e-01</td>\n    </tr>\n    <tr>\n      <th>199</th>\n      <td>0</td>\n      <td>1</td>\n      <td>0</td>\n      <td>0</td>\n      <td>1</td>\n      <td>0</td>\n      <td>1</td>\n      <td>4.280378e-17</td>\n      <td>-4.927371e-01</td>\n    </tr>\n    <tr>\n      <th>200</th>\n      <td>0</td>\n      <td>1</td>\n      <td>0</td>\n      <td>0</td>\n      <td>1</td>\n      <td>1</td>\n      <td>0</td>\n      <td>4.280378e-17</td>\n      <td>-3.604407e-01</td>\n    </tr>\n    <tr>\n      <th>201</th>\n      <td>0</td>\n      <td>1</td>\n      <td>0</td>\n      <td>2</td>\n      <td>0</td>\n      <td>0</td>\n      <td>1</td>\n      <td>-2.114614e+00</td>\n      <td>-3.801397e-01</td>\n    </tr>\n    <tr>\n      <th>202</th>\n      <td>0</td>\n      <td>0</td>\n      <td>1</td>\n      <td>0</td>\n      <td>0</td>\n      <td>0</td>\n      <td>0</td>\n      <td>1.181328e+00</td>\n      <td>3.436535e+00</td>\n    </tr>\n    <tr>\n      <th>203</th>\n      <td>1</td>\n      <td>0</td>\n      <td>1</td>\n      <td>1</td>\n      <td>1</td>\n      <td>0</td>\n      <td>1</td>\n      <td>-1.572941e+00</td>\n      <td>-1.724051e-01</td>\n    </tr>\n    <tr>\n      <th>204</th>\n      <td>1</td>\n      <td>0</td>\n      <td>0</td>\n      <td>0</td>\n      <td>0</td>\n      <td>0</td>\n      <td>1</td>\n      <td>-3.723624e-01</td>\n      <td>-4.499814e-01</td>\n    </tr>\n    <tr>\n      <th>205</th>\n      <td>0</td>\n      <td>0</td>\n      <td>0</td>\n      <td>0</td>\n      <td>0</td>\n      <td>0</td>\n      <td>0</td>\n      <td>4.280378e-17</td>\n      <td>-1.770308e-01</td>\n    </tr>\n    <tr>\n      <th>206</th>\n      <td>0</td>\n      <td>1</td>\n      <td>0</td>\n      <td>0</td>\n      <td>1</td>\n      <td>1</td>\n      <td>0</td>\n      <td>3.338605e-01</td>\n      <td>-4.992288e-01</td>\n    </tr>\n    <tr>\n      <th>207</th>\n      <td>1</td>\n      <td>0</td>\n      <td>0</td>\n      <td>0</td>\n      <td>0</td>\n      <td>0</td>\n      <td>1</td>\n      <td>-4.429847e-01</td>\n      <td>-4.499814e-01</td>\n    </tr>\n    <tr>\n      <th>208</th>\n      <td>0</td>\n      <td>0</td>\n      <td>0</td>\n      <td>0</td>\n      <td>1</td>\n      <td>0</td>\n      <td>0</td>\n      <td>1.926159e-01</td>\n      <td>-1.415888e-01</td>\n    </tr>\n    <tr>\n      <th>209</th>\n      <td>0</td>\n      <td>1</td>\n      <td>0</td>\n      <td>0</td>\n      <td>0</td>\n      <td>0</td>\n      <td>1</td>\n      <td>-3.723624e-01</td>\n      <td>-4.966178e-01</td>\n    </tr>\n    <tr>\n      <th>210</th>\n      <td>0</td>\n      <td>1</td>\n      <td>0</td>\n      <td>0</td>\n      <td>0</td>\n      <td>0</td>\n      <td>1</td>\n      <td>1.219936e-01</td>\n      <td>-2.346359e-01</td>\n    </tr>\n    <tr>\n      <th>211</th>\n      <td>0</td>\n      <td>1</td>\n      <td>0</td>\n      <td>0</td>\n      <td>0</td>\n      <td>0</td>\n      <td>1</td>\n      <td>4.280378e-17</td>\n      <td>-5.117645e-01</td>\n    </tr>\n    <tr>\n      <th>212</th>\n      <td>1</td>\n      <td>0</td>\n      <td>0</td>\n      <td>0</td>\n      <td>0</td>\n      <td>0</td>\n      <td>1</td>\n      <td>-9.373407e-01</td>\n      <td>6.782319e-01</td>\n    </tr>\n    <tr>\n      <th>213</th>\n      <td>1</td>\n      <td>0</td>\n      <td>1</td>\n      <td>0</td>\n      <td>1</td>\n      <td>0</td>\n      <td>1</td>\n      <td>2.099418e+00</td>\n      <td>-1.724051e-01</td>\n    </tr>\n    <tr>\n      <th>214</th>\n      <td>0</td>\n      <td>1</td>\n      <td>4</td>\n      <td>2</td>\n      <td>1</td>\n      <td>0</td>\n      <td>1</td>\n      <td>5.457273e-01</td>\n      <td>-4.987811e-01</td>\n    </tr>\n    <tr>\n      <th>215</th>\n      <td>0</td>\n      <td>0</td>\n      <td>0</td>\n      <td>0</td>\n      <td>0</td>\n      <td>0</td>\n      <td>1</td>\n      <td>8.282165e-01</td>\n      <td>1.230793e-01</td>\n    </tr>\n    <tr>\n      <th>216</th>\n      <td>0</td>\n      <td>1</td>\n      <td>0</td>\n      <td>0</td>\n      <td>1</td>\n      <td>1</td>\n      <td>0</td>\n      <td>4.280378e-17</td>\n      <td>-4.969151e-01</td>\n    </tr>\n    <tr>\n      <th>217</th>\n      <td>0</td>\n      <td>0</td>\n      <td>1</td>\n      <td>1</td>\n      <td>0</td>\n      <td>0</td>\n      <td>1</td>\n      <td>1.887551e+00</td>\n      <td>2.314440e+00</td>\n    </tr>\n    <tr>\n      <th>218</th>\n      <td>0</td>\n      <td>0</td>\n      <td>1</td>\n      <td>1</td>\n      <td>1</td>\n      <td>0</td>\n      <td>0</td>\n      <td>1.393195e+00</td>\n      <td>3.149557e+00</td>\n    </tr>\n    <tr>\n      <th>219</th>\n      <td>0</td>\n      <td>1</td>\n      <td>0</td>\n      <td>0</td>\n      <td>0</td>\n      <td>0</td>\n      <td>1</td>\n      <td>4.280378e-17</td>\n      <td>-4.938564e-01</td>\n    </tr>\n    <tr>\n      <th>220</th>\n      <td>1</td>\n      <td>0</td>\n      <td>1</td>\n      <td>0</td>\n      <td>1</td>\n      <td>0</td>\n      <td>0</td>\n      <td>-1.925095e-02</td>\n      <td>-3.898405e-01</td>\n    </tr>\n    <tr>\n      <th>221</th>\n      <td>0</td>\n      <td>1</td>\n      <td>0</td>\n      <td>0</td>\n      <td>0</td>\n      <td>0</td>\n      <td>1</td>\n      <td>-6.548515e-01</td>\n      <td>-4.938564e-01</td>\n    </tr>\n    <tr>\n      <th>222</th>\n      <td>1</td>\n      <td>0</td>\n      <td>0</td>\n      <td>0</td>\n      <td>1</td>\n      <td>0</td>\n      <td>1</td>\n      <td>-5.842293e-01</td>\n      <td>-4.499814e-01</td>\n    </tr>\n    <tr>\n      <th>223</th>\n      <td>0</td>\n      <td>1</td>\n      <td>0</td>\n      <td>0</td>\n      <td>0</td>\n      <td>0</td>\n      <td>1</td>\n      <td>-6.548515e-01</td>\n      <td>-4.984087e-01</td>\n    </tr>\n    <tr>\n      <th>224</th>\n      <td>0</td>\n      <td>0</td>\n      <td>0</td>\n      <td>0</td>\n      <td>1</td>\n      <td>0</td>\n      <td>0</td>\n      <td>1.605062e+00</td>\n      <td>-1.465135e-01</td>\n    </tr>\n    <tr>\n      <th>225</th>\n      <td>0</td>\n      <td>1</td>\n      <td>0</td>\n      <td>2</td>\n      <td>1</td>\n      <td>0</td>\n      <td>0</td>\n      <td>4.280378e-17</td>\n      <td>-3.649929e-01</td>\n    </tr>\n    <tr>\n      <th>226</th>\n      <td>0</td>\n      <td>1</td>\n      <td>0</td>\n      <td>0</td>\n      <td>0</td>\n      <td>0</td>\n      <td>1</td>\n      <td>-5.136070e-01</td>\n      <td>-4.984087e-01</td>\n    </tr>\n    <tr>\n      <th>227</th>\n      <td>0</td>\n      <td>1</td>\n      <td>0</td>\n      <td>0</td>\n      <td>1</td>\n      <td>1</td>\n      <td>0</td>\n      <td>4.280378e-17</td>\n      <td>-4.992288e-01</td>\n    </tr>\n    <tr>\n      <th>228</th>\n      <td>0</td>\n      <td>1</td>\n      <td>0</td>\n      <td>0</td>\n      <td>0</td>\n      <td>0</td>\n      <td>1</td>\n      <td>7.222831e-01</td>\n      <td>-3.676039e-01</td>\n    </tr>\n    <tr>\n      <th>229</th>\n      <td>1</td>\n      <td>0</td>\n      <td>0</td>\n      <td>0</td>\n      <td>0</td>\n      <td>0</td>\n      <td>1</td>\n      <td>4.044828e-01</td>\n      <td>-4.052111e-01</td>\n    </tr>\n    <tr>\n      <th>230</th>\n      <td>1</td>\n      <td>0</td>\n      <td>0</td>\n      <td>0</td>\n      <td>0</td>\n      <td>0</td>\n      <td>1</td>\n      <td>-1.149208e+00</td>\n      <td>5.260127e-01</td>\n    </tr>\n    <tr>\n      <th>231</th>\n      <td>0</td>\n      <td>0</td>\n      <td>0</td>\n      <td>0</td>\n      <td>1</td>\n      <td>0</td>\n      <td>1</td>\n      <td>-6.548515e-01</td>\n      <td>-1.625556e-01</td>\n    </tr>\n    <tr>\n      <th>232</th>\n      <td>0</td>\n      <td>1</td>\n      <td>1</td>\n      <td>0</td>\n      <td>0</td>\n      <td>0</td>\n      <td>1</td>\n      <td>-6.548515e-01</td>\n      <td>-5.216892e-01</td>\n    </tr>\n    <tr>\n      <th>233</th>\n      <td>0</td>\n      <td>1</td>\n      <td>0</td>\n      <td>0</td>\n      <td>0</td>\n      <td>1</td>\n      <td>0</td>\n      <td>4.280378e-17</td>\n      <td>-4.969151e-01</td>\n    </tr>\n    <tr>\n      <th>234</th>\n      <td>0</td>\n      <td>0</td>\n      <td>1</td>\n      <td>0</td>\n      <td>0</td>\n      <td>0</td>\n      <td>0</td>\n      <td>6.163496e-01</td>\n      <td>6.385350e-01</td>\n    </tr>\n    <tr>\n      <th>235</th>\n      <td>0</td>\n      <td>1</td>\n      <td>0</td>\n      <td>0</td>\n      <td>0</td>\n      <td>0</td>\n      <td>1</td>\n      <td>-7.254738e-01</td>\n      <td>-4.973628e-01</td>\n    </tr>\n    <tr>\n      <th>236</th>\n      <td>0</td>\n      <td>0</td>\n      <td>1</td>\n      <td>0</td>\n      <td>0</td>\n      <td>0</td>\n      <td>0</td>\n      <td>2.381907e+00</td>\n      <td>7.095712e-01</td>\n    </tr>\n    <tr>\n      <th>237</th>\n      <td>0</td>\n      <td>1</td>\n      <td>0</td>\n      <td>0</td>\n      <td>0</td>\n      <td>0</td>\n      <td>0</td>\n      <td>-7.254738e-01</td>\n      <td>-5.086306e-01</td>\n    </tr>\n    <tr>\n      <th>238</th>\n      <td>1</td>\n      <td>0</td>\n      <td>1</td>\n      <td>1</td>\n      <td>1</td>\n      <td>0</td>\n      <td>1</td>\n      <td>-8.667184e-01</td>\n      <td>-4.052111e-01</td>\n    </tr>\n    <tr>\n      <th>239</th>\n      <td>0</td>\n      <td>0</td>\n      <td>1</td>\n      <td>0</td>\n      <td>1</td>\n      <td>0</td>\n      <td>0</td>\n      <td>1.251950e+00</td>\n      <td>1.267858e+00</td>\n    </tr>\n    <tr>\n      <th>240</th>\n      <td>0</td>\n      <td>0</td>\n      <td>0</td>\n      <td>0</td>\n      <td>1</td>\n      <td>0</td>\n      <td>0</td>\n      <td>1.746306e+00</td>\n      <td>-1.415888e-01</td>\n    </tr>\n    <tr>\n      <th>241</th>\n      <td>1</td>\n      <td>0</td>\n      <td>0</td>\n      <td>2</td>\n      <td>1</td>\n      <td>0</td>\n      <td>1</td>\n      <td>1.040083e+00</td>\n      <td>-1.007725e-01</td>\n    </tr>\n    <tr>\n      <th>242</th>\n      <td>0</td>\n      <td>0</td>\n      <td>1</td>\n      <td>1</td>\n      <td>0</td>\n      <td>0</td>\n      <td>0</td>\n      <td>1.040083e+00</td>\n      <td>1.770629e+00</td>\n    </tr>\n    <tr>\n      <th>243</th>\n      <td>0</td>\n      <td>1</td>\n      <td>0</td>\n      <td>0</td>\n      <td>0</td>\n      <td>0</td>\n      <td>1</td>\n      <td>4.280378e-17</td>\n      <td>-4.967665e-01</td>\n    </tr>\n    <tr>\n      <th>244</th>\n      <td>0</td>\n      <td>1</td>\n      <td>1</td>\n      <td>2</td>\n      <td>0</td>\n      <td>0</td>\n      <td>1</td>\n      <td>4.280378e-17</td>\n      <td>-2.180709e-01</td>\n    </tr>\n    <tr>\n      <th>245</th>\n      <td>0</td>\n      <td>0</td>\n      <td>1</td>\n      <td>0</td>\n      <td>0</td>\n      <td>0</td>\n      <td>1</td>\n      <td>7.575942e-01</td>\n      <td>2.907444e-01</td>\n    </tr>\n    <tr>\n      <th>246</th>\n      <td>1</td>\n      <td>0</td>\n      <td>0</td>\n      <td>0</td>\n      <td>1</td>\n      <td>0</td>\n      <td>1</td>\n      <td>-5.842293e-01</td>\n      <td>-2.619459e-01</td>\n    </tr>\n    <tr>\n      <th>247</th>\n      <td>1</td>\n      <td>0</td>\n      <td>1</td>\n      <td>1</td>\n      <td>0</td>\n      <td>0</td>\n      <td>1</td>\n      <td>8.282165e-01</td>\n      <td>-5.600216e-02</td>\n    </tr>\n    <tr>\n      <th>248</th>\n      <td>1</td>\n      <td>0</td>\n      <td>1</td>\n      <td>0</td>\n      <td>1</td>\n      <td>0</td>\n      <td>1</td>\n      <td>-8.987324e-02</td>\n      <td>-1.724051e-01</td>\n    </tr>\n    <tr>\n      <th>249</th>\n      <td>0</td>\n      <td>1</td>\n      <td>1</td>\n      <td>0</td>\n      <td>1</td>\n      <td>0</td>\n      <td>0</td>\n      <td>4.280378e-17</td>\n      <td>-3.791690e-01</td>\n    </tr>\n    <tr>\n      <th>250</th>\n      <td>1</td>\n      <td>0</td>\n      <td>1</td>\n      <td>2</td>\n      <td>1</td>\n      <td>0</td>\n      <td>1</td>\n      <td>-2.072947e+00</td>\n      <td>-1.410659e-01</td>\n    </tr>\n    <tr>\n      <th>251</th>\n      <td>0</td>\n      <td>1</td>\n      <td>0</td>\n      <td>0</td>\n      <td>0</td>\n      <td>0</td>\n      <td>1</td>\n      <td>-7.254738e-01</td>\n      <td>-4.960949e-01</td>\n    </tr>\n    <tr>\n      <th>252</th>\n      <td>0</td>\n      <td>0</td>\n      <td>1</td>\n      <td>0</td>\n      <td>0</td>\n      <td>0</td>\n      <td>0</td>\n      <td>-2.311178e-01</td>\n      <td>1.811445e+00</td>\n    </tr>\n    <tr>\n      <th>253</th>\n      <td>0</td>\n      <td>1</td>\n      <td>0</td>\n      <td>0</td>\n      <td>0</td>\n      <td>0</td>\n      <td>1</td>\n      <td>-4.429847e-01</td>\n      <td>-4.710235e-01</td>\n    </tr>\n    <tr>\n      <th>254</th>\n      <td>0</td>\n      <td>1</td>\n      <td>0</td>\n      <td>0</td>\n      <td>0</td>\n      <td>0</td>\n      <td>1</td>\n      <td>1.573048e-01</td>\n      <td>-4.678896e-01</td>\n    </tr>\n    <tr>\n      <th>255</th>\n      <td>0</td>\n      <td>1</td>\n      <td>0</td>\n      <td>0</td>\n      <td>0</td>\n      <td>0</td>\n      <td>1</td>\n      <td>4.280378e-17</td>\n      <td>-5.028105e-01</td>\n    </tr>\n    <tr>\n      <th>256</th>\n      <td>0</td>\n      <td>1</td>\n      <td>0</td>\n      <td>0</td>\n      <td>0</td>\n      <td>1</td>\n      <td>0</td>\n      <td>4.280378e-17</td>\n      <td>-4.992288e-01</td>\n    </tr>\n    <tr>\n      <th>257</th>\n      <td>0</td>\n      <td>1</td>\n      <td>0</td>\n      <td>0</td>\n      <td>0</td>\n      <td>0</td>\n      <td>1</td>\n      <td>-1.604955e-01</td>\n      <td>-4.938564e-01</td>\n    </tr>\n    <tr>\n      <th>258</th>\n      <td>1</td>\n      <td>0</td>\n      <td>0</td>\n      <td>0</td>\n      <td>1</td>\n      <td>0</td>\n      <td>1</td>\n      <td>-7.960961e-01</td>\n      <td>-4.052111e-01</td>\n    </tr>\n    <tr>\n      <th>259</th>\n      <td>0</td>\n      <td>1</td>\n      <td>0</td>\n      <td>0</td>\n      <td>0</td>\n      <td>0</td>\n      <td>1</td>\n      <td>-6.548515e-01</td>\n      <td>-4.987811e-01</td>\n    </tr>\n    <tr>\n      <th>260</th>\n      <td>0</td>\n      <td>1</td>\n      <td>1</td>\n      <td>0</td>\n      <td>0</td>\n      <td>0</td>\n      <td>1</td>\n      <td>4.397939e-01</td>\n      <td>-3.264152e-01</td>\n    </tr>\n    <tr>\n      <th>261</th>\n      <td>0</td>\n      <td>1</td>\n      <td>0</td>\n      <td>0</td>\n      <td>0</td>\n      <td>0</td>\n      <td>1</td>\n      <td>-6.548515e-01</td>\n      <td>-4.973628e-01</td>\n    </tr>\n    <tr>\n      <th>262</th>\n      <td>1</td>\n      <td>0</td>\n      <td>0</td>\n      <td>2</td>\n      <td>1</td>\n      <td>0</td>\n      <td>1</td>\n      <td>-8.987324e-02</td>\n      <td>-2.261296e-01</td>\n    </tr>\n    <tr>\n      <th>263</th>\n      <td>0</td>\n      <td>1</td>\n      <td>1</td>\n      <td>1</td>\n      <td>1</td>\n      <td>0</td>\n      <td>1</td>\n      <td>-2.067297e+00</td>\n      <td>-4.198366e-01</td>\n    </tr>\n    <tr>\n      <th>264</th>\n      <td>1</td>\n      <td>0</td>\n      <td>0</td>\n      <td>0</td>\n      <td>0</td>\n      <td>0</td>\n      <td>0</td>\n      <td>-1.925095e-02</td>\n      <td>-4.099120e-01</td>\n    </tr>\n    <tr>\n      <th>265</th>\n      <td>0</td>\n      <td>1</td>\n      <td>0</td>\n      <td>0</td>\n      <td>0</td>\n      <td>0</td>\n      <td>1</td>\n      <td>4.280378e-17</td>\n      <td>-4.966178e-01</td>\n    </tr>\n    <tr>\n      <th>266</th>\n      <td>0</td>\n      <td>0</td>\n      <td>0</td>\n      <td>0</td>\n      <td>0</td>\n      <td>0</td>\n      <td>1</td>\n      <td>4.280378e-17</td>\n      <td>-6.380170e-01</td>\n    </tr>\n    <tr>\n      <th>267</th>\n      <td>0</td>\n      <td>1</td>\n      <td>0</td>\n      <td>0</td>\n      <td>0</td>\n      <td>0</td>\n      <td>1</td>\n      <td>4.280378e-17</td>\n      <td>-5.028105e-01</td>\n    </tr>\n    <tr>\n      <th>268</th>\n      <td>0</td>\n      <td>1</td>\n      <td>0</td>\n      <td>0</td>\n      <td>1</td>\n      <td>0</td>\n      <td>1</td>\n      <td>4.280378e-17</td>\n      <td>-4.938564e-01</td>\n    </tr>\n    <tr>\n      <th>269</th>\n      <td>0</td>\n      <td>1</td>\n      <td>0</td>\n      <td>0</td>\n      <td>0</td>\n      <td>0</td>\n      <td>1</td>\n      <td>-9.373407e-01</td>\n      <td>-4.828877e-01</td>\n    </tr>\n    <tr>\n      <th>270</th>\n      <td>0</td>\n      <td>0</td>\n      <td>0</td>\n      <td>0</td>\n      <td>0</td>\n      <td>0</td>\n      <td>0</td>\n      <td>1.110706e+00</td>\n      <td>7.094226e-01</td>\n    </tr>\n    <tr>\n      <th>271</th>\n      <td>0</td>\n      <td>1</td>\n      <td>0</td>\n      <td>0</td>\n      <td>0</td>\n      <td>1</td>\n      <td>0</td>\n      <td>4.280378e-17</td>\n      <td>-4.992288e-01</td>\n    </tr>\n    <tr>\n      <th>272</th>\n      <td>0</td>\n      <td>0</td>\n      <td>1</td>\n      <td>0</td>\n      <td>1</td>\n      <td>0</td>\n      <td>0</td>\n      <td>-3.017401e-01</td>\n      <td>1.811445e+00</td>\n    </tr>\n    <tr>\n      <th>273</th>\n      <td>0</td>\n      <td>1</td>\n      <td>1</td>\n      <td>0</td>\n      <td>1</td>\n      <td>1</td>\n      <td>0</td>\n      <td>4.280378e-17</td>\n      <td>-3.604407e-01</td>\n    </tr>\n    <tr>\n      <th>274</th>\n      <td>0</td>\n      <td>1</td>\n      <td>0</td>\n      <td>0</td>\n      <td>0</td>\n      <td>0</td>\n      <td>0</td>\n      <td>4.280378e-17</td>\n      <td>-5.086306e-01</td>\n    </tr>\n    <tr>\n      <th>275</th>\n      <td>1</td>\n      <td>0</td>\n      <td>1</td>\n      <td>0</td>\n      <td>1</td>\n      <td>0</td>\n      <td>1</td>\n      <td>-7.254738e-01</td>\n      <td>-1.724051e-01</td>\n    </tr>\n    <tr>\n      <th>276</th>\n      <td>1</td>\n      <td>0</td>\n      <td>0</td>\n      <td>0</td>\n      <td>0</td>\n      <td>0</td>\n      <td>1</td>\n      <td>-1.604955e-01</td>\n      <td>-4.499814e-01</td>\n    </tr>\n    <tr>\n      <th>277</th>\n      <td>1</td>\n      <td>0</td>\n      <td>1</td>\n      <td>0</td>\n      <td>0</td>\n      <td>0</td>\n      <td>1</td>\n      <td>6.869719e-01</td>\n      <td>-1.724051e-01</td>\n    </tr>\n    <tr>\n      <th>278</th>\n      <td>1</td>\n      <td>0</td>\n      <td>1</td>\n      <td>0</td>\n      <td>0</td>\n      <td>0</td>\n      <td>1</td>\n      <td>-1.925095e-02</td>\n      <td>-2.619459e-01</td>\n    </tr>\n    <tr>\n      <th>279</th>\n      <td>1</td>\n      <td>0</td>\n      <td>0</td>\n      <td>0</td>\n      <td>0</td>\n      <td>0</td>\n      <td>1</td>\n      <td>-5.842293e-01</td>\n      <td>-4.499814e-01</td>\n    </tr>\n    <tr>\n      <th>280</th>\n      <td>0</td>\n      <td>1</td>\n      <td>0</td>\n      <td>0</td>\n      <td>1</td>\n      <td>0</td>\n      <td>1</td>\n      <td>-5.136070e-01</td>\n      <td>-4.828877e-01</td>\n    </tr>\n    <tr>\n      <th>281</th>\n      <td>0</td>\n      <td>1</td>\n      <td>1</td>\n      <td>1</td>\n      <td>0</td>\n      <td>0</td>\n      <td>1</td>\n      <td>-2.084953e+00</td>\n      <td>-3.913322e-01</td>\n    </tr>\n    <tr>\n      <th>282</th>\n      <td>0</td>\n      <td>1</td>\n      <td>0</td>\n      <td>0</td>\n      <td>1</td>\n      <td>1</td>\n      <td>0</td>\n      <td>4.280378e-17</td>\n      <td>-4.992288e-01</td>\n    </tr>\n    <tr>\n      <th>283</th>\n      <td>0</td>\n      <td>1</td>\n      <td>1</td>\n      <td>1</td>\n      <td>1</td>\n      <td>0</td>\n      <td>0</td>\n      <td>-1.502319e+00</td>\n      <td>-3.649929e-01</td>\n    </tr>\n    <tr>\n      <th>284</th>\n      <td>0</td>\n      <td>1</td>\n      <td>1</td>\n      <td>1</td>\n      <td>1</td>\n      <td>0</td>\n      <td>1</td>\n      <td>-1.996675e+00</td>\n      <td>-2.760485e-01</td>\n    </tr>\n    <tr>\n      <th>285</th>\n      <td>0</td>\n      <td>1</td>\n      <td>0</td>\n      <td>0</td>\n      <td>0</td>\n      <td>0</td>\n      <td>1</td>\n      <td>4.044828e-01</td>\n      <td>-5.081829e-01</td>\n    </tr>\n    <tr>\n      <th>286</th>\n      <td>0</td>\n      <td>1</td>\n      <td>0</td>\n      <td>0</td>\n      <td>0</td>\n      <td>0</td>\n      <td>1</td>\n      <td>4.280378e-17</td>\n      <td>-5.081829e-01</td>\n    </tr>\n    <tr>\n      <th>287</th>\n      <td>0</td>\n      <td>0</td>\n      <td>1</td>\n      <td>0</td>\n      <td>0</td>\n      <td>0</td>\n      <td>1</td>\n      <td>-4.429847e-01</td>\n      <td>8.352273e-01</td>\n    </tr>\n    <tr>\n      <th>288</th>\n      <td>0</td>\n      <td>1</td>\n      <td>0</td>\n      <td>0</td>\n      <td>0</td>\n      <td>0</td>\n      <td>0</td>\n      <td>4.280378e-17</td>\n      <td>-5.085554e-01</td>\n    </tr>\n    <tr>\n      <th>289</th>\n      <td>0</td>\n      <td>1</td>\n      <td>0</td>\n      <td>0</td>\n      <td>0</td>\n      <td>0</td>\n      <td>1</td>\n      <td>4.280378e-17</td>\n      <td>-4.938564e-01</td>\n    </tr>\n    <tr>\n      <th>290</th>\n      <td>0</td>\n      <td>0</td>\n      <td>0</td>\n      <td>0</td>\n      <td>0</td>\n      <td>0</td>\n      <td>1</td>\n      <td>4.280378e-17</td>\n      <td>7.114570e-02</td>\n    </tr>\n    <tr>\n      <th>291</th>\n      <td>0</td>\n      <td>1</td>\n      <td>0</td>\n      <td>0</td>\n      <td>1</td>\n      <td>1</td>\n      <td>0</td>\n      <td>-1.925095e-02</td>\n      <td>-5.135554e-01</td>\n    </tr>\n    <tr>\n      <th>292</th>\n      <td>0</td>\n      <td>1</td>\n      <td>0</td>\n      <td>0</td>\n      <td>0</td>\n      <td>0</td>\n      <td>0</td>\n      <td>4.280378e-17</td>\n      <td>-5.085554e-01</td>\n    </tr>\n    <tr>\n      <th>293</th>\n      <td>0</td>\n      <td>0</td>\n      <td>1</td>\n      <td>1</td>\n      <td>0</td>\n      <td>0</td>\n      <td>1</td>\n      <td>1.605062e+00</td>\n      <td>8.279136e-01</td>\n    </tr>\n    <tr>\n      <th>294</th>\n      <td>0</td>\n      <td>1</td>\n      <td>0</td>\n      <td>0</td>\n      <td>0</td>\n      <td>0</td>\n      <td>1</td>\n      <td>4.044828e-01</td>\n      <td>-4.678896e-01</td>\n    </tr>\n    <tr>\n      <th>295</th>\n      <td>0</td>\n      <td>1</td>\n      <td>0</td>\n      <td>0</td>\n      <td>0</td>\n      <td>0</td>\n      <td>1</td>\n      <td>-3.017401e-01</td>\n      <td>-4.966178e-01</td>\n    </tr>\n    <tr>\n      <th>296</th>\n      <td>1</td>\n      <td>0</td>\n      <td>1</td>\n      <td>2</td>\n      <td>1</td>\n      <td>0</td>\n      <td>0</td>\n      <td>-2.067297e+00</td>\n      <td>1.065895e-01</td>\n    </tr>\n    <tr>\n      <th>297</th>\n      <td>0</td>\n      <td>1</td>\n      <td>2</td>\n      <td>0</td>\n      <td>0</td>\n      <td>0</td>\n      <td>0</td>\n      <td>4.280378e-17</td>\n      <td>-2.497827e-01</td>\n    </tr>\n    <tr>\n      <th>298</th>\n      <td>0</td>\n      <td>0</td>\n      <td>0</td>\n      <td>0</td>\n      <td>0</td>\n      <td>0</td>\n      <td>1</td>\n      <td>-1.925095e-02</td>\n      <td>1.768038e-01</td>\n    </tr>\n    <tr>\n      <th>299</th>\n      <td>0</td>\n      <td>1</td>\n      <td>0</td>\n      <td>0</td>\n      <td>0</td>\n      <td>0</td>\n      <td>1</td>\n      <td>-8.987324e-02</td>\n      <td>-4.973628e-01</td>\n    </tr>\n    <tr>\n      <th>300</th>\n      <td>0</td>\n      <td>1</td>\n      <td>0</td>\n      <td>0</td>\n      <td>0</td>\n      <td>0</td>\n      <td>1</td>\n      <td>1.219936e-01</td>\n      <td>-4.987811e-01</td>\n    </tr>\n    <tr>\n      <th>301</th>\n      <td>1</td>\n      <td>0</td>\n      <td>0</td>\n      <td>0</td>\n      <td>0</td>\n      <td>0</td>\n      <td>0</td>\n      <td>4.280378e-17</td>\n      <td>-3.685746e-01</td>\n    </tr>\n    <tr>\n      <th>302</th>\n      <td>1</td>\n      <td>0</td>\n      <td>0</td>\n      <td>1</td>\n      <td>0</td>\n      <td>0</td>\n      <td>1</td>\n      <td>8.988388e-01</td>\n      <td>-2.619459e-01</td>\n    </tr>\n    <tr>\n      <th>303</th>\n      <td>0</td>\n      <td>1</td>\n      <td>0</td>\n      <td>0</td>\n      <td>0</td>\n      <td>0</td>\n      <td>1</td>\n      <td>-4.429847e-01</td>\n      <td>-4.828877e-01</td>\n    </tr>\n    <tr>\n      <th>304</th>\n      <td>0</td>\n      <td>1</td>\n      <td>0</td>\n      <td>0</td>\n      <td>1</td>\n      <td>1</td>\n      <td>0</td>\n      <td>4.280378e-17</td>\n      <td>-4.992288e-01</td>\n    </tr>\n    <tr>\n      <th>305</th>\n      <td>0</td>\n      <td>0</td>\n      <td>1</td>\n      <td>1</td>\n      <td>1</td>\n      <td>0</td>\n      <td>1</td>\n      <td>2.381907e+00</td>\n      <td>-1.625556e-01</td>\n    </tr>\n    <tr>\n      <th>306</th>\n      <td>0</td>\n      <td>0</td>\n      <td>1</td>\n      <td>2</td>\n      <td>0</td>\n      <td>0</td>\n      <td>1</td>\n      <td>-1.925095e-02</td>\n      <td>2.075963e+00</td>\n    </tr>\n    <tr>\n      <th>307</th>\n      <td>0</td>\n      <td>1</td>\n      <td>0</td>\n      <td>1</td>\n      <td>0</td>\n      <td>0</td>\n      <td>1</td>\n      <td>-2.079303e+00</td>\n      <td>-4.705758e-01</td>\n    </tr>\n    <tr>\n      <th>308</th>\n      <td>0</td>\n      <td>0</td>\n      <td>1</td>\n      <td>1</td>\n      <td>0</td>\n      <td>0</td>\n      <td>1</td>\n      <td>1.746306e+00</td>\n      <td>1.036395e+00</td>\n    </tr>\n    <tr>\n      <th>309</th>\n      <td>0</td>\n      <td>1</td>\n      <td>1</td>\n      <td>0</td>\n      <td>1</td>\n      <td>0</td>\n      <td>1</td>\n      <td>1.040083e+00</td>\n      <td>-3.853635e-01</td>\n    </tr>\n    <tr>\n      <th>310</th>\n      <td>0</td>\n      <td>1</td>\n      <td>0</td>\n      <td>0</td>\n      <td>0</td>\n      <td>0</td>\n      <td>1</td>\n      <td>-8.667184e-01</td>\n      <td>-4.828877e-01</td>\n    </tr>\n    <tr>\n      <th>311</th>\n      <td>0</td>\n      <td>1</td>\n      <td>0</td>\n      <td>0</td>\n      <td>0</td>\n      <td>0</td>\n      <td>0</td>\n      <td>-5.842293e-01</td>\n      <td>-5.086306e-01</td>\n    </tr>\n    <tr>\n      <th>312</th>\n      <td>0</td>\n      <td>1</td>\n      <td>0</td>\n      <td>0</td>\n      <td>0</td>\n      <td>0</td>\n      <td>1</td>\n      <td>4.280378e-17</td>\n      <td>-5.023628e-01</td>\n    </tr>\n    <tr>\n      <th>313</th>\n      <td>0</td>\n      <td>1</td>\n      <td>0</td>\n      <td>0</td>\n      <td>1</td>\n      <td>1</td>\n      <td>0</td>\n      <td>4.751051e-01</td>\n      <td>-4.992288e-01</td>\n    </tr>\n    <tr>\n      <th>314</th>\n      <td>0</td>\n      <td>0</td>\n      <td>0</td>\n      <td>0</td>\n      <td>1</td>\n      <td>0</td>\n      <td>0</td>\n      <td>1.746306e+00</td>\n      <td>1.790924e+00</td>\n    </tr>\n    <tr>\n      <th>315</th>\n      <td>0</td>\n      <td>1</td>\n      <td>0</td>\n      <td>0</td>\n      <td>1</td>\n      <td>1</td>\n      <td>0</td>\n      <td>-9.373407e-01</td>\n      <td>-4.995279e-01</td>\n    </tr>\n    <tr>\n      <th>316</th>\n      <td>0</td>\n      <td>0</td>\n      <td>1</td>\n      <td>0</td>\n      <td>0</td>\n      <td>0</td>\n      <td>0</td>\n      <td>1.887551e+00</td>\n      <td>1.985899e+00</td>\n    </tr>\n    <tr>\n      <th>317</th>\n      <td>1</td>\n      <td>0</td>\n      <td>0</td>\n      <td>0</td>\n      <td>0</td>\n      <td>0</td>\n      <td>1</td>\n      <td>-7.960961e-01</td>\n      <td>-4.499814e-01</td>\n    </tr>\n    <tr>\n      <th>318</th>\n      <td>0</td>\n      <td>1</td>\n      <td>0</td>\n      <td>0</td>\n      <td>0</td>\n      <td>0</td>\n      <td>1</td>\n      <td>-2.311178e-01</td>\n      <td>-4.973628e-01</td>\n    </tr>\n    <tr>\n      <th>319</th>\n      <td>1</td>\n      <td>0</td>\n      <td>2</td>\n      <td>0</td>\n      <td>0</td>\n      <td>0</td>\n      <td>1</td>\n      <td>-5.842293e-01</td>\n      <td>-7.391031e-02</td>\n    </tr>\n    <tr>\n      <th>320</th>\n      <td>0</td>\n      <td>1</td>\n      <td>0</td>\n      <td>0</td>\n      <td>0</td>\n      <td>0</td>\n      <td>1</td>\n      <td>-3.017401e-01</td>\n      <td>-4.987811e-01</td>\n    </tr>\n    <tr>\n      <th>321</th>\n      <td>0</td>\n      <td>1</td>\n      <td>0</td>\n      <td>0</td>\n      <td>0</td>\n      <td>0</td>\n      <td>0</td>\n      <td>-3.723624e-01</td>\n      <td>-5.085554e-01</td>\n    </tr>\n    <tr>\n      <th>322</th>\n      <td>1</td>\n      <td>0</td>\n      <td>0</td>\n      <td>0</td>\n      <td>0</td>\n      <td>0</td>\n      <td>1</td>\n      <td>-3.017401e-01</td>\n      <td>-4.052111e-01</td>\n    </tr>\n    <tr>\n      <th>323</th>\n      <td>0</td>\n      <td>0</td>\n      <td>0</td>\n      <td>0</td>\n      <td>0</td>\n      <td>0</td>\n      <td>1</td>\n      <td>1.926159e-01</td>\n      <td>-1.625556e-01</td>\n    </tr>\n    <tr>\n      <th>324</th>\n      <td>0</td>\n      <td>0</td>\n      <td>0</td>\n      <td>0</td>\n      <td>1</td>\n      <td>0</td>\n      <td>1</td>\n      <td>6.163496e-01</td>\n      <td>3.146646e+00</td>\n    </tr>\n    <tr>\n      <th>325</th>\n      <td>0</td>\n      <td>1</td>\n      <td>0</td>\n      <td>0</td>\n      <td>0</td>\n      <td>0</td>\n      <td>1</td>\n      <td>-5.136070e-01</td>\n      <td>-5.117645e-01</td>\n    </tr>\n    <tr>\n      <th>326</th>\n      <td>1</td>\n      <td>0</td>\n      <td>2</td>\n      <td>1</td>\n      <td>1</td>\n      <td>0</td>\n      <td>1</td>\n      <td>-1.290452e+00</td>\n      <td>6.040081e-02</td>\n    </tr>\n    <tr>\n      <th>327</th>\n      <td>0</td>\n      <td>0</td>\n      <td>0</td>\n      <td>0</td>\n      <td>0</td>\n      <td>0</td>\n      <td>0</td>\n      <td>1.110706e+00</td>\n      <td>7.803084e-01</td>\n    </tr>\n    <tr>\n      <th>328</th>\n      <td>1</td>\n      <td>0</td>\n      <td>1</td>\n      <td>0</td>\n      <td>0</td>\n      <td>0</td>\n      <td>1</td>\n      <td>-8.987324e-02</td>\n      <td>-1.724051e-01</td>\n    </tr>\n    <tr>\n      <th>329</th>\n      <td>1</td>\n      <td>0</td>\n      <td>0</td>\n      <td>0</td>\n      <td>0</td>\n      <td>0</td>\n      <td>1</td>\n      <td>-6.548515e-01</td>\n      <td>-4.052111e-01</td>\n    </tr>\n    <tr>\n      <th>330</th>\n      <td>1</td>\n      <td>0</td>\n      <td>0</td>\n      <td>2</td>\n      <td>1</td>\n      <td>0</td>\n      <td>1</td>\n      <td>1.251950e+00</td>\n      <td>2.010748e-02</td>\n    </tr>\n    <tr>\n      <th>331</th>\n      <td>0</td>\n      <td>0</td>\n      <td>0</td>\n      <td>0</td>\n      <td>0</td>\n      <td>0</td>\n      <td>0</td>\n      <td>6.163496e-01</td>\n      <td>-1.061450e-01</td>\n    </tr>\n    <tr>\n      <th>332</th>\n      <td>0</td>\n      <td>1</td>\n      <td>0</td>\n      <td>0</td>\n      <td>0</td>\n      <td>0</td>\n      <td>0</td>\n      <td>4.280378e-17</td>\n      <td>-5.086306e-01</td>\n    </tr>\n    <tr>\n      <th>333</th>\n      <td>0</td>\n      <td>1</td>\n      <td>1</td>\n      <td>1</td>\n      <td>1</td>\n      <td>0</td>\n      <td>0</td>\n      <td>-7.960961e-01</td>\n      <td>-3.561123e-01</td>\n    </tr>\n    <tr>\n      <th>334</th>\n      <td>0</td>\n      <td>1</td>\n      <td>0</td>\n      <td>0</td>\n      <td>0</td>\n      <td>0</td>\n      <td>1</td>\n      <td>-2.311178e-01</td>\n      <td>-4.966178e-01</td>\n    </tr>\n    <tr>\n      <th>335</th>\n      <td>0</td>\n      <td>0</td>\n      <td>0</td>\n      <td>0</td>\n      <td>0</td>\n      <td>0</td>\n      <td>1</td>\n      <td>-1.925095e-02</td>\n      <td>-1.724051e-01</td>\n    </tr>\n    <tr>\n      <th>336</th>\n      <td>1</td>\n      <td>0</td>\n      <td>0</td>\n      <td>0</td>\n      <td>0</td>\n      <td>0</td>\n      <td>1</td>\n      <td>1.219936e-01</td>\n      <td>-4.052111e-01</td>\n    </tr>\n    <tr>\n      <th>337</th>\n      <td>0</td>\n      <td>1</td>\n      <td>0</td>\n      <td>2</td>\n      <td>0</td>\n      <td>0</td>\n      <td>0</td>\n      <td>6.163496e-01</td>\n      <td>-5.085554e-01</td>\n    </tr>\n    <tr>\n      <th>338</th>\n      <td>1</td>\n      <td>0</td>\n      <td>0</td>\n      <td>0</td>\n      <td>0</td>\n      <td>0</td>\n      <td>1</td>\n      <td>-3.723624e-01</td>\n      <td>-7.391031e-02</td>\n    </tr>\n    <tr>\n      <th>339</th>\n      <td>0</td>\n      <td>1</td>\n      <td>0</td>\n      <td>0</td>\n      <td>0</td>\n      <td>0</td>\n      <td>0</td>\n      <td>4.280378e-17</td>\n      <td>-5.085554e-01</td>\n    </tr>\n    <tr>\n      <th>340</th>\n      <td>1</td>\n      <td>0</td>\n      <td>0</td>\n      <td>0</td>\n      <td>0</td>\n      <td>0</td>\n      <td>1</td>\n      <td>-8.667184e-01</td>\n      <td>-4.499814e-01</td>\n    </tr>\n    <tr>\n      <th>341</th>\n      <td>0</td>\n      <td>1</td>\n      <td>0</td>\n      <td>0</td>\n      <td>0</td>\n      <td>0</td>\n      <td>1</td>\n      <td>1.219936e-01</td>\n      <td>-5.022876e-01</td>\n    </tr>\n    <tr>\n      <th>342</th>\n      <td>0</td>\n      <td>1</td>\n      <td>1</td>\n      <td>9</td>\n      <td>0</td>\n      <td>0</td>\n      <td>1</td>\n      <td>4.280378e-17</td>\n      <td>6.074948e-01</td>\n    </tr>\n    <tr>\n      <th>343</th>\n      <td>0</td>\n      <td>0</td>\n      <td>0</td>\n      <td>1</td>\n      <td>1</td>\n      <td>0</td>\n      <td>0</td>\n      <td>1.958173e+00</td>\n      <td>8.536851e+00</td>\n    </tr>\n    <tr>\n      <th>344</th>\n      <td>0</td>\n      <td>1</td>\n      <td>1</td>\n      <td>1</td>\n      <td>0</td>\n      <td>0</td>\n      <td>1</td>\n      <td>4.280378e-17</td>\n      <td>-3.783488e-01</td>\n    </tr>\n    <tr>\n      <th>345</th>\n      <td>0</td>\n      <td>1</td>\n      <td>0</td>\n      <td>0</td>\n      <td>1</td>\n      <td>0</td>\n      <td>1</td>\n      <td>-1.007963e+00</td>\n      <td>-5.010197e-01</td>\n    </tr>\n    <tr>\n      <th>346</th>\n      <td>1</td>\n      <td>0</td>\n      <td>0</td>\n      <td>0</td>\n      <td>0</td>\n      <td>0</td>\n      <td>1</td>\n      <td>-3.017401e-01</td>\n      <td>-4.052111e-01</td>\n    </tr>\n    <tr>\n      <th>347</th>\n      <td>0</td>\n      <td>1</td>\n      <td>0</td>\n      <td>0</td>\n      <td>1</td>\n      <td>0</td>\n      <td>0</td>\n      <td>5.457273e-01</td>\n      <td>-5.085554e-01</td>\n    </tr>\n    <tr>\n      <th>348</th>\n      <td>1</td>\n      <td>0</td>\n      <td>0</td>\n      <td>0</td>\n      <td>0</td>\n      <td>0</td>\n      <td>1</td>\n      <td>-4.429847e-01</td>\n      <td>-3.962570e-01</td>\n    </tr>\n    <tr>\n      <th>349</th>\n      <td>1</td>\n      <td>0</td>\n      <td>0</td>\n      <td>0</td>\n      <td>1</td>\n      <td>0</td>\n      <td>1</td>\n      <td>5.137133e-02</td>\n      <td>-2.619459e-01</td>\n    </tr>\n    <tr>\n      <th>350</th>\n      <td>0</td>\n      <td>0</td>\n      <td>0</td>\n      <td>1</td>\n      <td>1</td>\n      <td>0</td>\n      <td>0</td>\n      <td>1.040083e+00</td>\n      <td>4.966129e-01</td>\n    </tr>\n    <tr>\n      <th>351</th>\n      <td>1</td>\n      <td>0</td>\n      <td>0</td>\n      <td>0</td>\n      <td>0</td>\n      <td>0</td>\n      <td>1</td>\n      <td>-3.723624e-01</td>\n      <td>-4.499814e-01</td>\n    </tr>\n    <tr>\n      <th>352</th>\n      <td>1</td>\n      <td>0</td>\n      <td>0</td>\n      <td>0</td>\n      <td>0</td>\n      <td>0</td>\n      <td>1</td>\n      <td>-8.667184e-01</td>\n      <td>6.782319e-01</td>\n    </tr>\n    <tr>\n      <th>353</th>\n      <td>1</td>\n      <td>0</td>\n      <td>1</td>\n      <td>2</td>\n      <td>0</td>\n      <td>0</td>\n      <td>1</td>\n      <td>1.322573e+00</td>\n      <td>5.260127e-01</td>\n    </tr>\n    <tr>\n      <th>354</th>\n      <td>0</td>\n      <td>1</td>\n      <td>1</td>\n      <td>2</td>\n      <td>1</td>\n      <td>0</td>\n      <td>1</td>\n      <td>-2.125914e+00</td>\n      <td>-2.695568e-01</td>\n    </tr>\n    <tr>\n      <th>355</th>\n      <td>0</td>\n      <td>0</td>\n      <td>0</td>\n      <td>0</td>\n      <td>0</td>\n      <td>0</td>\n      <td>1</td>\n      <td>1.393195e+00</td>\n      <td>-1.724051e-01</td>\n    </tr>\n    <tr>\n      <th>356</th>\n      <td>0</td>\n      <td>0</td>\n      <td>2</td>\n      <td>0</td>\n      <td>1</td>\n      <td>0</td>\n      <td>1</td>\n      <td>2.028795e+00</td>\n      <td>2.838802e-01</td>\n    </tr>\n    <tr>\n      <th>357</th>\n      <td>0</td>\n      <td>1</td>\n      <td>0</td>\n      <td>0</td>\n      <td>0</td>\n      <td>0</td>\n      <td>1</td>\n      <td>4.280378e-17</td>\n      <td>-4.969151e-01</td>\n    </tr>\n    <tr>\n      <th>358</th>\n      <td>0</td>\n      <td>1</td>\n      <td>0</td>\n      <td>0</td>\n      <td>0</td>\n      <td>1</td>\n      <td>0</td>\n      <td>4.280378e-17</td>\n      <td>-4.992288e-01</td>\n    </tr>\n    <tr>\n      <th>359</th>\n      <td>0</td>\n      <td>1</td>\n      <td>1</td>\n      <td>0</td>\n      <td>1</td>\n      <td>0</td>\n      <td>1</td>\n      <td>-1.925095e-02</td>\n      <td>-3.595453e-01</td>\n    </tr>\n    <tr>\n      <th>360</th>\n      <td>0</td>\n      <td>1</td>\n      <td>8</td>\n      <td>2</td>\n      <td>0</td>\n      <td>0</td>\n      <td>1</td>\n      <td>-1.113896e+00</td>\n      <td>6.074948e-01</td>\n    </tr>\n    <tr>\n      <th>361</th>\n      <td>1</td>\n      <td>0</td>\n      <td>1</td>\n      <td>1</td>\n      <td>1</td>\n      <td>0</td>\n      <td>0</td>\n      <td>-4.429847e-01</td>\n      <td>2.465973e-02</td>\n    </tr>\n    <tr>\n      <th>362</th>\n      <td>1</td>\n      <td>0</td>\n      <td>0</td>\n      <td>0</td>\n      <td>1</td>\n      <td>0</td>\n      <td>1</td>\n      <td>5.137133e-02</td>\n      <td>-2.619459e-01</td>\n    </tr>\n    <tr>\n      <th>363</th>\n      <td>0</td>\n      <td>1</td>\n      <td>0</td>\n      <td>0</td>\n      <td>0</td>\n      <td>0</td>\n      <td>1</td>\n      <td>-2.311178e-01</td>\n      <td>-4.828877e-01</td>\n    </tr>\n    <tr>\n      <th>364</th>\n      <td>0</td>\n      <td>0</td>\n      <td>1</td>\n      <td>0</td>\n      <td>1</td>\n      <td>0</td>\n      <td>0</td>\n      <td>-3.723624e-01</td>\n      <td>3.548412e-01</td>\n    </tr>\n    <tr>\n      <th>365</th>\n      <td>0</td>\n      <td>1</td>\n      <td>1</td>\n      <td>9</td>\n      <td>1</td>\n      <td>0</td>\n      <td>1</td>\n      <td>4.280378e-17</td>\n      <td>6.074948e-01</td>\n    </tr>\n    <tr>\n      <th>366</th>\n      <td>0</td>\n      <td>1</td>\n      <td>1</td>\n      <td>0</td>\n      <td>0</td>\n      <td>0</td>\n      <td>0</td>\n      <td>4.280378e-17</td>\n      <td>-3.790956e-01</td>\n    </tr>\n    <tr>\n      <th>367</th>\n      <td>0</td>\n      <td>1</td>\n      <td>0</td>\n      <td>0</td>\n      <td>1</td>\n      <td>0</td>\n      <td>1</td>\n      <td>-5.842293e-01</td>\n      <td>7.271266e-02</td>\n    </tr>\n    <tr>\n      <th>368</th>\n      <td>0</td>\n      <td>0</td>\n      <td>0</td>\n      <td>1</td>\n      <td>1</td>\n      <td>0</td>\n      <td>0</td>\n      <td>1.040083e+00</td>\n      <td>4.257270e-01</td>\n    </tr>\n    <tr>\n      <th>369</th>\n      <td>1</td>\n      <td>0</td>\n      <td>0</td>\n      <td>0</td>\n      <td>0</td>\n      <td>0</td>\n      <td>0</td>\n      <td>-8.987324e-02</td>\n      <td>-3.898405e-01</td>\n    </tr>\n    <tr>\n      <th>370</th>\n      <td>1</td>\n      <td>0</td>\n      <td>1</td>\n      <td>0</td>\n      <td>0</td>\n      <td>0</td>\n      <td>1</td>\n      <td>-6.548515e-01</td>\n      <td>-4.320733e-01</td>\n    </tr>\n    <tr>\n      <th>371</th>\n      <td>0</td>\n      <td>0</td>\n      <td>0</td>\n      <td>0</td>\n      <td>1</td>\n      <td>0</td>\n      <td>0</td>\n      <td>5.137133e-02</td>\n      <td>1.770629e+00</td>\n    </tr>\n    <tr>\n      <th>372</th>\n      <td>0</td>\n      <td>0</td>\n      <td>0</td>\n      <td>0</td>\n      <td>0</td>\n      <td>0</td>\n      <td>1</td>\n      <td>1.322573e+00</td>\n      <td>-6.380170e-01</td>\n    </tr>\n    <tr>\n      <th>373</th>\n      <td>1</td>\n      <td>0</td>\n      <td>0</td>\n      <td>0</td>\n      <td>0</td>\n      <td>0</td>\n      <td>1</td>\n      <td>9.694611e-01</td>\n      <td>-4.052111e-01</td>\n    </tr>\n    <tr>\n      <th>374</th>\n      <td>0</td>\n      <td>0</td>\n      <td>1</td>\n      <td>1</td>\n      <td>1</td>\n      <td>0</td>\n      <td>1</td>\n      <td>1.675684e+00</td>\n      <td>8.279136e-01</td>\n    </tr>\n    <tr>\n      <th>375</th>\n      <td>0</td>\n      <td>0</td>\n      <td>0</td>\n      <td>0</td>\n      <td>1</td>\n      <td>0</td>\n      <td>0</td>\n      <td>1.040083e+00</td>\n      <td>4.060634e+00</td>\n    </tr>\n    <tr>\n      <th>376</th>\n      <td>0</td>\n      <td>1</td>\n      <td>2</td>\n      <td>0</td>\n      <td>1</td>\n      <td>0</td>\n      <td>1</td>\n      <td>-5.842293e-01</td>\n      <td>-4.828877e-01</td>\n    </tr>\n    <tr>\n      <th>377</th>\n      <td>1</td>\n      <td>0</td>\n      <td>0</td>\n      <td>0</td>\n      <td>0</td>\n      <td>0</td>\n      <td>1</td>\n      <td>-6.548515e-01</td>\n      <td>-4.320733e-01</td>\n    </tr>\n    <tr>\n      <th>378</th>\n      <td>0</td>\n      <td>0</td>\n      <td>0</td>\n      <td>0</td>\n      <td>0</td>\n      <td>0</td>\n      <td>1</td>\n      <td>1.746306e+00</td>\n      <td>2.573904e-01</td>\n    </tr>\n    <tr>\n      <th>379</th>\n      <td>0</td>\n      <td>1</td>\n      <td>4</td>\n      <td>2</td>\n      <td>0</td>\n      <td>0</td>\n      <td>1</td>\n      <td>-1.784808e+00</td>\n      <td>-7.592497e-02</td>\n    </tr>\n    <tr>\n      <th>380</th>\n      <td>0</td>\n      <td>1</td>\n      <td>0</td>\n      <td>0</td>\n      <td>0</td>\n      <td>1</td>\n      <td>0</td>\n      <td>4.280378e-17</td>\n      <td>-4.992288e-01</td>\n    </tr>\n    <tr>\n      <th>381</th>\n      <td>0</td>\n      <td>1</td>\n      <td>0</td>\n      <td>0</td>\n      <td>0</td>\n      <td>1</td>\n      <td>0</td>\n      <td>-3.017401e-01</td>\n      <td>-4.969151e-01</td>\n    </tr>\n    <tr>\n      <th>382</th>\n      <td>0</td>\n      <td>1</td>\n      <td>0</td>\n      <td>0</td>\n      <td>1</td>\n      <td>0</td>\n      <td>1</td>\n      <td>4.280378e-17</td>\n      <td>-3.783488e-01</td>\n    </tr>\n    <tr>\n      <th>383</th>\n      <td>0</td>\n      <td>1</td>\n      <td>1</td>\n      <td>0</td>\n      <td>1</td>\n      <td>0</td>\n      <td>1</td>\n      <td>-7.960961e-01</td>\n      <td>-3.496958e-01</td>\n    </tr>\n    <tr>\n      <th>384</th>\n      <td>1</td>\n      <td>0</td>\n      <td>0</td>\n      <td>0</td>\n      <td>0</td>\n      <td>0</td>\n      <td>1</td>\n      <td>4.280378e-17</td>\n      <td>-4.074496e-01</td>\n    </tr>\n    <tr>\n      <th>385</th>\n      <td>1</td>\n      <td>0</td>\n      <td>1</td>\n      <td>2</td>\n      <td>1</td>\n      <td>0</td>\n      <td>1</td>\n      <td>-4.429847e-01</td>\n      <td>5.260127e-01</td>\n    </tr>\n    <tr>\n      <th>386</th>\n      <td>0</td>\n      <td>1</td>\n      <td>0</td>\n      <td>0</td>\n      <td>0</td>\n      <td>0</td>\n      <td>1</td>\n      <td>-4.429847e-01</td>\n      <td>-4.987811e-01</td>\n    </tr>\n    <tr>\n      <th>387</th>\n      <td>1</td>\n      <td>0</td>\n      <td>0</td>\n      <td>0</td>\n      <td>0</td>\n      <td>0</td>\n      <td>1</td>\n      <td>1.887551e+00</td>\n      <td>-4.052111e-01</td>\n    </tr>\n    <tr>\n      <th>388</th>\n      <td>0</td>\n      <td>1</td>\n      <td>0</td>\n      <td>0</td>\n      <td>0</td>\n      <td>1</td>\n      <td>0</td>\n      <td>-6.548515e-01</td>\n      <td>-4.992288e-01</td>\n    </tr>\n    <tr>\n      <th>389</th>\n      <td>0</td>\n      <td>1</td>\n      <td>3</td>\n      <td>1</td>\n      <td>0</td>\n      <td>0</td>\n      <td>1</td>\n      <td>-1.714186e+00</td>\n      <td>-2.606028e-01</td>\n    </tr>\n    <tr>\n      <th>390</th>\n      <td>0</td>\n      <td>0</td>\n      <td>0</td>\n      <td>0</td>\n      <td>0</td>\n      <td>0</td>\n      <td>1</td>\n      <td>-5.136070e-01</td>\n      <td>1.036395e+00</td>\n    </tr>\n    <tr>\n      <th>391</th>\n      <td>0</td>\n      <td>0</td>\n      <td>0</td>\n      <td>1</td>\n      <td>1</td>\n      <td>0</td>\n      <td>1</td>\n      <td>1.463817e+00</td>\n      <td>6.756407e-02</td>\n    </tr>\n    <tr>\n      <th>392</th>\n      <td>0</td>\n      <td>1</td>\n      <td>0</td>\n      <td>2</td>\n      <td>0</td>\n      <td>0</td>\n      <td>1</td>\n      <td>-1.219830e+00</td>\n      <td>-2.753770e-01</td>\n    </tr>\n    <tr>\n      <th>393</th>\n      <td>1</td>\n      <td>0</td>\n      <td>0</td>\n      <td>0</td>\n      <td>0</td>\n      <td>0</td>\n      <td>1</td>\n      <td>1.181328e+00</td>\n      <td>-4.499814e-01</td>\n    </tr>\n    <tr>\n      <th>394</th>\n      <td>0</td>\n      <td>1</td>\n      <td>3</td>\n      <td>1</td>\n      <td>0</td>\n      <td>0</td>\n      <td>1</td>\n      <td>-8.987324e-02</td>\n      <td>-2.435900e-01</td>\n    </tr>\n    <tr>\n      <th>395</th>\n      <td>0</td>\n      <td>0</td>\n      <td>1</td>\n      <td>0</td>\n      <td>1</td>\n      <td>0</td>\n      <td>1</td>\n      <td>-8.667184e-01</td>\n      <td>4.364719e-01</td>\n    </tr>\n    <tr>\n      <th>396</th>\n      <td>0</td>\n      <td>1</td>\n      <td>0</td>\n      <td>0</td>\n      <td>0</td>\n      <td>1</td>\n      <td>0</td>\n      <td>-4.429847e-01</td>\n      <td>-5.081829e-01</td>\n    </tr>\n    <tr>\n      <th>397</th>\n      <td>0</td>\n      <td>0</td>\n      <td>1</td>\n      <td>1</td>\n      <td>1</td>\n      <td>0</td>\n      <td>0</td>\n      <td>1.251950e+00</td>\n      <td>7.803084e-01</td>\n    </tr>\n    <tr>\n      <th>398</th>\n      <td>0</td>\n      <td>1</td>\n      <td>0</td>\n      <td>0</td>\n      <td>0</td>\n      <td>0</td>\n      <td>1</td>\n      <td>-5.842293e-01</td>\n      <td>-4.987811e-01</td>\n    </tr>\n    <tr>\n      <th>399</th>\n      <td>0</td>\n      <td>1</td>\n      <td>0</td>\n      <td>0</td>\n      <td>0</td>\n      <td>1</td>\n      <td>0</td>\n      <td>5.137133e-02</td>\n      <td>-4.995279e-01</td>\n    </tr>\n    <tr>\n      <th>400</th>\n      <td>0</td>\n      <td>0</td>\n      <td>0</td>\n      <td>0</td>\n      <td>1</td>\n      <td>0</td>\n      <td>1</td>\n      <td>-1.925095e-02</td>\n      <td>2.314440e+00</td>\n    </tr>\n    <tr>\n      <th>401</th>\n      <td>1</td>\n      <td>0</td>\n      <td>1</td>\n      <td>0</td>\n      <td>0</td>\n      <td>0</td>\n      <td>1</td>\n      <td>5.457273e-01</td>\n      <td>-2.619459e-01</td>\n    </tr>\n    <tr>\n      <th>402</th>\n      <td>0</td>\n      <td>0</td>\n      <td>0</td>\n      <td>1</td>\n      <td>1</td>\n      <td>0</td>\n      <td>0</td>\n      <td>-5.842293e-01</td>\n      <td>4.257270e-01</td>\n    </tr>\n    <tr>\n      <th>403</th>\n      <td>0</td>\n      <td>0</td>\n      <td>0</td>\n      <td>0</td>\n      <td>0</td>\n      <td>0</td>\n      <td>1</td>\n      <td>-9.373407e-01</td>\n      <td>2.054568e-01</td>\n    </tr>\n    <tr>\n      <th>404</th>\n      <td>0</td>\n      <td>0</td>\n      <td>1</td>\n      <td>0</td>\n      <td>0</td>\n      <td>0</td>\n      <td>0</td>\n      <td>8.988388e-01</td>\n      <td>-1.415888e-01</td>\n    </tr>\n    <tr>\n      <th>405</th>\n      <td>1</td>\n      <td>0</td>\n      <td>0</td>\n      <td>0</td>\n      <td>0</td>\n      <td>0</td>\n      <td>0</td>\n      <td>-7.254738e-01</td>\n      <td>-3.897653e-01</td>\n    </tr>\n    <tr>\n      <th>406</th>\n      <td>1</td>\n      <td>0</td>\n      <td>1</td>\n      <td>0</td>\n      <td>0</td>\n      <td>0</td>\n      <td>1</td>\n      <td>-5.136070e-01</td>\n      <td>-4.499814e-01</td>\n    </tr>\n    <tr>\n      <th>407</th>\n      <td>0</td>\n      <td>0</td>\n      <td>1</td>\n      <td>1</td>\n      <td>0</td>\n      <td>0</td>\n      <td>0</td>\n      <td>1.393195e+00</td>\n      <td>3.149557e+00</td>\n    </tr>\n    <tr>\n      <th>408</th>\n      <td>0</td>\n      <td>1</td>\n      <td>0</td>\n      <td>0</td>\n      <td>1</td>\n      <td>1</td>\n      <td>0</td>\n      <td>4.280378e-17</td>\n      <td>-4.997518e-01</td>\n    </tr>\n    <tr>\n      <th>409</th>\n      <td>0</td>\n      <td>1</td>\n      <td>1</td>\n      <td>1</td>\n      <td>1</td>\n      <td>0</td>\n      <td>1</td>\n      <td>-1.926053e+00</td>\n      <td>-3.913322e-01</td>\n    </tr>\n    <tr>\n      <th>410</th>\n      <td>0</td>\n      <td>1</td>\n      <td>0</td>\n      <td>0</td>\n      <td>1</td>\n      <td>1</td>\n      <td>0</td>\n      <td>4.280378e-17</td>\n      <td>-4.992288e-01</td>\n    </tr>\n    <tr>\n      <th>411</th>\n      <td>0</td>\n      <td>0</td>\n      <td>1</td>\n      <td>0</td>\n      <td>1</td>\n      <td>1</td>\n      <td>0</td>\n      <td>4.751051e-01</td>\n      <td>9.737164e-01</td>\n    </tr>\n    <tr>\n      <th>412</th>\n      <td>0</td>\n      <td>1</td>\n      <td>0</td>\n      <td>0</td>\n      <td>1</td>\n      <td>0</td>\n      <td>1</td>\n      <td>-1.604955e-01</td>\n      <td>-4.987811e-01</td>\n    </tr>\n    <tr>\n      <th>413</th>\n      <td>0</td>\n      <td>1</td>\n      <td>0</td>\n      <td>0</td>\n      <td>0</td>\n      <td>0</td>\n      <td>1</td>\n      <td>4.280378e-17</td>\n      <td>-4.938564e-01</td>\n    </tr>\n    <tr>\n      <th>414</th>\n      <td>0</td>\n      <td>0</td>\n      <td>0</td>\n      <td>0</td>\n      <td>1</td>\n      <td>0</td>\n      <td>0</td>\n      <td>6.163496e-01</td>\n      <td>1.312180e+00</td>\n    </tr>\n    <tr>\n      <th>415</th>\n      <td>0</td>\n      <td>1</td>\n      <td>0</td>\n      <td>0</td>\n      <td>0</td>\n      <td>0</td>\n      <td>1</td>\n      <td>5.810385e-01</td>\n      <td>-5.081829e-01</td>\n    </tr>\n    <tr>\n      <th>416</th>\n      <td>0</td>\n      <td>1</td>\n      <td>0</td>\n      <td>0</td>\n      <td>0</td>\n      <td>0</td>\n      <td>1</td>\n      <td>4.280378e-17</td>\n      <td>-4.938564e-01</td>\n    </tr>\n    <tr>\n      <th>417</th>\n      <td>0</td>\n      <td>1</td>\n      <td>1</td>\n      <td>1</td>\n      <td>0</td>\n      <td>0</td>\n      <td>0</td>\n      <td>4.280378e-17</td>\n      <td>-2.376212e-01</td>\n    </tr>\n  </tbody>\n</table>\n</div>"
     },
     "metadata": {},
     "execution_count": 296
    }
   ],
   "source": [
    "test_raw_data = pd.read_csv('test_modifies.csv')\n",
    "test_raw_data"
   ]
  },
  {
   "cell_type": "code",
   "execution_count": 297,
   "metadata": {},
   "outputs": [],
   "source": [
    "predict_outcome = model.predict_proba(test_raw_data)"
   ]
  },
  {
   "cell_type": "code",
   "execution_count": 298,
   "metadata": {},
   "outputs": [
    {
     "output_type": "execute_result",
     "data": {
      "text/plain": "array([[0.78308267, 0.21691733],\n       [0.55374828, 0.44625172],\n       [0.76308852, 0.23691148],\n       [0.8286877 , 0.1713123 ],\n       [0.32286996, 0.67713004],\n       [0.7559917 , 0.2440083 ],\n       [0.21547036, 0.78452964],\n       [0.67861494, 0.32138506],\n       [0.17199287, 0.82800713],\n       [0.89141325, 0.10858675],\n       [0.84411593, 0.15588407],\n       [0.60935053, 0.39064947],\n       [0.07948561, 0.92051439],\n       [0.89207557, 0.10792443],\n       [0.16721752, 0.83278248],\n       [0.11245348, 0.88754652],\n       [0.56039612, 0.43960388],\n       [0.72177715, 0.27822285],\n       [0.38469608, 0.61530392],\n       [0.3435568 , 0.6564432 ],\n       [0.6622097 , 0.3377903 ],\n       [0.70494893, 0.29505107],\n       [0.07433508, 0.92566492],\n       [0.27624511, 0.72375489],\n       [0.07653282, 0.92346718],\n       [0.93892847, 0.06107153],\n       [0.03383754, 0.96616246],\n       [0.73196827, 0.26803173],\n       [0.56676438, 0.43323562],\n       [0.88142624, 0.11857376],\n       [0.84120108, 0.15879892],\n       [0.75893598, 0.24106402],\n       [0.38505568, 0.61494432],\n       [0.36249453, 0.63750547],\n       [0.45494382, 0.54505618],\n       [0.70427242, 0.29572758],\n       [0.32449954, 0.67550046],\n       [0.25899882, 0.74100118],\n       [0.81861802, 0.18138198],\n       [0.83717955, 0.16282045],\n       [0.8126883 , 0.1873117 ],\n       [0.47644823, 0.52355177],\n       [0.88659008, 0.11340992],\n       [0.14172679, 0.85827321],\n       [0.15912656, 0.84087344],\n       [0.81886708, 0.18113292],\n       [0.49679342, 0.50320658],\n       [0.75751848, 0.24248152],\n       [0.1222517 , 0.8777483 ],\n       [0.3239089 , 0.6760911 ],\n       [0.5076939 , 0.4923061 ],\n       [0.52425032, 0.47574968],\n       [0.1826721 , 0.8173279 ],\n       [0.12893482, 0.87106518],\n       [0.55193719, 0.44806281],\n       [0.86162485, 0.13837515],\n       [0.8642414 , 0.1357586 ],\n       [0.81891054, 0.18108946],\n       [0.88653377, 0.11346623],\n       [0.04783559, 0.95216441],\n       [0.77467855, 0.22532145],\n       [0.66576202, 0.33423798],\n       [0.78062301, 0.21937699],\n       [0.17276383, 0.82723617],\n       [0.31097612, 0.68902388],\n       [0.14182473, 0.85817527],\n       [0.1540439 , 0.8459561 ],\n       [0.61333032, 0.38666968],\n       [0.37971911, 0.62028089],\n       [0.1472526 , 0.8527474 ],\n       [0.1827627 , 0.8172373 ],\n       [0.79767419, 0.20232581],\n       [0.31505502, 0.68494498],\n       [0.35998405, 0.64001595],\n       [0.04875416, 0.95124584],\n       [0.34652204, 0.65347796],\n       [0.8440943 , 0.1559057 ],\n       [0.28526459, 0.71473541],\n       [0.65048264, 0.34951736],\n       [0.1827627 , 0.8172373 ],\n       [0.67074835, 0.32925165],\n       [0.79085297, 0.20914703],\n       [0.63349934, 0.36650066],\n       [0.84411593, 0.15588407],\n       [0.52066887, 0.47933113],\n       [0.83730703, 0.16269297],\n       [0.19857843, 0.80142157],\n       [0.23990477, 0.76009523],\n       [0.21702975, 0.78297025],\n       [0.48310704, 0.51689296],\n       [0.34363082, 0.65636918],\n       [0.84413286, 0.15586714],\n       [0.07794817, 0.92205183],\n       [0.8440943 , 0.1559057 ],\n       [0.33327983, 0.66672017],\n       [0.8188875 , 0.1811125 ],\n       [0.34710704, 0.65289296],\n       [0.83829433, 0.16170567],\n       [0.25264733, 0.74735267],\n       [0.85598792, 0.14401208],\n       [0.10381743, 0.89618257],\n       [0.70682476, 0.29317524],\n       [0.75751848, 0.24248152],\n       [0.82391139, 0.17608861],\n       [0.2040472 , 0.7959528 ],\n       [0.83143181, 0.16856819],\n       [0.6945951 , 0.3054049 ],\n       [0.75751848, 0.24248152],\n       [0.84400138, 0.15599862],\n       [0.55664861, 0.44335139],\n       [0.64019647, 0.35980353],\n       [0.21702447, 0.78297553],\n       [0.06036143, 0.93963857],\n       [0.15637089, 0.84362911],\n       [0.22635494, 0.77364506],\n       [0.7717632 , 0.2282368 ],\n       [0.78099761, 0.21900239],\n       [0.18784946, 0.81215054],\n       [0.40869054, 0.59130946],\n       [0.18637785, 0.81362215],\n       [0.08165986, 0.91834014],\n       [0.81972734, 0.18027266],\n       [0.08078182, 0.91921818],\n       [0.83370073, 0.16629927],\n       [0.75751848, 0.24248152],\n       [0.21565296, 0.78434704],\n       [0.80315841, 0.19684159],\n       [0.3661385 , 0.6338615 ],\n       [0.73727708, 0.26272292],\n       [0.81371497, 0.18628503],\n       [0.85171727, 0.14828273],\n       [0.56519026, 0.43480974],\n       [0.24371217, 0.75628783],\n       [0.83846735, 0.16153265],\n       [0.893288  , 0.106712  ],\n       [0.81374659, 0.18625341],\n       [0.75796092, 0.24203908],\n       [0.61875344, 0.38124656],\n       [0.27248013, 0.72751987],\n       [0.85629575, 0.14370425],\n       [0.55432   , 0.44568   ],\n       [0.07200373, 0.92799627],\n       [0.59307566, 0.40692434],\n       [0.63154685, 0.36845315],\n       [0.57617631, 0.42382369],\n       [0.94424628, 0.05575372],\n       [0.4697248 , 0.5302752 ],\n       [0.80311559, 0.19688441],\n       [0.47644823, 0.52355177],\n       [0.70837635, 0.29162365],\n       [0.03422073, 0.96577927],\n       [0.78073171, 0.21926829],\n       [0.93668156, 0.06331844],\n       [0.3247768 , 0.6752232 ],\n       [0.91561065, 0.08438935],\n       [0.81379572, 0.18620428],\n       [0.0590756 , 0.9409244 ],\n       [0.27252149, 0.72747851],\n       [0.57617631, 0.42382369],\n       [0.25429156, 0.74570844],\n       [0.21703278, 0.78296722],\n       [0.67826218, 0.32173782],\n       [0.1258177 , 0.8741823 ],\n       [0.84424149, 0.15575851],\n       [0.73059405, 0.26940595],\n       [0.35112703, 0.64887297],\n       [0.51691597, 0.48308403],\n       [0.85831134, 0.14168866],\n       [0.05035699, 0.94964301],\n       [0.2655589 , 0.7344411 ],\n       [0.84416441, 0.15583559],\n       [0.76108646, 0.23891354],\n       [0.85927149, 0.14072851],\n       [0.78085328, 0.21914672],\n       [0.86950221, 0.13049779],\n       [0.07361391, 0.92638609],\n       [0.10260765, 0.89739235],\n       [0.6554651 , 0.3445349 ],\n       [0.12910402, 0.87089598],\n       [0.11587907, 0.88412093],\n       [0.65048264, 0.34951736],\n       [0.48415799, 0.51584201],\n       [0.06982352, 0.93017648],\n       [0.75751848, 0.24248152],\n       [0.04729215, 0.95270785],\n       [0.72316519, 0.27683481],\n       [0.09861144, 0.90138856],\n       [0.87926769, 0.12073231],\n       [0.88225668, 0.11774332],\n       [0.72380471, 0.27619529],\n       [0.75391241, 0.24608759],\n       [0.47659442, 0.52340558],\n       [0.7891562 , 0.2108438 ],\n       [0.75632304, 0.24367696],\n       [0.41509924, 0.58490076],\n       [0.85601364, 0.14398636],\n       [0.1611584 , 0.8388416 ],\n       [0.23995821, 0.76004179],\n       [0.59489747, 0.40510253],\n       [0.32448494, 0.67551506],\n       [0.21562974, 0.78437026],\n       [0.61469771, 0.38530229],\n       [0.55483017, 0.44516983],\n       [0.09215299, 0.90784701],\n       [0.61128082, 0.38871918],\n       [0.37457081, 0.62542919],\n       [0.24577696, 0.75422304],\n       [0.60311805, 0.39688195],\n       [0.05501295, 0.94498705],\n       [0.81887169, 0.18112831],\n       [0.8497587 , 0.1502413 ],\n       [0.84423448, 0.15576552],\n       [0.52791262, 0.47208738],\n       [0.39825562, 0.60174438],\n       [0.69904582, 0.30095418],\n       [0.57202069, 0.42797931],\n       [0.21700636, 0.78299364],\n       [0.72177643, 0.27822357],\n       [0.10179828, 0.89820172],\n       [0.8440943 , 0.1559057 ],\n       [0.13636694, 0.86363306],\n       [0.79764767, 0.20235233],\n       [0.11183242, 0.88816758],\n       [0.79769139, 0.20230861],\n       [0.10351125, 0.89648875],\n       [0.20579977, 0.79420023],\n       [0.80851316, 0.19148684],\n       [0.21702975, 0.78297025],\n       [0.88406858, 0.11593142],\n       [0.69561703, 0.30438297],\n       [0.50453698, 0.49546302],\n       [0.05552395, 0.94447605],\n       [0.8517877 , 0.1482123 ],\n       [0.75749319, 0.24250681],\n       [0.52819287, 0.47180713],\n       [0.79210158, 0.20789842],\n       [0.72398082, 0.27601918],\n       [0.71485233, 0.28514767],\n       [0.1265823 , 0.8734177 ],\n       [0.1151981 , 0.8848019 ],\n       [0.1100091 , 0.8899909 ],\n       [0.18300631, 0.81699369],\n       [0.53884759, 0.46115241],\n       [0.84411709, 0.15588291],\n       [0.86502037, 0.13497963],\n       [0.65050906, 0.34949094],\n       [0.11072593, 0.88927407],\n       [0.78436506, 0.21563494],\n       [0.18637785, 0.81362215],\n       [0.31348928, 0.68651072],\n       [0.06742201, 0.93257799],\n       [0.79208916, 0.20791084],\n       [0.40912065, 0.59087935],\n       [0.81350894, 0.18649106],\n       [0.85367263, 0.14632737],\n       [0.84416441, 0.15583559],\n       [0.75751848, 0.24248152],\n       [0.83358251, 0.16641749],\n       [0.10178941, 0.89821059],\n       [0.79769497, 0.20230503],\n       [0.90615476, 0.09384524],\n       [0.79768135, 0.20231865],\n       [0.11544862, 0.88455138],\n       [0.18858482, 0.81141518],\n       [0.55037832, 0.44962168],\n       [0.84411593, 0.15588407],\n       [0.4835095 , 0.5164905 ],\n       [0.84416441, 0.15583559],\n       [0.32449954, 0.67550046],\n       [0.77453591, 0.22546409],\n       [0.49321812, 0.50678188],\n       [0.75751848, 0.24248152],\n       [0.05604045, 0.94395955],\n       [0.28578597, 0.71421403],\n       [0.78085405, 0.21914595],\n       [0.14408757, 0.85591243],\n       [0.63538171, 0.36461829],\n       [0.7900024 , 0.2099976 ],\n       [0.72869581, 0.27130419],\n       [0.58662332, 0.41337668],\n       [0.27235077, 0.72764923],\n       [0.72165751, 0.27834249],\n       [0.21702975, 0.78297025],\n       [0.16687546, 0.83312454],\n       [0.19254422, 0.80745578],\n       [0.86828587, 0.13171413],\n       [0.84420645, 0.15579355],\n       [0.50176281, 0.49823719],\n       [0.78085328, 0.21914672],\n       [0.8440943 , 0.1559057 ],\n       [0.47298071, 0.52701929],\n       [0.21559273, 0.78440727],\n       [0.78085328, 0.21914672],\n       [0.71194331, 0.28805669],\n       [0.86801144, 0.13198856],\n       [0.82389272, 0.17610728],\n       [0.04486387, 0.95513613],\n       [0.88142624, 0.11857376],\n       [0.46908975, 0.53091025],\n       [0.83830456, 0.16169544],\n       [0.85175428, 0.14824572],\n       [0.55207774, 0.44792226],\n       [0.72359968, 0.27640032],\n       [0.81361602, 0.18638398],\n       [0.21702975, 0.78297025],\n       [0.25314105, 0.74685895],\n       [0.48705874, 0.51294126],\n       [0.64216484, 0.35783516],\n       [0.72329922, 0.27670078],\n       [0.53489374, 0.46510626],\n       [0.78045645, 0.21954355],\n       [0.72859764, 0.27140236],\n       [0.8441609 , 0.1558391 ],\n       [0.25868524, 0.74131476],\n       [0.09924547, 0.90075453],\n       [0.14965627, 0.85034373],\n       [0.65673413, 0.34326587],\n       [0.56152366, 0.43847634],\n       [0.82880994, 0.17119006],\n       [0.74619193, 0.25380807],\n       [0.82391139, 0.17608861],\n       [0.74841757, 0.25158243],\n       [0.61875344, 0.38124656],\n       [0.49976733, 0.50023267],\n       [0.08206113, 0.91793887],\n       [0.80863617, 0.19136383],\n       [0.14317103, 0.85682897],\n       [0.49216388, 0.50783612],\n       [0.7208059 , 0.2791941 ],\n       [0.57765018, 0.42234982],\n       [0.19771652, 0.80228348],\n       [0.44567091, 0.55432909],\n       [0.78085405, 0.21914595],\n       [0.21990643, 0.78009357],\n       [0.82880365, 0.17119635],\n       [0.4742677 , 0.5257323 ],\n       [0.66588056, 0.33411944],\n       [0.7988288 , 0.2011712 ],\n       [0.60595063, 0.39404937],\n       [0.78085328, 0.21914672],\n       [0.55307995, 0.44692005],\n       [0.85178062, 0.14821938],\n       [0.75809644, 0.24190356],\n       [0.06916844, 0.93083156],\n       [0.87678624, 0.12321376],\n       [0.2277208 , 0.7722792 ],\n       [0.61875344, 0.38124656],\n       [0.29171596, 0.70828404],\n       [0.60235261, 0.39764739],\n       [0.1448819 , 0.8551181 ],\n       [0.07135555, 0.92864445],\n       [0.61128082, 0.38871918],\n       [0.53643328, 0.46356672],\n       [0.80235151, 0.19764849],\n       [0.16913681, 0.83086319],\n       [0.64140877, 0.35859123],\n       [0.30808998, 0.69191002],\n       [0.84411825, 0.15588175],\n       [0.75751848, 0.24248152],\n       [0.40730634, 0.59269366],\n       [0.98008837, 0.01991163],\n       [0.10238602, 0.89761398],\n       [0.1448819 , 0.8551181 ],\n       [0.8286877 , 0.1713123 ],\n       [0.05888029, 0.94111971],\n       [0.21756534, 0.78243466],\n       [0.83730643, 0.16269357],\n       [0.25922264, 0.74077736],\n       [0.07163554, 0.92836446],\n       [0.54159859, 0.45840141],\n       [0.6659918 , 0.3340082 ],\n       [0.04627234, 0.95372766],\n       [0.63990769, 0.36009231],\n       [0.75031898, 0.24968102],\n       [0.18495715, 0.81504285],\n       [0.06398751, 0.93601249],\n       [0.43384128, 0.56615872],\n       [0.57804008, 0.42195992],\n       [0.67415454, 0.32584546],\n       [0.89190492, 0.10809508],\n       [0.75751848, 0.24248152],\n       [0.72963164, 0.27036836],\n       [0.32299481, 0.67700519],\n       [0.32034748, 0.67965252],\n       [0.65263095, 0.34736905],\n       [0.13276192, 0.86723808],\n       [0.81375939, 0.18624061],\n       [0.82422545, 0.17577455],\n       [0.69461111, 0.30538889],\n       [0.86707723, 0.13292277],\n       [0.39782816, 0.60217184],\n       [0.12831626, 0.87168374],\n       [0.70981839, 0.29018161],\n       [0.76952903, 0.23047097],\n       [0.93471792, 0.06528208],\n       [0.0693475 , 0.9306525 ],\n       [0.71605461, 0.28394539],\n       [0.10862372, 0.89137628],\n       [0.80316192, 0.19683808],\n       [0.76206529, 0.23793471],\n       [0.0645749 , 0.9354251 ],\n       [0.7793388 , 0.2206612 ],\n       [0.03392751, 0.96607249],\n       [0.36113728, 0.63886272],\n       [0.573516  , 0.426484  ],\n       [0.46474574, 0.53525426],\n       [0.68127291, 0.31872709],\n       [0.56089156, 0.43910844],\n       [0.21703504, 0.78296496],\n       [0.19901251, 0.80098749],\n       [0.21702975, 0.78297025],\n       [0.07387366, 0.92612634],\n       [0.3077506 , 0.6922494 ],\n       [0.8440943 , 0.1559057 ],\n       [0.06152841, 0.93847159],\n       [0.87776679, 0.12223321],\n       [0.8440943 , 0.1559057 ],\n       [0.82269691, 0.17730309]])"
     },
     "metadata": {},
     "execution_count": 298
    }
   ],
   "source": [
    "predict_outcome"
   ]
  },
  {
   "cell_type": "code",
   "execution_count": 299,
   "metadata": {},
   "outputs": [],
   "source": [
    "final_prediction = predict_outcome[:,1]"
   ]
  },
  {
   "cell_type": "code",
   "execution_count": 300,
   "metadata": {},
   "outputs": [
    {
     "output_type": "execute_result",
     "data": {
      "text/plain": "array([0.21691733, 0.44625172, 0.23691148, 0.1713123 , 0.67713004,\n       0.2440083 , 0.78452964, 0.32138506, 0.82800713, 0.10858675,\n       0.15588407, 0.39064947, 0.92051439, 0.10792443, 0.83278248,\n       0.88754652, 0.43960388, 0.27822285, 0.61530392, 0.6564432 ,\n       0.3377903 , 0.29505107, 0.92566492, 0.72375489, 0.92346718,\n       0.06107153, 0.96616246, 0.26803173, 0.43323562, 0.11857376,\n       0.15879892, 0.24106402, 0.61494432, 0.63750547, 0.54505618,\n       0.29572758, 0.67550046, 0.74100118, 0.18138198, 0.16282045,\n       0.1873117 , 0.52355177, 0.11340992, 0.85827321, 0.84087344,\n       0.18113292, 0.50320658, 0.24248152, 0.8777483 , 0.6760911 ,\n       0.4923061 , 0.47574968, 0.8173279 , 0.87106518, 0.44806281,\n       0.13837515, 0.1357586 , 0.18108946, 0.11346623, 0.95216441,\n       0.22532145, 0.33423798, 0.21937699, 0.82723617, 0.68902388,\n       0.85817527, 0.8459561 , 0.38666968, 0.62028089, 0.8527474 ,\n       0.8172373 , 0.20232581, 0.68494498, 0.64001595, 0.95124584,\n       0.65347796, 0.1559057 , 0.71473541, 0.34951736, 0.8172373 ,\n       0.32925165, 0.20914703, 0.36650066, 0.15588407, 0.47933113,\n       0.16269297, 0.80142157, 0.76009523, 0.78297025, 0.51689296,\n       0.65636918, 0.15586714, 0.92205183, 0.1559057 , 0.66672017,\n       0.1811125 , 0.65289296, 0.16170567, 0.74735267, 0.14401208,\n       0.89618257, 0.29317524, 0.24248152, 0.17608861, 0.7959528 ,\n       0.16856819, 0.3054049 , 0.24248152, 0.15599862, 0.44335139,\n       0.35980353, 0.78297553, 0.93963857, 0.84362911, 0.77364506,\n       0.2282368 , 0.21900239, 0.81215054, 0.59130946, 0.81362215,\n       0.91834014, 0.18027266, 0.91921818, 0.16629927, 0.24248152,\n       0.78434704, 0.19684159, 0.6338615 , 0.26272292, 0.18628503,\n       0.14828273, 0.43480974, 0.75628783, 0.16153265, 0.106712  ,\n       0.18625341, 0.24203908, 0.38124656, 0.72751987, 0.14370425,\n       0.44568   , 0.92799627, 0.40692434, 0.36845315, 0.42382369,\n       0.05575372, 0.5302752 , 0.19688441, 0.52355177, 0.29162365,\n       0.96577927, 0.21926829, 0.06331844, 0.6752232 , 0.08438935,\n       0.18620428, 0.9409244 , 0.72747851, 0.42382369, 0.74570844,\n       0.78296722, 0.32173782, 0.8741823 , 0.15575851, 0.26940595,\n       0.64887297, 0.48308403, 0.14168866, 0.94964301, 0.7344411 ,\n       0.15583559, 0.23891354, 0.14072851, 0.21914672, 0.13049779,\n       0.92638609, 0.89739235, 0.3445349 , 0.87089598, 0.88412093,\n       0.34951736, 0.51584201, 0.93017648, 0.24248152, 0.95270785,\n       0.27683481, 0.90138856, 0.12073231, 0.11774332, 0.27619529,\n       0.24608759, 0.52340558, 0.2108438 , 0.24367696, 0.58490076,\n       0.14398636, 0.8388416 , 0.76004179, 0.40510253, 0.67551506,\n       0.78437026, 0.38530229, 0.44516983, 0.90784701, 0.38871918,\n       0.62542919, 0.75422304, 0.39688195, 0.94498705, 0.18112831,\n       0.1502413 , 0.15576552, 0.47208738, 0.60174438, 0.30095418,\n       0.42797931, 0.78299364, 0.27822357, 0.89820172, 0.1559057 ,\n       0.86363306, 0.20235233, 0.88816758, 0.20230861, 0.89648875,\n       0.79420023, 0.19148684, 0.78297025, 0.11593142, 0.30438297,\n       0.49546302, 0.94447605, 0.1482123 , 0.24250681, 0.47180713,\n       0.20789842, 0.27601918, 0.28514767, 0.8734177 , 0.8848019 ,\n       0.8899909 , 0.81699369, 0.46115241, 0.15588291, 0.13497963,\n       0.34949094, 0.88927407, 0.21563494, 0.81362215, 0.68651072,\n       0.93257799, 0.20791084, 0.59087935, 0.18649106, 0.14632737,\n       0.15583559, 0.24248152, 0.16641749, 0.89821059, 0.20230503,\n       0.09384524, 0.20231865, 0.88455138, 0.81141518, 0.44962168,\n       0.15588407, 0.5164905 , 0.15583559, 0.67550046, 0.22546409,\n       0.50678188, 0.24248152, 0.94395955, 0.71421403, 0.21914595,\n       0.85591243, 0.36461829, 0.2099976 , 0.27130419, 0.41337668,\n       0.72764923, 0.27834249, 0.78297025, 0.83312454, 0.80745578,\n       0.13171413, 0.15579355, 0.49823719, 0.21914672, 0.1559057 ,\n       0.52701929, 0.78440727, 0.21914672, 0.28805669, 0.13198856,\n       0.17610728, 0.95513613, 0.11857376, 0.53091025, 0.16169544,\n       0.14824572, 0.44792226, 0.27640032, 0.18638398, 0.78297025,\n       0.74685895, 0.51294126, 0.35783516, 0.27670078, 0.46510626,\n       0.21954355, 0.27140236, 0.1558391 , 0.74131476, 0.90075453,\n       0.85034373, 0.34326587, 0.43847634, 0.17119006, 0.25380807,\n       0.17608861, 0.25158243, 0.38124656, 0.50023267, 0.91793887,\n       0.19136383, 0.85682897, 0.50783612, 0.2791941 , 0.42234982,\n       0.80228348, 0.55432909, 0.21914595, 0.78009357, 0.17119635,\n       0.5257323 , 0.33411944, 0.2011712 , 0.39404937, 0.21914672,\n       0.44692005, 0.14821938, 0.24190356, 0.93083156, 0.12321376,\n       0.7722792 , 0.38124656, 0.70828404, 0.39764739, 0.8551181 ,\n       0.92864445, 0.38871918, 0.46356672, 0.19764849, 0.83086319,\n       0.35859123, 0.69191002, 0.15588175, 0.24248152, 0.59269366,\n       0.01991163, 0.89761398, 0.8551181 , 0.1713123 , 0.94111971,\n       0.78243466, 0.16269357, 0.74077736, 0.92836446, 0.45840141,\n       0.3340082 , 0.95372766, 0.36009231, 0.24968102, 0.81504285,\n       0.93601249, 0.56615872, 0.42195992, 0.32584546, 0.10809508,\n       0.24248152, 0.27036836, 0.67700519, 0.67965252, 0.34736905,\n       0.86723808, 0.18624061, 0.17577455, 0.30538889, 0.13292277,\n       0.60217184, 0.87168374, 0.29018161, 0.23047097, 0.06528208,\n       0.9306525 , 0.28394539, 0.89137628, 0.19683808, 0.23793471,\n       0.9354251 , 0.2206612 , 0.96607249, 0.63886272, 0.426484  ,\n       0.53525426, 0.31872709, 0.43910844, 0.78296496, 0.80098749,\n       0.78297025, 0.92612634, 0.6922494 , 0.1559057 , 0.93847159,\n       0.12223321, 0.1559057 , 0.17730309])"
     },
     "metadata": {},
     "execution_count": 300
    }
   ],
   "source": [
    "final_prediction"
   ]
  },
  {
   "cell_type": "code",
   "execution_count": 301,
   "metadata": {},
   "outputs": [
    {
     "output_type": "execute_result",
     "data": {
      "text/plain": "array([0, 0, 0, 0, 1, 0, 1, 0, 1, 0, 0, 0, 1, 0, 1, 1, 0, 0, 1, 1, 0, 0,\n       1, 1, 1, 0, 1, 0, 0, 0, 0, 0, 1, 1, 1, 0, 1, 1, 0, 0, 0, 1, 0, 1,\n       1, 0, 1, 0, 1, 1, 0, 0, 1, 1, 0, 0, 0, 0, 0, 1, 0, 0, 0, 1, 1, 1,\n       1, 0, 1, 1, 1, 0, 1, 1, 1, 1, 0, 1, 0, 1, 0, 0, 0, 0, 0, 0, 1, 1,\n       1, 1, 1, 0, 1, 0, 1, 0, 1, 0, 1, 0, 1, 0, 0, 0, 1, 0, 0, 0, 0, 0,\n       0, 1, 1, 1, 1, 0, 0, 1, 1, 1, 1, 0, 1, 0, 0, 1, 0, 1, 0, 0, 0, 0,\n       1, 0, 0, 0, 0, 0, 1, 0, 0, 1, 0, 0, 0, 0, 1, 0, 1, 0, 1, 0, 0, 1,\n       0, 0, 1, 1, 0, 1, 1, 0, 1, 0, 0, 1, 0, 0, 1, 1, 0, 0, 0, 0, 0, 1,\n       1, 0, 1, 1, 0, 1, 1, 0, 1, 0, 1, 0, 0, 0, 0, 1, 0, 0, 1, 0, 1, 1,\n       0, 1, 1, 0, 0, 1, 0, 1, 1, 0, 1, 0, 0, 0, 0, 1, 0, 0, 1, 0, 1, 0,\n       1, 0, 1, 0, 1, 1, 0, 1, 0, 0, 0, 1, 0, 0, 0, 0, 0, 0, 1, 1, 1, 1,\n       0, 0, 0, 0, 1, 0, 1, 1, 1, 0, 1, 0, 0, 0, 0, 0, 1, 0, 0, 0, 1, 1,\n       0, 0, 1, 0, 1, 0, 1, 0, 1, 1, 0, 1, 0, 0, 0, 0, 1, 0, 1, 1, 1, 0,\n       0, 0, 0, 0, 1, 1, 0, 0, 0, 0, 1, 0, 1, 0, 0, 0, 0, 0, 1, 1, 1, 0,\n       0, 0, 0, 0, 0, 1, 1, 1, 0, 0, 0, 0, 0, 0, 0, 1, 1, 0, 1, 1, 0, 0,\n       1, 1, 0, 1, 0, 1, 0, 0, 0, 0, 0, 0, 0, 1, 0, 1, 0, 1, 0, 1, 1, 0,\n       0, 0, 1, 0, 1, 0, 0, 1, 0, 1, 1, 0, 1, 1, 0, 1, 1, 0, 0, 1, 0, 0,\n       1, 1, 1, 0, 0, 0, 0, 0, 1, 1, 0, 1, 0, 0, 0, 0, 1, 1, 0, 0, 0, 1,\n       0, 1, 0, 0, 1, 0, 1, 1, 0, 1, 0, 0, 1, 1, 1, 1, 1, 0, 1, 0, 0, 0])"
     },
     "metadata": {},
     "execution_count": 301
    }
   ],
   "source": [
    "survival_output = np.where(final_prediction>0.5,1,0)\n",
    "survival_output"
   ]
  },
  {
   "cell_type": "code",
   "execution_count": 302,
   "metadata": {},
   "outputs": [
    {
     "output_type": "execute_result",
     "data": {
      "text/plain": "   Survived\n0         0\n1         0\n2         0\n3         0\n4         1",
      "text/html": "<div>\n<style scoped>\n    .dataframe tbody tr th:only-of-type {\n        vertical-align: middle;\n    }\n\n    .dataframe tbody tr th {\n        vertical-align: top;\n    }\n\n    .dataframe thead th {\n        text-align: right;\n    }\n</style>\n<table border=\"1\" class=\"dataframe\">\n  <thead>\n    <tr style=\"text-align: right;\">\n      <th></th>\n      <th>Survived</th>\n    </tr>\n  </thead>\n  <tbody>\n    <tr>\n      <th>0</th>\n      <td>0</td>\n    </tr>\n    <tr>\n      <th>1</th>\n      <td>0</td>\n    </tr>\n    <tr>\n      <th>2</th>\n      <td>0</td>\n    </tr>\n    <tr>\n      <th>3</th>\n      <td>0</td>\n    </tr>\n    <tr>\n      <th>4</th>\n      <td>1</td>\n    </tr>\n  </tbody>\n</table>\n</div>"
     },
     "metadata": {},
     "execution_count": 302
    }
   ],
   "source": [
    "df_output = pd.DataFrame({'Survived':survival_output})\n",
    "df_output.head()"
   ]
  },
  {
   "cell_type": "code",
   "execution_count": 305,
   "metadata": {},
   "outputs": [
    {
     "output_type": "execute_result",
     "data": {
      "text/plain": "   PassengerId  Pclass                                          Name     Sex  \\\n0          892       3                              Kelly, Mr. James    male   \n1          893       3              Wilkes, Mrs. James (Ellen Needs)  female   \n2          894       2                     Myles, Mr. Thomas Francis    male   \n3          895       3                              Wirz, Mr. Albert    male   \n4          896       3  Hirvonen, Mrs. Alexander (Helga E Lindqvist)  female   \n\n    Age  SibSp  Parch   Ticket     Fare Cabin Embarked  \n0  34.5      0      0   330911   7.8292   NaN        Q  \n1  47.0      1      0   363272   7.0000   NaN        S  \n2  62.0      0      0   240276   9.6875   NaN        Q  \n3  27.0      0      0   315154   8.6625   NaN        S  \n4  22.0      1      1  3101298  12.2875   NaN        S  ",
      "text/html": "<div>\n<style scoped>\n    .dataframe tbody tr th:only-of-type {\n        vertical-align: middle;\n    }\n\n    .dataframe tbody tr th {\n        vertical-align: top;\n    }\n\n    .dataframe thead th {\n        text-align: right;\n    }\n</style>\n<table border=\"1\" class=\"dataframe\">\n  <thead>\n    <tr style=\"text-align: right;\">\n      <th></th>\n      <th>PassengerId</th>\n      <th>Pclass</th>\n      <th>Name</th>\n      <th>Sex</th>\n      <th>Age</th>\n      <th>SibSp</th>\n      <th>Parch</th>\n      <th>Ticket</th>\n      <th>Fare</th>\n      <th>Cabin</th>\n      <th>Embarked</th>\n    </tr>\n  </thead>\n  <tbody>\n    <tr>\n      <th>0</th>\n      <td>892</td>\n      <td>3</td>\n      <td>Kelly, Mr. James</td>\n      <td>male</td>\n      <td>34.5</td>\n      <td>0</td>\n      <td>0</td>\n      <td>330911</td>\n      <td>7.8292</td>\n      <td>NaN</td>\n      <td>Q</td>\n    </tr>\n    <tr>\n      <th>1</th>\n      <td>893</td>\n      <td>3</td>\n      <td>Wilkes, Mrs. James (Ellen Needs)</td>\n      <td>female</td>\n      <td>47.0</td>\n      <td>1</td>\n      <td>0</td>\n      <td>363272</td>\n      <td>7.0000</td>\n      <td>NaN</td>\n      <td>S</td>\n    </tr>\n    <tr>\n      <th>2</th>\n      <td>894</td>\n      <td>2</td>\n      <td>Myles, Mr. Thomas Francis</td>\n      <td>male</td>\n      <td>62.0</td>\n      <td>0</td>\n      <td>0</td>\n      <td>240276</td>\n      <td>9.6875</td>\n      <td>NaN</td>\n      <td>Q</td>\n    </tr>\n    <tr>\n      <th>3</th>\n      <td>895</td>\n      <td>3</td>\n      <td>Wirz, Mr. Albert</td>\n      <td>male</td>\n      <td>27.0</td>\n      <td>0</td>\n      <td>0</td>\n      <td>315154</td>\n      <td>8.6625</td>\n      <td>NaN</td>\n      <td>S</td>\n    </tr>\n    <tr>\n      <th>4</th>\n      <td>896</td>\n      <td>3</td>\n      <td>Hirvonen, Mrs. Alexander (Helga E Lindqvist)</td>\n      <td>female</td>\n      <td>22.0</td>\n      <td>1</td>\n      <td>1</td>\n      <td>3101298</td>\n      <td>12.2875</td>\n      <td>NaN</td>\n      <td>S</td>\n    </tr>\n  </tbody>\n</table>\n</div>"
     },
     "metadata": {},
     "execution_count": 305
    }
   ],
   "source": [
    "df_oo = pd.read_csv('test.csv')\n",
    "df_oo.head()"
   ]
  },
  {
   "cell_type": "code",
   "execution_count": 307,
   "metadata": {},
   "outputs": [],
   "source": [
    "df_id = df_oo.iloc[:,0]"
   ]
  },
  {
   "cell_type": "code",
   "execution_count": 308,
   "metadata": {},
   "outputs": [
    {
     "output_type": "execute_result",
     "data": {
      "text/plain": "   PassengerId  Survived\n0          892         0\n1          893         0\n2          894         0\n3          895         0\n4          896         1",
      "text/html": "<div>\n<style scoped>\n    .dataframe tbody tr th:only-of-type {\n        vertical-align: middle;\n    }\n\n    .dataframe tbody tr th {\n        vertical-align: top;\n    }\n\n    .dataframe thead th {\n        text-align: right;\n    }\n</style>\n<table border=\"1\" class=\"dataframe\">\n  <thead>\n    <tr style=\"text-align: right;\">\n      <th></th>\n      <th>PassengerId</th>\n      <th>Survived</th>\n    </tr>\n  </thead>\n  <tbody>\n    <tr>\n      <th>0</th>\n      <td>892</td>\n      <td>0</td>\n    </tr>\n    <tr>\n      <th>1</th>\n      <td>893</td>\n      <td>0</td>\n    </tr>\n    <tr>\n      <th>2</th>\n      <td>894</td>\n      <td>0</td>\n    </tr>\n    <tr>\n      <th>3</th>\n      <td>895</td>\n      <td>0</td>\n    </tr>\n    <tr>\n      <th>4</th>\n      <td>896</td>\n      <td>1</td>\n    </tr>\n  </tbody>\n</table>\n</div>"
     },
     "metadata": {},
     "execution_count": 308
    }
   ],
   "source": [
    "final_csv  =  pd.concat([df_id,df_output],axis = 1)\n",
    "final_csv.head()"
   ]
  },
  {
   "cell_type": "code",
   "execution_count": 311,
   "metadata": {},
   "outputs": [],
   "source": [
    "prediction_output =  final_csv.to_csv('output_2.csv',index = False)"
   ]
  },
  {
   "cell_type": "code",
   "execution_count": null,
   "metadata": {},
   "outputs": [],
   "source": [
    "ooo = read.csv"
   ]
  }
 ]
}